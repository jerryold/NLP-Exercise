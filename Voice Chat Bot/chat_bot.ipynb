{
 "cells": [
  {
   "cell_type": "markdown",
   "id": "b5cafd7d",
   "metadata": {},
   "source": [
    "# 匯入套件\n",
    "* speech_recognition-->串聯google語言辨識api,將語音轉成文字,需要連網\n",
    "* gTTS-->將文字轉成語音\n",
    "* pygame.mixer-->是一個用來製造即撥放聲音的模組,稱為混音器\n",
    "* tempfile-->主要用來創建暫存檔案和目錄,用完後會自動刪除\n",
    "* jieba-->由百度開發的斷詞語料庫,裡面有兩萬多條詞\n",
    "* time-->python提供time模塊格式化時間"
   ]
  },
  {
   "cell_type": "code",
   "execution_count": 1,
   "id": "eec3ee0b",
   "metadata": {},
   "outputs": [
    {
     "name": "stdout",
     "output_type": "stream",
     "text": [
      "pygame 2.2.0 (SDL 2.0.22, Python 3.9.12)\n",
      "Hello from the pygame community. https://www.pygame.org/contribute.html\n"
     ]
    }
   ],
   "source": [
    "import speech_recognition as sr\n",
    "from gtts import gTTS\n",
    "from pygame import mixer\n",
    "import tempfile\n",
    "import jieba\n",
    "import time"
   ]
  },
  {
   "cell_type": "markdown",
   "id": "d3a97b5c",
   "metadata": {},
   "source": [
    "## 設定判斷語料"
   ]
  },
  {
   "cell_type": "code",
   "execution_count": 2,
   "id": "339efe3a",
   "metadata": {},
   "outputs": [],
   "source": [
    "#list 用列表(list)定義美食分類\n",
    "eat_list=[\"台菜\",\"越式\",\"義大利\",\"法式\"]\n",
    "          \n",
    "#list 用列表(list)定義訂位人數\n",
    "quantity_list=[\"一\",\"二\",\"三\",\"四\",\"五\",\"六\",\"七\",\"八\",\"九\",\"十\",\"1\",\"2\",\"3\",\"4\",\"5\",\"6\",\"7\",\"8\",\"9\",\"10\"]\n",
    "\n",
    "#設定空字串將美食行程加進去\n",
    "item_list=[]\n",
    "info={}"
   ]
  },
  {
   "cell_type": "markdown",
   "id": "814db412",
   "metadata": {},
   "source": [
    "## 撰寫類別(class)內部功能"
   ]
  },
  {
   "cell_type": "code",
   "execution_count": 3,
   "id": "c03a3e4e",
   "metadata": {},
   "outputs": [],
   "source": [
    "#定義類別名稱bot,提供主程式呼叫\n",
    "class Bot():\n",
    "    \n",
    "    #使用class創建的物件後被執行,用於初始化\n",
    "    def __init__(self):\n",
    "        self.check_out=False\n",
    "    #定義發聲方法\n",
    "    def speak(self,sentence):\n",
    "        with tempfile.NamedTemporaryFile(delete=True) as fp:\n",
    "            tts=gTTS(text=sentence,lang='zh-tw')\n",
    "            tts.save(\"{}.mp3\".format(fp.name))\n",
    "            mixer.music.load('{}.mp3'.format(fp.name))\n",
    "            mixer.music.play()\n",
    "            while mixer.music.get_busy():\n",
    "                pass\n",
    "    #定義監聽方法    \n",
    "    def listen(self):\n",
    "        global item_list\n",
    "        r=sr.Recognizer()\n",
    "        with sr.Microphone(device_index=0) as source:\n",
    "            print(\"bot listening...\")\n",
    "            audio=r.listen(source)\n",
    "            print(\"bot processing...\")\n",
    "        try:\n",
    "            customer_schedule=r.recognize_google(audio,language='zh-TW')\n",
    "            print(\"Google Speech Recognition think you said\"+customer_schedule)\n",
    "            if '結束' in customer_schedule:\n",
    "                if not item_list:\n",
    "                    self.speak(\"您尚未安排行程,請繼續安排\")\n",
    "                    time.sleep(2)\n",
    "                else:\n",
    "                    print(\"結束\")\n",
    "                    global check_out\n",
    "                    self.check_out=True\n",
    "                    \n",
    "            elif \"重新安排\" in customer_schedule:\n",
    "                item_list=[]\n",
    "                self.speak(\"行程記錄已刪除,請重新安排行程\")\n",
    "                time.sleep(2)\n",
    "            else:\n",
    "                seg_list=jieba.cut(customer_schedule,cut_all=False)\n",
    "                print(','.join(seg_list))\n",
    "                print(customer_schedule)\n",
    "                print(\"info:\")\n",
    "                print(info)\n",
    "                \n",
    "                for quantity in quantity_list:\n",
    "                    if quantity in customer_schedule:\n",
    "                        info['人數']=quantity\n",
    "                        break\n",
    "                name_counts=len(eat_list) #餐廳種類\n",
    "                for name in eat_list:\n",
    "                    if name_counts==0:\n",
    "                        self.speak(\"目前無提供該項活動\")\n",
    "                    elif name in customer_schedule:\n",
    "                        if name==\"義大利\":\n",
    "                            info['美食']=\"蘇活義大利麵\"\n",
    "                        elif name==\"台式\" or \"台\":\n",
    "                            info['美食']=\"石坊小井\"\n",
    "                        elif name==\"法式\":\n",
    "                            info['美食']=\"露米亞歐法餐廳\"\n",
    "                print(\"info add:\")\n",
    "                print(info)\n",
    "                item_list.append(info)\n",
    "                print(\"item_list\")\n",
    "                print(item_list)\n",
    "                self.speak(\"你安排了{}，{}，你可說結束完成規劃\"\n",
    "                           .format(info.get(\"美食\"),info.get(\"人數\",\"一\")))\n",
    "                name_counts-=1\n",
    "        except sr.UnknownValueError:\n",
    "            print(\"Google Speech could not understand audio\")\n",
    "            self.listen()\n",
    "        except sr.RequestError as e:\n",
    "            print(\"Could not request results from Google Speech Recognition service,{0}\".format(e))\n",
    "    #定義結束程式方法\n",
    "    def checkOut(self):\n",
    "        if self.check_out==True:\n",
    "            for info in item_list:\n",
    "                self.speak(\"你安排了{},{}位\".format(info.get('美食'),info.get('人數','一')))\n",
    "                break\n",
    "            self.speak(\"請稍等,資訊將寄送至你的簡訊\")\n",
    "            time.sleep(4)\n",
    "            print(end)"
   ]
  },
  {
   "cell_type": "code",
   "execution_count": null,
   "id": "db5203ab",
   "metadata": {},
   "outputs": [],
   "source": []
  },
  {
   "cell_type": "code",
   "execution_count": null,
   "id": "e2d5459b",
   "metadata": {},
   "outputs": [],
   "source": []
  }
 ],
 "metadata": {
  "kernelspec": {
   "display_name": "Python 3 (ipykernel)",
   "language": "python",
   "name": "python3"
  },
  "language_info": {
   "codemirror_mode": {
    "name": "ipython",
    "version": 3
   },
   "file_extension": ".py",
   "mimetype": "text/x-python",
   "name": "python",
   "nbconvert_exporter": "python",
   "pygments_lexer": "ipython3",
   "version": "3.9.12"
  }
 },
 "nbformat": 4,
 "nbformat_minor": 5
}
