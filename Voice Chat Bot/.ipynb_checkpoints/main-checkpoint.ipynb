{
 "cells": [
  {
   "cell_type": "markdown",
   "id": "a9030b97",
   "metadata": {},
   "source": [
    "* import_ipynb-->讓jupyter可以引入其他ipynb檔的程式\n",
    "* chat_bot(.ipynb)-->內含語音機器人對話邏輯\n",
    "* pygame.mixer-->製造及播放聲音的模組\n",
    "* timer-->時間控制模組,可以延遲下一段程式運作的時間,讓程式得以緩衝"
   ]
  },
  {
   "cell_type": "code",
   "execution_count": 1,
   "id": "15dfd07a",
   "metadata": {},
   "outputs": [
    {
     "name": "stdout",
     "output_type": "stream",
     "text": [
      "importing Jupyter notebook from chat_bot.ipynb\n",
      "pygame 2.2.0 (SDL 2.0.22, Python 3.9.12)\n",
      "Hello from the pygame community. https://www.pygame.org/contribute.html\n"
     ]
    }
   ],
   "source": [
    "import import_ipynb\n",
    "import chat_bot\n",
    "from pygame import mixer\n",
    "import time"
   ]
  },
  {
   "cell_type": "markdown",
   "id": "ba00b58a",
   "metadata": {},
   "source": [
    "# 開始主程式"
   ]
  },
  {
   "cell_type": "code",
   "execution_count": 2,
   "id": "16cd7f6a",
   "metadata": {},
   "outputs": [
    {
     "name": "stdout",
     "output_type": "stream",
     "text": [
      "bot listening...\n",
      "bot processing...\n",
      "result2:\n",
      "[]\n",
      "Google Speech could not understand audio\n",
      "bot listening...\n",
      "bot processing...\n"
     ]
    },
    {
     "name": "stderr",
     "output_type": "stream",
     "text": [
      "Building prefix dict from the default dictionary ...\n",
      "Loading model from cache C:\\Users\\jerryold\\AppData\\Local\\Temp\\jieba.cache\n"
     ]
    },
    {
     "name": "stdout",
     "output_type": "stream",
     "text": [
      "result2:\n",
      "{   'alternative': [   {'confidence': 0.92556411, 'transcript': '義大利3位'},\n",
      "                       {'transcript': '義大利單位'},\n",
      "                       {'transcript': '義大利香味'},\n",
      "                       {'transcript': '意大利3位'},\n",
      "                       {'transcript': '義大利三味'}],\n",
      "    'final': True}\n",
      "Google Speech Recognition think you said義大利3位\n"
     ]
    },
    {
     "name": "stderr",
     "output_type": "stream",
     "text": [
      "Loading model cost 0.645 seconds.\n",
      "Prefix dict has been built successfully.\n"
     ]
    },
    {
     "name": "stdout",
     "output_type": "stream",
     "text": [
      "義,大利,3,位\n",
      "義大利3位\n",
      "info:\n",
      "{}\n",
      "info add:\n",
      "{'人數': '3', '美食': '蘇活義大利麵'}\n",
      "item_list\n",
      "[{'人數': '3', '美食': '蘇活義大利麵'}]\n",
      "bot listening...\n",
      "bot processing...\n",
      "result2:\n",
      "{'alternative': [{'confidence': 0.92599881, 'transcript': '結束'}], 'final': True}\n",
      "Google Speech Recognition think you said結束\n",
      "結束\n"
     ]
    },
    {
     "ename": "NameError",
     "evalue": "name 'end' is not defined",
     "output_type": "error",
     "traceback": [
      "\u001b[1;31m---------------------------------------------------------------------------\u001b[0m",
      "\u001b[1;31mNameError\u001b[0m                                 Traceback (most recent call last)",
      "Cell \u001b[1;32mIn[2], line 20\u001b[0m\n\u001b[0;32m     17\u001b[0m     CB\u001b[38;5;241m.\u001b[39mlisten()\n\u001b[0;32m     19\u001b[0m \u001b[38;5;66;03m#讓整個程式完全結束\u001b[39;00m\n\u001b[1;32m---> 20\u001b[0m \u001b[43mCB\u001b[49m\u001b[38;5;241;43m.\u001b[39;49m\u001b[43mcheckOut\u001b[49m\u001b[43m(\u001b[49m\u001b[43m)\u001b[49m\n",
      "File \u001b[1;32m<string>:83\u001b[0m, in \u001b[0;36mcheckOut\u001b[1;34m(self)\u001b[0m\n",
      "\u001b[1;31mNameError\u001b[0m: name 'end' is not defined"
     ]
    }
   ],
   "source": [
    "#進行語音撥放初始化\n",
    "mixer.init()\n",
    "#[初始設定]跳出監聽狀態\n",
    "check_out=False\n",
    "\n",
    "#導入chat_bot裡的class,讓CB變成一個物件\n",
    "CB=chat_bot.Bot()\n",
    "\n",
    "#設定初始問候,並利用CB物件裡的speak功能撥放\n",
    "text='您好,新竹有許多美食,包含台式,義大利,法式,請問你喜歡甚麼類型的餐聽,並提供用餐人數?'\n",
    "CB.speak(text)\n",
    "#暫停執行1秒,讓電腦運行緩衝\n",
    "time.sleep(1)\n",
    "\n",
    "#當不是結束程序,即進入監聽內容\n",
    "while not CB.check_out:\n",
    "    CB.listen()\n",
    "    \n",
    "#讓整個程式完全結束\n",
    "CB.checkOut()"
   ]
  },
  {
   "cell_type": "code",
   "execution_count": null,
   "id": "fe08f9ee",
   "metadata": {},
   "outputs": [],
   "source": []
  }
 ],
 "metadata": {
  "kernelspec": {
   "display_name": "Python 3 (ipykernel)",
   "language": "python",
   "name": "python3"
  },
  "language_info": {
   "codemirror_mode": {
    "name": "ipython",
    "version": 3
   },
   "file_extension": ".py",
   "mimetype": "text/x-python",
   "name": "python",
   "nbconvert_exporter": "python",
   "pygments_lexer": "ipython3",
   "version": "3.9.12"
  }
 },
 "nbformat": 4,
 "nbformat_minor": 5
}
