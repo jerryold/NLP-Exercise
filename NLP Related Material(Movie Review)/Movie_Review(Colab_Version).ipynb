{
  "nbformat": 4,
  "nbformat_minor": 0,
  "metadata": {
    "colab": {
      "provenance": []
    },
    "kernelspec": {
      "name": "python3",
      "display_name": "Python 3"
    },
    "accelerator": "GPU",
    "gpuClass": "standard"
  },
  "cells": [
    {
      "cell_type": "markdown",
      "metadata": {
        "id": "JEC6HKR0viAq"
      },
      "source": [
        "# **Movie Review : Part II (Preprocessing and Modeling)**\n",
        "\n",
        "---\n",
        "\n"
      ]
    },
    {
      "cell_type": "markdown",
      "metadata": {
        "id": "bFvdE0gqW5rY"
      },
      "source": [
        "## **Download Project**"
      ]
    },
    {
      "cell_type": "markdown",
      "metadata": {
        "id": "rNOXFOOWtyyk"
      },
      "source": [
        "我們要從Github上下載TensorFlow-Tutorials專案，我們將會使用專案裡的imdb.py．\n",
        "\n",
        "imdb.py的功能就是下載影評資料，這筆資料將會做為訓練和測試的資料．\n",
        "\n",
        "影評資料路徑：http://ai.stanford.edu/~amaas/data/sentiment/aclImdb_v1.tar.gz\n",
        "\n",
        "1.使用 ! git clone 指令將網址的專案下載下來．\n",
        "\n",
        "2.使用 %cd 指令索引到下載下來的TensorFlow-Tutorials專案．"
      ]
    },
    {
      "cell_type": "code",
      "metadata": {
        "id": "wXkZRj_6kKpX",
        "outputId": "1afa1b3f-1cc6-45f2-c1bd-452a3ff71e0d",
        "colab": {
          "base_uri": "https://localhost:8080/"
        }
      },
      "source": [
        "# '''Download the project including imdb.py file'''\n",
        "! git clone https://github.com/Hvass-Labs/TensorFlow-Tutorials.git\n",
        "%cd TensorFlow-Tutorials"
      ],
      "execution_count": null,
      "outputs": [
        {
          "output_type": "stream",
          "name": "stdout",
          "text": [
            "fatal: destination path 'TensorFlow-Tutorials' already exists and is not an empty directory.\n",
            "/content/TensorFlow-Tutorials\n"
          ]
        }
      ]
    },
    {
      "cell_type": "markdown",
      "metadata": {
        "id": "bxFKdXxRuAyM"
      },
      "source": [
        "1.使用 ls 的指令將會顯示TensorFlow-Tutorials專案底下的所有目錄"
      ]
    },
    {
      "cell_type": "code",
      "metadata": {
        "id": "7Dai4s_Qf0IN",
        "outputId": "47b5315c-d9d3-444e-c5d0-582adc345346",
        "colab": {
          "base_uri": "https://localhost:8080/"
        }
      },
      "source": [
        "ls"
      ],
      "execution_count": null,
      "outputs": [
        {
          "output_type": "stream",
          "name": "stdout",
          "text": [
            "01_Simple_Linear_Model.ipynb           22_Image_Captioning.ipynb\n",
            "02_Convolutional_Neural_Network.ipynb  23_Time-Series-Prediction.ipynb\n",
            "03B_Layers_API.ipynb                   cache.py\n",
            "03C_Keras_API.ipynb                    cifar10.py\n",
            "03_PrettyTensor.ipynb                  coco.py\n",
            "04_Save_Restore.ipynb                  \u001b[0m\u001b[01;32mconvert.py\u001b[0m*\n",
            "05_Ensemble_Learning.ipynb             \u001b[01;34mdata\u001b[0m/\n",
            "06_CIFAR-10.ipynb                      dataset.py\n",
            "07_Inception_Model.ipynb               download.py\n",
            "08_Transfer_Learning.ipynb             europarl.py\n",
            "09_Video_Data.ipynb                    forks.md\n",
            "10_Fine-Tuning.ipynb                   \u001b[01;34mimages\u001b[0m/\n",
            "11_Adversarial_Examples.ipynb          imdb.py\n",
            "12_Adversarial_Noise_MNIST.ipynb       inception5h.py\n",
            "13B_Visual_Analysis_MNIST.ipynb        inception.py\n",
            "13_Visual_Analysis.ipynb               knifey.py\n",
            "14_DeepDream.ipynb                     LICENSE\n",
            "15_Style_Transfer.ipynb                mnist.py\n",
            "16_Reinforcement_Learning.ipynb        \u001b[01;34m__pycache__\u001b[0m/\n",
            "17_Estimator_API.ipynb                 README.md\n",
            "18_TFRecords_Dataset_API.ipynb         reinforcement_learning.py\n",
            "19_Hyper-Parameters.ipynb              requirements.txt\n",
            "20_Natural_Language_Processing.ipynb   vgg16.py\n",
            "21_Machine_Translation.ipynb           weather.py\n"
          ]
        }
      ]
    },
    {
      "cell_type": "markdown",
      "metadata": {
        "id": "9XKmYzvNvtz8"
      },
      "source": [
        "## **Import Modules and Data**"
      ]
    },
    {
      "cell_type": "markdown",
      "metadata": {
        "id": "WS1kX8OUujCc"
      },
      "source": [
        "1.引入tensorflow模組，此模組包含了機器學習和深度學習的套件，在我們的專案裡將tensorflow模組命名為 tf．\n",
        "\n",
        "2.引入numpy模組，此模組包含了計算大量多維度的陣列和矩陣的套件，在我們的專案裡將numpy模組命名為 np．"
      ]
    },
    {
      "cell_type": "code",
      "metadata": {
        "id": "nBzn0d2WkaOj"
      },
      "source": [
        "# '''Step1: Import two libaries'''\n",
        "import tensorflow as tf\n",
        "import numpy as np"
      ],
      "execution_count": null,
      "outputs": []
    },
    {
      "cell_type": "markdown",
      "metadata": {
        "id": "KiA7E60hGkcT"
      },
      "source": [
        "我們將會從tensorflow裡的keras套件引入一些模組用於建構神經網路和資料預處理．\n",
        "\n",
        "1.從keras的models引入Sequential模組，此用模組用於建構神經網路，建構的方式為依序將layer一層一層的堆疊上去．\n",
        "\n",
        "2.從keras的layers引入Dense、GRU、LSTM、Embedding模組，通常一個神經網路會經過 embedding layer(Embedding)、hidden layer(GRU or LSTM)、output layer(Dense)．\n",
        "\n",
        "3.從keras的optimizers引入Adam,Adam全名為Adaptive Moment Estimation，是其中一種訓練的優化方式．\n",
        "\n",
        "4.從keras的preprocessing裡的text引入Tokenizer模組，此模組用於建立token字典和將輸入的字元轉換成對應的token．\n",
        "\n",
        "5.從keras的preprocessing裡的sequence引入pad_sequences模組，此模組用於對於每個字向量截長補短以達到相同的維度．"
      ]
    },
    {
      "cell_type": "code",
      "metadata": {
        "id": "2RsHGBu9Ggi6"
      },
      "source": [
        "# '''Step2: Import Five modules from Keras'''\n",
        "from tensorflow.keras.models import Sequential\n",
        "from tensorflow.keras.layers import Embedding, Dropout, GRU, LSTM, Dense\n",
        "from tensorflow.keras.optimizers import Adam\n",
        "from tensorflow.keras.preprocessing.text import Tokenizer\n",
        "from tensorflow.keras.preprocessing.sequence import pad_sequences"
      ],
      "execution_count": null,
      "outputs": []
    },
    {
      "cell_type": "markdown",
      "metadata": {
        "id": "nLSkgyD5ILR2"
      },
      "source": [
        "1.引入imdb模組，這個模組就是前面所提到的imdb.py\n",
        "\n",
        "2.使用imdb模組的函式maybe_download_and_extract()下載影評資料IMDB，IMDB是Internet Movie Database的縮寫，裡面包含了50000筆電影的影評"
      ]
    },
    {
      "cell_type": "code",
      "metadata": {
        "id": "rr2iCCU-Gim7",
        "outputId": "a43a222b-c5d7-4401-fd76-f2a12bf08dee",
        "colab": {
          "base_uri": "https://localhost:8080/"
        }
      },
      "source": [
        "# '''Step3: Download and extract the data'''\n",
        "import imdb\n",
        "imdb.maybe_download_and_extract()"
      ],
      "execution_count": null,
      "outputs": [
        {
          "output_type": "stream",
          "name": "stdout",
          "text": [
            "Data has apparently already been downloaded and unpacked.\n"
          ]
        }
      ]
    },
    {
      "cell_type": "markdown",
      "metadata": {
        "id": "1tfw2UJEJS8B"
      },
      "source": [
        "1.使用imdb的函式imdb.load_data(train=True)下載訓練資料集並且以list型態存在x_train_text和y_train裡，x_train_text為電影評論集(inputs)，y_train為電影評分集(label data)，一則電影評論對應一個電影評分．\n",
        "\n",
        "2.使用imdb的函式imdb.load_data(train=False)下載測試資料集並且以list型態存在x_test_text和y_test裡．\n",
        "\n",
        "3.顯示訓練資料集和驗證資料集的數量．"
      ]
    },
    {
      "cell_type": "code",
      "metadata": {
        "id": "ZXb2YHQYJRQi",
        "outputId": "d58c25cd-855f-4b82-863c-121ed1080dc7",
        "colab": {
          "base_uri": "https://localhost:8080/"
        }
      },
      "source": [
        "# '''Step4: Load the data to build file lists'''\n",
        "x_train_text, y_train = imdb.load_data(train=True)\n",
        "x_test_text, y_test = imdb.load_data(train=False)\n",
        "print(\"Train-set size: \", len(x_train_text))\n",
        "print(\"Test-set size:  \", len(x_test_text))"
      ],
      "execution_count": null,
      "outputs": [
        {
          "output_type": "stream",
          "name": "stdout",
          "text": [
            "Train-set size:  25000\n",
            "Test-set size:   25000\n"
          ]
        }
      ]
    },
    {
      "cell_type": "markdown",
      "metadata": {
        "id": "FylOgWCcJ99_"
      },
      "source": [
        "1.顯示第一筆電影評論集的資料．\n",
        "\n",
        "2.顯示第一筆電影評分集的資料．\n",
        "\n",
        "假如電影評分為1.0表示電影評論是正面的，如果電影評分為0.0代表電影評論是負面的．"
      ]
    },
    {
      "cell_type": "code",
      "metadata": {
        "id": "LxhUmOQmMTT3",
        "outputId": "db1383c9-f3ce-433c-98b9-a55289d9acc4",
        "colab": {
          "base_uri": "https://localhost:8080/"
        }
      },
      "source": [
        "# '''Examine the details of x_train_text and y_train.'''\n",
        "print('Movie review text:\\n', x_train_text[0])\n",
        "print('Sentiment label value:\\n', y_train[0])"
      ],
      "execution_count": null,
      "outputs": [
        {
          "output_type": "stream",
          "name": "stdout",
          "text": [
            "Movie review text:\n",
            " The movie was a suspenseful, and somewhat dark, look at the severe results of a genuinely human mistake. Connery and Fishburne work very well together in this thriller about murder and redemption. Keep your boots on for the strange turnaround at the end of the movie...you'd never expect it!\n",
            "Sentiment label value:\n",
            " 1.0\n"
          ]
        }
      ]
    },
    {
      "cell_type": "markdown",
      "metadata": {
        "id": "K9_J9k-RvQrD"
      },
      "source": [
        "## **Tokenizer**"
      ]
    },
    {
      "cell_type": "markdown",
      "metadata": {
        "id": "6vMs4maG0yx0"
      },
      "source": [
        "1.將x_train_text和x_test_text存入data_text．\n",
        "\n",
        "2.定義num_popular_words為5000．\n",
        "\n",
        "3.建立一個Tokenizer物件命名為tokenizer，其中將num_words設為num_popular_words表示tokenizer只保留5000個最常出現的詞．\n",
        "\n",
        "4.使用data_text作為tokenizer函式fit_on_texts的輸入建立token字典．\n",
        "\n"
      ]
    },
    {
      "cell_type": "code",
      "metadata": {
        "id": "r56jRuXzvMM9"
      },
      "source": [
        "# '''Step1: Instruct the tokenizer scans through all the text'''\n",
        "data_text = x_train_text + x_test_text\n",
        "num_popular_words = 5000\n",
        "tokenizer = Tokenizer(num_words=num_popular_words)\n",
        "tokenizer.fit_on_texts(data_text)"
      ],
      "execution_count": null,
      "outputs": []
    },
    {
      "cell_type": "markdown",
      "metadata": {
        "id": "A-TXMFG2Q_Fr"
      },
      "source": [
        "5.word_index為tokenizer的一個屬性型態為dict，word_index保存了5000個最常出現在電影評論(x_train_text+x_test_text)的詞，這5000個詞都有一個對應的正整數，這個正整數表示了詞出現次數的高低，這些正整數也稱為token． 下面列出前1000個token"
      ]
    },
    {
      "cell_type": "code",
      "metadata": {
        "id": "Y_CdEV0FD93B",
        "outputId": "c2661b2c-9e8b-4225-cfb5-b35e70452a14",
        "colab": {
          "base_uri": "https://localhost:8080/"
        }
      },
      "source": [
        "# '''Step2: Build a dictionary by converting all movie-review texts to lists of the fitted tokens'''\n",
        "tokenizer.word_index"
      ],
      "execution_count": null,
      "outputs": [
        {
          "output_type": "execute_result",
          "data": {
            "text/plain": [
              "{'the': 1,\n",
              " 'and': 2,\n",
              " 'a': 3,\n",
              " 'of': 4,\n",
              " 'to': 5,\n",
              " 'is': 6,\n",
              " 'br': 7,\n",
              " 'in': 8,\n",
              " 'it': 9,\n",
              " 'i': 10,\n",
              " 'this': 11,\n",
              " 'that': 12,\n",
              " 'was': 13,\n",
              " 'as': 14,\n",
              " 'for': 15,\n",
              " 'with': 16,\n",
              " 'movie': 17,\n",
              " 'but': 18,\n",
              " 'film': 19,\n",
              " 'on': 20,\n",
              " 'not': 21,\n",
              " 'you': 22,\n",
              " 'are': 23,\n",
              " 'his': 24,\n",
              " 'have': 25,\n",
              " 'be': 26,\n",
              " 'one': 27,\n",
              " 'he': 28,\n",
              " 'all': 29,\n",
              " 'at': 30,\n",
              " 'by': 31,\n",
              " 'an': 32,\n",
              " 'they': 33,\n",
              " 'so': 34,\n",
              " 'who': 35,\n",
              " 'from': 36,\n",
              " 'like': 37,\n",
              " 'or': 38,\n",
              " 'just': 39,\n",
              " 'her': 40,\n",
              " 'out': 41,\n",
              " 'about': 42,\n",
              " 'if': 43,\n",
              " \"it's\": 44,\n",
              " 'has': 45,\n",
              " 'there': 46,\n",
              " 'some': 47,\n",
              " 'what': 48,\n",
              " 'good': 49,\n",
              " 'when': 50,\n",
              " 'more': 51,\n",
              " 'very': 52,\n",
              " 'up': 53,\n",
              " 'no': 54,\n",
              " 'time': 55,\n",
              " 'my': 56,\n",
              " 'even': 57,\n",
              " 'would': 58,\n",
              " 'she': 59,\n",
              " 'which': 60,\n",
              " 'only': 61,\n",
              " 'really': 62,\n",
              " 'see': 63,\n",
              " 'story': 64,\n",
              " 'their': 65,\n",
              " 'had': 66,\n",
              " 'can': 67,\n",
              " 'me': 68,\n",
              " 'well': 69,\n",
              " 'were': 70,\n",
              " 'than': 71,\n",
              " 'much': 72,\n",
              " 'we': 73,\n",
              " 'bad': 74,\n",
              " 'been': 75,\n",
              " 'get': 76,\n",
              " 'do': 77,\n",
              " 'great': 78,\n",
              " 'other': 79,\n",
              " 'will': 80,\n",
              " 'also': 81,\n",
              " 'into': 82,\n",
              " 'people': 83,\n",
              " 'because': 84,\n",
              " 'how': 85,\n",
              " 'first': 86,\n",
              " 'him': 87,\n",
              " 'most': 88,\n",
              " \"don't\": 89,\n",
              " 'made': 90,\n",
              " 'then': 91,\n",
              " 'its': 92,\n",
              " 'them': 93,\n",
              " 'make': 94,\n",
              " 'way': 95,\n",
              " 'too': 96,\n",
              " 'movies': 97,\n",
              " 'could': 98,\n",
              " 'any': 99,\n",
              " 'after': 100,\n",
              " 'think': 101,\n",
              " 'characters': 102,\n",
              " 'watch': 103,\n",
              " 'films': 104,\n",
              " 'two': 105,\n",
              " 'many': 106,\n",
              " 'seen': 107,\n",
              " 'character': 108,\n",
              " 'being': 109,\n",
              " 'never': 110,\n",
              " 'plot': 111,\n",
              " 'love': 112,\n",
              " 'acting': 113,\n",
              " 'life': 114,\n",
              " 'did': 115,\n",
              " 'best': 116,\n",
              " 'where': 117,\n",
              " 'know': 118,\n",
              " 'show': 119,\n",
              " 'little': 120,\n",
              " 'over': 121,\n",
              " 'off': 122,\n",
              " 'ever': 123,\n",
              " 'does': 124,\n",
              " 'your': 125,\n",
              " 'better': 126,\n",
              " 'end': 127,\n",
              " 'man': 128,\n",
              " 'scene': 129,\n",
              " 'still': 130,\n",
              " 'say': 131,\n",
              " 'these': 132,\n",
              " 'here': 133,\n",
              " 'why': 134,\n",
              " 'scenes': 135,\n",
              " 'while': 136,\n",
              " 'something': 137,\n",
              " 'such': 138,\n",
              " 'go': 139,\n",
              " 'through': 140,\n",
              " 'back': 141,\n",
              " 'should': 142,\n",
              " 'those': 143,\n",
              " 'real': 144,\n",
              " \"i'm\": 145,\n",
              " 'now': 146,\n",
              " 'watching': 147,\n",
              " 'thing': 148,\n",
              " \"doesn't\": 149,\n",
              " 'actors': 150,\n",
              " 'though': 151,\n",
              " 'funny': 152,\n",
              " 'years': 153,\n",
              " \"didn't\": 154,\n",
              " 'old': 155,\n",
              " '10': 156,\n",
              " 'another': 157,\n",
              " 'work': 158,\n",
              " 'before': 159,\n",
              " 'actually': 160,\n",
              " 'nothing': 161,\n",
              " 'makes': 162,\n",
              " 'look': 163,\n",
              " 'director': 164,\n",
              " 'find': 165,\n",
              " 'going': 166,\n",
              " 'same': 167,\n",
              " 'new': 168,\n",
              " 'lot': 169,\n",
              " 'every': 170,\n",
              " 'few': 171,\n",
              " 'again': 172,\n",
              " 'part': 173,\n",
              " 'cast': 174,\n",
              " 'down': 175,\n",
              " 'us': 176,\n",
              " 'things': 177,\n",
              " 'want': 178,\n",
              " 'quite': 179,\n",
              " 'pretty': 180,\n",
              " 'world': 181,\n",
              " 'horror': 182,\n",
              " 'around': 183,\n",
              " 'seems': 184,\n",
              " \"can't\": 185,\n",
              " 'young': 186,\n",
              " 'take': 187,\n",
              " 'however': 188,\n",
              " 'got': 189,\n",
              " 'thought': 190,\n",
              " 'big': 191,\n",
              " 'fact': 192,\n",
              " 'enough': 193,\n",
              " 'long': 194,\n",
              " 'both': 195,\n",
              " \"that's\": 196,\n",
              " 'give': 197,\n",
              " \"i've\": 198,\n",
              " 'own': 199,\n",
              " 'may': 200,\n",
              " 'between': 201,\n",
              " 'comedy': 202,\n",
              " 'right': 203,\n",
              " 'series': 204,\n",
              " 'action': 205,\n",
              " 'must': 206,\n",
              " 'music': 207,\n",
              " 'without': 208,\n",
              " 'times': 209,\n",
              " 'saw': 210,\n",
              " 'always': 211,\n",
              " 'original': 212,\n",
              " \"isn't\": 213,\n",
              " 'role': 214,\n",
              " 'come': 215,\n",
              " 'almost': 216,\n",
              " 'gets': 217,\n",
              " 'interesting': 218,\n",
              " 'guy': 219,\n",
              " 'point': 220,\n",
              " 'done': 221,\n",
              " \"there's\": 222,\n",
              " 'whole': 223,\n",
              " 'least': 224,\n",
              " 'far': 225,\n",
              " 'bit': 226,\n",
              " 'script': 227,\n",
              " 'minutes': 228,\n",
              " 'feel': 229,\n",
              " '2': 230,\n",
              " 'anything': 231,\n",
              " 'making': 232,\n",
              " 'might': 233,\n",
              " 'since': 234,\n",
              " 'am': 235,\n",
              " 'family': 236,\n",
              " \"he's\": 237,\n",
              " 'last': 238,\n",
              " 'probably': 239,\n",
              " 'tv': 240,\n",
              " 'performance': 241,\n",
              " 'kind': 242,\n",
              " 'away': 243,\n",
              " 'yet': 244,\n",
              " 'fun': 245,\n",
              " 'worst': 246,\n",
              " 'sure': 247,\n",
              " 'rather': 248,\n",
              " 'hard': 249,\n",
              " 'anyone': 250,\n",
              " 'girl': 251,\n",
              " 'each': 252,\n",
              " 'played': 253,\n",
              " 'day': 254,\n",
              " 'found': 255,\n",
              " 'looking': 256,\n",
              " 'woman': 257,\n",
              " 'screen': 258,\n",
              " 'although': 259,\n",
              " 'our': 260,\n",
              " 'especially': 261,\n",
              " 'believe': 262,\n",
              " 'having': 263,\n",
              " 'trying': 264,\n",
              " 'course': 265,\n",
              " 'dvd': 266,\n",
              " 'everything': 267,\n",
              " 'set': 268,\n",
              " 'goes': 269,\n",
              " 'comes': 270,\n",
              " 'put': 271,\n",
              " 'ending': 272,\n",
              " 'maybe': 273,\n",
              " 'place': 274,\n",
              " 'book': 275,\n",
              " 'shows': 276,\n",
              " 'three': 277,\n",
              " 'worth': 278,\n",
              " 'different': 279,\n",
              " 'main': 280,\n",
              " 'once': 281,\n",
              " 'sense': 282,\n",
              " 'american': 283,\n",
              " 'reason': 284,\n",
              " 'looks': 285,\n",
              " 'effects': 286,\n",
              " 'watched': 287,\n",
              " 'play': 288,\n",
              " 'true': 289,\n",
              " 'money': 290,\n",
              " 'actor': 291,\n",
              " \"wasn't\": 292,\n",
              " 'job': 293,\n",
              " 'together': 294,\n",
              " 'war': 295,\n",
              " 'someone': 296,\n",
              " 'plays': 297,\n",
              " 'instead': 298,\n",
              " 'high': 299,\n",
              " 'during': 300,\n",
              " 'year': 301,\n",
              " 'said': 302,\n",
              " 'half': 303,\n",
              " 'everyone': 304,\n",
              " 'later': 305,\n",
              " 'takes': 306,\n",
              " '1': 307,\n",
              " 'seem': 308,\n",
              " 'audience': 309,\n",
              " 'special': 310,\n",
              " 'beautiful': 311,\n",
              " 'left': 312,\n",
              " 'himself': 313,\n",
              " 'seeing': 314,\n",
              " 'john': 315,\n",
              " 'night': 316,\n",
              " 'black': 317,\n",
              " 'version': 318,\n",
              " 'shot': 319,\n",
              " 'excellent': 320,\n",
              " 'idea': 321,\n",
              " 'house': 322,\n",
              " 'mind': 323,\n",
              " 'star': 324,\n",
              " 'wife': 325,\n",
              " 'fan': 326,\n",
              " 'death': 327,\n",
              " 'used': 328,\n",
              " 'else': 329,\n",
              " 'simply': 330,\n",
              " 'nice': 331,\n",
              " 'budget': 332,\n",
              " 'poor': 333,\n",
              " 'short': 334,\n",
              " 'completely': 335,\n",
              " 'second': 336,\n",
              " \"you're\": 337,\n",
              " '3': 338,\n",
              " 'read': 339,\n",
              " 'along': 340,\n",
              " 'less': 341,\n",
              " 'top': 342,\n",
              " 'help': 343,\n",
              " 'home': 344,\n",
              " 'men': 345,\n",
              " 'either': 346,\n",
              " 'line': 347,\n",
              " 'boring': 348,\n",
              " 'dead': 349,\n",
              " 'friends': 350,\n",
              " 'kids': 351,\n",
              " 'try': 352,\n",
              " 'production': 353,\n",
              " 'enjoy': 354,\n",
              " 'camera': 355,\n",
              " 'use': 356,\n",
              " 'wrong': 357,\n",
              " 'given': 358,\n",
              " 'low': 359,\n",
              " 'classic': 360,\n",
              " 'father': 361,\n",
              " 'need': 362,\n",
              " 'full': 363,\n",
              " 'stupid': 364,\n",
              " 'next': 365,\n",
              " 'until': 366,\n",
              " 'performances': 367,\n",
              " 'school': 368,\n",
              " 'hollywood': 369,\n",
              " 'rest': 370,\n",
              " 'truly': 371,\n",
              " 'awful': 372,\n",
              " 'video': 373,\n",
              " 'couple': 374,\n",
              " 'start': 375,\n",
              " 'sex': 376,\n",
              " 'recommend': 377,\n",
              " 'women': 378,\n",
              " 'let': 379,\n",
              " 'tell': 380,\n",
              " 'terrible': 381,\n",
              " 'remember': 382,\n",
              " 'mean': 383,\n",
              " 'came': 384,\n",
              " 'understand': 385,\n",
              " 'getting': 386,\n",
              " 'perhaps': 387,\n",
              " 'moments': 388,\n",
              " 'name': 389,\n",
              " 'keep': 390,\n",
              " 'face': 391,\n",
              " 'itself': 392,\n",
              " 'wonderful': 393,\n",
              " 'playing': 394,\n",
              " 'human': 395,\n",
              " 'style': 396,\n",
              " 'small': 397,\n",
              " 'episode': 398,\n",
              " 'perfect': 399,\n",
              " 'others': 400,\n",
              " 'person': 401,\n",
              " 'doing': 402,\n",
              " 'often': 403,\n",
              " 'early': 404,\n",
              " 'stars': 405,\n",
              " 'definitely': 406,\n",
              " 'written': 407,\n",
              " 'head': 408,\n",
              " 'lines': 409,\n",
              " 'dialogue': 410,\n",
              " 'gives': 411,\n",
              " 'piece': 412,\n",
              " \"couldn't\": 413,\n",
              " 'went': 414,\n",
              " 'finally': 415,\n",
              " 'mother': 416,\n",
              " 'case': 417,\n",
              " 'title': 418,\n",
              " 'absolutely': 419,\n",
              " 'live': 420,\n",
              " 'boy': 421,\n",
              " 'yes': 422,\n",
              " 'laugh': 423,\n",
              " 'certainly': 424,\n",
              " 'liked': 425,\n",
              " 'become': 426,\n",
              " 'entertaining': 427,\n",
              " 'worse': 428,\n",
              " 'oh': 429,\n",
              " 'sort': 430,\n",
              " 'loved': 431,\n",
              " 'lost': 432,\n",
              " 'hope': 433,\n",
              " 'called': 434,\n",
              " 'picture': 435,\n",
              " 'felt': 436,\n",
              " 'overall': 437,\n",
              " 'entire': 438,\n",
              " 'mr': 439,\n",
              " 'several': 440,\n",
              " 'based': 441,\n",
              " 'supposed': 442,\n",
              " 'cinema': 443,\n",
              " 'friend': 444,\n",
              " 'guys': 445,\n",
              " 'sound': 446,\n",
              " '5': 447,\n",
              " 'problem': 448,\n",
              " 'drama': 449,\n",
              " 'against': 450,\n",
              " 'waste': 451,\n",
              " 'white': 452,\n",
              " 'beginning': 453,\n",
              " '4': 454,\n",
              " 'fans': 455,\n",
              " 'totally': 456,\n",
              " 'dark': 457,\n",
              " 'care': 458,\n",
              " 'direction': 459,\n",
              " 'humor': 460,\n",
              " 'wanted': 461,\n",
              " \"she's\": 462,\n",
              " 'seemed': 463,\n",
              " 'under': 464,\n",
              " 'game': 465,\n",
              " 'children': 466,\n",
              " 'despite': 467,\n",
              " 'lives': 468,\n",
              " 'lead': 469,\n",
              " 'guess': 470,\n",
              " 'example': 471,\n",
              " 'already': 472,\n",
              " 'final': 473,\n",
              " \"you'll\": 474,\n",
              " 'throughout': 475,\n",
              " 'evil': 476,\n",
              " 'turn': 477,\n",
              " 'becomes': 478,\n",
              " 'unfortunately': 479,\n",
              " 'able': 480,\n",
              " 'quality': 481,\n",
              " \"i'd\": 482,\n",
              " 'days': 483,\n",
              " 'history': 484,\n",
              " 'fine': 485,\n",
              " 'side': 486,\n",
              " 'wants': 487,\n",
              " 'horrible': 488,\n",
              " 'heart': 489,\n",
              " 'writing': 490,\n",
              " 'amazing': 491,\n",
              " 'b': 492,\n",
              " 'flick': 493,\n",
              " 'killer': 494,\n",
              " 'run': 495,\n",
              " 'son': 496,\n",
              " '\\x96': 497,\n",
              " 'michael': 498,\n",
              " 'works': 499,\n",
              " 'close': 500,\n",
              " \"they're\": 501,\n",
              " 'act': 502,\n",
              " 'art': 503,\n",
              " 'matter': 504,\n",
              " 'kill': 505,\n",
              " 'etc': 506,\n",
              " 'tries': 507,\n",
              " \"won't\": 508,\n",
              " 'past': 509,\n",
              " 'town': 510,\n",
              " 'enjoyed': 511,\n",
              " 'turns': 512,\n",
              " 'brilliant': 513,\n",
              " 'gave': 514,\n",
              " 'behind': 515,\n",
              " 'parts': 516,\n",
              " 'stuff': 517,\n",
              " 'genre': 518,\n",
              " 'eyes': 519,\n",
              " 'car': 520,\n",
              " 'favorite': 521,\n",
              " 'directed': 522,\n",
              " 'late': 523,\n",
              " 'hand': 524,\n",
              " 'expect': 525,\n",
              " 'soon': 526,\n",
              " 'hour': 527,\n",
              " 'obviously': 528,\n",
              " 'themselves': 529,\n",
              " 'sometimes': 530,\n",
              " 'killed': 531,\n",
              " 'thinking': 532,\n",
              " 'actress': 533,\n",
              " 'girls': 534,\n",
              " 'child': 535,\n",
              " 'viewer': 536,\n",
              " 'starts': 537,\n",
              " 'myself': 538,\n",
              " 'city': 539,\n",
              " 'decent': 540,\n",
              " 'highly': 541,\n",
              " 'stop': 542,\n",
              " 'type': 543,\n",
              " 'self': 544,\n",
              " 'god': 545,\n",
              " 'says': 546,\n",
              " 'group': 547,\n",
              " 'anyway': 548,\n",
              " 'voice': 549,\n",
              " 'took': 550,\n",
              " 'known': 551,\n",
              " 'blood': 552,\n",
              " 'kid': 553,\n",
              " 'heard': 554,\n",
              " 'happens': 555,\n",
              " 'except': 556,\n",
              " 'fight': 557,\n",
              " 'feeling': 558,\n",
              " 'experience': 559,\n",
              " 'coming': 560,\n",
              " 'slow': 561,\n",
              " 'daughter': 562,\n",
              " 'writer': 563,\n",
              " 'stories': 564,\n",
              " 'moment': 565,\n",
              " 'told': 566,\n",
              " 'leave': 567,\n",
              " 'extremely': 568,\n",
              " 'score': 569,\n",
              " 'violence': 570,\n",
              " 'involved': 571,\n",
              " 'police': 572,\n",
              " 'strong': 573,\n",
              " 'chance': 574,\n",
              " 'lack': 575,\n",
              " 'cannot': 576,\n",
              " 'hit': 577,\n",
              " 'roles': 578,\n",
              " 'hilarious': 579,\n",
              " 's': 580,\n",
              " 'happen': 581,\n",
              " 'wonder': 582,\n",
              " 'particularly': 583,\n",
              " 'ok': 584,\n",
              " 'including': 585,\n",
              " 'living': 586,\n",
              " 'save': 587,\n",
              " 'looked': 588,\n",
              " \"wouldn't\": 589,\n",
              " 'crap': 590,\n",
              " 'please': 591,\n",
              " 'simple': 592,\n",
              " 'murder': 593,\n",
              " 'cool': 594,\n",
              " 'obvious': 595,\n",
              " 'happened': 596,\n",
              " 'complete': 597,\n",
              " 'cut': 598,\n",
              " 'age': 599,\n",
              " 'serious': 600,\n",
              " 'gore': 601,\n",
              " 'attempt': 602,\n",
              " 'hell': 603,\n",
              " 'ago': 604,\n",
              " 'song': 605,\n",
              " 'shown': 606,\n",
              " 'taken': 607,\n",
              " 'english': 608,\n",
              " 'james': 609,\n",
              " 'robert': 610,\n",
              " 'david': 611,\n",
              " 'seriously': 612,\n",
              " 'released': 613,\n",
              " 'reality': 614,\n",
              " 'opening': 615,\n",
              " 'jokes': 616,\n",
              " 'interest': 617,\n",
              " 'across': 618,\n",
              " 'none': 619,\n",
              " 'hero': 620,\n",
              " 'exactly': 621,\n",
              " 'today': 622,\n",
              " 'possible': 623,\n",
              " 'alone': 624,\n",
              " 'sad': 625,\n",
              " 'brother': 626,\n",
              " 'number': 627,\n",
              " 'career': 628,\n",
              " 'saying': 629,\n",
              " \"film's\": 630,\n",
              " 'hours': 631,\n",
              " 'usually': 632,\n",
              " 'cinematography': 633,\n",
              " 'talent': 634,\n",
              " 'view': 635,\n",
              " 'annoying': 636,\n",
              " 'running': 637,\n",
              " 'yourself': 638,\n",
              " 'relationship': 639,\n",
              " 'documentary': 640,\n",
              " 'wish': 641,\n",
              " 'order': 642,\n",
              " 'huge': 643,\n",
              " 'shots': 644,\n",
              " 'whose': 645,\n",
              " 'ridiculous': 646,\n",
              " 'taking': 647,\n",
              " 'important': 648,\n",
              " 'light': 649,\n",
              " 'body': 650,\n",
              " 'middle': 651,\n",
              " 'level': 652,\n",
              " 'ends': 653,\n",
              " 'started': 654,\n",
              " 'female': 655,\n",
              " 'call': 656,\n",
              " \"i'll\": 657,\n",
              " 'husband': 658,\n",
              " 'four': 659,\n",
              " 'power': 660,\n",
              " 'turned': 661,\n",
              " 'major': 662,\n",
              " 'word': 663,\n",
              " 'opinion': 664,\n",
              " 'change': 665,\n",
              " 'mostly': 666,\n",
              " 'usual': 667,\n",
              " 'silly': 668,\n",
              " 'scary': 669,\n",
              " 'rating': 670,\n",
              " 'beyond': 671,\n",
              " 'somewhat': 672,\n",
              " 'ones': 673,\n",
              " 'happy': 674,\n",
              " 'words': 675,\n",
              " 'room': 676,\n",
              " 'knew': 677,\n",
              " 'knows': 678,\n",
              " 'country': 679,\n",
              " 'disappointed': 680,\n",
              " 'talking': 681,\n",
              " 'novel': 682,\n",
              " 'apparently': 683,\n",
              " 'non': 684,\n",
              " 'strange': 685,\n",
              " 'upon': 686,\n",
              " 'attention': 687,\n",
              " 'finds': 688,\n",
              " 'single': 689,\n",
              " 'basically': 690,\n",
              " 'cheap': 691,\n",
              " 'modern': 692,\n",
              " 'due': 693,\n",
              " 'jack': 694,\n",
              " 'musical': 695,\n",
              " 'television': 696,\n",
              " 'problems': 697,\n",
              " 'miss': 698,\n",
              " 'episodes': 699,\n",
              " 'clearly': 700,\n",
              " 'local': 701,\n",
              " '7': 702,\n",
              " 'british': 703,\n",
              " 'thriller': 704,\n",
              " 'talk': 705,\n",
              " 'events': 706,\n",
              " 'five': 707,\n",
              " 'sequence': 708,\n",
              " \"aren't\": 709,\n",
              " 'class': 710,\n",
              " 'french': 711,\n",
              " 'moving': 712,\n",
              " 'ten': 713,\n",
              " 'fast': 714,\n",
              " 'review': 715,\n",
              " 'earth': 716,\n",
              " 'tells': 717,\n",
              " 'predictable': 718,\n",
              " 'songs': 719,\n",
              " 'team': 720,\n",
              " 'comic': 721,\n",
              " 'straight': 722,\n",
              " 'whether': 723,\n",
              " '8': 724,\n",
              " 'die': 725,\n",
              " 'add': 726,\n",
              " 'dialog': 727,\n",
              " 'entertainment': 728,\n",
              " 'above': 729,\n",
              " 'sets': 730,\n",
              " 'future': 731,\n",
              " 'enjoyable': 732,\n",
              " 'appears': 733,\n",
              " 'near': 734,\n",
              " 'space': 735,\n",
              " 'easily': 736,\n",
              " 'hate': 737,\n",
              " 'soundtrack': 738,\n",
              " 'bring': 739,\n",
              " 'giving': 740,\n",
              " 'lots': 741,\n",
              " 'similar': 742,\n",
              " 'romantic': 743,\n",
              " 'george': 744,\n",
              " 'supporting': 745,\n",
              " 'release': 746,\n",
              " 'mention': 747,\n",
              " 'filmed': 748,\n",
              " 'within': 749,\n",
              " 'message': 750,\n",
              " 'sequel': 751,\n",
              " 'clear': 752,\n",
              " 'falls': 753,\n",
              " \"haven't\": 754,\n",
              " 'needs': 755,\n",
              " 'dull': 756,\n",
              " 'suspense': 757,\n",
              " 'bunch': 758,\n",
              " 'eye': 759,\n",
              " 'surprised': 760,\n",
              " 'showing': 761,\n",
              " 'tried': 762,\n",
              " 'sorry': 763,\n",
              " 'certain': 764,\n",
              " 'easy': 765,\n",
              " 'working': 766,\n",
              " 'ways': 767,\n",
              " 'theme': 768,\n",
              " 'theater': 769,\n",
              " 'named': 770,\n",
              " 'among': 771,\n",
              " \"what's\": 772,\n",
              " 'storyline': 773,\n",
              " 'monster': 774,\n",
              " 'king': 775,\n",
              " 'stay': 776,\n",
              " 'effort': 777,\n",
              " 'fall': 778,\n",
              " 'minute': 779,\n",
              " 'stand': 780,\n",
              " 'gone': 781,\n",
              " 'rock': 782,\n",
              " 'using': 783,\n",
              " '9': 784,\n",
              " 'feature': 785,\n",
              " 'buy': 786,\n",
              " 'comments': 787,\n",
              " \"'\": 788,\n",
              " 'typical': 789,\n",
              " 't': 790,\n",
              " 'sister': 791,\n",
              " 'editing': 792,\n",
              " 'avoid': 793,\n",
              " 'tale': 794,\n",
              " 'mystery': 795,\n",
              " 'dr': 796,\n",
              " 'deal': 797,\n",
              " 'doubt': 798,\n",
              " 'fantastic': 799,\n",
              " 'nearly': 800,\n",
              " 'kept': 801,\n",
              " 'subject': 802,\n",
              " 'feels': 803,\n",
              " 'okay': 804,\n",
              " 'viewing': 805,\n",
              " 'elements': 806,\n",
              " 'check': 807,\n",
              " 'oscar': 808,\n",
              " 'realistic': 809,\n",
              " 'points': 810,\n",
              " 'means': 811,\n",
              " 'greatest': 812,\n",
              " 'herself': 813,\n",
              " 'parents': 814,\n",
              " 'famous': 815,\n",
              " 'imagine': 816,\n",
              " 'rent': 817,\n",
              " 'viewers': 818,\n",
              " 'crime': 819,\n",
              " 'richard': 820,\n",
              " 'form': 821,\n",
              " 'peter': 822,\n",
              " 'actual': 823,\n",
              " 'lady': 824,\n",
              " 'general': 825,\n",
              " 'dog': 826,\n",
              " 'follow': 827,\n",
              " 'believable': 828,\n",
              " 'period': 829,\n",
              " 'red': 830,\n",
              " 'move': 831,\n",
              " 'brought': 832,\n",
              " 'material': 833,\n",
              " 'forget': 834,\n",
              " 'somehow': 835,\n",
              " 'begins': 836,\n",
              " 're': 837,\n",
              " 'reviews': 838,\n",
              " 'animation': 839,\n",
              " 'paul': 840,\n",
              " \"you've\": 841,\n",
              " 'leads': 842,\n",
              " 'weak': 843,\n",
              " 'figure': 844,\n",
              " 'surprise': 845,\n",
              " 'hear': 846,\n",
              " 'sit': 847,\n",
              " 'average': 848,\n",
              " 'open': 849,\n",
              " 'sequences': 850,\n",
              " 'killing': 851,\n",
              " 'atmosphere': 852,\n",
              " 'eventually': 853,\n",
              " 'tom': 854,\n",
              " 'learn': 855,\n",
              " 'premise': 856,\n",
              " '20': 857,\n",
              " 'wait': 858,\n",
              " 'sci': 859,\n",
              " 'deep': 860,\n",
              " 'fi': 861,\n",
              " 'expected': 862,\n",
              " 'whatever': 863,\n",
              " 'indeed': 864,\n",
              " 'particular': 865,\n",
              " 'note': 866,\n",
              " 'poorly': 867,\n",
              " 'lame': 868,\n",
              " 'dance': 869,\n",
              " 'imdb': 870,\n",
              " 'shame': 871,\n",
              " 'situation': 872,\n",
              " 'third': 873,\n",
              " 'box': 874,\n",
              " 'york': 875,\n",
              " 'truth': 876,\n",
              " 'decided': 877,\n",
              " 'free': 878,\n",
              " 'hot': 879,\n",
              " \"who's\": 880,\n",
              " 'difficult': 881,\n",
              " 'needed': 882,\n",
              " 'season': 883,\n",
              " 'acted': 884,\n",
              " 'leaves': 885,\n",
              " 'unless': 886,\n",
              " 'emotional': 887,\n",
              " 'possibly': 888,\n",
              " 'romance': 889,\n",
              " 'sexual': 890,\n",
              " 'gay': 891,\n",
              " 'boys': 892,\n",
              " 'footage': 893,\n",
              " 'write': 894,\n",
              " 'western': 895,\n",
              " 'credits': 896,\n",
              " 'forced': 897,\n",
              " 'became': 898,\n",
              " 'memorable': 899,\n",
              " 'doctor': 900,\n",
              " 'reading': 901,\n",
              " 'otherwise': 902,\n",
              " 'begin': 903,\n",
              " 'crew': 904,\n",
              " 'de': 905,\n",
              " 'air': 906,\n",
              " 'question': 907,\n",
              " 'meet': 908,\n",
              " 'society': 909,\n",
              " 'male': 910,\n",
              " 'meets': 911,\n",
              " \"let's\": 912,\n",
              " 'plus': 913,\n",
              " 'cheesy': 914,\n",
              " 'hands': 915,\n",
              " 'superb': 916,\n",
              " 'screenplay': 917,\n",
              " 'beauty': 918,\n",
              " 'interested': 919,\n",
              " 'features': 920,\n",
              " 'street': 921,\n",
              " 'masterpiece': 922,\n",
              " 'perfectly': 923,\n",
              " 'whom': 924,\n",
              " 'laughs': 925,\n",
              " 'nature': 926,\n",
              " 'stage': 927,\n",
              " 'effect': 928,\n",
              " 'comment': 929,\n",
              " 'forward': 930,\n",
              " 'nor': 931,\n",
              " 'sounds': 932,\n",
              " 'previous': 933,\n",
              " 'e': 934,\n",
              " 'badly': 935,\n",
              " 'japanese': 936,\n",
              " 'weird': 937,\n",
              " 'island': 938,\n",
              " 'personal': 939,\n",
              " 'inside': 940,\n",
              " 'quickly': 941,\n",
              " 'total': 942,\n",
              " 'keeps': 943,\n",
              " 'towards': 944,\n",
              " 'america': 945,\n",
              " 'result': 946,\n",
              " 'battle': 947,\n",
              " 'crazy': 948,\n",
              " 'worked': 949,\n",
              " 'incredibly': 950,\n",
              " 'setting': 951,\n",
              " 'earlier': 952,\n",
              " 'background': 953,\n",
              " 'mess': 954,\n",
              " 'cop': 955,\n",
              " 'writers': 956,\n",
              " 'fire': 957,\n",
              " 'copy': 958,\n",
              " 'unique': 959,\n",
              " 'realize': 960,\n",
              " 'dumb': 961,\n",
              " 'powerful': 962,\n",
              " 'lee': 963,\n",
              " 'mark': 964,\n",
              " 'business': 965,\n",
              " 'rate': 966,\n",
              " 'dramatic': 967,\n",
              " 'older': 968,\n",
              " 'pay': 969,\n",
              " 'following': 970,\n",
              " 'directors': 971,\n",
              " 'girlfriend': 972,\n",
              " 'joke': 973,\n",
              " 'plenty': 974,\n",
              " 'directing': 975,\n",
              " 'various': 976,\n",
              " 'creepy': 977,\n",
              " 'baby': 978,\n",
              " 'appear': 979,\n",
              " 'development': 980,\n",
              " 'brings': 981,\n",
              " 'front': 982,\n",
              " 'ask': 983,\n",
              " 'dream': 984,\n",
              " 'water': 985,\n",
              " 'bill': 986,\n",
              " 'admit': 987,\n",
              " 'rich': 988,\n",
              " 'apart': 989,\n",
              " 'joe': 990,\n",
              " 'fairly': 991,\n",
              " 'political': 992,\n",
              " 'reasons': 993,\n",
              " 'leading': 994,\n",
              " 'spent': 995,\n",
              " 'portrayed': 996,\n",
              " 'telling': 997,\n",
              " 'cover': 998,\n",
              " 'outside': 999,\n",
              " 'fighting': 1000,\n",
              " ...}"
            ]
          },
          "metadata": {},
          "execution_count": 9
        }
      ]
    },
    {
      "cell_type": "markdown",
      "metadata": {
        "id": "rAIDUWEQTj5q"
      },
      "source": [
        "1.使用x_train_text作為tokenizer函式text_to_sequences的輸入，x_train_text裡的電影評論的每個詞將轉換成為對應的token，轉換的結果存入x_train_tokens．\n",
        "\n",
        "2.使用x_test_text作為tokenizer函式text_to_sequences的輸入，x_test_text裡的電影評論的每個詞將轉換成為對應的token，轉換的結果存入x_test_tokens．"
      ]
    },
    {
      "cell_type": "code",
      "metadata": {
        "id": "x6TVYztpeADx"
      },
      "source": [
        "# '''Step3: Convert all texts to lists of tokens'''\n",
        "x_train_tokens = tokenizer.texts_to_sequences(x_train_text)\n",
        "x_test_tokens = tokenizer.texts_to_sequences(x_test_text)"
      ],
      "execution_count": null,
      "outputs": []
    },
    {
      "cell_type": "markdown",
      "metadata": {
        "id": "y_KKoqKdY5J1"
      },
      "source": [
        "1.顯示x_train_text第一筆電影評論的內容．\n",
        "\n",
        "2.顯示第一筆電影評論轉化成token的內容．"
      ]
    },
    {
      "cell_type": "code",
      "metadata": {
        "id": "Hn1LEJTf4xGY",
        "outputId": "c4c1a726-2d36-4524-d159-611fda5ea886",
        "colab": {
          "base_uri": "https://localhost:8080/"
        }
      },
      "source": [
        "# '''Investigate the respones after text-to-token conversion'''\n",
        "print('Orginal text: \\n', x_train_text[0])\n",
        "print('Text-to-token: \\n', np.array(x_train_tokens[0]))"
      ],
      "execution_count": null,
      "outputs": [
        {
          "output_type": "stream",
          "name": "stdout",
          "text": [
            "Orginal text: \n",
            " The movie was a suspenseful, and somewhat dark, look at the severe results of a genuinely human mistake. Connery and Fishburne work very well together in this thriller about murder and redemption. Keep your boots on for the strange turnaround at the end of the movie...you'd never expect it!\n",
            "Text-to-token: \n",
            " [   1   17   13    3 2488    2  672  457  163   30    1 4780 1994    4\n",
            "    3 2039  395 1408 3589    2  158   52   69  294    8   11  704   42\n",
            "  593    2 3389  390  125   20   15    1  685   30    1  127    4    1\n",
            "   17 1421  110  525    9]\n"
          ]
        }
      ]
    },
    {
      "cell_type": "markdown",
      "metadata": {
        "id": "2Mm3-0dJZ--A"
      },
      "source": [
        "## **Pad and Truncate Data**"
      ]
    },
    {
      "cell_type": "markdown",
      "metadata": {
        "id": "TqcKoLKCyLRK"
      },
      "source": [
        "為了方便神經網路計算，我們必須要讓所有的輸入序列(x_train_tokens和x_test_tokens)維持一樣的長度，所以我們必須要對輸入序列做截長(Truncate)補短(Pad)．\n",
        "\n",
        "1.將x_train_tokens和x_test_tokens裡的tokens依序取出，並且計算取出tokens的長度，計算結果將依序存入num_tokens．\n",
        "\n",
        "2.計算所有tokens長度的平均值，計算結果存入mean_tokens．\n",
        "\n",
        "3.顯示所有tokens的長度．\n",
        "\n",
        "4.顯示tokens長度的平均值．"
      ]
    },
    {
      "cell_type": "code",
      "metadata": {
        "id": "NseVXV3tVP-3",
        "outputId": "48defae9-c31a-49e1-b4ec-947b85963360",
        "colab": {
          "base_uri": "https://localhost:8080/"
        }
      },
      "source": [
        "# '''Step1: Count the number of tokens in each sequence and Calculate their average number'''\n",
        "num_tokens = [len(tokens) for tokens in x_train_tokens + x_test_tokens]\n",
        "mean_tokens = int(np.mean(num_tokens))\n",
        "\n",
        "print('Number of tokens in all the sequences:', num_tokens)\n",
        "print('Average number of sequence length:', mean_tokens)"
      ],
      "execution_count": null,
      "outputs": [
        {
          "output_type": "stream",
          "name": "stdout",
          "text": [
            "Number of tokens in all the sequences: [47, 141, 125, 120, 432, 241, 187, 145, 147, 50, 151, 68, 123, 130, 48, 95, 284, 138, 109, 358, 160, 366, 352, 139, 82, 132, 181, 171, 64, 206, 120, 138, 263, 130, 205, 273, 193, 174, 149, 289, 120, 221, 130, 171, 143, 201, 762, 182, 142, 55, 229, 466, 184, 120, 550, 764, 114, 110, 354, 270, 112, 183, 362, 154, 49, 879, 52, 225, 172, 118, 146, 131, 70, 48, 118, 53, 54, 166, 24, 141, 44, 322, 160, 682, 125, 141, 56, 160, 43, 125, 47, 111, 175, 147, 116, 128, 157, 467, 125, 33, 314, 112, 142, 99, 120, 769, 188, 117, 295, 295, 544, 133, 129, 119, 86, 147, 186, 164, 161, 276, 93, 103, 323, 326, 141, 219, 367, 533, 527, 93, 190, 512, 170, 840, 122, 182, 128, 193, 265, 107, 241, 275, 207, 304, 107, 269, 143, 132, 74, 161, 226, 178, 46, 87, 79, 91, 312, 222, 159, 176, 144, 200, 206, 215, 123, 204, 1681, 226, 129, 57, 607, 117, 124, 232, 61, 144, 422, 76, 140, 761, 838, 64, 826, 87, 29, 118, 120, 37, 123, 457, 94, 180, 442, 452, 64, 118, 145, 55, 75, 166, 102, 248, 125, 285, 115, 94, 110, 103, 103, 66, 374, 281, 120, 34, 259, 177, 239, 488, 187, 75, 58, 118, 162, 155, 144, 171, 132, 372, 320, 47, 386, 544, 117, 176, 49, 89, 45, 293, 105, 113, 327, 242, 112, 88, 174, 169, 222, 101, 163, 162, 240, 468, 726, 57, 39, 52, 74, 77, 154, 181, 233, 263, 317, 179, 351, 150, 139, 222, 111, 374, 56, 104, 125, 466, 216, 560, 196, 51, 392, 324, 95, 152, 153, 79, 42, 263, 76, 285, 102, 302, 165, 167, 118, 724, 500, 101, 154, 97, 20, 563, 162, 81, 130, 224, 342, 63, 241, 63, 130, 113, 120, 302, 175, 84, 157, 251, 56, 143, 120, 146, 783, 214, 189, 106, 681, 247, 379, 102, 118, 124, 239, 155, 191, 99, 116, 171, 270, 910, 625, 117, 50, 529, 173, 217, 263, 122, 376, 326, 455, 136, 73, 195, 59, 97, 796, 219, 275, 82, 156, 178, 128, 192, 239, 102, 370, 403, 83, 119, 580, 293, 296, 400, 579, 294, 182, 108, 106, 123, 65, 107, 270, 115, 457, 142, 116, 68, 140, 287, 293, 163, 879, 295, 298, 144, 183, 155, 235, 48, 182, 111, 215, 88, 140, 154, 92, 204, 247, 151, 125, 416, 360, 474, 142, 109, 143, 152, 278, 581, 174, 242, 162, 127, 624, 219, 172, 335, 138, 449, 158, 81, 77, 155, 413, 106, 223, 151, 149, 215, 195, 161, 211, 45, 237, 157, 117, 138, 141, 121, 98, 225, 338, 125, 61, 200, 115, 63, 110, 353, 128, 142, 168, 147, 187, 243, 122, 128, 109, 264, 109, 437, 117, 161, 521, 123, 66, 99, 594, 182, 232, 430, 128, 76, 277, 179, 574, 106, 127, 281, 192, 304, 135, 403, 261, 335, 133, 162, 171, 35, 246, 197, 552, 129, 67, 132, 83, 591, 145, 31, 57, 186, 145, 386, 174, 107, 64, 61, 76, 282, 120, 111, 122, 135, 267, 379, 379, 137, 103, 753, 53, 110, 289, 319, 156, 247, 268, 168, 359, 138, 440, 218, 167, 118, 71, 123, 119, 247, 271, 137, 433, 124, 318, 91, 300, 102, 115, 148, 57, 241, 191, 247, 817, 111, 65, 208, 668, 174, 175, 331, 72, 215, 471, 167, 378, 199, 222, 127, 78, 169, 218, 307, 263, 136, 189, 106, 67, 410, 176, 170, 97, 296, 215, 117, 275, 236, 174, 212, 64, 112, 307, 445, 117, 236, 151, 143, 228, 330, 117, 103, 99, 116, 230, 33, 38, 117, 263, 261, 72, 181, 345, 118, 191, 125, 39, 92, 311, 96, 245, 253, 113, 92, 173, 87, 119, 87, 232, 237, 99, 175, 448, 121, 133, 56, 134, 106, 289, 291, 522, 151, 339, 147, 58, 291, 125, 46, 212, 236, 263, 627, 171, 246, 268, 49, 84, 124, 361, 366, 120, 121, 208, 91, 148, 124, 142, 130, 360, 116, 56, 113, 117, 174, 410, 390, 112, 470, 178, 79, 97, 69, 101, 97, 180, 130, 222, 173, 129, 124, 205, 198, 138, 148, 293, 156, 136, 162, 192, 115, 111, 585, 92, 252, 831, 149, 58, 463, 107, 441, 155, 428, 12, 185, 100, 107, 219, 134, 311, 218, 109, 109, 99, 135, 172, 237, 178, 194, 323, 502, 126, 148, 220, 200, 214, 125, 179, 116, 386, 387, 98, 111, 211, 84, 110, 351, 105, 178, 55, 126, 443, 234, 49, 496, 55, 158, 524, 168, 393, 69, 387, 477, 290, 196, 253, 376, 195, 172, 186, 260, 179, 209, 135, 39, 118, 246, 158, 175, 145, 302, 130, 384, 901, 198, 454, 690, 142, 507, 202, 638, 255, 749, 306, 199, 170, 93, 180, 338, 45, 87, 94, 168, 180, 107, 239, 259, 119, 109, 53, 168, 64, 103, 310, 162, 92, 128, 107, 118, 343, 110, 117, 335, 128, 129, 229, 371, 269, 109, 119, 90, 418, 186, 221, 114, 246, 134, 146, 279, 157, 313, 103, 300, 515, 41, 354, 50, 112, 129, 592, 183, 136, 392, 100, 125, 260, 160, 168, 91, 227, 428, 43, 161, 729, 293, 153, 223, 160, 106, 52, 84, 142, 182, 283, 181, 167, 129, 368, 108, 153, 290, 101, 68, 673, 61, 134, 423, 333, 111, 406, 391, 78, 111, 177, 226, 429, 878, 209, 388, 206, 179, 91, 107, 122, 149, 118, 138, 430, 130, 139, 133, 779, 151, 284, 235, 141, 499, 204, 981, 114, 907, 382, 236, 232, 179, 130, 136, 160, 195, 43, 269, 345, 114, 158, 57, 159, 98, 108, 155, 342, 337, 169, 207, 131, 97, 120, 503, 139, 591, 62, 171, 169, 108, 149, 219, 386, 171, 204, 61, 244, 219, 91, 122, 114, 44, 227, 117, 101, 76, 319, 208, 185, 416, 123, 138, 386, 41, 106, 323, 247, 250, 141, 141, 186, 129, 298, 145, 134, 313, 119, 97, 237, 582, 141, 343, 175, 126, 186, 74, 39, 114, 211, 621, 98, 642, 191, 43, 627, 189, 354, 367, 155, 43, 192, 437, 523, 157, 100, 201, 169, 311, 61, 136, 216, 134, 208, 197, 141, 216, 144, 550, 154, 288, 127, 311, 249, 141, 110, 180, 123, 97, 280, 175, 243, 97, 311, 371, 120, 135, 43, 329, 71, 123, 142, 119, 57, 97, 88, 260, 180, 237, 757, 177, 46, 206, 115, 116, 72, 653, 76, 308, 122, 319, 355, 148, 78, 206, 85, 174, 281, 105, 170, 213, 99, 186, 131, 97, 217, 177, 191, 446, 162, 232, 58, 282, 141, 361, 84, 119, 115, 121, 139, 69, 134, 181, 748, 57, 126, 37, 162, 700, 35, 189, 228, 192, 524, 137, 366, 273, 64, 119, 239, 135, 158, 117, 291, 136, 77, 229, 69, 56, 167, 219, 466, 113, 301, 410, 120, 354, 124, 121, 198, 181, 262, 176, 395, 89, 423, 64, 258, 96, 413, 569, 113, 153, 113, 375, 155, 100, 244, 218, 153, 61, 84, 140, 208, 431, 291, 205, 100, 141, 110, 138, 135, 338, 15, 627, 178, 200, 486, 112, 129, 101, 375, 129, 336, 607, 34, 142, 125, 55, 339, 65, 142, 164, 153, 92, 175, 135, 110, 270, 132, 75, 255, 115, 265, 132, 147, 169, 57, 352, 176, 124, 155, 214, 164, 102, 247, 137, 216, 187, 159, 487, 202, 348, 387, 499, 495, 136, 462, 116, 132, 631, 115, 327, 139, 206, 251, 156, 205, 46, 215, 439, 187, 353, 41, 144, 115, 651, 226, 112, 42, 738, 153, 132, 130, 128, 160, 111, 234, 156, 130, 120, 132, 392, 604, 116, 197, 134, 115, 276, 832, 193, 182, 508, 129, 136, 123, 116, 114, 754, 132, 136, 95, 451, 159, 101, 328, 561, 167, 111, 121, 395, 704, 179, 73, 242, 841, 55, 224, 163, 211, 122, 299, 402, 221, 122, 145, 154, 124, 114, 123, 263, 144, 152, 151, 239, 185, 58, 153, 377, 154, 115, 122, 161, 161, 196, 131, 76, 209, 111, 107, 270, 152, 113, 271, 108, 57, 155, 313, 189, 139, 211, 276, 113, 300, 156, 122, 242, 316, 143, 173, 151, 529, 133, 326, 158, 171, 123, 125, 58, 108, 128, 160, 71, 127, 138, 246, 304, 329, 848, 254, 141, 122, 42, 106, 131, 232, 209, 131, 111, 49, 128, 207, 122, 38, 95, 473, 177, 125, 867, 137, 292, 84, 652, 117, 294, 419, 91, 117, 118, 143, 103, 230, 137, 883, 162, 53, 570, 323, 162, 80, 80, 40, 156, 299, 162, 329, 185, 216, 437, 306, 170, 423, 97, 131, 117, 197, 123, 133, 450, 112, 114, 425, 277, 289, 272, 187, 183, 111, 184, 218, 113, 208, 151, 160, 287, 118, 61, 65, 155, 135, 116, 584, 186, 196, 223, 151, 202, 352, 119, 192, 144, 474, 117, 105, 144, 220, 173, 303, 319, 324, 65, 117, 118, 354, 56, 51, 163, 107, 126, 97, 723, 241, 863, 276, 254, 81, 53, 498, 65, 135, 139, 337, 101, 209, 239, 523, 133, 207, 219, 151, 140, 193, 106, 182, 115, 70, 55, 70, 90, 256, 389, 71, 244, 231, 211, 677, 114, 225, 305, 115, 909, 221, 55, 117, 152, 585, 120, 271, 121, 208, 150, 330, 280, 126, 141, 61, 585, 97, 79, 192, 117, 166, 225, 67, 87, 100, 124, 160, 159, 362, 189, 47, 587, 142, 107, 340, 305, 143, 236, 236, 458, 391, 449, 95, 119, 157, 140, 156, 162, 359, 134, 136, 130, 184, 180, 389, 74, 166, 320, 191, 152, 176, 145, 373, 167, 208, 110, 111, 325, 328, 346, 46, 137, 678, 132, 52, 226, 148, 102, 125, 548, 108, 150, 124, 70, 149, 56, 146, 382, 121, 48, 394, 776, 122, 152, 128, 276, 219, 149, 320, 270, 509, 144, 93, 85, 130, 134, 33, 94, 134, 223, 462, 112, 146, 145, 166, 114, 222, 318, 118, 124, 157, 145, 210, 294, 267, 117, 317, 243, 329, 215, 170, 105, 116, 102, 157, 117, 99, 123, 329, 654, 128, 141, 158, 356, 642, 149, 96, 119, 138, 134, 129, 165, 105, 126, 196, 281, 165, 48, 189, 578, 116, 183, 132, 219, 103, 63, 106, 116, 174, 62, 174, 129, 135, 79, 131, 160, 135, 90, 99, 157, 142, 279, 113, 265, 703, 123, 142, 104, 74, 235, 219, 182, 117, 156, 86, 238, 160, 143, 105, 155, 169, 186, 48, 190, 185, 187, 152, 136, 160, 344, 142, 61, 80, 244, 122, 482, 349, 156, 90, 158, 175, 222, 237, 193, 217, 478, 136, 311, 164, 213, 600, 119, 146, 212, 301, 178, 81, 161, 210, 172, 379, 136, 55, 43, 240, 72, 238, 490, 182, 63, 232, 124, 160, 541, 168, 691, 214, 187, 226, 562, 112, 274, 126, 304, 121, 432, 262, 117, 37, 96, 233, 143, 144, 201, 353, 209, 164, 124, 132, 315, 155, 122, 110, 57, 250, 99, 235, 131, 364, 121, 164, 220, 147, 87, 40, 249, 152, 153, 189, 179, 228, 104, 836, 444, 229, 108, 164, 450, 64, 97, 244, 110, 109, 160, 160, 76, 222, 376, 247, 128, 143, 112, 121, 191, 171, 595, 91, 186, 148, 136, 125, 488, 161, 125, 120, 143, 63, 229, 135, 151, 154, 68, 254, 140, 52, 552, 165, 298, 117, 814, 73, 55, 111, 174, 293, 167, 171, 227, 424, 175, 119, 137, 389, 71, 761, 268, 225, 112, 188, 188, 208, 269, 88, 857, 333, 122, 197, 48, 185, 38, 202, 792, 428, 738, 324, 430, 118, 340, 59, 318, 83, 262, 207, 105, 120, 348, 474, 116, 310, 79, 110, 396, 190, 61, 164, 158, 133, 246, 62, 235, 108, 474, 841, 124, 169, 108, 227, 189, 180, 194, 189, 51, 380, 54, 90, 644, 230, 134, 322, 211, 483, 107, 311, 87, 164, 127, 167, 102, 283, 129, 343, 78, 222, 138, 608, 74, 133, 113, 162, 124, 166, 83, 112, 327, 148, 153, 160, 134, 206, 211, 69, 246, 134, 123, 15, 176, 215, 258, 151, 154, 141, 760, 163, 53, 125, 282, 140, 239, 294, 118, 147, 51, 270, 35, 90, 195, 153, 310, 165, 132, 92, 406, 378, 158, 31, 399, 508, 159, 90, 212, 838, 149, 169, 83, 183, 274, 177, 395, 116, 119, 117, 202, 151, 433, 142, 188, 271, 684, 71, 171, 88, 353, 127, 251, 290, 155, 129, 131, 299, 157, 259, 241, 106, 263, 320, 151, 148, 472, 205, 222, 246, 218, 141, 120, 112, 128, 210, 846, 159, 174, 119, 83, 429, 41, 338, 217, 619, 126, 154, 358, 152, 320, 108, 129, 189, 376, 237, 147, 160, 154, 220, 261, 185, 174, 144, 69, 166, 323, 85, 104, 81, 114, 152, 102, 232, 112, 162, 129, 286, 170, 99, 221, 150, 104, 792, 136, 106, 401, 65, 104, 140, 124, 167, 189, 137, 36, 459, 256, 254, 152, 236, 229, 153, 111, 267, 154, 50, 249, 121, 193, 157, 113, 106, 115, 597, 335, 286, 153, 76, 108, 548, 391, 126, 323, 296, 516, 155, 48, 202, 209, 149, 74, 349, 90, 157, 78, 175, 143, 98, 135, 497, 423, 95, 244, 77, 271, 471, 145, 179, 588, 57, 73, 220, 645, 213, 335, 579, 135, 350, 33, 135, 110, 227, 178, 120, 174, 164, 118, 335, 684, 336, 215, 179, 239, 199, 116, 75, 143, 110, 279, 228, 195, 137, 425, 333, 158, 125, 508, 75, 639, 144, 215, 298, 345, 105, 119, 210, 192, 114, 164, 139, 44, 100, 195, 146, 51, 172, 130, 90, 329, 231, 129, 96, 105, 750, 338, 131, 43, 230, 36, 452, 127, 310, 110, 188, 187, 105, 166, 256, 182, 233, 114, 160, 182, 73, 182, 313, 837, 233, 137, 215, 229, 133, 420, 228, 327, 52, 271, 125, 121, 168, 90, 69, 273, 283, 563, 114, 417, 136, 347, 171, 140, 69, 749, 517, 122, 274, 103, 176, 128, 214, 559, 121, 44, 307, 99, 379, 262, 79, 69, 583, 177, 64, 177, 275, 134, 435, 48, 536, 607, 518, 185, 145, 423, 114, 183, 193, 95, 47, 124, 295, 112, 107, 396, 112, 119, 269, 273, 278, 208, 116, 118, 114, 116, 163, 307, 128, 161, 196, 272, 310, 367, 155, 116, 157, 249, 121, 133, 162, 140, 149, 477, 357, 137, 413, 316, 138, 378, 582, 133, 184, 137, 334, 489, 121, 268, 96, 417, 74, 238, 102, 795, 311, 118, 316, 425, 137, 318, 144, 90, 602, 107, 90, 167, 148, 323, 163, 245, 422, 101, 136, 237, 388, 165, 140, 103, 112, 353, 127, 812, 109, 74, 67, 513, 221, 272, 151, 128, 136, 301, 250, 276, 199, 193, 197, 382, 125, 330, 39, 186, 65, 727, 95, 136, 133, 112, 118, 62, 482, 124, 204, 194, 154, 135, 167, 204, 110, 104, 312, 152, 105, 106, 528, 146, 113, 45, 150, 30, 237, 125, 187, 236, 198, 419, 500, 139, 150, 170, 61, 34, 335, 199, 168, 57, 113, 106, 113, 115, 363, 111, 231, 428, 75, 159, 98, 148, 102, 111, 257, 251, 161, 159, 327, 394, 154, 185, 108, 383, 70, 153, 310, 793, 138, 114, 100, 547, 815, 243, 112, 200, 151, 118, 117, 138, 392, 285, 93, 152, 165, 148, 165, 268, 114, 120, 116, 164, 45, 42, 139, 266, 101, 184, 154, 365, 129, 236, 99, 76, 131, 152, 109, 118, 163, 100, 135, 268, 109, 48, 390, 125, 347, 126, 67, 145, 244, 255, 113, 335, 208, 208, 156, 94, 128, 262, 184, 136, 134, 316, 159, 837, 173, 137, 623, 144, 136, 158, 118, 644, 322, 531, 520, 212, 374, 124, 199, 238, 411, 392, 627, 441, 387, 116, 249, 291, 111, 139, 156, 161, 123, 129, 95, 54, 184, 134, 86, 286, 169, 33, 68, 99, 110, 283, 133, 181, 630, 132, 128, 136, 199, 78, 251, 509, 119, 141, 356, 232, 438, 217, 331, 141, 86, 198, 491, 233, 230, 183, 94, 112, 525, 96, 236, 172, 132, 315, 186, 93, 261, 132, 99, 129, 428, 106, 613, 254, 287, 80, 106, 172, 201, 328, 320, 227, 127, 143, 118, 88, 61, 78, 813, 148, 290, 56, 164, 72, 143, 76, 170, 109, 280, 240, 372, 538, 237, 107, 90, 157, 254, 131, 159, 298, 121, 46, 480, 99, 75, 123, 169, 278, 54, 116, 253, 134, 306, 129, 411, 158, 212, 518, 145, 191, 169, 213, 197, 22, 306, 68, 71, 182, 168, 138, 926, 402, 45, 257, 171, 728, 91, 85, 74, 121, 175, 86, 109, 164, 498, 293, 164, 129, 50, 57, 119, 35, 141, 272, 228, 223, 274, 432, 198, 239, 107, 119, 194, 108, 147, 84, 111, 445, 126, 27, 245, 478, 144, 106, 256, 137, 182, 36, 69, 175, 82, 119, 204, 91, 405, 472, 67, 197, 308, 43, 185, 143, 588, 592, 181, 273, 217, 297, 259, 122, 98, 174, 856, 741, 247, 208, 143, 169, 79, 382, 275, 111, 162, 189, 159, 144, 142, 65, 106, 133, 175, 134, 171, 360, 92, 374, 486, 121, 203, 527, 186, 235, 178, 148, 292, 115, 234, 187, 136, 242, 243, 316, 464, 133, 282, 164, 121, 124, 219, 156, 143, 106, 224, 127, 54, 246, 188, 809, 64, 179, 126, 373, 212, 390, 186, 162, 66, 302, 104, 121, 115, 237, 671, 318, 588, 132, 182, 108, 147, 93, 66, 194, 124, 108, 164, 244, 236, 179, 105, 149, 106, 339, 234, 652, 136, 257, 133, 205, 153, 91, 206, 287, 292, 587, 156, 124, 31, 172, 168, 224, 183, 216, 130, 122, 125, 239, 110, 145, 68, 101, 303, 46, 135, 379, 103, 242, 194, 145, 49, 341, 200, 397, 119, 132, 309, 170, 221, 179, 149, 228, 78, 437, 404, 181, 338, 225, 113, 357, 162, 150, 157, 49, 262, 70, 179, 107, 177, 202, 139, 99, 177, 141, 485, 228, 101, 369, 157, 115, 193, 125, 158, 238, 76, 159, 190, 256, 396, 499, 133, 80, 257, 145, 121, 98, 78, 102, 153, 126, 115, 154, 238, 75, 48, 156, 254, 378, 193, 491, 423, 118, 311, 272, 528, 128, 389, 153, 126, 130, 60, 133, 183, 200, 58, 188, 113, 175, 160, 140, 160, 372, 122, 455, 125, 107, 190, 56, 291, 132, 563, 136, 205, 328, 150, 235, 132, 188, 87, 183, 115, 868, 298, 112, 149, 92, 322, 635, 181, 57, 169, 106, 97, 103, 155, 105, 149, 130, 265, 462, 157, 421, 119, 111, 127, 103, 95, 133, 185, 215, 232, 158, 119, 200, 113, 637, 91, 197, 39, 143, 99, 366, 340, 240, 460, 163, 589, 62, 151, 167, 123, 193, 95, 59, 102, 119, 150, 96, 127, 102, 257, 52, 640, 107, 148, 102, 359, 408, 132, 85, 78, 543, 719, 794, 187, 160, 327, 67, 62, 215, 149, 182, 128, 758, 153, 199, 154, 51, 159, 142, 173, 70, 81, 132, 257, 168, 259, 123, 303, 53, 85, 142, 511, 113, 119, 118, 52, 241, 324, 110, 106, 131, 288, 129, 145, 56, 197, 559, 139, 97, 146, 209, 127, 88, 98, 161, 295, 127, 147, 527, 101, 112, 134, 129, 118, 133, 104, 45, 109, 236, 110, 293, 143, 1007, 119, 82, 146, 95, 539, 82, 265, 202, 204, 111, 34, 170, 123, 109, 111, 685, 376, 189, 77, 64, 321, 378, 216, 227, 288, 143, 213, 110, 124, 379, 213, 185, 160, 184, 91, 71, 52, 99, 274, 146, 280, 164, 40, 110, 117, 115, 102, 260, 57, 118, 449, 442, 416, 122, 157, 237, 139, 307, 121, 240, 141, 190, 491, 395, 221, 137, 336, 214, 75, 247, 198, 46, 128, 109, 599, 41, 89, 205, 560, 147, 344, 44, 149, 128, 159, 102, 351, 177, 460, 154, 131, 200, 607, 181, 302, 109, 151, 84, 93, 109, 424, 105, 136, 225, 95, 202, 125, 176, 299, 286, 125, 437, 186, 84, 245, 118, 155, 158, 144, 75, 225, 126, 186, 115, 242, 146, 209, 180, 165, 77, 384, 232, 194, 340, 429, 262, 117, 113, 50, 140, 356, 242, 94, 495, 572, 45, 181, 328, 85, 316, 592, 234, 145, 125, 97, 151, 125, 523, 159, 120, 102, 157, 99, 469, 71, 110, 198, 65, 123, 555, 112, 173, 51, 296, 164, 264, 295, 46, 118, 188, 68, 163, 208, 376, 128, 191, 179, 144, 311, 60, 346, 112, 67, 125, 108, 128, 148, 65, 100, 1025, 547, 550, 131, 826, 833, 214, 514, 445, 106, 416, 94, 56, 89, 165, 151, 477, 393, 265, 248, 77, 248, 250, 227, 106, 301, 428, 113, 110, 680, 195, 108, 267, 174, 161, 126, 54, 245, 128, 98, 188, 88, 219, 255, 51, 503, 711, 338, 150, 624, 89, 247, 49, 298, 125, 688, 98, 129, 99, 59, 191, 257, 128, 79, 151, 95, 169, 102, 373, 93, 122, 132, 64, 375, 61, 40, 163, 355, 233, 196, 139, 574, 334, 406, 171, 180, 101, 168, 446, 118, 152, 688, 117, 381, 132, 347, 59, 106, 534, 196, 40, 92, 92, 924, 118, 131, 303, 347, 75, 847, 222, 166, 107, 242, 49, 152, 153, 202, 140, 77, 218, 147, 273, 253, 206, 499, 78, 112, 113, 219, 144, 236, 208, 437, 131, 118, 54, 169, 111, 161, 93, 143, 438, 436, 135, 150, 174, 209, 111, 95, 434, 148, 266, 76, 102, 386, 130, 228, 530, 132, 332, 127, 184, 510, 550, 174, 111, 379, 114, 220, 109, 130, 127, 206, 328, 587, 286, 395, 216, 432, 200, 192, 86, 117, 71, 285, 185, 119, 113, 541, 114, 133, 84, 122, 629, 238, 195, 421, 280, 116, 466, 358, 75, 398, 186, 144, 452, 53, 12, 78, 106, 183, 203, 246, 459, 270, 130, 156, 422, 98, 99, 92, 149, 294, 74, 108, 181, 149, 207, 121, 124, 173, 136, 146, 855, 254, 68, 152, 358, 337, 155, 85, 476, 286, 57, 317, 154, 242, 758, 169, 259, 180, 316, 149, 118, 274, 105, 303, 398, 67, 226, 225, 120, 398, 101, 180, 96, 254, 56, 136, 52, 303, 110, 148, 130, 328, 195, 276, 247, 127, 51, 113, 144, 165, 188, 61, 445, 264, 513, 135, 172, 105, 608, 493, 398, 317, 55, 304, 139, 165, 163, 29, 139, 205, 778, 131, 58, 169, 115, 140, 416, 572, 483, 47, 230, 152, 366, 87, 119, 74, 195, 184, 760, 193, 38, 265, 144, 85, 220, 136, 188, 230, 51, 411, 207, 119, 144, 139, 154, 442, 132, 112, 502, 222, 39, 133, 148, 153, 315, 198, 77, 113, 242, 128, 268, 126, 186, 30, 166, 84, 236, 249, 125, 175, 69, 87, 170, 43, 196, 121, 88, 55, 138, 456, 164, 232, 51, 281, 232, 202, 253, 141, 187, 670, 176, 283, 309, 376, 140, 110, 156, 318, 117, 202, 356, 130, 168, 271, 264, 174, 47, 208, 33, 93, 329, 81, 447, 131, 473, 190, 266, 481, 183, 74, 348, 114, 59, 242, 348, 249, 68, 129, 80, 163, 222, 128, 47, 120, 185, 62, 235, 134, 100, 170, 279, 323, 212, 613, 127, 169, 168, 164, 111, 127, 200, 529, 49, 128, 160, 132, 208, 199, 270, 245, 200, 175, 527, 176, 204, 125, 225, 109, 202, 137, 125, 59, 334, 117, 53, 123, 162, 227, 92, 106, 243, 248, 154, 118, 121, 134, 239, 622, 158, 159, 119, 108, 214, 146, 116, 149, 120, 108, 80, 280, 261, 296, 71, 882, 215, 142, 175, 127, 90, 144, 36, 147, 112, 114, 102, 178, 911, 312, 533, 334, 422, 566, 165, 155, 65, 244, 120, 109, 113, 250, 130, 271, 223, 681, 439, 278, 129, 137, 116, 159, 138, 223, 221, 22, 235, 117, 318, 192, 301, 181, 143, 218, 148, 133, 117, 140, 248, 234, 66, 131, 80, 293, 156, 106, 266, 574, 145, 258, 168, 145, 196, 48, 436, 53, 231, 417, 128, 64, 120, 84, 160, 132, 272, 92, 54, 117, 508, 112, 368, 206, 443, 350, 135, 145, 150, 201, 289, 257, 245, 265, 186, 279, 106, 446, 132, 136, 112, 601, 393, 63, 170, 47, 457, 125, 138, 121, 60, 128, 407, 140, 153, 359, 180, 334, 241, 265, 121, 105, 34, 205, 47, 248, 267, 116, 371, 359, 184, 298, 176, 244, 185, 206, 116, 206, 162, 685, 120, 104, 221, 155, 182, 127, 154, 117, 72, 197, 184, 112, 49, 95, 483, 119, 245, 33, 161, 247, 139, 49, 521, 142, 33, 147, 152, 173, 385, 120, 233, 288, 130, 284, 87, 128, 201, 64, 130, 152, 109, 275, 334, 134, 174, 261, 443, 57, 169, 336, 108, 129, 68, 86, 108, 240, 150, 55, 132, 295, 263, 132, 190, 258, 185, 145, 196, 300, 162, 140, 390, 243, 119, 125, 298, 89, 168, 173, 46, 153, 117, 134, 202, 153, 97, 149, 108, 120, 216, 323, 187, 40, 273, 64, 36, 296, 476, 113, 116, 549, 124, 201, 87, 130, 657, 127, 221, 167, 470, 146, 92, 128, 218, 216, 155, 415, 284, 149, 243, 189, 182, 178, 735, 112, 716, 134, 125, 114, 79, 105, 176, 80, 243, 74, 146, 135, 71, 377, 134, 151, 124, 270, 352, 120, 230, 299, 118, 43, 634, 1161, 278, 327, 61, 204, 164, 116, 146, 149, 97, 206, 346, 410, 159, 182, 134, 522, 131, 166, 159, 135, 145, 77, 172, 541, 227, 202, 180, 152, 149, 167, 176, 186, 223, 256, 144, 212, 287, 133, 120, 163, 137, 46, 714, 290, 246, 604, 151, 282, 493, 380, 252, 164, 62, 456, 143, 390, 88, 160, 111, 166, 308, 124, 226, 227, 337, 130, 150, 139, 400, 143, 144, 210, 123, 119, 540, 106, 279, 180, 364, 210, 510, 375, 116, 51, 52, 416, 134, 110, 577, 204, 131, 121, 294, 120, 684, 209, 157, 122, 46, 164, 69, 123, 138, 150, 476, 131, 108, 183, 542, 178, 108, 153, 134, 144, 377, 191, 49, 42, 365, 316, 43, 142, 100, 78, 108, 283, 87, 123, 31, 110, 85, 132, 312, 79, 33, 283, 146, 79, 156, 964, 120, 879, 146, 71, 201, 135, 161, 456, 266, 163, 44, 123, 144, 65, 323, 269, 140, 422, 94, 390, 228, 69, 235, 77, 92, 115, 157, 105, 446, 110, 74, 376, 250, 306, 460, 255, 149, 155, 61, 387, 154, 26, 44, 129, 142, 97, 128, 239, 96, 152, 313, 114, 285, 447, 123, 100, 566, 146, 235, 199, 267, 314, 167, 171, 135, 129, 206, 1196, 126, 227, 81, 156, 48, 134, 213, 176, 470, 123, 572, 126, 141, 670, 706, 265, 84, 69, 105, 429, 125, 193, 123, 439, 250, 149, 478, 46, 73, 110, 387, 183, 187, 363, 723, 219, 103, 49, 378, 165, 522, 196, 173, 537, 126, 290, 256, 101, 125, 217, 220, 377, 152, 77, 156, 98, 144, 660, 218, 143, 205, 187, 284, 102, 181, 109, 364, 128, 103, 290, 493, 308, 323, 176, 213, 145, 693, 153, 267, 808, 612, 192, 215, 155, 112, 284, 338, 212, 133, 179, 55, 201, 182, 121, 877, 136, 331, 74, 592, 125, 110, 130, 130, 132, 189, 67, 189, 167, 301, 495, 121, 106, 150, 222, 130, 224, 74, 149, 170, 169, 196, 464, 294, 82, 170, 119, 211, 191, 122, 110, 105, 249, 87, 268, 114, 194, 304, 136, 51, 47, 332, 136, 113, 177, 312, 240, 316, 292, 352, 123, 369, 597, 117, 516, 102, 77, 108, 61, 274, 71, 187, 159, 402, 20, 134, 42, 222, 152, 146, 434, 753, 137, 102, 400, 199, 566, 141, 206, 87, 115, 245, 417, 165, 60, 35, 136, 60, 149, 108, 42, 131, 102, 53, 445, 158, 154, 95, 455, 147, 97, 143, 136, 102, 202, 698, 100, 163, 881, 115, 577, 119, 165, 257, 124, 286, 117, 66, 160, 473, 251, 186, 743, 221, 243, 207, 381, 205, 294, 109, 116, 434, 700, 88, 141, 44, 227, 54, 118, 253, 96, 519, 229, 551, 175, 322, 658, 239, 304, 176, 199, 94, 212, 102, 149, 49, 58, 144, 122, 108, 126, 116, 123, 658, 105, 155, 79, 291, 134, 278, 149, 158, 234, 128, 279, 322, 131, 111, 37, 234, 99, 61, 128, 54, 303, 105, 190, 169, 233, 53, 320, 896, 220, 146, 158, 204, 160, 426, 138, 328, 95, 78, 241, 131, 131, 123, 169, 84, 309, 331, 150, 231, 516, 176, 293, 135, 352, 152, 73, 147, 124, 60, 46, 344, 150, 42, 324, 478, 123, 29, 497, 464, 83, 134, 126, 72, 42, 150, 133, 550, 189, 206, 118, 393, 221, 189, 136, 172, 116, 201, 113, 488, 656, 136, 193, 253, 124, 170, 164, 406, 758, 423, 321, 150, 154, 117, 841, 208, 58, 162, 222, 324, 221, 113, 143, 859, 91, 504, 91, 191, 819, 130, 125, 80, 117, 100, 107, 306, 308, 183, 123, 246, 183, 102, 177, 101, 125, 384, 376, 460, 376, 102, 456, 291, 334, 188, 173, 216, 448, 224, 77, 259, 313, 618, 504, 122, 112, 125, 471, 47, 428, 104, 37, 116, 115, 197, 41, 82, 296, 189, 188, 652, 248, 520, 149, 114, 121, 84, 163, 248, 181, 95, 186, 86, 106, 101, 125, 119, 308, 161, 611, 297, 180, 231, 139, 148, 120, 337, 239, 127, 495, 135, 119, 57, 74, 55, 365, 94, 219, 175, 186, 113, 168, 448, 125, 765, 88, 240, 205, 181, 246, 61, 134, 98, 202, 530, 394, 155, 144, 62, 142, 335, 124, 87, 121, 504, 129, 181, 166, 863, 64, 185, 145, 226, 208, 263, 122, 77, 91, 201, 24, 44, 126, 117, 201, 162, 222, 110, 408, 258, 155, 148, 34, 144, 480, 689, 147, 173, 145, 275, 191, 110, 294, 72, 142, 120, 266, 38, 42, 105, 76, 373, 415, 116, 309, 273, 115, 78, 101, 86, 131, 152, 689, 138, 130, 327, 196, 438, 121, 125, 110, 393, 546, 113, 53, 57, 272, 112, 210, 117, 222, 104, 294, 199, 172, 157, 802, 132, 118, 368, 134, 318, 463, 542, 62, 133, 124, 180, 137, 117, 110, 58, 42, 410, 79, 133, 105, 249, 260, 128, 151, 123, 669, 144, 345, 321, 191, 129, 94, 650, 109, 347, 258, 236, 588, 153, 75, 522, 86, 532, 67, 232, 165, 126, 75, 79, 310, 112, 123, 242, 76, 647, 102, 583, 146, 101, 525, 159, 171, 149, 148, 170, 78, 286, 131, 76, 171, 39, 157, 333, 91, 50, 262, 107, 136, 539, 236, 87, 408, 172, 32, 252, 165, 173, 99, 163, 179, 115, 454, 173, 378, 237, 172, 137, 381, 186, 59, 303, 194, 420, 191, 435, 311, 192, 352, 114, 156, 181, 212, 514, 90, 384, 388, 166, 47, 80, 301, 155, 112, 109, 685, 51, 142, 114, 155, 157, 115, 55, 238, 117, 134, 383, 50, 121, 278, 332, 132, 111, 39, 120, 365, 182, 73, 323, 143, 176, 528, 595, 165, 114, 239, 636, 131, 126, 677, 184, 286, 371, 70, 241, 167, 547, 218, 57, 205, 844, 137, 65, 392, 226, 319, 423, 315, 141, 322, 53, 148, 99, 252, 236, 112, 228, 115, 309, 109, 266, 56, 134, 141, 177, 133, 149, 70, 253, 286, 172, 68, 926, 212, 133, 120, 671, 483, 122, 179, 599, 119, 173, 148, 258, 162, 103, 627, 413, 47, 52, 311, 155, 61, 59, 114, 635, 464, 138, 201, 161, 92, 318, 50, 217, 158, 175, 139, 134, 169, 172, 385, 53, 125, 207, 143, 141, 192, 137, 369, 331, 422, 285, 729, 126, 181, 136, 100, 370, 1419, 61, 128, 124, 455, 165, 139, 426, 79, 539, 160, 56, 187, 64, 87, 112, 186, 190, 114, 98, 217, 203, 48, 131, 177, 188, 77, 163, 278, 430, 140, 387, 114, 103, 359, 82, 127, 142, 766, 80, 172, 249, 223, 122, 97, 450, 116, 116, 112, 113, 447, 153, 39, 54, 113, 90, 75, 72, 66, 410, 218, 163, 203, 115, 208, 232, 151, 113, 115, 134, 270, 106, 137, 239, 230, 26, 118, 250, 606, 474, 330, 223, 90, 88, 389, 64, 256, 115, 182, 146, 202, 113, 68, 114, 164, 144, 88, 132, 424, 98, 42, 326, 282, 103, 441, 74, 41, 41, 125, 105, 99, 235, 129, 60, 155, 400, 385, 95, 82, 225, 123, 188, 115, 132, 272, 362, 667, 154, 158, 155, 66, 82, 237, 167, 147, 80, 282, 141, 130, 228, 217, 686, 87, 142, 806, 256, 62, 183, 132, 691, 154, 120, 153, 190, 231, 128, 124, 105, 153, 302, 143, 127, 57, 204, 141, 486, 116, 111, 303, 55, 508, 127, 626, 280, 454, 64, 134, 693, 550, 114, 432, 239, 67, 101, 151, 342, 167, 116, 86, 88, 310, 177, 477, 268, 426, 289, 110, 218, 468, 247, 107, 286, 141, 102, 384, 442, 122, 53, 30, 267, 735, 469, 142, 427, 189, 146, 164, 203, 129, 100, 83, 154, 232, 547, 106, 218, 139, 92, 382, 178, 39, 147, 305, 458, 141, 126, 179, 295, 110, 125, 128, 308, 189, 300, 285, 168, 126, 147, 124, 545, 125, 290, 200, 242, 136, 84, 128, 36, 132, 98, 287, 160, 172, 84, 272, 326, 214, 40, 604, 186, 773, 120, 197, 132, 280, 473, 137, 314, 115, 188, 45, 110, 115, 113, 121, 105, 198, 930, 107, 550, 154, 148, 488, 387, 207, 129, 132, 140, 90, 103, 468, 55, 329, 256, 237, 346, 393, 594, 101, 256, 90, 73, 71, 147, 281, 265, 93, 141, 124, 219, 100, 145, 111, 97, 135, 466, 564, 113, 357, 57, 139, 147, 437, 416, 469, 124, 141, 177, 235, 172, 153, 176, 115, 430, 98, 129, 89, 248, 63, 362, 72, 333, 65, 138, 195, 287, 235, 464, 204, 179, 171, 94, 98, 785, 125, 110, 301, 54, 352, 117, 484, 390, 91, 154, 338, 127, 174, 461, 435, 63, 171, 279, 110, 158, 236, 148, 162, 167, 626, 74, 152, 269, 778, 264, 194, 136, 58, 154, 108, 128, 394, 209, 329, 216, 406, 111, 178, 159, 105, 62, 84, 133, 83, 472, 274, 141, 203, 122, 236, 112, 310, 72, 145, 352, 236, 105, 447, 73, 184, 67, 207, 104, 157, 421, 114, 101, 166, 686, 468, 82, 137, 223, 119, 76, 255, 128, 305, 124, 293, 298, 74, 114, 310, 314, 117, 108, 64, 126, 139, 283, 170, 106, 132, 378, 111, 707, 541, 167, 128, 201, 405, 673, 41, 149, 727, 268, 40, 121, 71, 47, 91, 234, 599, 295, 213, 193, 106, 393, 319, 410, 255, 155, 112, 120, 233, 145, 162, 318, 313, 185, 53, 403, 352, 141, 126, 277, 107, 74, 319, 293, 137, 186, 237, 341, 329, 222, 330, 205, 811, 775, 437, 184, 137, 98, 103, 126, 144, 291, 393, 180, 324, 453, 693, 126, 261, 92, 144, 268, 212, 137, 84, 239, 242, 178, 18, 178, 195, 99, 53, 101, 71, 135, 317, 207, 150, 138, 128, 278, 299, 220, 69, 166, 211, 476, 303, 140, 175, 83, 192, 114, 613, 231, 224, 113, 222, 289, 122, 115, 173, 78, 369, 114, 195, 145, 399, 432, 307, 219, 243, 205, 259, 353, 709, 48, 130, 82, 132, 115, 256, 393, 139, 146, 119, 162, 205, 213, 104, 111, 519, 147, 282, 168, 144, 128, 125, 83, 268, 591, 512, 117, 182, 238, 152, 173, 194, 220, 343, 279, 145, 224, 125, 221, 141, 57, 126, 165, 211, 237, 242, 172, 105, 386, 320, 120, 118, 118, 355, 198, 290, 106, 65, 119, 57, 42, 111, 148, 165, 148, 71, 104, 160, 239, 212, 111, 285, 170, 88, 118, 160, 168, 53, 125, 145, 122, 369, 347, 95, 433, 133, 133, 235, 92, 114, 210, 239, 101, 142, 144, 118, 142, 183, 143, 268, 114, 182, 239, 213, 177, 90, 126, 847, 150, 249, 237, 289, 222, 118, 91, 173, 105, 60, 217, 106, 265, 147, 231, 283, 733, 139, 35, 121, 148, 112, 378, 151, 226, 799, 117, 98, 151, 135, 115, 406, 127, 124, 212, 133, 148, 149, 259, 616, 103, 125, 135, 154, 375, 551, 55, 110, 177, 121, 169, 214, 817, 140, 334, 643, 135, 117, 121, 98, 27, 322, 272, 94, 258, 86, 47, 334, 91, 61, 222, 259, 117, 140, 158, 112, 121, 59, 169, 106, 596, 149, 45, 56, 165, 47, 282, 136, 156, 132, 200, 143, 28, 69, 155, 255, 307, 143, 37, 46, 372, 220, 203, 381, 259, 137, 211, 322, 127, 130, 150, 59, 42, 150, 208, 139, 40, 105, 135, 130, 145, 260, 107, 159, 96, 211, 205, 113, 173, 143, 545, 73, 135, 294, 330, 136, 563, 144, 75, 211, 608, 267, 741, 100, 37, 437, 265, 106, 80, 107, 379, 278, 423, 342, 347, 114, 226, 109, 98, 127, 221, 321, 95, 129, 360, 228, 458, 318, 179, 431, 480, 195, 119, 202, 136, 153, 482, 353, 652, 262, 631, 130, 143, 160, 109, 82, 141, 159, 541, 189, 225, 485, 150, 154, 671, 143, 271, 406, 85, 188, 126, 123, 230, 208, 201, 121, 305, 259, 591, 215, 92, 202, 198, 125, 48, 205, 158, 154, 221, 156, 134, 103, 125, 160, 483, 80, 120, 145, 51, 171, 141, 220, 140, 114, 122, 222, 175, 316, 147, 40, 170, 151, 631, 164, 237, 410, 297, 395, 183, 108, 112, 354, 166, 72, 330, 348, 114, 188, 381, 84, 289, 186, 162, 74, 419, 130, 283, 197, 465, 145, 53, 186, 111, 384, 153, 150, 133, 326, 275, 210, 111, 613, 190, 307, 140, 109, 218, 149, 61, 59, 112, 141, 615, 760, 276, 175, 219, 434, 126, 117, 438, 73, 119, 137, 250, 235, 178, 136, 154, 81, 370, 381, 158, 40, 125, 152, 374, 153, 147, 441, 191, 139, 150, 155, 138, 150, 156, 649, 348, 95, 98, 185, 222, 554, 136, 667, 226, 861, 124, 172, 222, 116, 202, 385, 346, 167, 156, 415, 216, 139, 188, 208, 118, 113, 125, 110, 245, 438, 184, 173, 137, 113, 123, 66, 123, 118, 376, 157, 131, 116, 320, 154, 209, 60, 70, 300, 138, 128, 203, 60, 143, 127, 122, 53, 507, 265, 101, 247, 720, 75, 359, 68, 153, 313, 81, 93, 117, 132, 325, 141, 477, 389, 338, 371, 417, 477, 369, 216, 161, 319, 113, 176, 155, 59, 118, 41, 168, 117, 153, 88, 104, 134, 176, 104, 107, 221, 127, 131, 73, 155, 153, 148, 141, 670, 197, 194, 40, 866, 115, 302, 53, 121, 161, 56, 143, 558, 88, 67, 305, 169, 368, 286, 421, 115, 180, 176, 113, 534, 346, 130, 292, 102, 485, 229, 185, 249, 155, 590, 145, 78, 112, 240, 245, 145, 38, 437, 191, 207, 177, 129, 131, 157, 73, 182, 528, 126, 163, 236, 262, 385, 267, 100, 67, 330, 145, 164, 421, 137, 136, 421, 185, 74, 155, 88, 148, 398, 124, 378, 122, 84, 290, 55, 142, 225, 316, 37, 127, 202, 240, 38, 163, 136, 146, 311, 478, 219, 143, 44, 297, 63, 399, 148, 131, 49, 140, 415, 299, 435, 139, 529, 404, 145, 126, 138, 156, 297, 90, 105, 72, 135, 728, 299, 71, 128, 296, 193, 106, 149, 211, 107, 254, 338, 46, 206, 165, 122, 141, 153, 75, 233, 116, 491, 296, 551, 94, 186, 58, 180, 108, 112, 399, 192, 158, 526, 183, 134, 357, 220, 132, 121, 201, 53, 185, 118, 172, 106, 142, 126, 86, 85, 106, 184, 177, 291, 118, 239, 454, 156, 163, 133, 313, 176, 39, 247, 162, 116, 332, 52, 127, 160, 388, 109, 162, 245, 428, 462, 250, 99, 72, 38, 239, 228, 148, 120, 798, 173, 830, 35, 111, 375, 131, 198, 147, 144, 78, 184, 176, 119, 198, 113, 898, 144, 41, 112, 207, 363, 161, 276, 148, 289, 311, 220, 212, 68, 162, 494, 287, 220, 55, 116, 178, 584, 156, 108, 109, 158, 215, 201, 170, 96, 213, 212, 132, 303, 32, 496, 149, 56, 107, 138, 46, 89, 55, 150, 124, 133, 109, 199, 142, 537, 481, 629, 137, 754, 43, 109, 385, 457, 120, 171, 324, 96, 556, 339, 97, 403, 102, 106, 88, 215, 214, 161, 194, 153, 221, 176, 127, 397, 316, 101, 72, 117, 233, 196, 189, 141, 108, 81, 505, 163, 184, 314, 219, 156, 165, 200, 42, 402, 152, 485, 97, 136, 102, 71, 222, 34, 129, 140, 290, 119, 361, 114, 80, 589, 701, 191, 270, 53, 91, 220, 123, 144, 62, 305, 603, 93, 209, 229, 96, 124, 46, 89, 111, 402, 677, 128, 401, 182, 97, 537, 382, 155, 256, 281, 282, 128, 181, 227, 41, 132, 110, 85, 90, 360, 132, 75, 496, 379, 67, 263, 65, 80, 257, 121, 118, 633, 59, 76, 103, 176, 159, 524, 162, 96, 173, 116, 334, 253, 436, 620, 157, 80, 108, 226, 132, 657, 342, 163, 223, 98, 155, 305, 125, 232, 127, 408, 273, 155, 477, 130, 647, 144, 152, 376, 124, 110, 678, 117, 400, 115, 488, 287, 207, 407, 189, 65, 128, 108, 377, 158, 351, 513, 228, 162, 141, 125, 142, 236, 78, 495, 96, 237, 163, 183, 139, 613, 419, 266, 283, 313, 689, 96, 111, 276, 1437, 77, 227, 132, 237, 87, 89, 242, 180, 285, 86, 169, 217, 242, 50, 70, 140, 728, 364, 151, 297, 260, 360, 132, 502, 193, 199, 260, 212, 123, 289, 479, 324, 52, 113, 116, 317, 300, 327, 409, 135, 347, 350, 194, 116, 35, 244, 141, 110, 129, 223, 223, 255, 111, 32, 617, 46, 107, 157, 132, 100, 279, 158, 357, 179, 399, 245, 110, 182, 126, 136, 159, 221, 549, 423, 107, 216, 245, 282, 116, 115, 152, 199, 211, 53, 189, 660, 175, 110, 84, 156, 205, 269, 276, 124, 230, 155, 122, 80, 107, 837, 127, 188, 269, 152, 146, 94, 148, 373, 161, 215, 136, 143, 129, 113, 109, 376, 149, 695, 195, 276, 134, 83, 112, 77, 140, 117, 102, 152, 93, 46, 419, 227, 399, 444, 128, 213, 170, 106, 358, 244, 129, 132, 86, 82, 392, 965, 534, 18, 135, 119, 845, 386, 253, 91, 119, 249, 259, 140, 160, 392, 165, 146, 131, 82, 325, 38, 42, 152, 64, 142, 120, 123, 76, 110, 513, 88, 166, 192, 120, 125, 47, 284, 867, 50, 115, 651, 113, 114, 74, 389, 214, 263, 133, 116, 288, 187, 673, 442, 120, 220, 140, 43, 137, 175, 141, 158, 109, 209, 147, 109, 206, 103, 130, 155, 73, 408, 99, 122, 159, 109, 124, 178, 190, 128, 766, 183, 356, 126, 44, 123, 122, 218, 739, 101, 181, 123, 97, 214, 174, 70, 404, 305, 49, 57, 169, 88, 430, 237, 107, 549, 139, 100, 115, 125, 108, 424, 189, 772, 171, 327, 155, 190, 47, 133, 172, 156, 269, 82, 95, 72, 81, 109, 122, 584, 177, 168, 129, 98, 586, 116, 103, 162, 212, 231, 216, 119, 433, 334, 203, 128, 152, 117, 80, 208, 107, 148, 146, 132, 304, 294, 222, 129, 262, 264, 107, 237, 65, 69, 287, 192, 110, 203, 38, 471, 141, 167, 122, 103, 121, 146, 296, 274, 308, 197, 184, 126, 94, 161, 57, 386, 393, 231, 181, 185, 134, 691, 272, 183, 72, 59, 280, 237, 637, 174, 143, 225, 534, 262, 95, 130, 460, 186, 165, 66, 197, 126, 332, 142, 76, 264, 492, 234, 267, 145, 109, 141, 118, 917, 398, 352, 119, 353, 183, 218, 422, 120, 206, 90, 372, 294, 874, 66, 170, 690, 463, 51, 62, 847, 135, 153, 454, 616, 145, 109, 95, 160, 197, 272, 140, 233, 305, 722, 305, 213, 107, 137, 273, 483, 74, 113, 40, 186, 712, 258, 111, 165, 116, 69, 277, 188, 121, 162, 172, 279, 145, 113, 44, 105, 74, 124, 131, 840, 848, 340, 71, 133, 62, 389, 45, 653, 641, 99, 127, 175, 124, 133, 150, 119, 178, 124, 226, 192, 132, 184, 614, 141, 283, 201, 118, 394, 284, 383, 147, 129, 637, 442, 117, 61, 581, 167, 149, 406, 195, 160, 115, 198, 167, 112, 232, 215, 165, 174, 175, 442, 66, 186, 122, 211, 213, 297, 133, 525, 147, 357, 244, 126, 84, 62, 116, 239, 141, 62, 488, 172, 232, 238, 157, 85, 111, 615, 68, 127, 306, 128, 295, 240, 124, 126, 285, 145, 109, 163, 48, 109, 224, 187, 351, 577, 54, 276, 144, 614, 249, 59, 400, 151, 138, 117, 159, 258, 73, 71, 269, 123, 836, 151, 182, 137, 101, 290, 233, 225, 286, 167, 177, 269, 98, 95, 140, 131, 534, 148, 126, 216, 205, 167, 120, 522, 113, 157, 865, 301, 224, 327, 473, 403, 47, 905, 104, 133, 136, 105, 590, 296, 270, 214, 495, 127, 124, 282, 199, 90, 121, 312, 110, 191, 342, 148, 176, 152, 132, 252, 95, 320, 331, 667, 145, 160, 229, 256, 616, 95, 85, 112, 133, 561, 109, 69, 111, 119, 125, 195, 126, 127, 142, 57, 169, 63, 139, 197, 105, 113, 37, 481, 530, 97, 356, 53, 338, 188, 134, 209, 35, 122, 128, 142, 137, 147, 284, 188, 127, 444, 389, 177, 124, 148, 118, 197, 360, 162, 193, 169, 719, 84, 194, 779, 108, 530, 145, 591, 196, 358, 182, 107, 71, 109, 133, 49, 119, 105, 129, 138, 206, 211, 93, 153, 134, 219, 232, 128, 22, 205, 318, 664, 141, 119, 112, 123, 86, 304, 195, 132, 226, 215, 203, 301, 229, 179, 156, 41, 237, 468, 84, 246, 367, 47, 244, 101, 223, 135, 252, 115, 110, 321, 461, 118, 189, 770, 303, 645, 72, 97, 110, 127, 113, 126, 223, 160, 185, 143, 338, 160, 82, 48, 850, 122, 87, 99, 26, 470, 627, 160, 451, 211, 145, 440, 144, 429, 120, 225, 131, 155, 99, 263, 325, 237, 128, 352, 95, 114, 205, 42, 149, 360, 141, 154, 157, 341, 397, 230, 678, 480, 104, 316, 37, 106, 224, 147, 547, 430, 301, 146, 133, 121, 167, 154, 278, 159, 144, 159, 179, 183, 207, 139, 167, 436, 458, 458, 181, 108, 74, 216, 138, 137, 111, 48, 351, 77, 159, 263, 275, 115, 360, 123, 260, 328, 112, 334, 239, 183, 159, 99, 77, 495, 243, 416, 87, 188, 334, 384, 165, 117, 451, 192, 109, 126, 157, 241, 135, 51, 259, 124, 280, 140, 292, 101, 234, 162, 187, 474, 287, 517, 104, 193, 249, 171, 222, 372, 235, 191, 86, 54, 137, 336, 97, 93, 114, 170, 134, 138, 314, 171, 125, 79, 146, 179, 132, 96, 127, 204, 112, 189, 127, 199, 168, 85, 169, 190, 422, 158, 141, 108, 395, 230, 614, 269, 276, 248, 173, 88, 113, 387, 166, 136, 196, 119, 106, 562, 151, 161, 311, 136, 150, 173, 100, 211, 258, 47, 103, 93, 160, 238, 153, 291, 185, 126, 100, 81, 70, 74, 104, 714, 273, 139, 221, 110, 280, 147, 118, 306, 253, 173, 141, 235, 352, 302, 68, 163, 144, 63, 575, 227, 595, 135, 63, 113, 150, 109, 273, 237, 359, 155, 339, 107, 157, 129, 35, 66, 353, 577, 246, 173, 203, 114, 198, 174, 135, 112, 227, 433, 224, 155, 131, 189, 145, 117, 186, 170, 268, 45, 411, 170, 137, 164, 646, 155, 393, 358, 203, 147, 119, 329, 167, 154, 156, 161, 22, 53, 24, 36, 114, 334, 218, 213, 130, 135, 53, 54, 155, 141, 146, 147, 129, 133, 351, 344, 216, 137, 38, 464, 487, 180, 370, 326, 71, 154, 112, 587, 115, 97, 142, 51, 236, 171, 221, 410, 194, 180, 220, 70, 126, 92, 138, 351, 174, 150, 136, 72, 64, 226, 10, 60, 190, 58, 110, 113, 117, 211, 512, 253, 911, 160, 197, 865, 119, 119, 136, 120, 227, 90, 157, 172, 496, 736, 131, 104, 112, 322, 78, 321, 125, 188, 432, 525, 131, 214, 247, 144, 109, 149, 148, 80, 532, 144, 233, 118, 59, 419, 78, 145, 147, 159, 688, 176, 213, 746, 96, 115, 143, 414, 179, 131, 197, 173, 879, 546, 259, 113, 324, 193, 96, 100, 199, 186, 97, 484, 237, 95, 151, 111, 144, 175, 96, 33, 50, 62, 211, 50, 46, 55, 147, 137, 30, 216, 140, 139, 167, 271, 65, 162, 147, 449, 116, 114, 118, 102, 212, 613, 362, 151, 141, 134, 160, 166, 272, 102, 78, 43, 119, 126, 60, 226, 147, 119, 130, 258, 98, 157, 368, 89, 193, 152, 144, 68, 415, 121, 765, 97, 140, 137, 139, 117, 218, 294, 149, 800, 113, 386, 426, 171, 180, 135, 382, 117, 125, 121, 301, 50, 123, 197, 583, 115, 160, 99, 199, 62, 100, 262, 100, 217, 541, 271, 219, 58, 193, 208, 349, 478, 75, 353, 73, 113, 418, 313, 210, 157, 123, 98, 127, 197, 227, 341, 138, 149, 122, 124, 295, 116, 58, 173, 86, 118, 136, 122, 134, 133, 162, 125, 111, 118, 42, 545, 222, 609, 199, 104, 179, 204, 134, 205, 139, 152, 86, 40, 71, 524, 111, 272, 429, 78, 170, 136, 208, 531, 145, 320, 126, 220, 56, 53, 82, 802, 283, 304, 127, 216, 228, 182, 169, 177, 317, 125, 219, 218, 67, 150, 600, 347, 393, 140, 157, 158, 89, 138, 130, 246, 539, 110, 109, 170, 155, 172, 121, 43, 132, 292, 142, 123, 167, 442, 123, 719, 298, 764, 427, 230, 128, 135, 53, 202, 203, 379, 259, 204, 272, 339, 181, 62, 839, 263, 96, 85, 113, 155, 46, 114, 207, 69, 123, 365, 115, 42, 602, 78, 117, 144, 100, 569, 472, 427, 322, 276, 170, 362, 251, 286, 114, 221, 282, 122, 348, 103, 149, 138, 186, 36, 136, 362, 255, 291, 188, 242, 142, 69, 159, 440, 114, 227, 39, 71, 85, 344, 280, 115, 165, 184, 555, 96, 55, 139, 294, 121, 387, 122, 225, 183, 79, 428, 51, 194, 127, 125, 501, 388, 134, 41, 227, 119, 166, 281, 73, 489, 149, 368, 207, 486, 136, 446, 135, 191, 143, 101, 120, 139, 129, 213, 227, 173, 140, 105, 690, 166, 230, 126, 645, 134, 885, 186, 405, 130, 207, 149, 229, 114, 263, 298, 525, 63, 83, 138, 73, 128, 434, 120, 229, 142, 381, 151, 361, 752, 47, 67, 180, 147, 85, 49, 112, 118, 425, 207, 143, 144, 296, 102, 107, 185, 240, 466, 198, 141, 762, 325, 47, 179, 187, 149, 121, 60, 97, 228, 162, 157, 175, 161, 189, 40, 389, 211, 121, 154, 96, 126, 279, 432, 131, 30, 148, 170, 241, 210, 125, 111, 299, 86, 149, 239, 152, 129, 58, 305, 413, 205, 152, 170, 117, 339, 163, 242, 311, 116, 95, 44, 213, 163, 125, 226, 145, 247, 107, 489, 180, 195, 173, 221, 157, 103, 113, 36, 366, 164, 102, 91, 202, 282, 137, 117, 232, 345, 433, 107, 128, 226, 324, 186, 324, 333, 186, 163, 102, 120, 137, 239, 154, 196, 128, 254, 117, 152, 80, 98, 103, 69, 240, 232, 32, 432, 59, 181, 102, 51, 241, 75, 129, 107, 119, 82, 472, 422, 81, 146, 68, 148, 200, 177, 125, 134, 160, 215, 289, 201, 356, 152, 113, 160, 160, 98, 198, 110, 65, 33, 184, 128, 245, 184, 312, 468, 135, 55, 114, 241, 130, 55, 128, 196, 553, 218, 91, 124, 326, 403, 61, 90, 93, 116, 125, 293, 356, 310, 82, 410, 187, 183, 460, 37, 323, 112, 327, 452, 110, 87, 141, 229, 228, 142, 133, 242, 44, 159, 276, 123, 184, 305, 259, 892, 552, 131, 409, 67, 109, 138, 162, 173, 131, 256, 184, 193, 513, 125, 292, 199, 88, 298, 156, 913, 507, 187, 161, 59, 64, 215, 226, 72, 140, 149, 155, 137, 515, 270, 661, 135, 115, 98, 323, 78, 156, 1157, 86, 262, 129, 67, 110, 97, 54, 196, 228, 68, 298, 105, 113, 136, 127, 223, 1962, 560, 56, 110, 46, 189, 498, 182, 150, 137, 173, 365, 204, 330, 146, 96, 349, 104, 181, 119, 653, 176, 498, 119, 243, 286, 145, 117, 136, 25, 48, 106, 158, 122, 217, 135, 366, 377, 135, 132, 207, 113, 99, 160, 75, 134, 39, 264, 150, 457, 137, 231, 603, 208, 402, 279, 59, 140, 204, 367, 125, 48, 133, 464, 350, 75, 106, 136, 372, 152, 184, 308, 538, 83, 594, 200, 222, 134, 237, 238, 74, 188, 91, 239, 326, 221, 528, 285, 494, 145, 124, 201, 178, 141, 59, 509, 370, 315, 254, 355, 819, 103, 59, 185, 292, 139, 381, 268, 185, 132, 165, 130, 191, 116, 211, 308, 211, 389, 61, 87, 184, 142, 834, 125, 185, 337, 55, 75, 178, 100, 156, 534, 138, 114, 116, 57, 158, 711, 216, 241, 211, 128, 116, 673, 312, 128, 40, 105, 69, 563, 694, 123, 139, 118, 161, 119, 135, 137, 38, 408, 188, 104, 121, 118, 235, 202, 185, 263, 248, 87, 181, 166, 95, 201, 434, 68, 532, 146, 174, 329, 128, 131, 101, 115, 182, 77, 255, 169, 118, 379, 185, 262, 175, 284, 57, 182, 176, 169, 119, 187, 210, 62, 168, 116, 160, 407, 240, 203, 149, 184, 217, 267, 107, 154, 43, 41, 131, 198, 288, 167, 43, 77, 312, 40, 139, 100, 142, 345, 132, 99, 162, 379, 306, 445, 55, 52, 204, 146, 127, 305, 53, 141, 107, 158, 183, 112, 246, 105, 138, 161, 111, 262, 248, 62, 109, 67, 552, 136, 47, 128, 111, 270, 590, 758, 154, 141, 172, 288, 119, 117, 174, 90, 148, 279, 208, 154, 501, 369, 373, 173, 138, 207, 114, 205, 573, 194, 222, 464, 111, 139, 170, 106, 467, 100, 436, 38, 238, 147, 152, 38, 143, 113, 182, 101, 157, 575, 146, 681, 218, 224, 210, 117, 225, 64, 264, 153, 55, 460, 73, 128, 235, 81, 552, 430, 332, 46, 175, 171, 207, 314, 185, 71, 151, 579, 69, 441, 156, 105, 677, 153, 369, 72, 134, 55, 492, 585, 66, 153, 344, 206, 120, 145, 100, 114, 126, 124, 482, 275, 110, 189, 171, 129, 389, 123, 241, 110, 67, 270, 124, 65, 57, 145, 151, 181, 227, 301, 247, 94, 114, 35, 269, 223, 142, 401, 229, 220, 218, 120, 253, 140, 82, 120, 49, 36, 359, 77, 262, 136, 76, 117, 173, 129, 82, 144, 150, 140, 147, 517, 259, 70, 145, 133, 162, 104, 387, 341, 214, 51, 282, 175, 274, 130, 269, 96, 156, 298, 73, 149, 62, 303, 201, 457, 123, 84, 451, 201, 252, 85, 145, 269, 144, 323, 46, 138, 224, 599, 285, 278, 107, 102, 517, 175, 190, 362, 116, 136, 179, 157, 124, 38, 141, 194, 36, 52, 126, 224, 221, 56, 468, 298, 276, 319, 270, 872, 132, 669, 169, 180, 29, 127, 343, 346, 78, 167, 107, 123, 61, 180, 148, 132, 118, 350, 339, 103, 123, 59, 147, 204, 106, 202, 91, 129, 146, 255, 415, 152, 286, 548, 567, 53, 177, 193, 389, 173, 111, 138, 167, 503, 574, 170, 325, 250, 94, 131, 276, 115, 315, 201, 403, 99, 184, 68, 224, 112, 189, 337, 43, 332, 117, 74, 107, 154, 230, 191, 196, 491, 170, 347, 254, 673, 170, 113, 101, 113, 541, 178, 143, 178, 118, 90, 188, 243, 96, 144, 277, 115, 228, 105, 136, 168, 479, 44, 507, 201, 134, 130, 411, 106, 334, 86, 158, 353, 282, 79, 529, 126, 273, 184, 173, 135, 738, 119, 662, 51, 182, 762, 150, 120, 173, 187, 133, 533, 118, 159, 411, 474, 95, 165, 229, 153, 684, 188, 629, 165, 884, 50, 55, 139, 124, 43, 110, 87, 147, 113, 282, 268, 511, 51, 118, 128, 134, 199, 62, 169, 620, 144, 115, 311, 120, 220, 326, 110, 230, 132, 148, 312, 123, 114, 33, 321, 46, 309, 189, 112, 239, 72, 96, 157, 472, 882, 128, 121, 113, 63, 18, 98, 170, 126, 591, 130, 216, 193, 77, 112, 150, 134, 102, 358, 45, 137, 212, 37, 106, 127, 92, 127, 151, 128, 182, 837, 359, 150, 91, 105, 138, 862, 187, 109, 114, 291, 150, 126, 107, 102, 48, 268, 38, 143, 223, 131, 173, 227, 53, 128, 48, 116, 692, 728, 110, 356, 359, 145, 522, 37, 200, 101, 305, 101, 123, 123, 43, 242, 87, 619, 202, 154, 121, 168, 91, 865, 125, 414, 157, 454, 91, 116, 151, 142, 151, 205, 579, 193, 114, 104, 171, 128, 257, 300, 237, 116, 331, 313, 144, 382, 112, 39, 189, 337, 203, 113, 118, 28, 116, 108, 119, 351, 443, 298, 72, 195, 405, 167, 199, 206, 268, 131, 188, 89, 111, 93, 148, 544, 274, 398, 100, 113, 240, 534, 309, 105, 118, 127, 44, 162, 115, 523, 149, 126, 492, 101, 124, 146, 166, 287, 183, 155, 25, 62, 257, 390, 214, 302, 185, 214, 67, 121, 417, 185, 234, 298, 216, 155, 62, 86, 116, 330, 256, 43, 57, 321, 410, 869, 76, 271, 264, 165, 252, 831, 220, 162, 46, 151, 767, 54, 202, 68, 186, 124, 123, 258, 97, 140, 620, 292, 347, 206, 269, 255, 129, 146, 342, 58, 839, 218, 43, 124, 185, 145, 306, 123, 143, 79, 194, 159, 354, 182, 330, 136, 162, 272, 274, 223, 156, 797, 387, 271, 138, 57, 205, 152, 117, 627, 153, 115, 206, 150, 466, 81, 207, 118, 141, 327, 197, 98, 113, 360, 126, 54, 54, 80, 63, 122, 124, 41, 415, 248, 128, 141, 263, 860, 113, 148, 153, 127, 571, 141, 151, 475, 181, 198, 223, 48, 117, 100, 691, 420, 114, 117, 138, 399, 479, 119, 178, 116, 140, 121, 139, 647, 115, 132, 145, 201, 118, 185, 156, 161, 192, 181, 140, 127, 44, 319, 59, 430, 99, 165, 145, 220, 152, 55, 546, 595, 569, 410, 52, 199, 190, 191, 92, 117, 278, 329, 157, 33, 136, 41, 173, 282, 144, 259, 136, 260, 148, 452, 153, 118, 592, 32, 125, 330, 163, 248, 171, 206, 146, 109, 558, 151, 378, 327, 325, 158, 465, 250, 220, 153, 208, 217, 120, 225, 121, 910, 61, 94, 135, 128, 93, 210, 248, 102, 281, 222, 353, 149, 99, 226, 265, 113, 255, 136, 39, 143, 211, 67, 202, 495, 40, 108, 91, 251, 165, 124, 249, 156, 118, 167, 39, 130, 418, 122, 128, 231, 124, 178, 220, 43, 276, 48, 82, 84, 66, 109, 182, 172, 409, 227, 167, 107, 206, 374, 411, 27, 394, 151, 738, 49, 229, 67, 54, 179, 207, 802, 108, 216, 118, 218, 230, 85, 66, 106, 131, 86, 449, 149, 136, 183, 119, 183, 171, 192, 265, 182, 374, 158, 145, 66, 125, 183, 161, 125, 67, 113, 154, 113, 515, 158, 587, 164, 284, 127, 123, 503, 357, 24, 87, 158, 427, 129, 183, 316, 172, 489, 352, 370, 260, 149, 117, 58, 122, 335, 187, 317, 319, 703, 222, 266, 256, 316, 294, 217, 282, 196, 320, 140, 113, 68, 142, 125, 157, 93, 843, 125, 296, 67, 357, 454, 116, 327, 175, 280, 235, 71, 57, 226, 416, 134, 111, 139, 220, 127, 416, 107, 89, 211, 146, 232, 387, 134, 108, 212, 551, 238, 203, 119, 281, 68, 354, 54, 125, 85, 118, 107, 195, 204, 268, 310, 109, 757, 224, 218, 199, 308, 217, 70, 105, 206, 44, 74, 298, 122, 448, 134, 116, 189, 157, 263, 137, 394, 112, 259, 201, 86, 185, 884, 105, 134, 213, 406, 160, 134, 405, 157, 224, 127, 860, 146, 192, 134, 121, 61, 238, 136, 107, 161, 99, 160, 136, 215, 469, 59, 145, 175, 201, 268, 217, 37, 112, 244, 135, 49, 133, 642, 266, 148, 427, 292, 135, 244, 103, 53, 125, 99, 232, 543, 98, 47, 253, 130, 114, 114, 190, 202, 300, 46, 121, 73, 102, 79, 318, 209, 83, 614, 78, 208, 348, 132, 120, 98, 109, 163, 160, 128, 305, 267, 364, 129, 111, 57, 111, 282, 354, 259, 164, 522, 101, 394, 441, 238, 158, 157, 185, 206, 123, 137, 265, 104, 123, 134, 137, 145, 110, 257, 239, 80, 538, 352, 123, 67, 170, 327, 751, 230, 224, 147, 300, 375, 249, 89, 154, 54, 916, 108, 95, 43, 140, 161, 119, 52, 251, 149, 118, 187, 117, 128, 271, 200, 1301, 487, 102, 273, 161, 172, 254, 259, 104, 311, 182, 48, 493, 590, 143, 230, 155, 123, 138, 107, 144, 428, 37, 116, 517, 400, 52, 86, 180, 48, 266, 140, 148, 113, 48, 153, 378, 221, 222, 324, 158, 325, 189, 205, 148, 131, 405, 274, 139, 95, 293, 525, 102, 275, 325, 73, 201, 97, 72, 511, 142, 206, 98, 694, 563, 359, 130, 120, 383, 568, 227, 167, 138, 720, 242, 100, 295, 293, 46, 198, 179, 180, 177, 223, 107, 134, 135, 59, 195, 69, 131, 110, 525, 269, 203, 261, 164, 197, 44, 577, 115, 120, 127, 71, 502, 115, 82, 97, 204, 491, 129, 101, 58, 364, 56, 245, 245, 116, 142, 206, 146, 353, 176, 130, 114, 208, 381, 256, 127, 152, 140, 382, 102, 415, 271, 273, 171, 33, 55, 53, 105, 152, 142, 201, 235, 128, 67, 91, 60, 128, 115, 181, 203, 307, 241, 161, 99, 253, 97, 85, 193, 143, 896, 134, 141, 178, 135, 255, 129, 147, 289, 51, 110, 105, 105, 193, 166, 291, 183, 120, 297, 138, 146, 247, 100, 180, 202, 29, 189, 107, 116, 102, 236, 349, 281, 135, 124, 636, 213, 118, 126, 217, 129, 31, 96, 277, 241, 100, 154, 162, 157, 92, 919, 804, 595, 147, 103, 626, 120, 54, 154, 121, 189, 181, 307, 342, 269, 173, 85, 116, 97, 89, 45, 111, 361, 474, 446, 78, 107, 111, 176, 225, 144, 104, 120, 174, 160, 336, 132, 97, 106, 102, 168, 124, 135, 103, 221, 505, 50, 137, 215, 163, 188, 257, 323, 54, 869, 219, 179, 59, 178, 807, 215, 229, 153, 137, 112, 196, 132, 127, 114, 120, 377, 202, 710, 62, 320, 131, 68, 192, 120, 177, 663, 186, 222, 122, 194, 562, 358, 128, 122, 581, 463, 709, 830, 170, 195, 211, 124, 267, 297, 254, 78, 242, 148, 160, 376, 89, 242, 276, 77, 143, 207, 440, 167, 75, 200, 108, 242, 89, 129, 116, 40, 40, 134, 56, 226, 67, 91, 128, 138, 129, 81, 136, 101, 203, 68, 184, 113, 218, 102, 552, 139, 447, 177, 300, 398, 473, 49, 139, 183, 100, 339, 120, 184, 621, 139, 453, 212, 427, 279, 171, 124, 263, 159, 560, 366, 249, 134, 265, 117, 114, 274, 345, 201, 122, 139, 201, 430, 123, 95, 364, 249, 274, 158, 335, 465, 140, 107, 111, 66, 52, 132, 301, 213, 470, 59, 129, 341, 790, 134, 407, 208, 121, 151, 144, 173, 210, 119, 169, 400, 391, 117, 165, 261, 288, 127, 214, 205, 664, 206, 118, 259, 588, 113, 100, 327, 114, 79, 78, 157, 367, 461, 52, 107, 369, 96, 283, 261, 440, 69, 33, 173, 136, 167, 106, 204, 283, 133, 332, 408, 571, 184, 146, 106, 155, 125, 127, 204, 208, 119, 439, 277, 204, 298, 92, 406, 72, 262, 39, 142, 163, 266, 182, 134, 83, 42, 119, 386, 148, 124, 138, 281, 129, 333, 431, 405, 308, 103, 116, 175, 128, 352, 326, 146, 792, 99, 119, 161, 374, 142, 183, 85, 91, 109, 835, 548, 176, 144, 628, 85, 121, 190, 232, 130, 130, 456, 115, 149, 528, 486, 115, 211, 75, 116, 48, 116, 250, 274, 147, 89, 73, 169, 81, 183, 90, 33, 77, 290, 891, 228, 356, 379, 416, 118, 106, 29, 243, 41, 192, 453, 51, 320, 128, 132, 419, 182, 256, 111, 319, 186, 607, 246, 140, 892, 685, 720, 125, 176, 144, 134, 194, 164, 133, 38, 140, 48, 128, 427, 176, 288, 112, 458, 169, 57, 68, 117, 281, 99, 193, 162, 221, 145, 237, 118, 335, 698, 424, 107, 109, 165, 111, 227, 365, 276, 151, 452, 165, 294, 68, 180, 86, 111, 384, 161, 147, 134, 185, 95, 143, 181, 370, 1651, 117, 81, 162, 41, 512, 221, 43, 159, 111, 225, 109, 84, 142, 610, 157, 28, 144, 176, 295, 184, 78, 35, 82, 86, 40, 145, 128, 82, 623, 41, 98, 372, 145, 276, 289, 74, 226, 177, 163, 138, 138, 144, 143, 115, 208, 113, 78, 78, 263, 142, 243, 273, 377, 147, 126, 95, 98, 110, 624, 141, 119, 269, 116, 159, 124, 162, 190, 256, 227, 180, 162, 124, 535, 58, 251, 289, 372, 304, 265, 121, 161, 101, 261, 47, 371, 287, 653, 660, 52, 238, 432, 311, 328, 141, 110, 167, 183, 341, 96, 130, 181, 85, 185, 185, 268, 214, 143, 507, 114, 76, 519, 234, 115, 255, 289, 112, 149, 754, 57, 416, 157, 409, 272, 133, 190, 158, 79, 557, 391, 49, 93, 162, 227, 751, 400, 285, 114, 298, 176, 161, 154, 543, 270, 141, 270, 111, 765, 606, 415, 325, 149, 337, 443, 36, 247, 210, 130, 187, 128, 137, 300, 224, 113, 117, 168, 221, 252, 62, 191, 69, 547, 136, 125, 115, 489, 71, 266, 314, 88, 59, 139, 108, 113, 196, 110, 282, 241, 106, 881, 137, 124, 217, 245, 118, 82, 92, 257, 120, 291, 460, 134, 109, 123, 61, 162, 192, 155, 845, 192, 153, 238, 299, 36, 232, 221, 276, 136, 187, 135, 166, 189, 429, 422, 97, 138, 96, 133, 166, 126, 106, 267, 47, 294, 116, 108, 138, 180, 356, 152, 416, 185, 260, 151, 359, 319, 53, 279, 231, 162, 125, 51, 183, 152, 150, 131, 563, 132, 114, 317, 400, 116, 134, 385, 133, 334, 102, 560, 130, 39, 731, 330, 135, 107, 175, 108, 128, 60, 121, 192, 248, 229, 327, 53, 176, 230, 174, 133, 131, 322, 86, 134, 372, 351, 128, 115, 108, 375, 140, 388, 314, 205, 404, 218, 475, 231, 251, 224, 250, 52, 116, 740, 591, 189, 134, 265, 239, 146, 165, 306, 102, 155, 201, 341, 174, 132, 288, 352, 147, 124, 735, 146, 573, 359, 152, 137, 644, 100, 527, 213, 168, 371, 183, 119, 117, 188, 148, 112, 617, 906, 272, 147, 299, 317, 872, 403, 180, 171, 123, 156, 225, 145, 201, 206, 131, 226, 103, 29, 116, 469, 42, 101, 156, 63, 162, 73, 119, 196, 376, 108, 147, 118, 115, 60, 226, 246, 256, 162, 462, 166, 177, 185, 84, 124, 99, 145, 50, 50, 166, 117, 208, 505, 112, 125, 149, 104, 124, 385, 404, 124, 228, 246, 123, 208, 252, 148, 181, 76, 119, 864, 468, 87, 335, 310, 346, 368, 97, 214, 101, 93, 37, 220, 153, 257, 171, 108, 151, 332, 264, 328, 101, 121, 148, 38, 62, 116, 105, 92, 98, 393, 139, 47, 278, 176, 136, 160, 220, 130, 189, 340, 322, 34, 139, 456, 441, 257, 226, 201, 98, 110, 213, 147, 144, 171, 250, 83, 58, 351, 104, 147, 283, 366, 99, 334, 93, 168, 63, 124, 97, 346, 167, 201, 163, 327, 97, 299, 151, 175, 112, 130, 94, 221, 138, 200, 268, 143, 93, 123, 681, 314, 221, 175, 142, 38, 247, 149, 111, 90, 217, 215, 77, 201, 353, 147, 357, 403, 129, 202, 149, 206, 146, 147, 129, 247, 900, 194, 267, 480, 103, 211, 118, 124, 349, 157, 141, 148, 59, 125, 110, 85, 169, 148, 475, 84, 518, 42, 59, 94, 121, 125, 213, 382, 97, 173, 160, 160, 457, 93, 131, 253, 145, 107, 311, 139, 162, 225, 94, 99, 49, 64, 202, 213, 131, 161, 682, 89, 124, 215, 143, 212, 127, 127, 261, 328, 187, 390, 116, 184, 127, 195, 52, 95, 609, 195, 113, 80, 121, 154, 33, 327, 171, 136, 152, 215, 144, 143, 89, 108, 161, 143, 113, 301, 273, 566, 309, 50, 190, 131, 80, 121, 302, 193, 54, 144, 110, 147, 211, 290, 148, 233, 163, 96, 117, 168, 201, 111, 238, 195, 50, 108, 253, 535, 107, 212, 370, 134, 162, 219, 455, 110, 84, 282, 124, 225, 383, 147, 41, 79, 119, 175, 283, 117, 78, 290, 452, 256, 218, 111, 184, 314, 149, 216, 149, 297, 125, 267, 217, 155, 295, 211, 128, 125, 63, 145, 104, 269, 204, 183, 486, 89, 351, 85, 133, 135, 153, 271, 149, 347, 710, 106, 402, 110, 211, 125, 291, 268, 886, 93, 193, 100, 168, 155, 119, 246, 624, 79, 112, 129, 117, 119, 75, 206, 919, 101, 101, 116, 94, 88, 52, 290, 700, 454, 148, 81, 129, 738, 402, 147, 60, 122, 190, 545, 592, 562, 526, 117, 91, 106, 642, 139, 214, 213, 151, 57, 339, 185, 136, 139, 613, 179, 121, 114, 122, 221, 202, 168, 73, 74, 141, 54, 559, 352, 895, 168, 207, 225, 133, 828, 135, 184, 99, 163, 221, 328, 82, 460, 249, 293, 129, 443, 474, 400, 126, 93, 288, 160, 122, 239, 57, 174, 262, 963, 54, 557, 203, 788, 95, 149, 545, 127, 306, 179, 756, 93, 137, 200, 71, 605, 114, 114, 498, 394, 117, 186, 730, 198, 296, 328, 359, 254, 89, 267, 188, 276, 309, 43, 62, 284, 243, 306, 109, 136, 81, 332, 272, 194, 41, 128, 157, 218, 246, 114, 90, 168, 97, 349, 65, 167, 188, 340, 77, 148, 127, 552, 307, 214, 185, 184, 896, 145, 156, 246, 141, 134, 141, 351, 100, 52, 154, 176, 185, 454, 191, 120, 585, 702, 117, 275, 461, 304, 189, 244, 232, 554, 104, 53, 240, 800, 172, 85, 126, 318, 185, 130, 361, 617, 264, 129, 141, 52, 552, 299, 179, 317, 118, 170, 826, 131, 149, 64, 101, 99, 156, 459, 132, 77, 55, 233, 131, 150, 118, 218, 177, 194, 488, 181, 120, 264, 128, 125, 192, 66, 109, 113, 131, 362, 62, 365, 145, 553, 108, 74, 751, 97, 242, 792, 135, 52, 176, 212, 303, 87, 225, 116, 113, 344, 201, 254, 395, 134, 117, 166, 104, 180, 144, 55, 165, 225, 360, 64, 339, 75, 151, 181, 276, 116, 824, 167, 110, 115, 278, 71, 240, 585, 82, 124, 154, 249, 169, 117, 111, 190, 540, 229, 157, 247, 138, 176, 323, 101, 93, 307, 116, 160, 331, 185, 128, 112, 432, 406, 133, 525, 199, 142, 103, 333, 456, 304, 230, 202, 146, 162, 142, 136, 114, 98, 249, 122, 195, 176, 100, 157, 72, 188, 192, 292, 154, 141, 115, 125, 133, 117, 557, 112, 199, 116, 344, 132, 44, 230, 159, 211, 282, 1563, 118, 175, 50, 223, 206, 148, 681, 226, 225, 164, 151, 66, 80, 243, 148, 157, 41, 61, 194, 137, 282, 112, 205, 358, 137, 98, 152, 109, 165, 127, 387, 60, 38, 120, 190, 140, 87, 196, 147, 158, 324, 429, 125, 234, 159, 190, 192, 218, 556, 519, 142, 219, 119, 143, 299, 192, 465, 137, 153, 114, 134, 261, 51, 170, 51, 109, 574, 555, 217, 370, 179, 168, 226, 188, 496, 206, 197, 141, 324, 232, 334, 341, 32, 112, 148, 206, 171, 179, 66, 106, 113, 142, 119, 114, 136, 232, 614, 138, 112, 68, 542, 338, 138, 217, 109, 151, 323, 118, 106, 64, 163, 185, 78, 344, 327, 127, 205, 104, 308, 409, 69, 117, 479, 123, 306, 103, 49, 153, 185, 56, 111, 111, 166, 63, 262, 64, 260, 506, 368, 101, 249, 124, 750, 119, 211, 191, 138, 251, 95, 199, 93, 125, 159, 234, 115, 230, 192, 143, 99, 107, 273, 101, 67, 192, 229, 137, 179, 285, 100, 114, 565, 195, 188, 267, 144, 127, 388, 155, 328, 105, 117, 61, 53, 160, 71, 128, 158, 576, 155, 144, 481, 567, 314, 110, 122, 119, 127, 138, 198, 118, 140, 74, 556, 135, 129, 265, 114, 43, 143, 175, 263, 444, 275, 193, 304, 73, 250, 266, 107, 31, 180, 72, 519, 101, 158, 185, 151, 384, 190, 285, 639, 252, 227, 135, 249, 251, 108, 114, 248, 173, 116, 263, 253, 811, 179, 408, 127, 198, 139, 140, 124, 115, 244, 40, 115, 531, 117, 115, 123, 128, 233, 366, 168, 293, 113, 135, 585, 105, 99, 513, 497, 177, 197, 259, 232, 406, 120, 138, 49, 66, 119, 201, 149, 488, 103, 143, 159, 65, 504, 261, 416, 160, 82, 183, 53, 359, 173, 206, 360, 74, 155, 350, 381, 291, 245, 173, 56, 341, 142, 114, 325, 247, 393, 174, 288, 100, 168, 210, 577, 116, 112, 163, 88, 331, 399, 101, 193, 121, 98, 172, 28, 252, 100, 259, 123, 212, 270, 729, 154, 421, 80, 112, 208, 246, 183, 136, 261, 204, 62, 125, 280, 193, 77, 131, 149, 200, 152, 385, 210, 184, 221, 401, 273, 296, 215, 80, 313, 114, 209, 207, 380, 253, 94, 70, 149, 408, 168, 383, 127, 352, 203, 127, 137, 149, 165, 131, 300, 222, 334, 213, 327, 35, 292, 61, 37, 117, 244, 439, 361, 104, 190, 353, 376, 376, 89, 102, 165, 144, 184, 132, 113, 119, 217, 125, 44, 216, 108, 220, 131, 137, 203, 63, 37, 242, 280, 85, 179, 135, 155, 98, 113, 59, 118, 483, 72, 54, 408, 145, 80, 751, 85, 216, 775, 389, 333, 112, 834, 196, 245, 497, 52, 118, 161, 384, 126, 351, 125, 154, 97, 136, 528, 117, 367, 530, 288, 371, 327, 285, 107, 262, 112, 352, 184, 151, 116, 112, 558, 284, 169, 184, 125, 103, 128, 120, 163, 403, 219, 425, 337, 120, 110, 258, 253, 64, 110, 114, 73, 112, 91, 104, 62, 140, 264, 257, 95, 396, 36, 192, 226, 88, 128, 416, 293, 73, 172, 134, 97, 270, 510, 128, 235, 233, 134, 666, 96, 127, 79, 112, 391, 125, 112, 130, 347, 114, 104, 163, 121, 53, 120, 68, 79, 97, 45, 300, 627, 92, 480, 368, 130, 196, 188, 222, 306, 191, 169, 153, 114, 95, 311, 113, 123, 45, 279, 158, 562, 105, 185, 167, 119, 210, 409, 168, 76, 179, 160, 141, 338, 195, 91, 76, 150, 75, 168, 171, 220, 365, 96, 268, 64, 57, 166, 218, 142, 153, 176, 167, 524, 143, 129, 394, 131, 116, 164, 127, 149, 455, 132, 181, 179, 232, 101, 459, 300, 105, 214, 114, 237, 93, 123, 156, 105, 109, 115, 485, 507, 175, 844, 149, 186, 146, 287, 605, 140, 206, 93, 290, 154, 245, 288, 144, 281, 256, 147, 145, 654, 337, 90, 141, 116, 373, 552, 239, 126, 221, 66, 111, 120, 450, 319, 428, 224, 360, 48, 401, 139, 190, 313, 207, 295, 851, 261, 188, 186, 574, 403, 179, 42, 196, 219, 64, 113, 168, 406, 235, 219, 310, 58, 333, 347, 137, 45, 58, 294, 207, 79, 105, 279, 142, 618, 59, 128, 160, 122, 109, 198, 150, 125, 201, 250, 116, 158, 564, 281, 200, 106, 133, 165, 967, 155, 279, 140, 164, 136, 96, 135, 431, 600, 226, 221, 381, 106, 88, 37, 192, 174, 149, 116, 213, 208, 189, 435, 227, 76, 572, 31, 911, 226, 618, 125, 149, 111, 141, 204, 136, 137, 300, 93, 327, 90, 117, 116, 177, 101, 144, 135, 409, 102, 121, 210, 256, 181, 115, 408, 162, 163, 381, 410, 81, 133, 463, 187, 558, 383, 116, 378, 132, 174, 154, 487, 91, 74, 55, 116, 152, 123, 257, 618, 693, 122, 111, 352, 290, 251, 187, 181, 108, 71, 182, 422, 176, 782, 328, 256, 190, 162, 114, 116, 113, 52, 59, 299, 415, 176, 190, 162, 123, 159, 127, 1109, 154, 304, 100, 161, 141, 301, 100, 221, 179, 390, 112, 158, 78, 98, 387, 55, 269, 213, 812, 56, 306, 122, 143, 111, 141, 122, 155, 1000, 120, 128, 512, 335, 157, 39, 123, 141, 112, 151, 103, 237, 119, 197, 200, 141, 78, 119, 140, 58, 54, 153, 118, 136, 129, 407, 209, 268, 164, 295, 251, 81, 90, 63, 387, 154, 213, 254, 307, 153, 216, 193, 102, 274, 141, 194, 149, 255, 98, 88, 117, 121, 369, 308, 168, 440, 132, 545, 163, 513, 128, 56, 319, 634, 267, 172, 158, 197, 143, 371, 91, 151, 276, 119, 103, 323, 96, 212, 344, 167, 274, 119, 43, 118, 170, 201, 90, 175, 112, 111, 133, 148, 243, 144, 125, 124, 246, 689, 292, 122, 295, 112, 261, 545, 167, 219, 67, 82, 140, 173, 121, 160, 134, 602, 170, 234, 564, 232, 323, 218, 84, 122, 166, 356, 192, 392, 215, 806, 167, 126, 125, 99, 356, 47, 131, 61, 180, 456, 188, 87, 203, 680, 42, 439, 146, 159, 118, 62, 189, 125, 255, 140, 105, 85, 393, 208, 179, 149, 145, 204, 176, 150, 69, 467, 354, 50, 242, 361, 271, 107, 134, 108, 68, 127, 52, 336, 382, 133, 244, 49, 146, 46, 154, 207, 665, 813, 140, 274, 166, 131, 132, 119, 77, 133, 120, 155, 408, 143, 128, 256, 102, 115, 145, 169, 334, 127, 72, 111, 228, 107, 112, 90, 159, 153, 257, 46, 113, 457, 162, 141, 229, 153, 136, 136, 372, 109, 155, 194, 99, 162, 64, 900, 50, 134, 110, 886, 320, 81, 166, 433, 94, 157, 146, 67, 275, 202, 257, 106, 57, 159, 176, 120, 116, 123, 126, 180, 196, 84, 85, 212, 81, 115, 291, 128, 113, 216, 313, 111, 149, 143, 586, 122, 316, 387, 340, 126, 704, 272, 75, 189, 113, 156, 335, 190, 139, 289, 441, 176, 145, 117, 177, 373, 289, 901, 612, 408, 222, 86, 153, 95, 54, 175, 154, 179, 205, 129, 231, 234, 213, 357, 202, 126, 605, 176, 100, 120, 113, 57, 134, 156, 195, 788, 312, 254, 167, 375, 315, 146, 134, 77, 116, 410, 198, 199, 165, 296, 197, 145, 223, 49, 301, 357, 295, 327, 48, 133, 146, 109, 113, 765, 165, 429, 146, 127, 47, 231, 615, 196, 235, 210, 110, 371, 125, 239, 124, 149, 211, 138, 122, 118, 236, 121, 220, 254, 217, 156, 252, 253, 224, 136, 93, 142, 43, 113, 293, 154, 275, 154, 72, 129, 94, 100, 266, 247, 260, 112, 132, 249, 110, 74, 134, 169, 113, 297, 419, 239, 196, 223, 557, 179, 106, 295, 367, 99, 123, 251, 98, 135, 543, 127, 158, 121, 206, 58, 199, 155, 283, 158, 241, 258, 263, 93, 92, 109, 204, 176, 147, 351, 176, 117, 172, 545, 394, 51, 129, 397, 183, 601, 448, 60, 138, 193, 245, 292, 100, 64, 508, 110, 144, 269, 135, 69, 50, 384, 306, 97, 148, 113, 138, 138, 158, 480, 381, 160, 461, 181, 148, 150, 137, 124, 247, 144, 171, 204, 159, 240, 150, 184, 105, 222, 385, 138, 170, 112, 96, 192, 64, 338, 97, 163, 223, 96, 106, 105, 238, 216, 142, 156, 195, 155, 53, 128, 189, 129, 562, 108, 264, 91, 221, 220, 205, 112, 440, 255, 259, 108, 325, 122, 154, 452, 148, 172, 303, 471, 126, 137, 223, 119, 116, 123, 547, 108, 106, 137, 65, 255, 351, 238, 122, 28, 204, 354, 128, 149, 221, 276, 159, 148, 143, 182, 175, 117, 604, 224, 108, 772, 31, 129, 133, 454, 119, 274, 60, 141, 165, 294, 266, 145, 63, 120, 102, 210, 73, 196, 293, 629, 113, 596, 96, 232, 122, 117, 111, 71, 272, 255, 117, 140, 180, 251, 319, 147, 103, 207, 153, 306, 134, 337, 125, 199, 93, 409, 616, 93, 874, 135, 214, 116, 41, 540, 168, 121, 123, 132, 111, 91, 146, 219, 107, 585, 158, 412, 71, 180, 169, 120, 244, 384, 150, 126, 344, 77, 48, 136, 63, 136, 113, 264, 482, 283, 191, 117, 169, 96, 154, 308, 116, 150, 263, 266, 138, 188, 78, 264, 306, 142, 330, 104, 105, 198, 163, 91, 626, 60, 118, 141, 161, 605, 236, 164, 292, 99, 367, 118, 179, 119, 105, 206, 324, 239, 48, 202, 424, 146, 512, 195, 110, 181, 146, 325, 63, 164, 285, 217, 239, 109, 132, 114, 142, 224, 119, 215, 154, 225, 168, 508, 218, 229, 279, 300, 42, 172, 111, 207, 126, 383, 326, 110, 117, 246, 108, 164, 43, 40, 551, 179, 138, 162, 153, 212, 106, 166, 49, 164, 116, 28, 120, 153, 114, 240, 161, 229, 126, 151, 70, 134, 481, 130, 92, 483, 167, 185, 205, 298, 418, 287, 163, 277, 177, 152, 325, 75, 191, 120, 238, 82, 101, 325, 46, 57, 121, 306, 122, 104, 27, 410, 104, 289, 386, 227, 203, 125, 60, 253, 319, 273, 247, 775, 570, 133, 170, 297, 108, 149, 216, 141, 130, 192, 180, 145, 111, 176, 179, 532, 138, 233, 119, 94, 181, 102, 121, 76, 58, 113, 494, 58, 102, 40, 401, 273, 121, 146, 191, 47, 136, 60, 148, 175, 144, 180, 251, 478, 198, 104, 117, 283, 367, 195, 163, 186, 125, 345, 109, 470, 120, 176, 142, 319, 141, 112, 120, 178, 161, 103, 685, 276, 256, 347, 141, 604, 547, 398, 657, 103, 833, 123, 98, 46, 65, 136, 208, 166, 192, 670, 410, 144, 151, 900, 669, 87, 266, 835, 162, 147, 129, 84, 358, 184, 141, 112, 270, 125, 123, 177, 98, 167, 204, 186, 134, 256, 60, 801, 201, 497, 74, 86, 316, 183, 228, 233, 866, 79, 67, 69, 118, 140, 426, 202, 347, 145, 308, 313, 94, 198, 587, 287, 153, 159, 292, 185, 145, 443, 129, 543, 124, 438, 305, 164, 765, 166, 200, 165, 120, 273, 67, 70, 204, 394, 265, 104, 89, 220, 145, 506, 161, 193, 163, 785, 215, 341, 372, 121, 340, 197, 198, 123, 259, 258, 188, 208, 211, 71, 164, 223, 118, 74, 159, 392, 109, 137, 143, 62, 206, 414, 173, 213, 158, 98, 138, 266, 304, 187, 226, 179, 96, 122, 172, 595, 285, 191, 177, 144, 198, 178, 210, 150, 115, 99, 132, 124, 279, 194, 124, 81, 159, 319, 145, 263, 50, 431, 151, 125, 442, 563, 119, 120, 116, 343, 107, 584, 126, 199, 122, 169, 107, 153, 184, 133, 626, 305, 310, 121, 110, 271, 298, 243, 155, 120, 116, 112, 126, 117, 429, 420, 111, 164, 170, 169, 231, 80, 162, 292, 275, 210, 153, 143, 158, 241, 257, 158, 123, 129, 131, 127, 102, 200, 172, 176, 332, 176, 151, 212, 226, 94, 397, 132, 110, 191, 68, 126, 184, 44, 313, 279, 195, 113, 120, 131, 49, 140, 159, 210, 119, 402, 781, 205, 205, 126, 292, 90, 273, 289, 190, 221, 136, 147, 139, 170, 104, 217, 111, 82, 695, 84, 121, 122, 442, 148, 73, 241, 106, 241, 174, 155, 277, 111, 234, 145, 145, 141, 130, 306, 542, 167, 178, 594, 481, 159, 96, 242, 113, 349, 108, 115, 349, 323, 455, 35, 65, 267, 126, 223, 198, 132, 356, 194, 57, 449, 48, 120, 39, 283, 167, 345, 166, 214, 120, 64, 122, 417, 110, 234, 372, 278, 131, 177, 298, 256, 161, 265, 158, 186, 231, 169, 254, 262, 145, 90, 107, 603, 224, 699, 97, 254, 121, 173, 240, 157, 46, 149, 65, 381, 131, 126, 191, 9, 218, 343, 371, 91, 194, 90, 200, 116, 280, 336, 121, 46, 186, 138, 121, 530, 351, 400, 825, 113, 116, 255, 112, 233, 93, 127, 113, 197, 153, 173, 173, 132, 132, 212, 114, 38, 378, 41, 655, 156, 117, 174, 132, 109, 245, 46, 285, 120, 158, 116, 729, 339, 125, 96, 151, 381, 113, 104, 248, 361, 135, 193, 146, 36, 205, 107, 195, 265, 436, 71, 145, 182, 452, 54, 145, 256, 187, 188, 99, 114, 159, 176, 506, 265, 146, 657, 146, 680, 118, 202, 199, 200, 158, 109, 237, 149, 174, 123, 409, 114, 69, 160, 205, 131, 397, 92, 181, 47, 531, 539, 388, 484, 129, 378, 131, 301, 606, 134, 170, 127, 165, 127, 81, 140, 142, 118, 93, 230, 64, 123, 226, 98, 263, 213, 83, 109, 51, 104, 197, 218, 137, 228, 78, 174, 107, 146, 315, 580, 342, 691, 57, 174, 201, 67, 116, 199, 132, 199, 131, 113, 158, 357, 194, 135, 105, 132, 179, 229, 76, 62, 99, 161, 266, 456, 163, 62, 107, 105, 341, 378, 122, 124, 73, 114, 83, 123, 170, 349, 192, 53, 239, 406, 486, 56, 1242, 368, 87, 164, 928, 378, 675, 40, 128, 300, 174, 281, 229, 160, 279, 145, 158, 194, 163, 163, 333, 147, 120, 46, 275, 113, 106, 166, 383, 296, 164, 414, 185, 61, 169, 65, 117, 373, 135, 400, 205, 169, 210, 106, 73, 336, 120, 132, 143, 177, 558, 136, 122, 81, 135, 727, 119, 382, 137, 124, 78, 162, 115, 284, 308, 131, 167, 241, 449, 174, 150, 51, 746, 143, 154, 127, 107, 215, 231, 109, 110, 145, 611, 181, 344, 154, 380, 126, 423, 180, 172, 422, 100, 487, 361, 147, 107, 147, 165, 198, 124, 119, 75, 232, 110, 124, 130, 124, 138, 173, 543, 340, 366, 166, 126, 391, 125, 705, 132, 124, 134, 146, 131, 124, 328, 66, 129, 136, 100, 177, 95, 153, 198, 360, 108, 233, 216, 95, 313, 177, 46, 205, 273, 276, 114, 120, 352, 53, 100, 335, 130, 380, 109, 150, 97, 192, 157, 125, 155, 141, 161, 58, 128, 593, 516, 100, 136, 294, 238, 222, 380, 205, 149, 291, 137, 154, 102, 241, 276, 128, 88, 152, 261, 132, 145, 71, 518, 169, 126, 68, 173, 191, 158, 356, 662, 371, 541, 178, 139, 174, 354, 158, 116, 48, 181, 379, 313, 332, 248, 131, 212, 205, 138, 112, 371, 118, 502, 256, 145, 131, 250, 127, 231, 153, 94, 902, 290, 55, 128, 44, 315, 167, 274, 167, 159, 186, 220, 133, 137, 105, 170, 172, 121, 424, 233, 157, 99, 178, 335, 178, 274, 478, 135, 104, 377, 375, 55, 150, 120, 69, 153, 139, 108, 60, 76, 115, 116, 229, 128, 197, 154, 341, 351, 177, 204, 110, 450, 108, 102, 113, 105, 111, 241, 376, 87, 325, 45, 930, 234, 92, 290, 325, 114, 127, 217, 116, 207, 212, 71, 348, 427, 98, 123, 70, 123, 97, 369, 241, 45, 177, 116, 182, 163, 140, 178, 273, 339, 55, 168, 512, 435, 179, 116, 321, 109, 219, 150, 205, 263, 137, 220, 112, 83, 131, 272, 38, 86, 153, 25, 62, 158, 232, 87, 100, 212, 96, 374, 111, 224, 122, 262, 301, 213, 379, 213, 559, 116, 149, 432, 392, 198, 55, 155, 780, 279, 170, 185, 175, 528, 213, 58, 124, 282, 101, 220, 123, 240, 98, 94, 332, 207, 115, 277, 146, 154, 84, 147, 163, 533, 94, 729, 70, 104, 263, 138, 114, 314, 63, 141, 104, 399, 66, 131, 107, 123, 112, 49, 163, 137, 452, 166, 99, 34, 131, 117, 338, 728, 665, 165, 271, 235, 260, 188, 236, 230, 121, 295, 267, 168, 201, 166, 336, 337, 89, 275, 115, 289, 133, 133, 133, 173, 169, 44, 850, 328, 240, 144, 301, 174, 133, 161, 179, 107, 425, 192, 133, 57, 168, 96, 137, 86, 291, 80, 177, 53, 106, 114, 53, 284, 317, 183, 197, 114, 508, 919, 139, 753, 221, 544, 146, 144, 451, 498, 176, 132, 131, 63, 170, 355, 159, 147, 98, 514, 124, 140, 211, 141, 417, 104, 126, 662, 93, 187, 137, 125, 103, 49, 124, 131, 543, 102, 167, 150, 101, 219, 141, 285, 116, 174, 191, 398, 190, 113, 82, 390, 47, 698, 77, 300, 145, 327, 199, 159, 418, 151, 161, 194, 107, 145, 170, 265, 428, 815, 227, 151, 126, 130, 98, 346, 166, 35, 112, 189, 187, 127, 154, 139, 441, 212, 196, 329, 180, 372, 153, 178, 134, 257, 151, 134, 856, 143, 188, 288, 150, 249, 124, 173, 104, 158, 275, 244, 131, 271, 99, 123, 159, 333, 193, 150, 726, 172, 98, 251, 259, 109, 95, 264, 149, 82, 108, 409, 138, 92, 170, 125, 150, 59, 101, 215, 180, 196, 143, 249, 128, 111, 218, 257, 212, 163, 146, 134, 50, 89, 167, 246, 63, 249, 209, 177, 175, 167, 174, 145, 63, 441, 41, 152, 175, 153, 170, 148, 151, 263, 202, 175, 262, 469, 203, 56, 90, 389, 917, 83, 164, 106, 138, 172, 327, 286, 884, 51, 903, 388, 158, 66, 182, 152, 121, 38, 137, 125, 115, 270, 238, 89, 167, 279, 171, 206, 177, 115, 214, 235, 127, 261, 238, 263, 314, 320, 609, 115, 150, 207, 262, 102, 129, 119, 157, 295, 383, 248, 179, 667, 136, 120, 104, 105, 128, 61, 258, 158, 286, 359, 180, 143, 111, 77, 80, 125, 121, 190, 910, 134, 36, 379, 124, 155, 89, 114, 124, 195, 190, 185, 120, 596, 103, 219, 29, 132, 486, 838, 129, 143, 183, 214, 174, 97, 100, 75, 331, 192, 59, 111, 122, 220, 152, 93, 121, 267, 148, 195, 247, 104, 99, 112, 175, 446, 176, 296, 115, 163, 920, 140, 114, 157, 136, 47, 143, 135, 156, 137, 99, 381, 186, 232, 107, 232, 99, 252, 197, 235, 471, 356, 123, 132, 131, 125, 45, 128, 197, 151, 76, 398, 449, 117, 156, 124, 162, 111, 199, 230, 373, 306, 163, 268, 698, 116, 148, 57, 201, 143, 143, 89, 182, 162, 248, 316, 721, 311, 223, 161, 313, 172, 118, 262, 431, 587, 40, 157, 227, 329, 178, 170, 275, 119, 245, 310, 161, 155, 175, 121, 72, 125, 180, 213, 119, 141, 132, 135, 42, 281, 139, 482, 36, 275, 162, 459, 203, 480, 52, 313, 200, 282, 309, 346, 146, 551, 177, 125, 348, 77, 521, 446, 248, 127, 135, 131, 398, 197, 886, 336, 741, 60, 288, 77, 54, 213, 472, 728, 414, 114, 343, 220, 230, 191, 117, 183, 180, 359, 186, 206, 260, 204, 119, 145, 109, 68, 138, 146, 113, 298, 521, 181, 477, 612, 614, 131, 132, 117, 86, 107, 147, 192, 255, 120, 122, 134, 365, 748, 50, 75, 241, 186, 202, 138, 164, 51, 112, 350, 261, 492, 312, 822, 774, 213, 287, 216, 167, 615, 131, 296, 322, 360, 131, 290, 288, 423, 260, 130, 247, 318, 108, 50, 109, 238, 60, 66, 46, 414, 869, 366, 215, 458, 147, 527, 135, 113, 665, 344, 139, 257, 305, 483, 518, 143, 368, 164, 542, 189, 120, 266, 218, 331, 150, 143, 382, 137, 234, 457, 341, 60, 403, 169, 71, 163, 440, 133, 109, 156, 110, 34, 161, 159, 223, 250, 401, 165, 481, 145, 42, 135, 189, 209, 126, 106, 115, 126, 422, 43, 161, 130, 133, 82, 191, 123, 128, 251, 120, 144, 82, 182, 142, 120, 307, 153, 103, 107, 369, 191, 70, 107, 118, 115, 19, 292, 69, 80, 111, 103, 101, 344, 180, 87, 104, 279, 382, 186, 56, 170, 78, 125, 114, 625, 276, 196, 175, 128, 335, 526, 99, 111, 167, 126, 565, 49, 127, 156, 530, 699, 278, 255, 144, 124, 190, 185, 274, 505, 263, 119, 217, 326, 668, 102, 111, 199, 307, 148, 117, 98, 104, 130, 113, 164, 126, 187, 206, 200, 160, 123, 223, 259, 123, 516, 164, 219, 302, 173, 282, 189, 133, 144, 439, 214, 730, 63, 152, 347, 121, 67, 122, 148, 174, 111, 141, 453, 117, 138, 111, 123, 142, 177, 232, 236, 129, 115, 137, 141, 51, 117, 139, 120, 57, 117, 160, 190, 123, 102, 129, 151, 131, 255, 332, 105, 153, 233, 120, 94, 157, 147, 182, 43, 174, 185, 40, 212, 67, 135, 168, 528, 138, 227, 124, 107, 620, 294, 304, 283, 108, 165, 97, 361, 223, 214, 241, 353, 530, 326, 69, 643, 110, 118, 112, 140, 160, 153, 256, 119, 215, 131, 53, 112, 68, 166, 145, 38, 215, 118, 483, 159, 292, 106, 152, 247, 148, 189, 292, 262, 403, 472, 119, 222, 106, 237, 104, 224, 150, 475, 108, 281, 508, 308, 118, 819, 157, 215, 293, 765, 184, 231, 178, 272, 540, 259, 110, 92, 126, 264, 134, 121, 240, 87, 438, 914, 118, 702, 116, 328, 801, 286, 165, 73, 306, 568, 136, 181, 441, 282, 152, 431, 185, 155, 319, 208, 405, 85, 289, 56, 142, 398, 111, 135, 124, 746, 266, 149, 123, 136, 132, 313, 83, 377, 296, 151, 148, 204, 381, 155, 210, 210, 265, 121, 84, 229, 662, 167, 100, 296, 100, 76, 110, 283, 46, 152, 555, 559, 350, 646, 135, 38, 122, 398, 340, 142, 149, 184, 381, 37, 168, 342, 224, 123, 256, 62, 188, 125, 49, 132, 156, 216, 431, 120, 219, 108, 220, 120, 374, 231, 615, 167, 110, 150, 169, 228, 356, 216, 277, 181, 103, 746, 277, 137, 151, 73, 119, 182, 246, 237, 76, 256, 189, 60, 211, 125, 85, 341, 126, 289, 121, 428, 82, 819, 121, 279, 155, 111, 529, 223, 124, 152, 151, 50, 220, 157, 305, 292, 268, 57, 165, 217, 189, 212, 356, 199, 103, 869, 287, 164, 99, 163, 439, 90, 141, 206, 145, 446, 210, 171, 116, 346, 219, 396, 352, 509, 61, 98, 233, 266, 154, 131, 150, 232, 124, 186, 327, 117, 238, 117, 134, 116, 540, 186, 172, 85, 139, 405, 104, 200, 151, 129, 145, 152, 397, 128, 78, 136, 122, 134, 129, 315, 176, 203, 236, 99, 151, 157, 198, 127, 227, 160, 101, 180, 118, 330, 270, 98, 275, 124, 164, 211, 668, 133, 532, 166, 202, 174, 149, 363, 247, 252, 308, 404, 399, 424, 489, 59, 100, 153, 148, 822, 297, 106, 193, 440, 137, 135, 97, 127, 132, 152, 111, 135, 373, 352, 202, 185, 113, 453, 207, 149, 119, 170, 324, 59, 125, 108, 148, 153, 127, 487, 93, 208, 168, 196, 158, 61, 77, 113, 230, 86, 239, 212, 266, 132, 146, 165, 111, 249, 328, 168, 252, 272, 101, 563, 142, 149, 174, 193, 119, 517, 151, 144, 837, 131, 327, 163, 186, 70, 100, 172, 100, 234, 96, 469, 276, 123, 92, 269, 195, 80, 128, 234, 201, 360, 130, 141, 56, 304, 354, 577, 170, 592, 257, 245, 162, 197, 29, 159, 171, 97, 311, 216, 135, 321, 171, 365, 190, 325, 219, 191, 173, 119, 647, 184, 125, 297, 92, 152, 346, 105, 446, 190, 200, 176, 181, 186, 425, 110, 160, 523, 132, 129, 184, 192, 123, 189, 381, 144, 148, 166, 110, 548, 134, 685, 152, 112, 294, 114, 447, 113, 42, 352, 141, 123, 116, 110, 142, 156, 238, 214, 184, 114, 159, 114, 369, 124, 135, 155, 166, 310, 109, 186, 261, 115, 100, 355, 553, 422, 321, 52, 635, 147, 251, 177, 118, 124, 122, 174, 398, 298, 572, 339, 384, 131, 121, 166, 208, 246, 238, 211, 107, 122, 146, 117, 466, 881, 213, 99, 420, 215, 156, 134, 354, 153, 106, 175, 248, 155, 258, 18, 325, 86, 181, 217, 268, 172, 387, 262, 126, 153, 591, 106, 184, 236, 123, 149, 278, 390, 121, 70, 231, 210, 142, 129, 100, 127, 222, 180, 177, 461, 201, 110, 71, 163, 99, 178, 112, 219, 303, 201, 166, 561, 312, 162, 234, 128, 327, 224, 166, 144, 112, 100, 118, 153, 150, 671, 52, 108, 218, 147, 110, 716, 125, 56, 124, 705, 113, 105, 167, 136, 31, 100, 145, 120, 114, 103, 124, 270, 110, 108, 215, 131, 270, 120, 545, 507, 110, 149, 49, 126, 133, 92, 154, 159, 285, 537, 148, 178, 120, 141, 425, 147, 340, 229, 177, 230, 113, 472, 175, 510, 126, 442, 105, 56, 137, 94, 111, 104, 103, 119, 119, 190, 230, 50, 304, 77, 466, 88, 155, 110, 196, 140, 99, 323, 105, 220, 143, 136, 172, 281, 118, 296, 115, 188, 103, 101, 216, 133, 140, 128, 90, 229, 61, 139, 80, 159, 114, 129, 80, 132, 196, 122, 213, 199, 313, 263, 130, 192, 234, 284, 281, 82, 102, 49, 101, 79, 180, 358, 388, 193, 181, 225, 308, 105, 122, 104, 130, 128, 341, 280, 263, 143, 88, 139, 118, 124, 116, 191, 189, 893, 126, 195, 475, 84, 134, 321, 133, 82, 350, 275, 115, 231, 228, 193, 130, 400, 233, 132, 113, 97, 69, 366, 178, 53, 167, 325, 150, 130, 348, 94, 773, 296, 563, 436, 208, 41, 160, 221, 54, 288, 515, 144, 255, 894, 128, 104, 591, 218, 51, 83, 173, 174, 68, 88, 120, 250, 148, 116, 107, 361, 103, 149, 246, 600, 128, 906, 117, 903, 128, 81, 225, 101, 111, 63, 729, 833, 308, 137, 382, 343, 638, 372, 63, 137, 323, 103, 66, 73, 157, 596, 145, 39, 152, 222, 116, 136, 201, 107, 176, 36, 448, 27, 271, 206, 75, 169, 176, 128, 139, 178, 61, 185, 97, 112, 99, 396, 289, 174, 101, 864, 139, 268, 108, 53, 435, 199, 165, 105, 442, 827, 163, 145, 177, 402, 221, 241, 240, 149, 85, 257, 371, 118, 322, 155, 775, 104, 302, 106, 363, 119, 291, 178, 161, 425, 193, 183, 188, 122, 159, 141, 230, 161, 454, 119, 173, 250, 209, 130, 145, 311, 130, 126, 320, 66, 361, 151, 279, 125, 273, 78, 130, 313, 128, 151, 163, 118, 106, 93, 252, 139, 240, 203, 133, 214, 116, 150, 752, 469, 447, 141, 648, 150, 173, 87, 164, 309, 322, 125, 117, 154, 96, 76, 49, 123, 111, 135, 119, 516, 398, 175, 194, 402, 235, 246, 261, 353, 36, 120, 42, 64, 69, 155, 44, 376, 257, 608, 103, 394, 91, 261, 478, 122, 47, 101, 265, 104, 213, 172, 157, 143, 32, 163, 138, 170, 115, 104, 240, 341, 548, 114, 62, 292, 105, 43, 276, 92, 325, 120, 201, 136, 220, 112, 206, 387, 209, 253, 123, 391, 53, 107, 65, 152, 496, 138, 259, 275, 92, 141, 177, 519, 149, 320, 247, 125, 377, 149, 121, 114, 48, 150, 538, 282, 53, 491, 73, 146, 302, 516, 173, 127, 226, 132, 335, 172, 197, 124, 267, 197, 150, 230, 630, 144, 529, 99, 130, 199, 74, 547, 125, 312, 68, 301, 127, 54, 202, 536, 170, 170, 312, 228, 50, 170, 56, 117, 134, 157, 152, 100, 45, 606, 137, 110, 173, 175, 147, 641, 564, 164, 134, 149, 110, 160, 126, 128, 60, 453, 179, 154, 358, 222, 202, 124, 176, 152, 304, 144, 359, 314, 401, 248, 57, 138, 106, 127, 200, 849, 213, 133, 828, 37, 100, 311, 168, 159, 423, 67, 178, 100, 114, 352, 103, 356, 137, 90, 177, 126, 160, 110, 134, 158, 222, 103, 201, 112, 76, 76, 211, 140, 360, 52, 141, 217, 200, 165, 135, 261, 164, 248, 99, 127, 427, 130, 96, 223, 359, 67, 228, 287, 195, 369, 157, 118, 347, 92, 111, 648, 141, 189, 126, 132, 637, 132, 309, 252, 144, 103, 244, 86, 177, 238, 127, 154, 161, 415, 89, 103, 209, 441, 301, 827, 423, 72, 432, 138, 186, 156, 161, 80, 146, 276, 280, 203, 273, 156, 187, 185, 108, 425, 183, 141, 168, 151, 538, 342, 240, 193, 74, 205, 67, 178, 159, 113, 287, 313, 53, 165, 146, 276, 389, 175, 133, 111, 128, 281, 121, 398, 276, 480, 99, 116, 57, 83, 56, 482, 314, 164, 225, 113, 85, 109, 91, 128, 155, 114, 130, 109, 108, 105, 93, 137, 138, 670, 201, 231, 232, 593, 135, 408, 225, 139, 136, 127, 336, 151, 122, 179, 224, 216, 141, 110, 354, 87, 220, 51, 126, 181, 239, 254, 110, 128, 165, 152, 189, 270, 721, 191, 90, 231, 167, 180, 207, 196, 326, 266, 342, 107, 773, 756, 42, 115, 131, 95, 93, 34, 196, 182, 237, 207, 113, 309, 374, 539, 102, 24, 271, 213, 118, 478, 209, 66, 139, 178, 74, 125, 208, 494, 401, 284, 172, 57, 133, 233, 52, 125, 118, 141, 168, 125, 523, 199, 560, 303, 383, 209, 446, 111, 136, 55, 352, 402, 149, 234, 98, 109, 383, 352, 238, 83, 116, 165, 109, 78, 136, 321, 140, 262, 124, 87, 146, 163, 142, 166, 348, 76, 85, 320, 193, 85, 174, 250, 90, 182, 276, 66, 111, 130, 177, 334, 187, 128, 90, 457, 137, 142, 244, 109, 158, 149, 136, 155, 258, 280, 478, 278, 406, 113, 273, 106, 93, 127, 112, 206, 112, 121, 391, 176, 318, 222, 37, 107, 96, 184, 217, 120, 452, 225, 57, 167, 351, 184, 221, 143, 442, 419, 76, 153, 115, 201, 209, 315, 147, 146, 122, 119, 127, 340, 117, 204, 101, 124, 134, 157, 86, 196, 207, 210, 77, 202, 247, 176, 132, 141, 55, 181, 144, 216, 54, 147, 74, 117, 126, 231, 139, 162, 231, 171, 128, 324, 165, 142, 354, 150, 110, 129, 127, 102, 154, 110, 338, 370, 36, 111, 96, 167, 225, 173, 127, 397, 173, 119, 130, 231, 125, 126, 133, 152, 325, 146, 138, 202, 124, 118, 270, 455, 126, 185, 162, 254, 451, 373, 35, 131, 104, 62, 557, 270, 241, 191, 77, 160, 98, 112, 115, 93, 122, 194, 200, 131, 211, 265, 639, 205, 143, 212, 245, 117, 116, 95, 210, 100, 183, 355, 358, 144, 250, 246, 83, 133, 157, 152, 102, 130, 158, 398, 189, 184, 718, 311, 131, 103, 131, 451, 293, 112, 286, 248, 159, 129, 144, 263, 138, 147, 83, 130, 156, 336, 112, 224, 133, 121, 118, 139, 123, 116, 125, 106, 244, 100, 835, 175, 216, 202, 153, 347, 256, 40, 74, 116, 198, 152, 129, 144, 225, 88, 159, 544, 38, 163, 173, 204, 118, 179, 67, 285, 163, 486, 195, 130, 221, 84, 120, 112, 31, 38, 398, 124, 119, 132, 191, 306, 95, 118, 148, 143, 265, 236, 564, 185, 63, 281, 108, 55, 355, 34, 484, 153, 399, 110, 195, 644, 166, 100, 701, 621, 140, 399, 420, 330, 140, 95, 117, 189, 116, 311, 136, 275, 177, 402, 119, 281, 208, 106, 219, 159, 213, 93, 251, 100, 534, 164, 216, 279, 930, 451, 192, 361, 397, 117, 158, 125, 248, 166, 154, 319, 187, 103, 124, 110, 132, 93, 133, 64, 355, 117, 107, 202, 131, 172, 170, 310, 317, 136, 64, 135, 35, 113, 195, 504, 100, 140, 31, 167, 793, 138, 386, 189, 357, 147, 52, 131, 152, 207, 163, 45, 572, 237, 145, 245, 331, 161, 141, 76, 152, 340, 142, 105, 633, 108, 152, 470, 133, 124, 152, 282, 111, 129, 115, 162, 404, 137, 77, 120, 219, 111, 231, 133, 150, 131, 114, 428, 49, 183, 634, 43, 222, 134, 165, 306, 332, 657, 408, 303, 175, 214, 124, 128, 107, 165, 165, 465, 104, 128, 118, 139, 134, 181, 106, 351, 933, 66, 212, 579, 323, 348, 233, 217, 135, 178, 187, 237, 132, 168, 146, 50, 182, 561, 212, 117, 182, 122, 140, 119, 249, 389, 122, 128, 151, 124, 105, 129, 797, 110, 125, 189, 91, 141, 274, 60, 163, 213, 371, 265, 224, 94, 457, 219, 110, 104, 234, 122, 185, 335, 355, 104, 169, 167, 148, 140, 85, 111, 100, 499, 70, 174, 79, 247, 42, 294, 65, 136, 107, 79, 165, 40, 102, 60, 107, 91, 140, 161, 121, 407, 128, 311, 203, 456, 446, 228, 141, 134, 630, 626, 413, 478, 45, 59, 143, 111, 93, 716, 286, 349, 166, 84, 134, 78, 201, 56, 246, 121, 133, 123, 124, 771, 113, 128, 171, 38, 337, 156, 265, 325, 235, 263, 201, 188, 258, 341, 244, 117, 294, 302, 238, 136, 172, 240, 77, 42, 168, 58, 135, 318, 122, 157, 451, 73, 133, 352, 164, 380, 351, 105, 80, 181, 206, 340, 255, 321, 481, 129, 28, 152, 160, 244, 174, 129, 136, 187, 187, 212, 114, 180, 147, 119, 96, 268, 664, 65, 130, 87, 85, 242, 171, 273, 106, 193, 141, 108, 15, 302, 197, 176, 78, 53, 526, 568, 187, 90, 137, 152, 86, 382, 90, 820, 300, 111, 198, 701, 239, 225, 192, 191, 135, 433, 131, 83, 146, 128, 420, 235, 88, 579, 145, 160, 38, 146, 79, 201, 137, 549, 73, 306, 130, 451, 123, 128, 71, 105, 159, 111, 305, 272, 114, 117, 169, 171, 88, 516, 169, 216, 125, 520, 194, 346, 332, 183, 39, 195, 112, 627, 217, 174, 45, 24, 158, 179, 175, 193, 143, 124, 281, 800, 806, 62, 123, 55, 191, 299, 122, 225, 124, 237, 171, 125, 228, 145, 188, 246, 100, 116, 227, 208, 181, 153, 172, 734, 112, 113, 346, 76, 75, 573, 832, 108, 46, 112, 549, 53, 233, 80, 400, 480, 61, 122, 98, 137, 74, 423, 137, 401, 68, 184, 91, 153, 317, 167, 698, 248, 363, 101, 370, 419, 255, 131, 204, 227, 325, 163, 303, 182, 222, 719, 148, 206, 295, 141, 137, 346, 158, 137, 343, 55, 232, 310, 158, 78, 42, 53, 352, 161, 175, 132, 140, 317, 120, 252, 121, 123, 448, 343, 131, 37, 200, 177, 205, 147, 152, 134, 106, 135, 326, 131, 148, 133, 121, 327, 575, 173, 200, 122, 420, 317, 30, 58, 441, 110, 202, 114, 264, 119, 132, 113, 156, 106, 192, 208, 612, 89, 174, 385, 210, 563, 188, 456, 141, 240, 510, 121, 173, 406, 685, 149, 173, 133, 121, 136, 266, 168, 175, 137, 715, 128, 214, 238, 711, 62, 276, 468, 169, 54, 114, 214, 170, 102, 334, 174, 359, 166, 203, 43, 135, 153, 132, 154, 452, 237, 198, 140, 161, 72, 249, 127, 103, 193, 138, 105, 270, 336, 238, 119, 100, 91, 237, 596, 162, 216, 235, 82, 103, 195, 120, 577, 137, 86, 318, 243, 456, 188, 252, 378, 162, 926, 207, 222, 246, 136, 487, 109, 176, 58, 292, 148, 157, 179, 224, 143, 124, 85, 133, 119, 246, 115, 75, 470, 26, 154, 246, 597, 173, 83, 129, 458, 344, 146, 130, 191, 124, 98, 782, 162, 242, 129, 179, 143, 283, 106, 123, 330, 157, 87, 153, 378, 207, 124, 146, 190, 447, 196, 282, 308, 405, 349, 295, 222, 117, 163, 631, 149, 80, 471, 897, 322, 773, 68, 229, 343, 166, 122, 139, 175, 251, 104, 304, 92, 162, 141, 144, 886, 161, 89, 188, 353, 132, 889, 170, 66, 131, 99, 427, 258, 110, 75, 64, 83, 376, 278, 525, 193, 128, 451, 139, 220, 125, 184, 442, 154, 153, 297, 111, 64, 176, 328, 135, 95, 241, 54, 118, 71, 174, 224, 114, 172, 101, 185, 131, 173, 174, 140, 320, 180, 99, 46, 160, 114, 262, 529, 155, 485, 176, 203, 119, 127, 71, 265, 111, 171, 205, 147, 119, 472, 132, 78, 109, 79, 368, 501, 116, 105, 120, 198, 222, 261, 37, 88, 220, 303, 111, 100, 209, 279, 155, 150, 96, 143, 202, 210, 91, 260, 248, 431, 197, 600, 538, 112, 34, 185, 147, 562, 217, 133, 162, 325, 173, 77, 119, 149, 130, 314, 145, 102, 154, 85, 57, 128, 155, 140, 293, 129, 155, 270, 209, 134, 152, 74, 135, 363, 192, 127, 126, 110, 196, 161, 222, 194, 148, 304, 123, 198, 98, 82, 234, 343, 29, 47, 164, 647, 229, 101, 144, 387, 123, 286, 352, 77, 125, 94, 404, 130, 114, 223, 146, 100, 62, 105, 202, 57, 823, 148, 128, 421, 116, 175, 282, 139, 280, 163, 458, 136, 288, 673, 441, 539, 221, 374, 247, 139, 104, 198, 147, 337, 1265, 165, 250, 392, 150, 88, 378, 79, 222, 278, 125, 119, 363, 286, 183, 318, 113, 108, 181, 115, 700, 105, 188, 620, 128, 219, 135, 190, 367, 110, 136, 215, 172, 209, 276, 181, 262, 153, 148, 324, 588, 289, 224, 154, 67, 352, 122, 226, 120, 85, 99, 192, 167, 144, 307, 343, 231, 231, 137, 188, 151, 166, 127, 517, 205, 218, 121, 380, 81, 124, 143, 135, 123, 209, 170, 133, 110, 222, 86, 177, 158, 248, 436, 158, 115, 120, 104, 237, 129, 173, 163, 64, 111, 141, 459, 129, 114, 194, 108, 193, 117, 78, 102, 94, 153, 103, 149, 259, 259, 458, 119, 157, 624, 252, 152, 248, 296, 127, 428, 279, 388, 198, 93, 136, 162, 207, 130, 256, 110, 429, 399, 613, 127, 401, 202, 302, 90, 378, 207, 69, 632, 471, 78, 106, 127, 312, 407, 150, 146, 117, 118, 157, 116, 200, 145, 108, 108, 53, 186, 152, 137, 169, 144, 321, 93, 717, 116, 114, 97, 191, 99, 279, 294, 175, 504, 154, 138, 121, 417, 229, 136, 239, 135, 247, 129, 159, 147, 216, 192, 520, 266, 296, 156, 116, 249, 158, 224, 139, 209, 125, 80, 178, 171, 131, 169, 109, 127, 303, 146, 110, 217, 263, 112, 151, 169, 64, 57, 336, 292, 129, 211, 142, 184, 163, 70, 219, 100, 157, 66, 205, 593, 129, 879, 132, 70, 270, 170, 148, 294, 140, 66, 323, 69, 195, 164, 127, 390, 157, 180, 131, 525, 77, 262, 894, 84, 69, 133, 85, 121, 369, 294, 100, 204, 229, 238, 164, 341, 116, 122, 135, 123, 340, 111, 263, 103, 325, 319, 199, 209, 185, 245, 239, 143, 143, 136, 188, 146, 240, 55, 121, 160, 95, 154, 121, 168, 169, 114, 152, 192, 206, 196, 127, 226, 102, 183, 50, 345, 429, 127, 146, 51, 112, 139, 49, 117, 140, 103, 169, 137, 65, 345, 58, 352, 99, 99, 137, 136, 152, 93, 198, 429, 139, 138, 72, 220, 263, 119, 56, 503, 113, 124, 122, 107, 116, 36, 213, 167, 56, 134, 79, 296, 293, 162, 105, 315, 41, 129, 250, 141, 359, 196, 205, 390, 133, 747, 96, 237, 220, 115, 228, 185, 107, 90, 127, 159, 110, 292, 117, 87, 255, 231, 126, 168, 126, 198, 213, 163, 632, 168, 49, 91, 99, 113, 351, 209, 257, 56, 110, 385, 37, 465, 657, 385, 268, 124, 393, 170, 364, 114, 226, 148, 245, 149, 209, 182, 362, 877, 325, 439, 206, 170, 178, 57, 132, 258, 475, 437, 141, 190, 164, 249, 719, 415, 37, 281, 57, 45, 124, 124, 423, 230, 606, 322, 761, 235, 169, 151, 126, 239, 156, 433, 183, 156, 309, 547, 119, 108, 104, 132, 142, 359, 341, 289, 134, 135, 226, 143, 177, 164, 128, 293, 183, 415, 223, 291, 150, 83, 109, 450, 256, 229, 149, 88, 95, 243, 331, 149, 199, 112, 314, 168, 127, 278, 130, 219, 177, 168, 353, 507, 339, 129, 330, 141, 121, 294, 117, 301, 250, 33, 50, 106, 391, 108, 138, 120, 68, 342, 241, 179, 413, 136, 578, 139, 416, 150, 164, 63, 581, 215, 191, 186, 159, 210, 274, 179, 86, 144, 96, 293, 142, 183, 117, 89, 205, 103, 157, 454, 120, 660, 115, 123, 436, 296, 143, 212, 123, 124, 114, 160, 672, 62, 119, 182, 120, 90, 121, 104, 106, 114, 58, 203, 56, 114, 158, 115, 146, 127, 167, 175, 264, 173, 122, 205, 155, 134, 187, 315, 547, 132, 36, 286, 29, 566, 39, 130, 392, 179, 160, 190, 172, 181, 123, 137, 123, 175, 57, 132, 347, 91, 138, 144, 41, 129, 120, 194, 380, 130, 113, 113, 119, 148, 63, 171, 170, 157, 143, 128, 142, 238, 116, 410, 70, 209, 152, 135, 434, 221, 290, 634, 237, 177, 144, 111, 442, 109, 98, 98, 271, 258, 634, 166, 151, 314, 143, 206, 177, 199, 128, 145, 124, 303, 207, 137, 404, 180, 127, 161, 108, 355, 161, 369, 116, 200, 178, 243, 128, 447, 135, 138, 56, 172, 118, 399, 143, 183, 432, 353, 138, 119, 207, 70, 181, 93, 219, 131, 122, 128, 228, 260, 302, 60, 442, 122, 139, 46, 222, 231, 319, 183, 375, 122, 198, 178, 114, 169, 122, 168, 196, 722, 73, 152, 255, 166, 188, 234, 147, 158, 333, 134, 743, 373, 603, 160, 139, 263, 66, 128, 98, 164, 512, 119, 179, 254, 525, 86, 128, 178, 276, 173, 119, 293, 168, 140, 347, 125, 153, 405, 229, 153, 419, 148, 337, 148, 214, 135, 122, 82, 195, 266, 160, 550, 522, 301, 214, 81, 147, 462, 78, 149, 203, 246, 739, 127, 100, 547, 102, 469, 435, 294, 220, 105, 117, 180, 83, 37, 311, 288, 651, 492, 189, 142, 59, 58, 137, 118, 285, 529, 124, 123, 140, 153, 126, 685, 151, 179, 97, 126, 185, 88, 167, 175, 533, 194, 547, 221, 136, 111, 103, 120, 226, 188, 104, 87, 123, 404, 145, 218, 115, 141, 486, 118, 132, 190, 144, 194, 214, 124, 150, 126, 131, 409, 229, 148, 172, 589, 107, 140, 370, 294, 280, 127, 94, 151, 64, 99, 110, 155, 219, 175, 69, 129, 260, 112, 130, 118, 411, 129, 92, 104, 325, 351, 188, 909, 114, 169, 93, 133, 779, 229, 117, 122, 255, 113, 84, 112, 83, 46, 170, 130, 206, 46, 119, 107, 118, 244, 279, 349, 114, 464, 124, 313, 438, 120, 90, 562, 200, 120, 223, 134, 114, 154, 199, 108, 268, 135, 273, 60, 113, 111, 73, 315, 202, 405, 509, 310, 178, 189, 168, 248, 122, 96, 310, 398, 159, 141, 624, 69, 313, 164, 174, 110, 121, 150, 58, 98, 80, 127, 53, 167, 149, 102, 97, 61, 116, 282, 121, 146, 114, 306, 101, 99, 245, 237, 59, 142, 186, 139, 102, 147, 60, 409, 115, 120, 98, 128, 160, 386, 148, 125, 190, 345, 139, 177, 299, 140, 135, 294, 105, 84, 124, 164, 130, 110, 295, 421, 121, 520, 80, 132, 345, 116, 115, 94, 235, 144, 171, 316, 265, 143, 116, 99, 126, 143, 151, 782, 124, 123, 284, 167, 168, 153, 170, 466, 259, 189, 94, 157, 301, 102, 148, 157, 121, 99, 150, 108, 174, 163, 115, 120, 454, 220, 232, 123, 181, 193, 121, 142, 287, 126, 121, 433, 212, 112, 111, 58, 86, 224, 152, 298, 354, 192, 144, 142, 183, 176, 120, 168, 73, 109, 123, 207, 191, 187, 90, 415, 157, 42, 848, 67, 188, 113, 130, 117, 664, 196, 150, 133, 69, 281, 319, 142, 77, 298, 212, 41, 298, 569, 296, 154, 234, 209, 161, 97, 366, 108, 198, 257, 166, 112, 824, 113, 130, 204, 113, 115, 769, 166, 224, 379, 200, 114, 110, 37, 251, 53, 89, 378, 100, 177, 143, 524, 162, 363, 353, 187, 147, 205, 186, 396, 146, 43, 93, 122, 128, 66, 390, 415, 110, 187, 168, 352, 169, 423, 239, 224, 104, 183, 142, 388, 194, 166, 254, 293, 227, 126, 130, 199, 134, 129, 101, 120, 238, 176, 137, 293, 163, 236, 123, 347, 247, 144, 105, 213, 144, 289, 43, 231, 218, 702, 148, 294, 114, 46, 182, 553, 179, 284, 179, 161, 170, 519, 544, 130, 109, 66, 470, 223, 257, 351, 85, 38, 239, 84, 158, 80, 103, 302, 705, 55, 193, 243, 180, 256, 128, 115, 294, 165, 156, 127, 103, 150, 91, 93, 110, 142, 301, 150, 48, 394, 175, 211, 684, 226, 157, 230, 117, 144, 141, 172, 88, 489, 148, 543, 117, 206, 137, 317, 56, 327, 124, 347, 180, 248, 36, 126, 130, 92, 99, 172, 293, 153, 435, 260, 74, 182, 159, 332, 100, 100, 465, 76, 112, 168, 304, 381, 105, 115, 369, 101, 113, 108, 351, 104, 138, 90, 380, 126, 135, 47, 742, 227, 66, 168, 125, 104, 154, 363, 157, 396, 334, 558, 149, 342, 890, 290, 452, 101, 107, 415, 193, 120, 133, 194, 608, 301, 291, 41, 111, 386, 332, 637, 316, 61, 127, 383, 150, 160, 150, 336, 421, 137, 130, 121, 75, 320, 159, 292, 123, 345, 206, 750, 389, 246, 638, 44, 238, 321, 82, 768, 306, 223, 359, 334, 395, 563, 103, 184, 108, 309, 113, 225, 185, 852, 126, 123, 140, 194, 377, 257, 179, 89, 139, 174, 142, 253, 217, 123, 121, 623, 139, 139, 263, 108, 115, 203, 485, 107, 10, 221, 111, 136, 109, 287, 132, 475, 435, 43, 221, 475, 68, 111, 68, 71, 182, 245, 107, 455, 172, 120, 38, 129, 684, 135, 150, 432, 96, 201, 131, 130, 98, 172, 245, 138, 57, 127, 49, 139, 228, 179, 111, 167, 133, 59, 118, 177, 122, 81, 155, 216, 291, 245, 50, 154, 328, 126, 60, 390, 446, 228, 101, 137, 113, 191, 137, 158, 219, 68, 179, 196, 125, 900, 122, 99, 148, 438, 104, 164, 118, 114, 53, 752, 443, 191, 382, 142, 122, 693, 282, 118, 267, 111, 212, 158, 369, 205, 226, 315, 91, 89, 195, 106, 164, 243, 483, 422, 335, 286, 127, 161, 122, 237, 122, 257, 161, 139, 120, 144, 46, 320, 85, 168, 430, 231, 61, 148, 134, 486, 384, 165, 110, 138, 122, 153, 663, 133, 75, 107, 51, 150, 144, 131, 200, 475, 190, 125, 118, 200, 129, 364, 131, 129, 122, 159, 316, 72, 752, 149, 149, 321, 130, 213, 184, 85, 125, 49, 82, 83, 175, 271, 148, 86, 194, 151, 154, 352, 144, 460, 115, 538, 345, 128, 101, 124, 144, 356, 494, 438, 162, 130, 73, 199, 429, 302, 95, 858, 459, 445, 296, 95, 52, 230, 313, 386, 181, 363, 93, 315, 146, 177, 177, 508, 132, 645, 189, 173, 118, 250, 178, 191, 160, 509, 200, 125, 166, 175, 248, 115, 213, 172, 194, 137, 91, 540, 142, 429, 252, 117, 265, 91, 271, 58, 157, 179, 240, 89, 90, 145, 248, 151, 144, 431, 129, 407, 105, 162, 88, 117, 150, 141, 155, 140, 159, 100, 383, 222, 324, 162, 138, 270, 282, 258, 284, 167, 45, 250, 209, 157, 111, 324, 79, 552, 180, 95, 124, 280, 164, 137, 276, 104, 264, 109, 513, 221, 144, 231, 124, 52, 127, 137, 333, 156, 284, 128, 488, 202, 51, 510, 148, 196, 254, 229, 114, 293, 91, 422, 386, 162, 136, 57, 278, 410, 130, 418, 233, 172, 174, 357, 211, 405, 130, 293, 192, 238, 118, 269, 122, 75, 220, 158, 164, 119, 113, 183, 131, 168, 48, 97, 46, 520, 206, 339, 253, 141, 207, 251, 136, 153, 141, 665, 165, 109, 128, 326, 187, 106, 137, 212, 505, 254, 104, 140, 132, 196, 199, 156, 106, 269, 155, 111, 337, 113, 133, 503, 360, 243, 239, 113, 473, 173, 470, 41, 103, 124, 139, 210, 108, 120, 121, 93, 302, 315, 86, 171, 159, 217, 198, 132, 318, 149, 167, 127, 74, 66, 165, 78, 41, 101, 132, 352, 74, 42, 201, 140, 90, 132, 200, 191, 128, 150, 69, 143, 143, 167, 154, 108, 169, 75, 141, 228, 176, 44, 143, 207, 200, 88, 26, 113, 145, 144, 499, 237, 233, 197, 167, 186, 139, 214, 121, 109, 115, 297, 293, 325, 142, 140, 266, 147, 131, 112, 330, 329, 371, 113, 467, 347, 230, 441, 168, 147, 117, 298, 61, 136, 142, 69, 132, 219, 444, 125, 50, 126, 107, 110, 104, 115, 119, 96, 242, 119, 206, 453, 196, 197, 124, 127, 169, 213, 111, 811, 144, 112, 177, 585, 193, 97, 405, 44, 768, 133, 205, 602, 170, 134, 124, 205, 146, 268, 114, 154, 952, 908, 92, 219, 200, 178, 247, 278, 134, 76, 189, 91, 257, 242, 88, 345, 119, 198, 113, 123, 1349, 68, 228, 321, 117, 137, 952, 154, 146, 329, 748, 296, 114, 134, 176, 59, 66, 143, 174, 176, 98, 76, 124, 118, 135, 135, 518, 191, 157, 157, 143, 63, 229, 121, 223, 226, 179, 582, 145, 102, 159, 165, 430, 257, 114, 123, 353, 50, 198, 154, 221, 496, 277, 149, 88, 136, 215, 168, 147, 73, 121, 122, 443, 272, 421, 211, 148, 47, 168, 96, 280, 155, 97, 22, 381, 292, 272, 108, 200, 116, 823, 165, 157, 96, 139, 237, 120, 214, 359, 151, 102, 252, 255, 95, 150, 346, 204, 292, 223, 213, 266, 184, 121, 124, 132, 110, 115, 43, 146, 215, 223, 114, 115, 131, 199, 533, 232, 93, 109, 114, 242, 295, 165, 255, 128, 159, 112, 140, 133, 104, 318, 183, 50, 170, 52, 115, 226, 214, 232, 200, 417, 120, 109, 168, 128, 135, 186, 143, 102, 483, 101, 213, 310, 133, 140, 225, 157, 104, 23, 110, 155, 131, 82, 238, 133, 357, 141, 140, 126, 259, 163, 495, 178, 203, 165, 447, 416, 165, 126, 163, 471, 89, 384, 281, 126, 157, 171, 149, 307, 119, 153, 106, 306, 183, 883, 279, 221, 92, 115, 357, 140, 10, 153, 78, 223, 114, 296, 165, 226, 37, 100, 109, 255, 467, 110, 123, 361, 205, 112, 115, 343, 109, 66, 49, 568, 67, 229, 103, 318, 180, 52, 91, 332, 74, 212, 111, 62, 338, 381, 111, 499, 95, 140, 60, 283, 108, 303, 814, 237, 145, 175, 120, 376, 192, 202, 85, 141, 335, 80, 264, 85, 312, 109, 158, 126, 96, 198, 533, 216, 110, 127, 522, 155, 353, 87, 168, 101, 420, 125, 149, 293, 168, 180, 612, 149, 177, 203, 219, 756, 261, 915, 220, 115, 168, 122, 238, 113, 118, 440, 225, 308, 159, 188, 210, 199, 112, 231, 291, 364, 170, 361, 156, 178, 281, 122, 333, 173, 313, 401, 146, 147, 215, 171, 114, 144, 136, 115, 198, 45, 99, 95, 179, 136, 454, 121, 127, 340, 126, 142, 138, 145, 362, 276, 125, 178, 428, 260, 110, 175, 113, 232, 117, 203, 185, 160, 230, 194, 327, 114, 143, 769, 285, 869, 302, 52, 197, 197, 146, 405, 159, 139, 126, 222, 144, 443, 116, 446, 82, 126, 99, 214, 216, 174, 469, 265, 392, 127, 108, 228, 123, 302, 236, 222, 124, 134, 115, 576, 326, 340, 173, 152, 176, 96, 159, 166, 347, 350, 186, 140, 674, 132, 154, 94, 320, 490, 86, 112, 115, 611, 285, 162, 135, 157, 138, 177, 734, 330, 370, 45, 124, 129, 210, 250, 57, 365, 114, 183, 258, 356, 522, 79, 435, 90, 270, 127, 111, 201, 135, 593, 110, 61, 585, 176, 217, 144, 64, 252, 143, 244, 773, 253, 386, 118, 335, 75, 320, 133, 129, 379, 159, 137, 42, 115, 588, 159, 146, 235, 146, 267, 91, 520, 262, 211, 41, 204, 228, 125, 465, 357, 409, 179, 49, 54, 257, 488, 236, 140, 99, 253, 371, 90, 177, 129, 110, 878, 636, 112, 269, 159, 168, 202, 92, 137, 201, 104, 133, 96, 221, 158, 237, 380, 87, 120, 363, 118, 102, 138, 106, 368, 125, 590, 116, 121, 103, 138, 287, 305, 66, 123, 159, 56, 443, 107, 174, 94, 201, 112, 72, 270, 189, 146, 165, 618, 104, 120, 140, 285, 252, 241, 117, 129, 358, 303, 206, 62, 140, 723, 354, 267, 109, 191, 357, 186, 138, 117, 194, 135, 92, 188, 112, 384, 280, 128, 135, 185, 298, 469, 120, 111, 62, 136, 148, 234, 118, 130, 171, 224, 285, 168, 155, 146, 118, 310, 219, 281, 280, 154, 122, 206, 148, 107, 188, 190, 146, 221, 121, 95, 182, 234, 222, 180, 504, 136, 130, 731, 126, 233, 120, 445, 81, 203, 125, 116, 187, 166, 51, 46, 70, 226, 245, 119, 160, 244, 217, 535, 639, 187, 146, 805, 195, 47, 53, 216, 298, 129, 327, 167, 310, 124, 148, 109, 241, 142, 109, 307, 249, 373, 152, 244, 371, 323, 77, 335, 285, 273, 261, 712, 288, 163, 172, 35, 100, 116, 176, 389, 496, 120, 133, 117, 128, 119, 121, 154, 194, 140, 50, 106, 79, 226, 297, 113, 123, 225, 116, 102, 73, 132, 454, 117, 406, 142, 255, 181, 235, 263, 106, 95, 463, 117, 91, 200, 190, 128, 109, 95, 76, 130, 56, 468, 272, 174, 32, 577, 583, 238, 240, 249, 89, 177, 256, 306, 910, 172, 137, 177, 404, 252, 141, 52, 344, 228, 110, 186, 137, 129, 156, 183, 209, 405, 198, 69, 121, 176, 381, 99, 118, 45, 473, 70, 145, 327, 164, 105, 117, 406, 868, 158, 187, 250, 357, 109, 228, 129, 367, 60, 126, 271, 437, 365, 243, 108, 259, 146, 125, 134, 392, 115, 258, 163, 101, 216, 283, 165, 335, 138, 1274, 188, 453, 157, 144, 243, 109, 128, 406, 269, 123, 653, 430, 265, 291, 339, 121, 129, 84, 83, 102, 153, 166, 483, 179, 112, 181, 197, 138, 97, 355, 68, 162, 239, 223, 128, 115, 342, 267, 126, 127, 71, 155, 154, 100, 627, 175, 189, 282, 144, 215, 190, 490, 106, 165, 39, 318, 140, 239, 441, 323, 124, 68, 125, 140, 182, 79, 129, 73, 554, 139, 108, 361, 116, 91, 328, 168, 139, 99, 336, 444, 423, 121, 118, 94, 130, 183, 76, 457, 207, 139, 166, 92, 329, 194, 179, 186, 111, 232, 190, 129, 211, 191, 121, 509, 115, 129, 147, 313, 103, 234, 119, 176, 166, 74, 274, 359, 308, 198, 270, 185, 214, 143, 131, 173, 212, 287, 157, 201, 246, 110, 166, 314, 288, 113, 173, 134, 103, 138, 790, 104, 62, 70, 133, 165, 240, 183, 181, 178, 722, 400, 241, 174, 30, 125, 218, 111, 534, 165, 227, 353, 152, 117, 249, 116, 118, 122, 277, 232, 140, 139, 104, 42, 131, 332, 243, 359, 110, 141, 290, 695, 108, 104, 606, 44, 257, 58, 419, 277, 263, 86, 173, 148, 129, 176, 873, 240, 149, 146, 315, 241, 347, 489, 78, 180, 31, 77, 150, 153, 100, 290, 74, 76, 308, 213, 156, 373, 129, 213, 56, 224, 178, 166, 327, 490, 442, 234, 114, 203, 495, 335, 242, 85, 337, 351, 140, 403, 411, 709, 163, 138, 181, 118, 379, 376, 17, 171, 287, 54, 47, 135, 126, 360, 39, 162, 107, 235, 253, 123, 114, 533, 568, 223, 117, 144, 106, 150, 347, 388, 234, 100, 134, 197, 168, 157, 237, 156, 114, 325, 118, 127, 173, 472, 752, 159, 360, 296, 58, 161, 55, 136, 181, 206, 154, 208, 241, 138, 53, 156, 144, 285, 345, 760, 178, 109, 75, 145, 495, 442, 439, 129, 118, 619, 102, 123, 302, 116, 194, 160, 86, 176, 127, 82, 101, 578, 96, 110, 115, 311, 197, 163, 132, 291, 64, 103, 627, 300, 164, 203, 188, 707, 185, 280, 173, 107, 45, 185, 145, 127, 282, 112, 137, 324, 252, 250, 892, 62, 143, 368, 113, 294, 167, 251, 65, 169, 117, 129, 241, 182, 280, 180, 120, 346, 37, 121, 111, 378, 94, 92, 241, 471, 118, 155, 131, 47, 167, 297, 288, 145, 288, 352, 119, 121, 149, 58, 144, 165, 308, 91, 226, 135, 178, 96, 180, 239, 125, 105, 490, 117, 114, 395, 307, 121, 228, 186, 249, 115, 125, 128, 117, 103, 241, 168, 182, 234, 111, 377, 183, 104, 460, 117, 120, 102, 66, 88, 331, 116, 154, 123, 187, 123, 185, 108, 278, 169, 449, 232, 70, 132, 156, 437, 131, 122, 194, 194, 212, 156, 120, 116, 102, 202, 101, 118, 76, 222, 357, 144, 285, 115, 120, 76, 175, 157, 292, 155, 180, 694, 156, 421, 550, 298, 203, 315, 136, 142, 123, 111, 173, 84, 315, 138, 170, 68, 95, 181, 149, 150, 108, 127, 138, 174, 202, 155, 311, 145, 152, 745, 172, 112, 264, 104, 109, 909, 184, 71, 539, 128, 121, 171, 402, 85, 162, 113, 151, 116, 112, 151, 168, 124, 125, 386, 113, 68, 73, 108, 104, 49, 260, 316, 401, 146, 155, 234, 229, 102, 309, 256, 145, 141, 112, 71, 261, 203, 160, 247, 187, 77, 209, 116, 121, 202, 144, 135, 145, 138, 512, 170, 65, 204, 243, 117, 118, 289, 223, 75, 390, 104, 190, 89, 462, 128, 196, 171, 246, 105, 47, 81, 223, 245, 165, 335, 122, 120, 105, 129, 123, 119, 109, 106, 164, 129, 296, 379, 394, 185, 526, 200, 137, 233, 321, 171, 853, 468, 105, 302, 159, 102, 212, 109, 158, 194, 42, 342, 135, 52, 114, 158, 283, 103, 128, 78, 239, 147, 46, 107, 149, 145, 200, 871, 191, 124, 206, 327, 147, 112, 124, 139, 120, 112, 238, 218, 148, 314, 229, 106, 51, 140, 323, 848, 132, 96, 307, 267, 212, 754, 153, 79, 131, 328, 106, 160, 155, 125, 152, 79, 385, 107, 384, 110, 104, 370, 930, 292, 174, 125, 295, 130, 140, 913, 365, 66, 756, 211, 404, 203, 117, 72, 226, 261, 133, 111, 170, 126, 126, 230, 205, 113, 441, 105, 133, 235, 45, 125, 586, 632, 83, 602, 116, 113, 260, 43, 53, 126, 235, 44, 117, 43, 138, 440, 82, 165, 117, 123, 126, 241, 106, 352, 226, 99, 224, 107, 116, 381, 324, 158, 98, 339, 115, 293, 155, 728, 112, 389, 75, 100, 94, 169, 162, 77, 175, 109, 141, 225, 108, 713, 136, 79, 131, 161, 118, 136, 66, 181, 319, 171, 122, 87, 260, 185, 406, 244, 490, 391, 127, 107, 176, 103, 115, 122, 178, 200, 290, 259, 331, 699, 295, 119, 451, 133, 175, 101, 175, 109, 49, 197, 218, 165, 143, 127, 268, 32, 145, 307, 110, 474, 112, 243, 652, 537, 513, 130, 93, 138, 408, 137, 44, 429, 237, 219, 190, 239, 147, 431, 180, 110, 333, 109, 153, 210, 94, 175, 301, 83, 112, 129, 297, 127, 449, 497, 344, 123, 413, 142, 489, 142, 163, 282, 220, 530, 83, 266, 117, 379, 145, 90, 50, 197, 127, 160, 147, 284, 153, 218, 122, 96, 50, 175, 328, 440, 241, 194, 99, 162, 378, 86, 131, 221, 136, 115, 165, 135, 125, 195, 87, 146, 98, 115, 265, 284, 356, 142, 136, 493, 123, 254, 169, 152, 230, 178, 314, 552, 149, 203, 501, 284, 134, 130, 671, 292, 120, 110, 48, 132, 138, 139, 292, 139, 246, 84, 240, 433, 76, 181, 156, 134, 404, 193, 141, 176, 342, 432, 457, 181, 169, 126, 203, 164, 526, 136, 156, 115, 178, 90, 134, 488, 84, 309, 310, 388, 110, 148, 66, 210, 109, 117, 58, 196, 163, 188, 579, 205, 732, 169, 128, 117, 146, 121, 469, 136, 257, 151, 56, 166, 188, 170, 142, 308, 583, 113, 256, 94, 123, 483, 49, 117, 137, 279, 154, 216, 636, 296, 576, 71, 377, 392, 268, 154, 119, 148, 50, 141, 439, 213, 212, 80, 163, 49, 378, 125, 151, 119, 681, 157, 114, 250, 125, 171, 310, 543, 69, 111, 232, 376, 522, 277, 238, 236, 130, 134, 95, 109, 124, 197, 124, 165, 91, 38, 219, 116, 191, 146, 77, 85, 167, 285, 123, 231, 188, 142, 91, 410, 484, 260, 506, 179, 119, 125, 79, 117, 215, 72, 274, 125, 140, 111, 170, 82, 154, 252, 121, 231, 189, 135, 133, 158, 139, 152, 536, 112, 124, 128, 161, 131, 887, 195, 235, 101, 107, 143, 106, 116, 188, 297, 105, 217, 159, 144, 457, 112, 117, 328, 203, 105, 127, 170, 172, 197, 153, 199, 271, 145, 70, 72, 141, 207, 127, 166, 121, 138, 126, 48, 257, 159, 123, 375, 52, 126, 676, 95, 185, 118, 181, 131, 239, 87, 726, 123, 283, 196, 264, 342, 100, 520, 180, 129, 724, 292, 587, 130, 128, 134, 161, 134, 109, 127, 232, 263, 36, 267, 54, 494, 171, 124, 282, 192, 118, 233, 231, 462, 293, 128, 102, 362, 121, 237, 197, 49, 151, 271, 217, 145, 438, 122, 68, 227, 94, 255, 205, 172, 113, 174, 96, 125, 268, 111, 53, 116, 45, 101, 78, 286, 197, 247, 145, 114, 110, 197, 889, 146, 189, 137, 225, 124, 179, 330, 135, 163, 20, 58, 264, 368, 157, 202, 278, 517, 216, 155, 730, 195, 234, 152, 190, 117, 10, 226, 241, 93, 342, 165, 269, 109, 105, 227, 138, 214, 102, 210, 243, 194, 40, 131, 147, 353, 83, 933, 254, 190, 235, 523, 58, 42, 163, 205, 264, 348, 279, 122, 158, 118, 214, 179, 266, 218, 423, 123, 132, 110, 223, 329, 308, 776, 135, 831, 178, 437, 182, 207, 137, 202, 165, 211, 114, 149, 159, 59, 652, 128, 213, 155, 435, 63, 93, 108, 179, 242, 49, 95, 87, 137, 117, 370, 179, 551, 192, 112, 623, 207, 214, 116, 155, 125, 138, 265, 107, 114, 321, 137, 251, 177, 131, 139, 204, 166, 130, 261, 210, 384, 489, 190, 307, 120, 115, 298, 168, 186, 102, 257, 402, 132, 135, 142, 129, 100, 132, 236, 225, 198, 69, 133, 301, 97, 284, 94, 99, 100, 168, 226, 107, 121, 347, 531, 192, 185, 156, 289, 123, 365, 100, 155, 142, 116, 888, 194, 216, 72, 115, 162, 441, 189, 144, 465, 838, 83, 296, 332, 107, 122, 159, 107, 135, 345, 172, 276, 151, 109, 128, 146, 562, 163, 123, 294, 285, 103, 543, 92, 685, 383, 164, 394, 121, 186, 202, 161, 205, 323, 91, 355, 182, 382, 144, 115, 237, 187, 198, 129, 254, 125, 147, 134, 174, 132, 164, 405, 53, 216, 565, 369, 373, 152, 113, 61, 129, 127, 446, 196, 154, 125, 280, 294, 433, 169, 101, 111, 126, 171, 270, 206, 332, 254, 523, 157, 119, 120, 41, 130, 138, 227, 152, 302, 146, 155, 134, 247, 139, 258, 129, 214, 137, 52, 44, 165, 167, 141, 260, 130, 123, 162, 84, 310, 164, 240, 294, 184, 152, 271, 144, 120, 302, 197, 546, 872, 144, 39, 189, 247, 274, 424, 300, 125, 102, 157, 120, 109, 168, 147, 159, 272, 125, 280, 145, 93, 130, 103, 547, 98, 466, 173, 120, 232, 258, 187, 183, 637, 195, 46, 128, 332, 111, 739, 364, 469, 359, 139, 461, 439, 213, 129, 255, 226, 112, 638, 191, 107, 308, 243, 118, 142, 412, 215, 136, 135, 629, 63, 138, 123, 253, 155, 99, 125, 129, 153, 102, 192, 400, 114, 558, 515, 204, 279, 114, 62, 307, 489, 114, 902, 128, 115, 179, 158, 91, 113, 290, 286, 484, 193, 165, 324, 396, 336, 119, 151, 89, 326, 122, 317, 115, 126, 397, 170, 152, 160, 156, 98, 124, 123, 148, 99, 129, 98, 187, 179, 368, 87, 74, 258, 662, 109, 147, 491, 93, 82, 111, 629, 74, 111, 226, 180, 152, 520, 113, 145, 123, 123, 150, 360, 624, 146, 96, 149, 91, 658, 188, 225, 437, 55, 143, 163, 205, 228, 792, 108, 165, 178, 311, 360, 406, 105, 30, 140, 121, 35, 177, 143, 148, 118, 97, 157, 126, 151, 139, 135, 111, 160, 50, 219, 110, 97, 396, 192, 181, 227, 174, 46, 263, 377, 279, 294, 104, 312, 609, 152, 84, 188, 97, 175, 106, 288, 139, 175, 289, 705, 240, 135, 163, 126, 45, 724, 137, 228, 81, 450, 157, 186, 127, 274, 202, 172, 187, 61, 110, 223, 120, 142, 147, 356, 281, 108, 117, 112, 84, 131, 672, 131, 103, 179, 142, 193, 142, 304, 66, 505, 226, 119, 172, 224, 168, 168, 385, 78, 116, 216, 50, 576, 88, 113, 427, 166, 127, 440, 130, 243, 293, 236, 178, 392, 68, 377, 216, 198, 376, 140, 145, 125, 243, 158, 134, 136, 74, 71, 128, 200, 167, 132, 199, 171, 220, 351, 248, 86, 115, 134, 226, 351, 119, 209, 141, 600, 131, 427, 246, 102, 154, 117, 176, 265, 147, 102, 134, 161, 215, 219, 228, 150, 145, 200, 149, 294, 146, 132, 182, 109, 235, 881, 243, 167, 89, 243, 91, 285, 180, 147, 296, 229, 337, 227, 78, 163, 235, 174, 120, 491, 250, 146, 218, 175, 320, 124, 256, 155, 143, 60, 144, 316, 218, 88, 124, 194, 256, 126, 303, 113, 139, 112, 324, 99, 126, 309, 40, 195, 139, 472, 134, 275, 155, 106, 210, 304, 169, 186, 238, 185, 793, 623, 143, 74, 224, 329, 85, 164, 91, 126, 152, 183, 45, 122, 108, 169, 141, 243, 251, 102, 119, 379, 117, 214, 145, 247, 329, 117, 149, 55, 114, 100, 190, 214, 197, 101, 238, 422, 373, 83, 277, 327, 233, 252, 125, 222, 222, 145, 124, 584, 477, 153, 202, 175, 117, 429, 121, 129, 179, 101, 133, 90, 240, 233, 133, 115, 170, 133, 100, 109, 247, 126, 509, 52, 133, 113, 137, 111, 708, 250, 112, 188, 126, 78, 72, 119, 139, 141, 189, 661, 152, 117, 393, 88, 166, 307, 540, 50, 131, 177, 98, 145, 120, 109, 321, 125, 390, 113, 146, 201, 180, 100, 363, 396, 153, 345, 66, 116, 96, 77, 96, 183, 141, 112, 216, 336, 142, 171, 147, 276, 125, 254, 101, 144, 221, 498, 410, 187, 112, 151, 118, 182, 115, 197, 69, 138, 270, 192, 160, 282, 136, 132, 190, 107, 157, 84, 214, 181, 214, 470, 255, 602, 274, 320, 455, 284, 289, 661, 89, 44, 181, 156, 152, 193, 230, 125, 168, 183, 262, 165, 144, 174, 181, 266, 276, 138, 41, 65, 148, 40, 156, 150, 96, 164, 246, 350, 128, 271, 262, 312, 215, 250, 165, 14, 97, 155, 202, 160, 694, 159, 176, 123, 327, 176, 128, 62, 103, 234, 249, 96, 202, 128, 133, 438, 329, 172, 396, 142, 199, 594, 230, 168, 126, 160, 281, 216, 240, 170, 121, 189, 101, 67, 486, 115, 190, 175, 445, 120, 299, 249, 212, 40, 67, 194, 42, 255, 396, 100, 262, 86, 471, 662, 709, 121, 159, 396, 163, 47, 342, 124, 387, 169, 340, 358, 435, 123, 115, 116, 175, 43, 167, 122, 463, 84, 640, 63, 108, 274, 67, 194, 291, 87, 195, 837, 173, 302, 71, 317, 348, 98, 109, 64, 572, 371, 115, 101, 116, 60, 216, 468, 470, 322, 237, 110, 99, 270, 126, 92, 126, 304, 37, 163, 156, 314, 349, 137, 153, 518, 149, 428, 238, 271, 465, 697, 169, 140, 141, 96, 151, 62, 78, 113, 126, 119, 126, 315, 101, 134, 233, 187, 92, 221, 176, 266, 305, 133, 368, 758, 211, 421, 340, 201, 160, 333, 149, 151, 235, 24, 104, 135, 111, 352, 255, 179, 91, 478, 171, 135, 128, 182, 125, 438, 247, 269, 156, 142, 126, 91, 414, 107, 164, 160, 131, 116, 703, 134, 212, 817, 220, 266, 105, 198, 163, 121, 422, 124, 180, 441, 291, 144, 127, 293, 94, 108, 161, 202, 112, 105, 105, 802, 221, 95, 131, 1079, 123, 173, 347, 540, 470, 213, 157, 181, 301, 385, 241, 600, 130, 84, 273, 94, 168, 276, 373, 112, 121, 112, 68, 175, 238, 117, 149, 235, 151, 279, 170, 98, 86, 602, 488, 170, 495, 102, 149, 229, 270, 454, 182, 277, 122, 178, 257, 123, 148, 889, 249, 158, 758, 109, 47, 292, 265, 217, 110, 348, 333, 158, 278, 174, 219, 74, 166, 127, 257, 171, 142, 844, 195, 162, 127, 140, 198, 211, 113, 89, 236, 116, 192, 183, 232, 119, 153, 180, 294, 184, 438, 43, 141, 96, 325, 113, 253, 115, 515, 104, 246, 254, 153, 141, 101, 211, 337, 137, 76, 119, 181, 220, 47, 118, 205, 222, 41, 188, 123, 46, 356, 127, 154, 39, 147, 306, 355, 543, 182, 208, 45, 175, 206, 97, 212, 115, 167, 121, 224, 211, 118, 433, 64, 364, 238, 216, 42, 836, 63, 176, 73, 88, 514, 254, 95, 153, 729, 177, 122, 105, 535, 178, 165, 157, 125, 244, 85, 546, 100, 145, 199, 135, 196, 157, 242, 140, 166, 111, 307, 49, 173, 547, 139, 113, 226, 125, 177, 164, 188, 180, 75, 197, 116, 742, 197, 70, 130, 22, 159, 199, 125, 156, 146, 486, 142, 154, 258, 204, 62, 159, 122, 172, 58, 77, 347, 360, 192, 250, 101, 149, 248, 160, 245, 142, 151, 315, 105, 144, 932, 86, 140, 137, 152, 102, 280, 157, 102, 171, 383, 252, 375, 158, 80, 178, 308, 47, 136, 273, 208, 131, 281, 175, 102, 197, 519, 113, 106, 127, 124, 262, 70, 525, 141, 372, 284, 210, 723, 284, 186, 223, 144, 102, 122, 360, 125, 191, 242, 195, 44, 175, 161, 155, 151, 165, 85, 347, 155, 338, 161, 101, 110, 112, 283, 218, 243, 138, 349, 232, 158, 209, 471, 132, 312, 279, 118, 141, 127, 45, 131, 147, 55, 105, 92, 107, 300, 58, 150, 344, 135, 309, 44, 96, 230, 184, 484, 102, 119, 270, 195, 136, 194, 196, 163, 449, 149, 126, 161, 220, 211, 118, 113, 107, 148, 469, 206, 155, 149, 176, 118, 145, 25, 70, 206, 349, 913, 510, 213, 536, 85, 105, 82, 123, 200, 159, 119, 514, 150, 230, 219, 26, 448, 168, 373, 54, 161, 241, 112, 53, 107, 136, 101, 539, 301, 99, 155, 143, 125, 288, 52, 125, 128, 259, 62, 167, 117, 68, 110, 123, 218, 613, 226, 147, 240, 122, 80, 146, 124, 128, 178, 149, 113, 152, 129, 301, 557, 320, 216, 327, 127, 297, 120, 129, 86, 118, 291, 122, 300, 135, 119, 159, 140, 225, 335, 447, 85, 37, 208, 104, 150, 138, 135, 112, 152, 151, 214, 304, 82, 97, 217, 185, 158, 117, 107, 212, 222, 205, 798, 80, 242, 120, 131, 301, 125, 334, 144, 182, 181, 206, 267, 164, 212, 91, 178, 189, 340, 103, 92, 226, 320, 143, 172, 219, 59, 158, 368, 304, 129, 172, 850, 358, 137, 251, 173, 446, 105, 225, 71, 246, 86, 141, 211, 102, 249, 141, 276, 130, 50, 977, 195, 120, 136, 160, 253, 126, 79, 401, 235, 1315, 205, 156, 178, 104, 107, 104, 186, 504, 312, 324, 237, 134, 420, 258, 106, 88, 282, 56, 205, 112, 126, 104, 89, 235, 504, 421, 94, 740, 121, 120, 399, 57, 174, 532, 373, 138, 244, 134, 167, 100, 124, 454, 613, 181, 155, 74, 195, 427, 281, 126, 91, 165, 137, 139, 147, 268, 114, 118, 539, 137, 188, 402, 257, 115, 116, 199, 135, 136, 168, 519, 585, 191, 378, 114, 78, 76, 142, 158, 192, 424, 127, 287, 273, 138, 153, 40, 141, 293, 326, 122, 214, 136, 139, 156, 298, 59, 163, 111, 301, 161, 150, 104, 174, 34, 340, 131, 116, 57, 66, 184, 76, 150, 231, 144, 231, 155, 91, 118, 79, 329, 147, 101, 142, 196, 784, 233, 178, 327, 172, 540, 86, 128, 114, 163, 133, 88, 352, 154, 122, 194, 35, 133, 162, 45, 120, 136, 318, 824, 304, 121, 194, 173, 197, 124, 222, 116, 51, 358, 379, 159, 165, 166, 309, 153, 893, 152, 126, 188, 398, 727, 124, 136, 110, 182, 234, 225, 181, 121, 327, 132, 313, 272, 153, 60, 409, 83, 112, 104, 119, 151, 116, 143, 210, 205, 218, 389, 146, 125, 240, 267, 419, 270, 152, 174, 149, 135, 294, 70, 217, 153, 158, 122, 169, 168, 528, 46, 91, 357, 131, 198, 96, 216, 125, 237, 472, 154, 95, 282, 224, 157, 214, 144, 649, 274, 144, 119, 155, 130, 34, 99, 184, 128, 318, 132, 182, 101, 69, 132, 182, 92, 178, 57, 379, 74, 150, 233, 71, 118, 370, 101, 69, 148, 215, 127, 320, 78, 325, 133, 230, 90, 131, 100, 166, 69, 203, 188, 212, 247, 274, 255, 319, 228, 630, 282, 166, 114, 164, 110, 147, 570, 493, 121, 38, 144, 146, 495, 65, 113, 130, 213, 124, 162, 414, 121, 128, 325, 655, 570, 126, 89, 118, 69, 316, 61, 390, 263, 458, 218, 128, 94, 357, 349, 401, 250, 236, 180, 129, 123, 117, 181, 132, 419, 144, 194, 124, 219, 155, 317, 71, 100, 118, 363, 136, 57, 378, 567, 128, 108, 119, 208, 77, 213, 93, 200, 185, 286, 246, 180, 248, 165, 636, 253, 269, 248, 81, 728, 148, 168, 186, 66, 81, 672, 345, 129, 145, 89, 200, 112, 449, 317, 347, 196, 80, 158, 131, 287, 166, 149, 136, 94, 170, 344, 124, 247, 278, 278, 90, 132, 175, 211, 133, 53, 219, 359, 206, 331, 202, 57, 264, 332, 290, 790, 188, 906, 840, 204, 81, 55, 181, 164, 130, 252, 209, 409, 141, 186, 193, 117, 315, 662, 336, 213, 431, 134, 333, 220, 281, 142, 744, 477, 63, 79, 74, 125, 171, 168, 254, 212, 259, 191, 152, 110, 116, 242, 119, 86, 62, 137, 273, 236, 125, 119, 309, 150, 293, 212, 159, 334, 45, 106, 160, 171, 121, 140, 129, 219, 51, 96, 138, 177, 121, 89, 199, 133, 259, 106, 61, 284, 468, 105, 45, 256, 103, 356, 78, 213, 96, 203, 177, 144, 431, 331, 206, 130, 168, 139, 133, 712, 69, 278, 126, 287, 190, 144, 162, 132, 201, 103, 272, 323, 182, 291, 136, 80, 353, 85, 128, 745, 120, 213, 123, 160, 734, 128, 308, 261, 104, 128, 324, 99, 264, 201, 233, 119, 206, 117, 173, 210, 51, 121, 129, 131, 92, 293, 101, 302, 147, 472, 132, 228, 124, 174, 290, 323, 192, 328, 164, 274, 49, 120, 56, 215, 151, 256, 418, 283, 117, 127, 43, 98, 108, 186, 369, 104, 140, 743, 65, 152, 171, 148, 154, 143, 51, 149, 605, 184, 273, 196, 235, 191, 145, 106, 337, 525, 141, 130, 222, 91, 346, 160, 444, 159, 182, 112, 111, 238, 137, 147, 137, 240, 129, 247, 171, 197, 207, 301, 586, 61, 136, 194, 165, 33, 233, 87, 176, 170, 192, 154, 603, 148, 175, 240, 232, 108, 190, 231, 118, 234, 117, 388, 78, 267, 175, 70, 212, 135, 291, 280, 123, 76, 165, 136, 518, 240, 328, 213, 125, 266, 293, 138, 126, 244, 533, 230, 132, 134, 164, 121, 245, 256, 84, 136, 87, 221, 258, 308, 166, 60, 146, 253, 313, 124, 296, 472, 66, 98, 156, 89, 107, 163, 284, 331, 121, 119, 525, 149, 115, 438, 304, 117, 117, 544, 242, 643, 182, 261, 141, 123, 96, 96, 222, 178, 134, 254, 206, 141, 91, 275, 302, 252, 203, 93, 181, 369, 408, 148, 111, 181, 106, 877, 72, 136, 127, 141, 170, 111, 144, 98, 92, 140, 120, 118, 291, 183, 463, 190, 425, 41, 44, 135, 44, 113, 127, 346, 201, 44, 167, 90, 124, 177, 102, 126, 504, 167, 201, 149, 159, 114, 54, 185, 232, 90, 113, 214, 145, 102, 106, 162, 421, 135, 224, 167, 116, 138, 79, 190, 113, 185, 402, 432, 109, 76, 151, 281, 121, 197, 135, 212, 178, 542, 95, 157, 406, 147, 129, 213, 475, 138, 115, 364, 129, 80, 374, 111, 102, 147, 155, 185, 133, 153, 201, 234, 112, 133, 113, 100, 141, 144, 144, 115, 179, 212, 174, 210, 126, 237, 318, 150, 107, 102, 101, 532, 248, 140, 222, 53, 185, 462, 153, 145, 258, 435, 191, 49, 80, 170, 94, 252, 142, 666, 283, 143, 501, 463, 197, 311, 320, 119, 77, 111, 257, 179, 174, 189, 366, 404, 94, 236, 135, 374, 125, 65, 331, 194, 100, 242, 520, 724, 258, 42, 165, 238, 179, 316, 98, 153, 147, 195, 161, 129, 302, 311, 295, 127, 97, 166, 370, 729, 134, 447, 242, 145, 150, 190, 121, 419, 67, 139, 326, 800, 221, 335, 229, 171, 117, 115, 45, 212, 86, 232, 151, 200, 63, 143, 230, 163, 140, 175, 162, 208, 453, 47, 172, 413, 154, 127, 131, 124, 99, 216, 115, 485, 181, 230, 115, 333, 156, 836, 194, 94, 194, 66, 459, 79, 241, 142, 109, 180, 126, 284, 864, 130, 122, 229, 131, 155, 351, 137, 360, 113, 157, 139, 80, 69, 378, 211, 263, 42, 339, 90, 244, 115, 228, 372, 349, 250, 340, 336, 126, 487, 219, 466, 314, 189, 787, 298, 615, 135, 171, 270, 573, 748, 332, 124, 145, 136, 206, 115, 748, 143, 803, 321, 480, 162, 161, 127, 98, 340, 165, 163, 95, 117, 67, 167, 122, 172, 369, 164, 171, 152, 120, 135, 177, 192, 149, 206, 13, 63, 356, 72, 145, 67, 237, 180, 530, 143, 271, 84, 203, 214, 373, 70, 124, 115, 124, 424, 252, 46, 42, 147, 229, 400, 379, 128, 145, 137, 110, 200, 66, 113, 183, 126, 121, 186, 406, 376, 379, 409, 224, 177, 318, 63, 95, 182, 290, 557, 154, 146, 580, 153, 111, 181, 294, 50, 106, 131, 224, 248, 138, 239, 186, 195, 74, 823, 97, 134, 324, 128, 128, 119, 185, 158, 162, 211, 735, 126, 148, 159, 127, 171, 131, 105, 396, 224, 350, 212, 76, 141, 567, 136, 154, 65, 137, 96, 117, 139, 545, 110, 153, 697, 857, 240, 74, 148, 186, 185, 141, 237, 367, 386, 298, 157, 151, 150, 188, 47, 52, 179, 173, 114, 502, 115, 118, 47, 436, 109, 143, 276, 250, 101, 102, 161, 139, 430, 302, 157, 167, 520, 165, 117, 872, 128, 490, 258, 114, 207, 64, 228, 290, 417, 114, 134, 203, 276, 266, 395, 133, 256, 186, 230, 649, 188, 172, 284, 434, 327, 377, 137, 242, 339, 145, 137, 164, 106, 521, 74, 58, 167, 135, 168, 179, 48, 168, 133, 146, 107, 131, 188, 462, 129, 308, 102, 209, 246, 622, 162, 402, 295, 199, 172, 85, 389, 265, 207, 342, 395, 206, 302, 80, 119, 128, 351, 129, 151, 77, 343, 118, 233, 219, 183, 137, 134, 137, 303, 213, 106, 362, 238, 117, 211, 48, 160, 192, 229, 318, 349, 211, 139, 166, 201, 209, 220, 129, 260, 224, 182, 127, 254, 227, 118, 130, 233, 159, 131, 116, 122, 132, 113, 90, 201, 43, 523, 144, 226, 745, 154, 476, 764, 180, 271, 185, 237, 139, 214, 264, 93, 231, 95, 163, 154, 114, 736, 171, 80, 136, 169, 68, 214, 278, 284, 146, 81, 143, 51, 136, 52, 243, 103, 246, 102, 211, 107, 494, 311, 199, 108, 279, 175, 47, 167, 196, 146, 43, 110, 129, 198, 167, 60, 147, 74, 117, 52, 169, 75, 135, 161, 134, 144, 109, 107, 159, 113, 259, 120, 116, 134, 296, 112, 452, 124, 139, 161, 193, 847, 84, 256, 212, 100, 90, 83, 115, 211, 138, 374, 534, 386, 224, 147, 454, 96, 329, 339, 635, 100, 116, 146, 257, 325, 176, 135, 107, 151, 115, 110, 162, 107, 158, 102, 701, 103, 188, 144, 201, 86, 152, 119, 188, 476, 492, 108, 110, 136, 244, 69, 139, 284, 114, 173, 140, 234, 133, 512, 258, 116, 126, 136, 181, 260, 80, 277, 123, 182, 334, 67, 109, 159, 171, 113, 67, 192, 253, 268, 183, 97, 165, 228, 123, 81, 95, 652, 473, 112, 580, 16, 322, 131, 108, 146, 211, 54, 271, 91, 437, 61, 405, 942, 253, 128, 143, 150, 137, 185, 171, 176, 116, 522, 147, 144, 264, 118, 573, 277, 195, 126, 66, 134, 233, 426, 83, 113, 240, 90, 107, 518, 93, 71, 159, 166, 113, 184, 159, 254, 188, 323, 205, 132, 179, 188, 165, 35, 109, 58, 131, 128, 271, 77, 36, 260, 139, 458, 116, 172, 195, 169, 99, 219, 144, 128, 224, 110, 339, 127, 239, 80, 131, 48, 200, 177, 261, 137, 202, 193, 150, 173, 118, 119, 114, 146, 274, 331, 96, 78, 103, 189, 215, 188, 515, 55, 380, 125, 148, 150, 428, 130, 104, 71, 192, 132, 200, 177, 154, 194, 209, 459, 108, 157, 327, 103, 159, 274, 62, 104, 139, 48, 574, 115, 953, 437, 533, 188, 107, 110, 145, 67, 131, 104, 130, 347, 404, 48, 406, 357, 308, 177, 218, 344, 202, 151, 30, 207, 157, 120, 68, 711, 179, 225, 172, 226, 127, 114, 47, 147, 451, 178, 109, 508, 139, 229, 539, 495, 265, 155, 135, 128, 146, 118, 112, 110, 103, 121, 200, 266, 139, 204, 291, 204, 116, 248, 157, 275, 120, 211, 185, 135, 71, 44, 123, 895, 192, 46, 598, 174, 50, 66, 135, 123, 200, 33, 137, 171, 386, 785, 107, 134, 142, 142, 255, 290, 446, 295, 54, 143, 167, 87, 78, 30, 126, 166, 29, 64, 199, 550, 194, 236, 116, 430, 160, 113, 167, 37, 175, 128, 67, 275, 136, 351, 522, 131, 134, 215, 160, 103, 210, 157, 358, 312, 125, 559, 93, 110, 68, 282, 96, 252, 119, 112, 89, 179, 343, 136, 188, 202, 139, 128, 364, 129, 223, 264, 44, 567, 529, 219, 143, 80, 55, 388, 153, 297, 155, 109, 50, 179, 166, 388, 101, 104, 283, 297, 302, 158, 41, 100, 82, 182, 60, 158, 186, 182, 121, 115, 169, 169, 429, 119, 180, 122, 580, 447, 314, 62, 133, 337, 41, 167, 101, 187, 99, 219, 53, 211, 205, 245, 77, 157, 426, 172, 241, 111, 112, 48, 149, 122, 133, 102, 87, 83, 91, 226, 111, 139, 153, 163, 302, 69, 75, 135, 527, 233, 192, 129, 146, 191, 927, 375, 147, 211, 268, 164, 151, 219, 283, 252, 116, 71, 138, 271, 51, 43, 205, 109, 119, 125, 640, 77, 450, 259, 198, 251, 159, 169, 111, 130, 119, 212, 291, 94, 274, 77, 110, 395, 693, 121, 360, 136, 135, 429, 470, 219, 96, 116, 133, 154, 566, 211, 485, 118, 82, 353, 203, 290, 251, 208, 110, 440, 121, 125, 362, 423, 149, 222, 125, 432, 511, 157, 161, 125, 38, 198, 719, 186, 98, 58, 108, 56, 159, 119, 260, 100, 321, 184, 462, 587, 409, 112, 117, 210, 368, 243, 255, 121, 74, 283, 259, 490, 131, 248, 450, 129, 118, 119, 318, 113, 134, 34, 285, 450, 289, 237, 152, 173, 120, 238, 220, 80, 207, 485, 418, 260, 134, 126, 321, 527, 405, 534, 109, 316, 59, 267, 125, 140, 99, 213, 304, 81, 102, 169, 118, 143, 371, 134, 88, 587, 159, 249, 178, 136, 165, 44, 110, 60, 117, 229, 467, 107, 125, 150, 149, 610, 169, 272, 136, 113, 117, 333, 303, 101, 199, 102, 373, 118, 610, 67, 68, 67, 122, 93, 142, 129, 146, 194, 911, 135, 410, 157, 218, 98, 137, 86, 138, 96, 167, 87, 316, 103, 95, 108, 207, 222, 100, 227, 270, 415, 256, 123, 123, 38, 229, 439, 546, 45, 165, 149, 161, 132, 135, 214, 119, 121, 223, 88, 127, 232, 138, 641, 93, 712, 381, 109, 252, 472, 420, 77, 108, 261, 113, 178, 800, 352, 165, 51, 118, 455, 48, 459, 207, 487, 125, 220, 266, 117, 133, 104, 68, 382, 268, 125, 160, 126, 456, 142, 124, 132, 153, 156, 97, 129, 610, 318, 193, 98, 132, 206, 259, 146, 130, 112, 101, 157, 808, 123, 120, 144, 388, 132, 75, 147, 95, 116, 125, 66, 122, 113, 259, 322, 171, 79, 60, 55, 65, 59, 461, 202, 202, 133, 80, 210, 140, 299, 43, 127, 190, 284, 234, 847, 213, 166, 78, 38, 495, 117, 117, 130, 345, 133, 127, 55, 462, 164, 115, 472, 234, 233, 253, 192, 214, 73, 214, 142, 109, 38, 125, 402, 107, 225, 306, 88, 156, 62, 244, 526, 38, 439, 177, 198, 169, 109, 150, 193, 161, 229, 180, 78, 563, 148, 103, 96, 228, 146, 153, 204, 127, 208, 139, 406, 133, 119, 354, 116, 120, 125, 55, 119, 203, 153, 243, 151, 167, 651, 81, 47, 109, 768, 179, 118, 487, 54, 355, 329, 184, 29, 74, 50, 304, 170, 438, 158, 633, 267, 221, 422, 66, 184, 139, 497, 239, 98, 150, 203, 89, 226, 99, 155, 153, 77, 513, 365, 839, 165, 226, 207, 103, 37, 113, 343, 268, 146, 239, 118, 138, 877, 231, 325, 330, 940, 144, 91, 95, 513, 125, 180, 741, 128, 212, 871, 198, 400, 128, 123, 125, 473, 67, 169, 111, 423, 107, 495, 352, 281, 330, 238, 235, 296, 106, 107, 203, 254, 110, 168, 135, 197, 101, 345, 131, 110, 134, 144, 112, 264, 366, 187, 118, 409, 261, 343, 127, 148, 76, 297, 262, 378, 201, 156, 518, 175, 188, 150, 115, 52, 133, 144, 301, 164, 180, 123, 60, 93, 60, 180, 571, 36, 559, 336, 96, 62, 139, 158, 143, 573, 238, 189, 174, 73, 73, 217, 295, 112, 517, 306, 213, 106, 280, 93, 388, 119, 228, 120, 276, 274, 185, 348, 169, 521, 287, 139, 99, 94, 73, 74, 172, 220, 152, 110, 375, 147, 121, 772, 292, 114, 519, 74, 101, 136, 198, 117, 328, 159, 148, 303, 145, 225, 43, 235, 236, 291, 160, 210, 155, 124, 315, 135, 440, 120, 474, 109, 148, 346, 430, 124, 140, 64, 127, 282, 439, 202, 182, 106, 367, 406, 369, 121, 130, 149, 148, 108, 370, 238, 231, 137, 639, 87, 196, 119, 256, 281, 110, 257, 163, 114, 255, 112, 394, 49, 56, 236, 244, 133, 178, 73, 267, 194, 230, 225, 216, 150, 927, 218, 118, 157, 285, 332, 140, 160, 74, 127, 47, 348, 109, 60, 160, 167, 107, 193, 196, 107, 337, 520, 142, 138, 837, 56, 514, 154, 90, 134, 133, 57, 125, 172, 387, 51, 44, 277, 155, 248, 130, 239, 163, 66, 126, 53, 124, 804, 130, 133, 186, 114, 100, 162, 71, 264, 191, 59, 137, 153, 314, 88, 55, 252, 239, 145, 49, 159, 180, 268, 101, 188, 51, 303, 233, 167, 144, 273, 102, 638, 297, 59, 115, 99, 155, 101, 453, 234, 255, 85, 203, 129, 142, 368, 124, 94, 164, 292, 66, 209, 396, 130, 90, 250, 319, 154, 391, 141, 208, 63, 95, 382, 51, 132, 157, 196, 89, 79, 202, 251, 446, 202, 103, 108, 105, 430, 71, 121, 326, 115, 160, 307, 122, 93, 140, 335, 155, 789, 210, 120, 106, 427, 222, 208, 278, 235, 189, 165, 165, 786, 118, 241, 153, 286, 468, 150, 109, 169, 115, 151, 164, 123, 27, 109, 106, 267, 549, 112, 415, 346, 654, 34, 122, 216, 156, 143, 98, 90, 17, 153, 194, 122, 78, 187, 118, 99, 675, 296, 292, 189, 388, 831, 166, 393, 131, 319, 510, 594, 281, 157, 8, 440, 145, 144, 457, 166, 220, 426, 80, 739, 43, 133, 121, 252, 147, 319, 143, 170, 108, 117, 141, 124, 165, 72, 253, 205, 169, 215, 704, 146, 48, 186, 308, 115, 89, 291, 104, 258, 138, 144, 636, 27, 220, 166, 528, 123, 151, 110, 111, 108, 126, 232, 612, 51, 106, 175, 338, 529, 326, 94, 221, 224, 154, 129, 136, 220, 266, 59, 712, 505, 180, 162, 119, 496, 503, 142, 181, 129, 61, 200, 104, 295, 208, 418, 69, 157, 449, 249, 123, 124, 131, 198, 75, 388, 151, 163, 501, 152, 403, 266, 135, 106, 101, 95, 172, 210, 427, 132, 143, 213, 92, 244, 184, 127, 63, 94, 324, 339, 107, 146, 514, 258, 148, 192, 129, 45, 138, 346, 127, 279, 742, 156, 146, 118, 131, 132, 164, 67, 106, 133, 309, 169, 263, 128, 180, 101, 137, 180, 202, 64, 44, 80, 208, 333, 433, 244, 120, 103, 125, 214, 82, 524, 352, 106, 109, 123, 205, 110, 169, 74, 477, 141, 120, 522, 114, 107, 94, 159, 127, 120, 129, 391, 63, 119, 181, 111, 534, 422, 409, 281, 59, 150, 153, 329, 159, 54, 121, 189, 160, 193, 33, 252, 216, 138, 208, 361, 178, 172, 89, 72, 333, 193, 231, 183, 157, 228, 135, 121, 211, 489, 353, 124, 388, 117, 122, 171, 102, 109, 144, 98, 169, 170, 158, 208, 113, 101, 83, 420, 123, 114, 411, 431, 430, 156, 111, 128, 203, 110, 362, 111, 529, 91, 154, 563, 57, 306, 842, 201, 61, 130, 173, 555, 338, 105, 423, 161, 152, 150, 173, 240, 342, 147, 151, 253, 193, 455, 105, 194, 376, 43, 368, 369, 659, 651, 118, 80, 270, 150, 159, 643, 117, 99, 106, 77, 94, 201, 134, 204, 146, 301, 682, 176, 385, 186, 75, 116, 503, 200, 482, 136, 221, 220, 295, 94, 50, 214, 120, 356, 120, 388, 107, 109, 366, 316, 99, 184, 273, 902, 148, 150, 578, 49, 67, 118, 56, 126, 209, 253, 646, 113, 187, 100, 179, 237, 414, 65, 49, 278, 113, 101, 134, 126, 92, 206, 182, 196, 123, 553, 205, 100, 54, 172, 169, 115, 239, 57, 466, 168, 321, 134, 511, 145, 354, 372, 153, 304, 249, 69, 157, 149, 230, 125, 538, 266, 135, 40, 138, 201, 639, 987, 390, 146, 500, 122, 202, 275, 51, 214, 103, 115, 323, 464, 137, 121, 98, 193, 178, 47, 150, 902, 32, 127, 147, 154, 159, 129, 110, 59, 152, 49, 254, 48, 102, 233, 144, 264, 87, 52, 117, 174, 171, 793, 56, 227, 123, 136, 149, 134, 278, 219, 116, 151, 162, 185, 128, 179, 120, 155, 281, 148, 99, 80, 211, 225, 122, 83, 152, 200, 137, 433, 62, 170, 184, 214, 331, 205, 138, 253, 81, 74, 130, 177, 36, 553, 662, 403, 254, 530, 149, 663, 269, 90, 466, 147, 107, 161, 117, 496, 298, 194, 172, 214, 174, 680, 60, 150, 183, 126, 215, 174, 378, 332, 285, 181, 322, 328, 62, 134, 80, 240, 103, 133, 178, 273, 128, 205, 116, 168, 288, 118, 61, 114, 493, 143, 89, 112, 102, 208, 172, 134, 38, 102, 340, 202, 259, 168, 124, 170, 120, 278, 335, 773, 119, 514, 146, 330, 258, 177, 77, 130, 538, 262, 214, 159, 203, 224, 226, 70, 183, 63, 86, 173, 199, 114, 286, 118, 64, 87, 101, 159, 299, 547, 202, 237, 201, 127, 207, 120, 238, 226, 149, 120, 135, 445, 83, 399, 378, 166, 393, 114, 248, 156, 213, 230, 349, 248, 149, 203, 133, 161, 166, 105, 237, 227, 517, 518, 156, 441, 167, 82, 173, 503, 114, 104, 46, 115, 115, 156, 23, 53, 129, 128, 142, 83, 330, 155, 181, 116, 126, 147, 94, 217, 108, 495, 123, 119, 270, 132, 139, 303, 38, 131, 177, 158, 173, 378, 219, 112, 167, 149, 514, 140, 33, 95, 60, 264, 153, 331, 246, 141, 161, 76, 533, 171, 70, 921, 130, 80, 117, 102, 102, 160, 159, 168, 606, 145, 754, 122, 147, 42, 80, 129, 119, 182, 217, 222, 124, 418, 66, 156, 244, 298, 140, 157, 451, 195, 210, 480, 101, 135, 57, 171, 62, 187, 22, 265, 371, 105, 103, 107, 123, 157, 330, 43, 188, 254, 118, 566, 151, 24, 640, 144, 334, 120, 646, 342, 150, 211, 32, 196, 160, 221, 229, 184, 168, 166, 169, 150, 375, 206, 188, 114, 91, 143, 545, 121, 177, 82, 87, 173, 160, 127, 141, 46, 137, 191, 133, 446, 182, 77, 703, 123, 308, 98, 115, 281, 232, 66, 102, 47, 147, 132, 155, 146, 209, 410, 128, 40, 392, 221, 354, 135, 761, 137, 133, 145, 209, 134, 282, 53, 122, 151, 328, 305, 429, 105, 156, 180, 114, 96, 100, 46, 770, 124, 115, 382, 439, 89, 241, 121, 151, 130, 809, 146, 155, 416, 134, 41, 190, 91, 134, 149, 127, 87, 108, 119, 129, 145, 194, 186, 136, 202, 244, 168, 316, 80, 103, 339, 1470, 123, 222, 130, 105, 243, 67, 127, 127, 138, 184, 61, 188, 243, 156, 95, 112, 137, 281, 141, 101, 138, 159, 140, 212, 146, 182, 93, 179, 110, 107, 103, 182, 59, 117, 112, 54, 529, 124, 79, 134, 238, 258, 137, 448, 119, 221, 89, 230, 137, 312, 104, 69, 95, 916, 253, 99, 276, 112, 477, 401, 100, 127, 217, 265, 211, 223, 72, 277, 557, 219, 307, 108, 155, 115, 143, 172, 151, 173, 257, 512, 171, 378, 240, 181, 114, 182, 50, 113, 203, 254, 270, 196, 79, 128, 75, 175, 20, 277, 174, 251, 209, 58, 308, 276, 229, 119, 150, 438, 126, 446, 388, 266, 890, 107, 102, 279, 227, 93, 212, 143, 96, 126, 127, 330, 125, 98, 102, 353, 75, 149, 155, 62, 123, 246, 28, 154, 58, 133, 313, 267, 217, 209, 56, 51, 58, 134, 143, 155, 294, 175, 341, 110, 221, 124, 130, 250, 112, 137, 196, 159, 14, 171, 148, 153, 125, 85, 117, 232, 99, 143, 85, 62, 65, 453, 75, 49, 259, 46, 198, 809, 157, 37, 174, 98, 121, 27, 136, 218, 137, 430, 205, 470, 225, 74, 111, 208, 202, 317, 299, 103, 352, 237, 239, 141, 121, 277, 43, 267, 435, 135, 266, 166, 97, 84, 122, 191, 172, 179, 143, 348, 113, 123, 267, 283, 326, 125, 473, 115, 104, 97, 206, 229, 170, 312, 142, 483, 77, 129, 95, 154, 192, 92, 320, 220, 277, 177, 129, 143, 106, 199, 189, 37, 123, 122, 82, 197, 65, 181, 98, 128, 294, 681, 144, 49, 248, 209, 582, 168, 531, 205, 227, 101, 129, 116, 258, 276, 154, 95, 126, 527, 424, 132, 64, 61, 122, 258, 57, 202, 216, 117, 257, 99, 132, 106, 214, 317, 180, 180, 283, 209, 40, 362, 119, 112, 71, 160, 286, 135, 320, 131, 129, 174, 65, 127, 132, 140, 174, 92, 152, 295, 141, 101, 194, 127, 536, 86, 370, 432, 280, 107, 66, 247, 727, 162, 300, 129, 114, 45, 290, 257, 132, 191, 127, 124, 326, 76, 116, 201, 223, 127, 238, 70, 76, 104, 178, 212, 347, 127, 468, 163, 185, 46, 150, 124, 119, 157, 876, 110, 59, 121, 55, 72, 167, 877, 248, 100, 135, 222, 547, 139, 108, 154, 377, 336, 107, 117, 656, 72, 131, 95, 256, 44, 323, 555, 126, 62, 110, 45, 401, 297, 92, 64, 194, 329, 109, 129, 81, 190, 407, 72, 324, 427, 174, 169, 143, 213, 42, 304, 152, 143, 127, 524, 258, 75, 142, 136, 134, 72, 244, 202, 113, 152, 70, 170, 147, 119, 105, 139, 265, 48, 174, 109, 175, 234, 130, 37, 166, 611, 118, 53, 97, 329, 64, 49, 191, 135, 102, 92, 189, 89, 139, 161, 45, 110, 165, 173, 77, 23, 370, 106, 215, 273, 360, 67, 146, 22, 146, 117, 287, 311, 145, 93, 142, 58, 122, 151, 168, 96, 375, 150, 53, 143, 88, 392, 193, 103, 118, 285, 71, 306, 112, 124, 117, 119, 96, 94, 172, 100, 117, 309, 132, 324, 154, 173, 32, 456, 915, 306, 284, 288, 102, 193, 152, 114, 62, 326, 295, 151, 139, 158, 69, 198, 107, 269, 135, 114, 228, 599, 721, 82, 241, 173, 466, 220, 291, 78, 59, 149, 158, 660, 92, 129, 133, 383, 127, 162, 318, 189, 612, 346, 176, 281, 168, 292, 129, 118, 135, 731, 178, 474, 396, 147, 133, 161, 115, 84, 153, 196, 129, 573, 329, 65, 94, 344, 153, 69, 153, 105, 126, 105, 440, 214, 58, 47, 130, 154, 101, 528, 211, 106, 173, 156, 260, 116, 120, 175, 746, 304, 296, 139, 91, 965, 185, 157, 125, 404, 251, 319, 97, 214, 338, 664, 349, 120, 122, 268, 256, 89, 131, 273, 297, 307, 548, 478, 166, 280, 176, 147, 486, 363, 320, 345, 121, 233, 296, 277, 29, 267, 148, 303, 405, 129, 151, 67, 87, 135, 177, 144, 153, 247, 473, 156, 64, 224, 352, 129, 180, 384, 216, 127, 439, 192, 859, 180, 210, 157, 103, 174, 150, 142, 355, 224, 151, 123, 745, 128, 143, 339, 83, 113, 199, 81, 126, 132, 55, 71, 82, 111, 195, 116, 251, 421, 455, 340, 106, 177, 83, 310, 123, 202, 498, 127, 314, 91, 147, 196, 153, 186, 190, 112, 366, 242, 583, 132, 270, 327, 56, 606, 111, 188, 241, 116, 210, 316, 98, 41, 196, 47, 153, 207, 141, 66, 157, 301, 497, 78, 155, 147, 170, 178, 173, 77, 53, 179, 80, 143, 134, 250, 86, 189, 144, 198, 162, 175, 190, 307, 226, 127, 592, 115, 207, 278, 529, 202, 157, 191, 336, 67, 331, 205, 190, 115, 185, 102, 141, 38, 259, 129, 564, 120, 287, 68, 886, 432, 215, 104, 130, 70, 127, 272, 115, 307, 243, 157, 275, 372, 137, 240, 35, 100, 173, 128, 298, 56, 187, 251, 154, 290, 80, 145, 313, 173, 162, 127, 115, 187, 372, 121, 43, 215, 112, 97, 130, 375, 120, 198, 108, 468, 149, 180, 135, 129, 627, 125, 106, 329, 273, 180, 695, 104, 131, 157, 88, 312, 76, 126, 131, 123, 124, 47, 428, 100, 122, 471, 142, 59, 879, 113, 169, 874, 190, 61, 162, 101, 36, 307, 125, 127, 105, 294, 130, 69, 51, 418, 436, 247, 138, 117, 128, 126, 72, 173, 95, 137, 33, 164, 138, 300, 153, 307, 227, 241, 191, 136, 171, 189, 282, 85, 173, 107, 142, 537, 179, 114, 126, 471, 51, 177, 412, 122, 113, 475, 123, 106, 112, 129, 118, 475, 119, 98, 126, 142, 178, 135, 231, 188, 232, 177, 392, 79, 130, 52, 44, 203, 54, 129, 276, 154, 335, 138, 91, 148, 114, 143, 254, 112, 161, 92, 154, 118, 167, 82, 122, 335, 798, 189, 57, 102, 121, 92, 115, 229, 139, 179, 167, 132, 295, 163, 89, 185, 58, 284, 173, 120, 149, 145, 273, 144, 162, 109, 120, 137, 585, 142, 435, 508, 211, 168, 376, 218, 57, 128, 234, 221, 137, 239, 121, 143, 100, 54, 272, 102, 289, 62, 158, 260, 163, 85, 264, 205, 58, 410, 106, 162, 189, 84, 176, 207, 131, 121, 122, 160, 83, 147, 238, 270, 155, 152, 53, 124, 67, 115, 155, 139, 145, 170, 229, 280, 128, 274, 308, 255, 83, 244, 170, 165, 265, 106, 90, 344, 555, 217, 67, 107, 177, 119, 98, 47, 113, 288, 196, 224, 556, 196, 98, 61, 195, 302, 155, 39, 120, 110, 163, 152, 145, 559, 572, 126, 290, 148, 160, 352, 161, 211, 196, 127, 498, 349, 69, 56, 138, 303, 143, 42, 125, 231, 50, 54, 116, 768, 95, 39, 36, 103, 136, 61, 262, 259, 249, 101, 120, 223, 361, 153, 501, 53, 93, 113, 533, 68, 100, 105, 78, 143, 124, 101, 130, 326, 780, 199, 273, 67, 95, 265, 870, 190, 61, 149, 250, 120, 72, 143, 201, 127, 566, 167, 146, 205, 161, 328, 176, 129, 429, 129, 118, 749, 98, 108, 79, 170, 152, 573, 265, 115, 154, 93, 378, 226, 110, 188, 113, 194, 328, 104, 130, 141, 589, 135, 131, 144, 72, 2120, 179, 110, 95, 64, 198, 206, 298, 146, 176, 272, 102, 206, 42, 510, 213, 268, 123, 152, 193, 205, 186, 138, 369, 167, 271, 122, 67, 149, 374, 87, 185, 806, 228, 230, 191, 392, 191, 153, 280, 179, 663, 234, 55, 535, 114, 33, 75, 111, 112, 121, 212, 180, 105, 197, 269, 100, 125, 66, 163, 170, 113, 95, 116, 203, 115, 161, 110, 109, 347, 131, 134, 529, 516, 184, 70, 883, 103, 401, 122, 115, 42, 278, 61, 176, 216, 136, 254, 446, 183, 328, 204, 493, 29, 338, 307, 116, 35, 51, 122, 64, 99, 285, 333, 104, 133, 178, 159, 65, 41, 472, 486, 346, 82, 574, 102, 123, 189, 183, 378, 115, 76, 112, 229, 206, 45, 139, 374, 314, 137, 42, 112, 400, 66, 117, 148, 150, 106, 564, 116, 136, 215, 180, 127, 241, 188, 169, 130, 127, 132, 64, 122, 230, 29, 308, 46, 131, 120, 199, 237, 143, 109, 111, 135, 106, 258, 283, 185, 129, 136, 570, 125, 131, 475, 120, 268, 703, 273, 107, 57, 381, 99, 66, 339, 121, 99, 342, 49, 215, 215, 63, 103, 121, 76, 347, 116, 446, 38, 247, 81, 202, 529, 190, 102, 393, 191, 169, 203, 72, 196, 297, 124, 80, 102, 714, 83, 127, 315, 102, 94, 335, 110, 50, 405, 86, 83, 122, 147, 114, 486, 106, 176, 57, 98, 358, 442, 106, 79, 335, 223, 259, 345, 129, 127, 132, 121, 147, 198, 108, 180, 225, 164, 110, 131, 205, 558, 361, 108, 380, 176, 144, 131, 348, 82, 103, 171, 498, 144, 149, 79, 299, 510, 164, 83, 600, 187, 174, 152, 209, 43, 142, 131, 193, 170, 230, 109, 146, 814, 112, 540, 69, 98, 250, 155, 216, 143, 310, 311, 113, 118, 190, 174, 300, 114, 124, 94, 126, 365, 857, 97, 57, 329, 71, 235, 210, 195, 119, 87, 228, 146, 802, 199, 378, 203, 169, 146, 180, 190, 176, 121, 155, 304, 147, 292, 258, 357, 35, 369, 179, 214, 69, 265, 134, 136, 206, 118, 340, 358, 345, 136, 123, 60, 323, 160, 182, 559, 174, 674, 311, 328, 97, 143, 406, 221, 37, 77, 162, 43, 106, 59, 73, 506, 148, 246, 112, 107, 260, 159, 59, 300, 101, 48, 142, 178, 133, 201, 217, 153, 186, 670, 421, 271, 301, 301, 122, 511, 97, 117, 506, 149, 147, 147, 101, 219, 50, 662, 130, 185, 353, 217, 298, 155, 340, 350, 157, 120, 807, 389, 130, 202, 378, 136, 133, 217, 393, 168, 370, 63, 139, 273, 171, 278, 183, 167, 344, 622, 138, 113, 98, 72, 138, 178, 170, 47, 327, 148, 218, 172, 176, 320, 144, 115, 124, 530, 430, 60, 352, 245, 47, 96, 264, 73, 302, 134, 246, 66, 206, 306, 117, 155, 138, 56, 160, 99, 198, 154, 171, 94, 358, 226, 107, 128, 102, 174, 63, 136, 112, 109, 131, 152, 118, 218, 150, 173, 500, 62, 237, 208, 40, 86, 107, 52, 714, 454, 137, 198, 237, 453, 202, 170, 178, 111, 170, 66, 145, 141, 80, 631, 74, 36, 254, 493, 55, 193, 504, 178, 254, 139, 437, 473, 93, 203, 124, 136, 69, 71, 369, 91, 134, 102, 227, 344, 128, 227, 38, 412, 148, 46, 439, 286, 101, 353, 234, 90, 120, 158, 322, 330, 38, 200, 152, 37, 126, 110, 206, 185, 27, 167, 270, 126, 47, 296, 153, 119, 157, 70, 167, 140, 247, 270, 488, 496, 182, 240, 320, 173, 108, 58, 233, 28, 255, 60, 123, 63, 228, 136, 80, 120, 196, 239, 94, 124, 189, 616, 99, 104, 434, 603, 148, 291, 352, 99, 147, 299, 54, 187, 369, 150, 145, 258, 205, 280, 227, 167, 33, 181, 93, 203, 82, 420, 108, 140, 120, 130, 189, 51, 151, 193, 119, 141, 155, 130, 647, 122, 393, 277, 107, 184, 208, 106, 175, 149, 73, 78, 429, 120, 224, 171, 154, 131, 102, 76, 182, 184, 336, 143, 272, 80, 114, 155, 171, 101, 182, 842, 58, 122, 248, 214, 358, 293, 174, 184, 152, 180, 229, 108, 64, 648, 120, 263, 222, 122, 113, 226, 128, 66, 45, 114, 315, 120, 209, 153, 190, 97, 119, 173, 462, 203, 174, 431, 227, 647, 231, 137, 335, 479, 190, 887, 187, 116, 243, 134, 295, 245, 125, 148, 589, 392, 55, 517, 93, 105, 40, 178, 128, 249, 262, 171, 119, 154, 522, 115, 198, 112, 464, 49, 177, 130, 260, 462, 193, 161, 129, 53, 142, 295, 115, 179, 141, 117, 892, 227, 58, 53, 330, 170, 204, 102, 103, 290, 133, 134, 52, 178, 67, 132, 109, 285, 239, 529, 335, 162, 215, 259, 119, 105, 758, 448, 93, 159, 43, 122, 116, 197, 403, 167, 149, 451, 217, 185, 125, 425, 219, 161, 104, 118, 47, 245, 131, 118, 165, 167, 170, 134, 125, 60, 127, 480, 349, 306, 220, 339, 48, 286, 159, 280, 91, 120, 192, 233, 248, 264, 212, 270, 175, 161, 226, 767, 119, 137, 539, 122, 160, 313, 62, 132, 131, 128, 96, 205, 525, 156, 56, 185, 201, 141, 165, 141, 164, 878, 52, 116, 46, 328, 169, 179, 103, 175, 186, 26, 267, 147, 167, 137, 117, 372, 162, 92, 123, 230, 129, 172, 317, 231, 283, 258, 296, 141, 100, 103, 164, 123, 204, 89, 155, 98, 57, 64, 333, 336, 357, 59, 714, 121, 372, 310, 177, 615, 147, 62, 45, 127, 263, 56, 99, 126, 567, 542, 115, 335, 51, 155, 318, 165, 100, 211, 246, 249, 191, 136, 399, 296, 264, 385, 471, 78, 166, 211, 106, 750, 293, 486, 162, 163, 173, 74, 99, 240, 117, 189, 107, 121, 470, 544, 105, 136, 470, 109, 70, 54, 710, 271, 135, 53, 129, 182, 138, 177, 52, 236, 248, 44, 133, 112, 136, 163, 73, 786, 100, 135, 115, 118, 203, 181, 127, 197, 165, 145, 117, 55, 35, 184, 458, 306, 162, 106, 124, 393, 157, 196, 100, 140, 355, 124, 508, 132, 125, 115, 130, 79, 108, 156, 203, 150, 143, 469, 123, 486, 169, 42, 244, 222, 728, 110, 530, 436, 80, 162, 107, 223, 348, 107, 273, 258, 159, 129, 195, 98, 130, 102, 162, 210, 509, 191, 54, 298, 101, 134, 123, 192, 129, 185, 55, 281, 207, 194, 102, 208, 289, 290, 192, 44, 138, 89, 103, 565, 116, 170, 215, 54, 182, 353, 119, 501, 265, 170, 159, 409, 56, 709, 155, 131, 47, 200, 100, 472, 159, 180, 103, 122, 87, 171, 225, 330, 344, 273, 202, 214, 155, 133, 54, 154, 104, 150, 54, 101, 94, 103, 164, 306, 209, 248, 255, 200, 190, 137, 127, 173, 286, 664, 220, 77, 880, 586, 121, 162, 363, 66, 267, 133, 131, 125, 189, 86, 121, 193, 197, 77, 167, 64, 299, 141, 789, 203, 121, 228, 136, 98, 158, 119, 101, 119, 139, 263, 489, 245, 332, 154, 112, 87, 115, 103, 127, 323, 726, 124, 107, 476, 607, 180, 153, 121, 224, 221, 170, 128, 277, 723, 225, 559, 166, 83, 337, 118, 155, 124, 139, 173, 536, 761, 111, 67, 41, 361, 431, 172, 43, 150, 122, 342, 128, 131, 119, 152, 137, 129, 110, 132, 99, 116, 107, 202, 75, 66, 302, 492, 283, 819, 49, 227, 820, 125, 142, 190, 309, 261, 156, 613, 187, 174, 302, 166, 261, 108, 43, 175, 136, 131, 223, 55, 62, 174, 186, 151, 137, 257, 286, 141, 144, 140, 151, 265, 556, 128, 241, 155, 221, 288, 247, 145, 266, 159, 85, 378, 260, 128, 265, 782, 124, 210, 308, 124, 468, 112, 367, 138, 252, 539, 56, 127, 98, 110, 264, 57, 182, 109, 507, 146, 152, 117, 172, 662, 318, 349, 550, 532, 237, 234, 180, 185, 275, 80, 120, 845, 117, 116, 192, 44, 41, 205, 97, 295, 190, 450, 177, 137, 118, 176, 132, 292, 442, 219, 486, 75, 103, 472, 113, 129, 153, 219, 113, 46, 147, 115, 391, 123, 133, 137, 63, 54, 40, 102, 109, 153, 434, 214, 293, 206, 47, 164, 173, 192, 54, 46, 180, 67, 212, 196, 244, 285, 224, 197, 202, 278, 115, 175, 106, 97, 102, 127, 169, 738, 154, 330, 790, 179, 397, 585, 138, 46, 105, 130, 165, 910, 149, 288, 142, 160, 235, 192, 262, 38, 111, 180, 356, 178, 632, 56, 82, 851, 184, 209, 62, 128, 139, 142, 110, 114, 376, 93, 140, 134, 732, 221, 324, 110, 107, 125, 174, 144, 118, 212, 229, 437, 307, 125, 228, 112, 61, 219, 104, 116, 345, 160, 155, 83, 109, 199, 122, 65, 26, 156, 214, 492, 610, 30, 515, 161, 213, 185, 456, 81, 116, 313, 140, 133, 143, 145, 74, 128, 154, 251, 116, 70, 120, 213, 62, 317, 99, 265, 126, 316, 57, 135, 61, 346, 233, 107, 144, 64, 154, 169, 134, 318, 157, 692, 114, 152, 128, 251, 102, 134, 114, 89, 561, 158, 328, 343, 633, 184, 91, 119, 45, 132, 225, 748, 370, 186, 141, 170, 88, 391, 154, 177, 253, 54, 631, 101, 118, 525, 208, 555, 60, 225, 41, 333, 136, 202, 166, 281, 299, 100, 193, 91, 131, 164, 422, 424, 167, 147, 234, 150, 192, 99, 323, 150, 405, 179, 127, 469, 192, 367, 230, 84, 169, 222, 189, 149, 322, 98, 128, 68, 161, 129, 129, 122, 72, 162, 135, 52, 145, 219, 223, 74, 231, 481, 204, 138, 215, 465, 307, 108, 468, 360, 104, 224, 85, 157, 500, 112, 66, 152, 172, 119, 66, 84, 109, 147, 106, 385, 61, 147, 227, 138, 482, 20, 179, 48, 487, 158, 72, 454, 220, 116, 93, 46, 94, 306, 122, 379, 85, 135, 169, 58, 101, 330, 298, 131, 129, 301, 167, 108, 149, 339, 97, 41, 131, 127, 155, 137, 168, 32, 210, 59, 146, 152, 216, 802, 330, 203, 73, 58, 231, 152, 271, 136, 179, 63, 129, 713, 62, 530, 131, 160, 310, 184, 289, 117, 189, 101, 73, 212, 123, 74, 320, 175, 392, 44, 83, 471, 154, 416, 107, 90, 169, 248, 152, 67, 242, 169, 113, 182, 158, 219, 74, 141, 167, 121, 79, 161, 120, 54, 329, 226, 80, 132, 112, 377, 163, 427, 106, 801, 378, 108, 131, 233, 161, 125, 441, 71, 42, 98, 197, 140, 168, 387, 298, 93, 163, 138, 120, 239, 165, 130, 102, 197, 155, 133, 205, 495, 142, 228, 265, 60, 83, 54, 167, 381, 429, 131, 446, 100, 140, 201, 48, 140, 717, 176, 339, 300, 103, 186, 302, 404, 198, 213, 104, 244, 130, 166, 265, 297, 150, 196, 128, 333, 162, 266, 312, 115, 128, 171, 104, 308, 84, 384, 138, 583, 153, 67, 240, 310, 156, 115, 241, 190, 32, 132, 121, 413, 247, 180, 152, 388, 176, 150, 113, 67, 414, 810, 472, 137, 158, 94, 148, 155, 226, 116, 157, 219, 236, 188, 341, 152, 163, 182, 122, 64, 287, 91, 63, 114, 186, 49, 309, 336, 56, 49, 66, 105, 102, 188, 175, 141, 115, 44, 141, 260, 276, 104, 235, 164, 477, 131, 261, 332, 198, 339, 139, 177, 54, 649, 111, 227, 111, 172, 340, 481, 421, 165, 370, 190, 208, 702, 290, 110, 188, 122, 154, 216, 95, 45, 208, 301, 203, 222, 120, 227, 200, 139, 64, 59, 109, 126, 44, 147, 98, 346, 620, 136, 164, 340, 417, 212, 183, 193, 268, 95, 259, 133, 192, 105, 136, 100, 107, 882, 249, 289, 409, 160, 212, 98, 229, 106, 656, 169, 35, 122, 109, 101, 178, 37, 176, 130, 276, 57, 407, 128, 274, 202, 111, 489, 149, 115, 154, 189, 403, 151, 61, 191, 175, 130, 616, 74, 320, 64, 145, 190, 219, 75, 146, 233, 127, 117, 127, 292, 128, 103, 57, 78, 148, 284, 150, 210, 113, 124, 151, 177, 130, 115, 237, 343, 101, 129, 115, 139, 180, 130, 122, 163, 174, 162, 32, 107, 120, 88, 164, 363, 185, 39, 96, 123, 87, 125, 532, 159, 192, 167, 126, 117, 232, 59, 416, 127, 451, 268, 653, 189, 105, 45, 192, 231, 259, 96, 131, 143, 195, 144, 120, 249, 73, 60, 334, 38, 76, 295, 178, 123, 68, 132, 574, 134, 198, 170, 374, 123, 580, 145, 109, 348, 235, 109, 67, 110, 128, 157, 132, 128, 220, 388, 319, 427, 94, 102, 124, 38, 160, 151, 96, 717, 578, 355, 137, 180, 638, 310, 294, 122, 123, 130, 132, 158, 300, 136, 238, 123, 380, 573, 122, 105, 338, 139, 260, 145, 83, 586, 129, 195, 299, 414, 327, 96, 135, 181, 48, 113, 339, 86, 154, 818, 110, 175, 107, 204, 129, 116, 145, 32, 108, 46, 365, 101, 204, 204, 122, 294, 224, 117, 198, 106, 172, 117, 190, 92, 204, 322, 118, 142, 212, 428, 172, 109, 495, 36, 204, 851, 129, 241, 427, 54, 245, 134, 367, 511, 262, 155, 82, 347, 97, 78, 233, 210, 394, 143, 119, 78, 263, 115, 86, 96, 132, 37, 86, 38, 134, 124, 462, 391, 443, 59, 120, 101, 365, 197, 103, 259, 133, 104, 257, 65, 137, 248, 122, 154, 143, 175, 50, 134, 115, 336, 143, 100, 43, 293, 288, 214, 460, 111, 139, 96, 531, 65, 212, 132, 163, 225, 214, 184, 154, 102, 172, 99, 120, 151, 115, 104, 156, 513, 318, 136, 50, 187, 350, 189, 239, 175, 157, 244, 247, 184, 131, 300, 521, 154, 136, 896, 170, 182, 99, 294, 113, 154, 138, 78, 85, 555, 146, 90, 343, 95, 67, 413, 185, 42, 646, 111, 121, 207, 233, 101, 319, 86, 186, 139, 609, 152, 302, 312, 253, 172, 128, 394, 142, 260, 162, 100, 403, 134, 212, 350, 142, 64, 120, 91, 153, 141, 90, 135, 131, 265, 363, 468, 120, 168, 163, 196, 99, 247, 334, 84, 51, 171, 109, 105, 163, 497, 124, 396, 113, 152, 353, 144, 196, 425, 128, 224, 82, 126, 132, 158, 179, 111, 151, 98, 124, 307, 94, 366, 116, 510, 849, 251, 64, 121, 274, 683, 315, 181, 191, 304, 137, 117, 287, 485, 134, 187, 168, 34, 361, 322, 215, 231, 100, 121, 334, 49, 120, 144, 58, 100, 131, 233, 395, 214, 203, 195, 64, 107, 152, 193, 701, 135, 169, 761, 163, 26, 22, 153, 102, 138, 133, 157, 137, 96, 492, 58, 113, 282, 110, 75, 94, 730, 142, 416, 110, 628, 145, 130, 110, 234, 519, 161, 182, 132, 118, 61, 188, 153, 226, 195, 35, 116, 315, 137, 72, 70, 135, 628, 97, 547, 226, 244, 123, 80, 300, 389, 120, 156, 112, 379, 118, 729, 176, 118, 203, 128, 188, 154, 147, 852, 131, 110, 115, 851, 148, 144, 183, 89, 171, 216, 40, 160, 175, 65, 208, 179, 103, 84, 123, 174, 98, 149, 123, 93, 227, 147, 116, 211, 117, 212, 478, 106, 310, 141, 83, 378, 209, 294, 114, 336, 442, 192, 132, 205, 86, 243, 111, 172, 157, 173, 230, 89, 104, 182, 81, 807, 134, 111, 133, 550, 85, 143, 181, 92, 102, 503, 106, 59, 130, 214, 159, 63, 284, 155, 252, 181, 28, 224, 107, 414, 158, 147, 73, 164, 303, 489, 120, 510, 111, 270, 122, 541, 138, 647, 232, 244, 628, 153, 74, 764, 59, 207, 209, 67, 256, 170, 146, 90, 354, 392, 274, 105, 153, 633, 18, 58, 122, 345, 139, 91, 107, 393, 122, 121, 268, 85, 633, 94, 858, 320, 64, 314, 322, 132, 279, 162, 172, 50, 131, 272, 87, 320, 649, 92, 427, 137, 138, 210, 98, 155, 115, 456, 667, 227, 155, 108, 103, 223, 247, 140, 357, 442, 183, 267, 130, 401, 111, 85, 104, 102, 460, 107, 159, 54, 175, 425, 154, 483, 648, 167, 159, 126, 184, 170, 165, 114, 105, 192, 186, 183, 326, 320, 184, 123, 572, 137, 245, 136, 312, 36, 271, 316, 572, 391, 180, 252, 67, 201, 339, 219, 387, 119, 138, 116, 1838, 223, 163, 427, 281, 321, 115, 143, 133, 183, 216, 354, 165, 87, 69, 148, 150, 143, 162, 125, 561, 177, 184, 188, 132, 121, 401, 139, 265, 294, 125, 143, 108, 217, 124, 125, 132, 450, 235, 60, 125, 97, 106, 109, 206, 292, 53, 231, 209, 142, 191, 246, 104, 172, 173, 51, 61, 112, 186, 127, 521, 101, 615, 181, 128, 350, 217, 270, 140, 184, 116, 93, 736, 139, 116, 174, 42, 110, 285, 261, 88, 211, 420, 68, 85, 173, 234, 117, 304, 151, 145, 141, 412, 404, 153, 192, 160, 236, 241, 623, 46, 95, 230, 292, 180, 313, 380, 269, 137, 270, 69, 107, 481, 145, 219, 100, 190, 387, 268, 348, 127, 104, 73, 120, 157, 51, 75, 107, 121, 101, 178, 857, 264, 155, 55, 135, 368, 164, 76, 66, 83, 155, 176, 669, 239, 61, 186, 498, 120, 262, 202, 44, 320, 634, 76, 108, 158, 216, 240, 40, 347, 119, 109, 203, 59, 184, 146, 150, 80, 90, 43, 159, 121, 279, 108, 41, 185, 136, 41, 440, 188, 701, 154, 114, 138, 200, 158, 143, 65, 484, 128, 130, 698, 143, 196, 250, 181, 270, 203, 137, 561, 167, 93, 108, 417, 254, 208, 114, 174, 513, 218, 49, 233, 178, 164, 180, 170, 113, 145, 403, 45, 106, 454, 41, 461, 857, 114, 311, 710, 51, 128, 357, 634, 144, 215, 142, 133, 146, 402, 124, 582, 506, 311, 432, 193, 59, 198, 127, 72, 85, 408, 178, 356, 300, 192, 342, 130, 392, 130, 107, 137, 215, 220, 224, 159, 75, 133, 167, 158, 56, 103, 120, 59, 151, 102, 231, 259, 238, 124, 228, 207, 686, 152, 49, 294, 249, 108, 66, 490, 136, 125, 217, 301, 619, 101, 156, 281, 120, 152, 148, 63, 122, 149, 775, 154, 284, 187, 458, 495, 112, 104, 141, 179, 180, 74, 273, 195, 20, 311, 366, 54, 97, 536, 165, 165, 490, 190, 123, 120, 175, 299, 275, 126, 129, 567, 162, 155, 201, 421, 157, 183, 98, 116, 182, 142, 292, 114, 189, 638, 120, 165, 148, 252, 144, 279, 62, 70, 127, 87, 640, 115, 131, 130, 173, 222, 248, 210, 133, 362, 160, 160, 177, 100, 171, 351, 107, 293, 61, 561, 108, 161, 430, 392, 78, 183, 354, 155, 203, 378, 181, 204, 123, 169, 136, 162, 110, 432, 81, 188, 195, 128, 213, 116, 123, 188, 82, 106, 112, 1813, 156, 113, 124, 87, 34, 481, 153, 104, 159, 120, 370, 426, 121, 140, 154, 135, 126, 135, 227, 169, 144, 55, 110, 477, 182, 132, 187, 183, 244, 51, 168, 270, 75, 43, 196, 571, 527, 375, 108, 162, 86, 765, 214, 130, 149, 372, 482, 665, 58, 922, 188, 523, 90, 271, 273, 134, 121, 277, 159, 463, 163, 325, 119, 208, 115, 167, 250, 191, 109, 156, 44, 144, 97, 527, 74, 51, 87, 372, 90, 134, 114, 276, 88, 162, 103, 123, 129, 276, 86, 137, 199, 58, 165, 99, 495, 188, 115, 204, 661, 142, 149, 65, 108, 247, 208, 902, 213, 240, 63, 661, 136, 207, 122, 197, 200, 47, 123, 33, 250, 86, 861, 740, 102, 134, 339, 196, 53, 67, 188, 186, 136, 103, 192, 565, 499, 190, 274, 200, 132, 152, 148, 133, 146, 147, 194, 68, 107, 126, 365, 206, 307, 122, 142, 97, 278, 121, 119, 144, 162, 91, 360, 80, 88, 242, 118, 290, 385, 148, 264, 94, 141, 83, 554, 60, 858, 157, 92, 108, 154, 93, 249, 477, 285, 579, 730, 97, 124, 282, 157, 243, 95, 69, 168, 177, 418, 215, 341, 134, 225, 101, 260, 101, 139, 124, 126, 236, 417, 210, 130, 76, 119, 108, 152, 136, 195, 203, 145, 179, 124, 271, 133, 211, 104, 111, 576, 316, 165, 409, 179, 225, 327, 343, 215, 109, 264, 487, 177, 146, 115, 458, 125, 59, 106, 116, 41, 147, 43, 383, 124, 295, 219, 92, 50, 317, 442, 162, 145, 107, 157, 578, 81, 730, 48, 95, 480, 154, 210, 79, 145, 465, 149, 110, 109, 189, 126, 91, 233, 126, 281, 295, 171, 415, 150, 93, 440, 177, 273, 64, 62, 263, 395, 374, 197, 113, 56, 183, 87, 56, 381, 303, 192, 122, 133, 569, 170, 209, 134, 219, 533, 141, 200, 186, 58, 57, 138, 196, 130, 79, 187, 174, 130, 130, 264, 223, 149, 101, 150, 424, 53, 82, 206, 116, 60, 159, 99, 111, 166, 77, 256, 261, 311, 132, 124, 181, 194, 99, 478, 303, 218, 206, 289, 232, 151, 573, 470, 241, 215, 168, 215, 97, 355, 123, 168, 419, 555, 152, 126, 178, 133, 156, 78, 111, 187, 289, 170, 222, 97, 222, 118, 403, 352, 185, 569, 118, 120, 102, 372, 465, 172, 348, 140, 144, 123, 208, 148, 129, 209, 474, 217, 455, 158, 90, 103, 45, 127, 361, 147, 167, 334, 209, 576, 136, 283, 213, 84, 245, 474, 156, 131, 155, 231, 58, 600, 109, 211, 50, 158, 290, 102, 358, 75, 157, 163, 153, 267, 245, 111, 49, 97, 110, 512, 265, 369, 365, 159, 155, 694, 136, 56, 192, 352, 44, 47, 170, 627, 75, 79, 353, 382, 414, 335, 70, 153, 70, 403, 424, 95, 155, 369, 131, 180, 407, 179, 129, 215, 159, 182, 189, 180, 584, 152, 310, 118, 249, 142, 201, 549, 177, 718, 83, 130, 37, 369, 148, 30, 873, 111, 155, 174, 42, 125, 199, 160, 186, 351, 137, 136, 533, 121, 166, 115, 154, 146, 165, 220, 243, 37, 375, 163, 211, 163, 582, 193, 192, 176, 133, 196, 139, 129, 82, 81, 166, 53, 62, 268, 136, 859, 451, 170, 156, 179, 443, 243, 81, 105, 708, 86, 114, 160, 108, 150, 70, 224, 177, 584, 45, 99, 107, 170, 214, 37, 207, 80, 129, 86, 36, 146, 137, 209, 215, 170, 145, 308, 328, 351, 258, 119, 245, 139, 317, 199, 125, 132, 294, 305, 126, 640, 652, 80, 168, 39, 174, 62, 237, 246, 234, 196, 445, 317, 100, 78, 136, 166, 305, 128, 63, 119, 147, 349, 78, 120, 304, 124, 163, 462, 182, 184, 349, 121, 108, 443, 220, 349, 275, 600, 240, 220, 461, 241, 136, 231, 99, 551, 335, 162, 496, 74, 520, 113, 202, 363, 101, 93, 151, 173, 99, 400, 386, 59, 165, 122, 190, 99, 126, 143, 315, 105, 133, 132, 145, 110, 506, 49, 228, 60, 167, 157, 499, 132, 701, 122, 103, 54, 279, 122, 306, 199, 49, 74, 138, 205, 831, 112, 266, 134, 234, 146, 124, 118, 110, 322, 327, 99, 174, 85, 105, 164, 136, 74, 211, 133, 90, 130, 129, 128, 108, 365, 163, 438, 118, 415, 132, 224, 126, 256, 42, 249, 149, 289, 497, 119, 60, 214, 53, 113, 153, 343, 339, 109, 128, 543, 150, 244, 159, 96, 211, 184, 234, 148, 158, 83, 212, 39, 194, 130, 92, 44, 102, 187, 204, 91, 165, 118, 136, 51, 38, 162, 464, 45, 406, 66, 130, 150, 431, 179, 261, 204, 600, 156, 337, 247, 106, 50, 259, 91, 133, 165, 231, 146, 131, 368, 105, 187, 269, 104, 436, 320, 345, 215, 364, 170, 218, 111, 102, 41, 299, 156, 127, 172, 159, 367, 200, 196, 93, 207, 107, 97, 148, 95, 52, 122, 213, 47, 130, 212, 138, 126, 185, 419, 417, 113, 95, 230, 115, 141, 211, 681, 44, 77, 41, 74, 72, 187, 140, 147, 416, 315, 104, 86, 189, 417, 195, 132, 152, 58, 90, 107, 155, 484, 97, 760, 52, 46, 150, 124, 44, 888, 278, 114, 99, 208, 761, 134, 73, 125, 838, 121, 156, 200, 325, 120, 475, 45, 424, 118, 146, 125, 141, 116, 123, 142, 249, 125, 115, 218, 294, 169, 156, 159, 174, 180, 395, 69, 449, 139, 235, 201, 799, 401, 229, 138, 474, 288, 194, 138, 335, 186, 495, 196, 161, 598, 90, 149, 195, 136, 152, 129, 271, 288, 207, 243, 128, 182, 194, 591, 65, 161, 854, 127, 306, 82, 249, 119, 277, 50, 289, 410, 429, 297, 131, 80, 198, 238, 272, 191, 144, 97, 98, 67, 162, 233, 361, 37, 108, 815, 157, 87, 224, 63, 173, 527, 366, 149, 176, 473, 236, 141, 337, 457, 262, 186, 54, 171, 182, 95, 54, 287, 130, 192, 151, 316, 38, 555, 125, 94, 168, 183, 129, 141, 105, 160, 107, 179, 216, 306, 104, 133, 142, 167, 385, 255, 205, 249, 261, 127, 246, 209, 232, 135, 294, 138, 165, 125, 152, 151, 786, 632, 247, 153, 143, 133, 127, 313, 432, 84, 121, 92, 147, 175, 118, 191, 148, 111, 345, 158, 167, 108, 125, 223, 280, 435, 227, 97, 97, 99, 122, 219, 138, 68, 205, 186, 67, 473, 60, 679, 73, 98, 225, 157, 139, 72, 149, 221, 116, 539, 188, 111, 105, 260, 127, 126, 349, 191, 70, 112, 350, 148, 850, 52, 255, 181, 178, 267, 116, 154, 423, 128, 56, 151, 111, 130, 625, 136, 81, 207, 137, 93, 114, 129, 80, 220, 79, 422, 189, 413, 106, 146, 214, 161, 65, 40, 241, 161, 257, 620, 186, 117, 192, 480, 153, 472, 240, 580, 189, 142, 177, 114, 128, 119, 261, 312, 217, 71, 142, 525, 136, 133, 180, 133, 372, 117, 188, 302, 794, 128, 231, 111, 106, 64, 277, 48, 403, 158, 117, 150, 129, 249, 133, 92, 105, 103, 238, 150, 393, 125, 134, 438, 217, 395, 104, 315, 111, 122, 295, 105, 189, 152, 172, 195, 191, 62, 534, 283, 312, 176, 214, 137, 136, 129, 68, 227, 402, 551, 218, 361, 127, 224, 130, 127, 292, 52, 454, 105, 264, 228, 122, 409, 237, 145, 113, 655, 321, 144, 114, 217, 270, 159, 117, 156, 155, 123, 169, 147, 342, 140, 116, 52, 206, 36, 114, 94, 771, 265, 333, 27, 130, 285, 97, 695, 433, 134, 126, 357, 114, 161, 154, 188, 92, 240, 87, 254, 112, 395, 129, 388, 336, 116, 80, 125, 531, 360, 164, 147, 90, 117, 531, 200, 273, 164, 827, 154, 152, 223, 234, 122, 97, 126, 171, 191, 48, 253, 172, 433, 118, 313, 234, 129, 179, 120, 47, 93, 220, 122, 420, 120, 208, 247, 73, 154, 698, 56, 486, 358, 176, 61, 182, 123, 125, 58, 139, 388, 102, 127, 114, 181, 151, 149, 235, 220, 175, 219, 350, 659, 164, 145, 291, 444, 46, 214, 724, 182, 281, 443, 174, 693, 221, 122, 65, 566, 112, 156, 219, 214, 70, 165, 203, 101, 140, 63, 260, 170, 215, 123, 118, 198, 133, 85, 138, 541, 103, 108, 122, 107, 97, 80, 189, 330, 71, 173, 238, 103, 132, 219, 275, 133, 63, 38, 154, 298, 212, 127, 295, 195, 96, 101, 420, 118, 50, 240, 112, 472, 144, 183, 278, 263, 57, 89, 168, 121, 285, 134, 40, 474, 251, 114, 172, 657, 247, 50, 282, 51, 71, 150, 333, 198, 129, 91, 128, 370, 144, 123, 18, 100, 63, 446, 221, 335, 115, 71, 159, 738, 651, 125, 225, 102, 137, 86, 48, 167, 50, 83, 338, 702, 325, 293, 664, 195, 166, 128, 182, 560, 146, 99, 248, 163, 401, 100, 187, 54, 128, 267, 107, 143, 135, 453, 121, 118, 130, 409, 233, 54, 287, 145, 106, 106, 145, 171, 35, 303, 173, 128, 160, 160, 130, 757, 117, 131, 31, 115, 172, 94, 60, 159, 268, 205, 153, 52, 166, 138, 279, 97, 167, 246, 131, 348, 136, 156, 170, 116, 46, 191, 181, 288, 203, 174, 507, 209, 796, 197, 100, 402, 197, 121, 253, 274, 161, 353, 136, 142, 240, 76, 75, 223, 354, 217, 706, 130, 10, 94, 126, 174, 109, 185, 115, 176, 160, 319, 124, 142, 482, 423, 109, 202, 128, 154, 83, 57, 93, 88, 44, 94, 267, 129, 233, 367, 178, 122, 102, 175, 57, 162, 518, 92, 170, 204, 214, 130, 56, 145, 145, 151, 33, 136, 246, 207, 748, 43, 77, 184, 192, 307, 492, 121, 118, 96, 139, 135, 651, 586, 127, 202, 201, 65, 191, 68, 418, 235, 177, 483, 844, 312, 173, 190, 147, 168, 349, 63, 262, 175, 383, 163, 95, 128, 129, 134, 145, 108, 339, 198, 120, 222, 340, 161, 425, 335, 185, 273, 174, 128, 139, 135, 117, 288, 190, 169, 126, 127, 76, 200, 113, 93, 250, 428, 142, 122, 194, 281, 150, 121, 137, 118, 262, 395, 578, 47, 302, 135, 108, 278, 180, 269, 132, 128, 80, 167, 182, 188, 128, 109, 66, 71, 135, 472, 156, 53, 140, 182, 150, 177, 141, 533, 709, 93, 123, 272, 114, 412, 488, 204, 178, 132, 55, 165, 198, 555, 157, 242, 87, 124, 107, 127, 412, 127, 188, 352, 168, 123, 133, 180, 168, 523, 203, 90, 82, 136, 341, 119, 165, 248, 160, 489, 160, 104, 458, 279, 547, 123, 151, 575, 95, 123, 165, 490, 42, 222, 361, 217, 376, 179, 58, 325, 165, 92, 95, 412, 108, 326, 77, 113, 297, 157, 669, 330, 282, 126, 343, 130, 169, 161, 153, 332, 213, 100, 153, 280, 149, 259, 104, 50, 209, 140, 180, 857, 118, 173, 542, 174, 99, 111, 136, 288, 237, 143, 123, 207, 177, 117, 281, 124, 89, 462, 166, 893, 179, 476, 117, 49, 89, 61, 125, 98, 146, 75, 120, 182, 129, 117, 836, 224, 305, 46, 134, 61, 301, 211, 210, 114, 124, 183, 157, 131, 357, 115, 114, 117, 537, 315, 201, 231, 119, 44, 52, 103, 252, 821, 244, 153, 169, 56, 593, 636, 115, 152, 85, 134, 123, 161, 200, 541, 91, 49, 291, 281, 161, 188, 254, 150, 201, 70, 182, 165, 245, 205, 129, 113, 254, 127, 434, 114, 236, 229, 105, 131, 177, 136, 431, 152, 104, 216, 75, 147, 158, 52, 117, 358, 239, 60, 368, 107, 90, 321, 150, 213, 215, 121, 120, 146, 247, 309, 230, 56, 51, 115, 208, 257, 397, 133, 123, 119, 127, 122, 142, 186, 129, 66, 170, 60, 110, 139, 151, 252, 161, 872, 106, 200, 141, 127, 896, 36, 162, 122, 172, 130, 96, 299, 116, 94, 221, 89, 140, 440, 134, 154, 163, 176, 94, 264, 171, 350, 188, 569, 149, 751, 261, 101, 136, 138, 171, 146, 229, 609, 243, 663, 277, 99, 121, 173, 113, 142, 174, 92, 101, 113, 165, 117, 107, 133, 52, 480, 635, 172, 134, 158, 132, 108, 158, 81, 137, 132, 112, 226, 80, 210, 151, 130, 85, 75, 198, 392, 167, 138, 122, 129, 100, 193, 204, 246, 313, 348, 217, 288, 249, 70, 149, 252, 93, 146, 34, 97, 151, 113, 85, 151, 219, 139, 59, 103, 364, 440, 159, 132, 235, 194, 173, 40, 292, 87, 171, 123, 98, 362, 528, 46, 367, 249, 128, 162, 88, 112, 71, 185, 177, 399, 116, 96, 407, 211, 134, 143, 168, 693, 171, 183, 111, 137, 109, 136, 320, 72, 323, 178, 167, 182, 297, 93, 163, 44, 323, 60, 92, 291, 139, 210, 74, 121, 255, 121, 271, 43, 374, 629, 428, 219, 125, 140, 146, 190, 288, 259, 37, 143, 341, 168, 172, 142, 183, 151, 104, 559, 139, 104, 364, 150, 123, 358, 144, 147, 38, 181, 366, 89, 201, 300, 119, 179, 191, 591, 113, 293, 76, 111, 201, 53, 124, 173, 113, 78, 164, 80, 256, 243, 128, 106, 137, 72, 220, 135, 349, 709, 198, 137, 136, 69, 73, 155, 63, 90, 219, 134, 176, 158, 95, 153, 120, 659, 130, 122, 191, 75, 144, 71, 134, 284, 156, 80, 72, 232, 114, 249, 358, 77, 127, 77, 824, 114, 443, 484, 516, 94, 47, 116, 188, 431, 122, 231, 44, 103, 164, 258, 202, 210, 120, 201, 118, 154, 162, 100, 253, 187, 130, 102, 243, 252, 570, 90, 107, 112, 126, 429, 157, 122, 224, 82, 195, 128, 234, 107, 286, 499, 265, 386, 123, 169, 245, 283, 138, 444, 418, 109, 78, 154, 120, 199, 359, 264, 131, 153, 220, 241, 182, 225, 165, 127, 214, 104, 142, 179, 70, 158, 155, 205, 127, 148, 100, 381, 252, 85, 116, 435, 158, 48, 118, 149, 605, 102, 713, 37, 703, 288, 53, 372, 272, 119, 161, 265, 274, 113, 182, 141, 268, 45, 117, 276, 199, 224, 265, 114, 151, 279, 141, 296, 289, 234, 434, 103, 200, 115, 39, 107, 242, 77, 111, 44, 121, 173, 274, 143, 100, 242, 134, 120, 167, 375, 177, 141, 192, 130, 125, 129, 123, 163, 254, 249, 286, 110, 46, 457, 70, 580, 146, 160, 163, 110, 605, 222, 322, 178, 176, 106, 157, 636, 255, 114, 165, 278, 117, 155, 164, 38, 210, 192, 116, 266, 254, 183, 324, 231, 626, 236, 222, 126, 57, 153, 103, 77, 97, 144, 153, 108, 390, 405, 162, 96, 143, 164, 202, 248, 682, 516, 242, 128, 169, 302, 71, 161, 113, 135, 899, 397, 178, 99, 202, 135, 107, 119, 288, 29, 139, 115, 110, 66, 183, 88, 308, 297, 289, 649, 614, 112, 131, 120, 79, 783, 174, 75, 119, 390, 372, 670, 285, 207, 116, 103, 154, 146, 87, 340, 291, 130, 244, 166, 161, 113, 222, 176, 671, 136, 123, 283, 180, 114, 125, 128, 761, 86, 246, 56, 83, 442, 84, 122, 166, 125, 310, 128, 199, 144, 237, 99, 183, 90, 147, 98, 97, 141, 154, 361, 44, 104, 887, 174, 342, 402, 149, 402, 137, 230, 178, 284, 173, 69, 51, 143, 154, 370, 127, 272, 96, 172, 139, 75, 129, 85, 922, 128, 61, 34, 128, 101, 172, 108, 65, 159, 112, 167, 132, 125, 67, 91, 97, 97, 164, 389, 102, 97, 154, 128, 178, 85, 139, 248, 115, 270, 604, 338, 709, 159, 300, 154, 127, 139, 874, 130, 158, 377, 38, 60, 200, 210, 243, 126, 224, 302, 289, 502, 219, 115, 163, 115, 290, 97, 94, 123, 119, 192, 685, 156, 531, 235, 841, 237, 107, 78, 92, 702, 359, 158, 99, 180, 124, 109, 98, 240, 125, 173, 162, 132, 137, 135, 209, 617, 275, 116, 135, 587, 125, 44, 615, 284, 170, 270, 142, 142, 122, 208, 129, 91, 221, 284, 145, 148, 138, 133, 141, 101, 199, 121, 112, 213, 93, 27, 479, 132, 160, 206, 94, 158, 333, 353, 93, 105, 154, 130, 96, 602, 184, 124, 50, 108, 108, 112, 129, 158, 455, 495, 122, 144, 333, 140, 127, 166, 53, 105, 140, 59, 245, 212, 153, 199, 193, 113, 139, 58, 111, 665, 97, 148, 130, 287, 119, 106, 607, 210, 255, 151, 131, 115, 359, 127, 139, 112, 48, 202, 527, 118, 149, 128, 82, 138, 516, 274, 144, 92, 115, 151, 78, 54, 145, 658, 182, 165, 62, 107, 279, 120, 54, 175, 176, 189, 141, 42, 215, 43, 196, 241, 103, 43, 124, 95, 43, 393, 236, 284, 119, 248, 857, 503, 141, 159, 190, 111, 164, 183, 230, 226, 132, 245, 202, 58, 101, 65, 279, 495, 189, 191, 113, 117, 185, 392, 46, 167, 52, 126, 271, 380, 358, 90, 122, 358, 188, 127, 546, 281, 104, 134, 306, 261, 789, 175, 146, 239, 489, 441, 141, 275, 122, 213, 73, 189, 83, 120, 129, 153, 124, 105, 150, 179, 371, 156, 98, 336, 139, 251, 126, 441, 308, 296, 366, 63, 123, 167, 131, 284, 183, 130, 67, 54, 92, 904, 247, 99, 196, 139, 207, 112, 586, 112, 618, 231, 475, 167, 38, 376, 699, 136, 107, 51, 272, 119, 106, 334, 166, 92, 98, 495, 303, 103, 133, 382, 121, 104, 124, 135, 123, 101, 132, 114, 162, 87, 47, 120, 183, 128, 470, 268, 396, 154, 55, 507, 190, 124, 122, 402, 106, 364, 275, 105, 145, 254, 90, 136, 220, 170, 315, 123, 118, 154, 222, 395, 243, 808, 589, 131, 127, 116, 504, 364, 633, 176, 176, 118, 159, 64, 118, 165, 144, 163, 91, 61, 40, 357, 171, 115, 96, 636, 75, 127, 130, 86, 58, 115, 119, 148, 520, 132, 77, 131, 846, 241, 147, 184, 141, 108, 100, 159, 381, 159, 266, 466, 195, 494, 109, 255, 114, 91, 144, 306, 123, 197, 164, 100, 112, 112, 453, 61, 123, 116, 143, 157, 123, 61, 51, 101, 112, 146, 454, 109, 172, 194, 127, 147, 306, 62, 32, 124, 110, 453, 212, 379, 479, 540, 194, 663, 204, 105, 350, 113, 192, 124, 145, 58, 168, 192, 86, 52, 189, 183, 122, 184, 515, 123, 173, 191, 85, 297, 131, 702, 200, 259, 39, 152, 133, 162, 378, 167, 334, 454, 353, 158, 108, 101, 75, 180, 110, 90, 325, 175, 363, 126, 188, 87, 459, 98, 138, 1228, 140, 344, 601, 96, 181, 112, 42, 140, 58, 235, 252, 149, 68, 328, 63, 156, 159, 810, 123, 185, 128, 156, 165, 206, 195, 39, 203, 316, 164, 339, 156, 119, 64, 153, 106, 104, 218, 513, 123, 202, 344, 117, 131, 136, 150, 264, 253, 169, 51, 212, 87, 202, 147, 393, 71, 111, 127, 157, 119, 40, 279, 97, 131, 155, 332, 611, 40, 107, 509, 148, 448, 288, 86, 174, 310, 77, 127, 192, 279, 283, 626, 173, 182, 102, 168, 289, 258, 240, 42, 143, 128, 151, 171, 411, 97, 164, 182, 316, 252, 102, 86, 335, 132, 295, 123, 56, 145, 161, 261, 172, 100, 100, 316, 197, 66, 181, 173, 119, 84, 134, 207, 175, 295, 129, 612, 77, 580, 155, 132, 175, 250, 479, 337, 528, 257, 469, 143, 125, 197, 180, 190, 90, 350, 100, 473, 78, 52, 145, 115, 216, 759, 525, 517, 172, 102, 136, 122, 96, 119, 144, 622, 98, 159, 381, 275, 368, 233, 350, 191, 219, 89, 298, 393, 67, 281, 123, 79, 67, 301, 128, 58, 176, 48, 97, 167, 64, 272, 139, 47, 184, 198, 217, 139, 238, 88, 149, 29, 487, 236, 144, 120, 225, 484, 125, 60, 137, 166, 128, 133, 339, 325, 151, 325, 327, 733, 216, 178, 487, 92, 93, 257, 230, 252, 105, 405, 144, 147, 341, 139, 124, 181, 131, 171, 157, 157, 101, 96, 442, 501, 119, 126, 117, 170, 269, 311, 108, 285, 174, 501, 117, 134, 127, 167, 198, 653, 123, 222, 249, 151, 321, 67, 60, 62, 110, 156, 161, 172, 88, 104, 63, 506, 126, 52, 115, 101, 174, 120, 33, 215, 147, 396, 114, 56, 227, 164, 123, 326, 515, 276, 212, 393, 101, 230, 241, 105, 250, 63, 123, 140, 106, 337, 223, 270, 246, 230, 104, 510, 197, 194, 114, 128, 210, 225, 606, 344, 168, 324, 160, 63, 176, 138, 78, 107, 351, 73, 130, 254, 358, 297, 112, 131, 28, 108, 78, 132, 106, 426, 565, 145, 715, 203, 42, 113, 227, 147, 137, 133, 124, 153, 157, 187, 319, 134, 189, 183, 231, 197, 144, 188, 498, 306, 162, 52, 105, 102, 203, 180, 311, 44, 116, 130, 130, 302, 154, 319, 158, 129, 224, 154, 246, 126, 106, 142, 253, 87, 126, 478, 43, 340, 153, 110, 99, 282, 289, 235, 159, 654, 403, 624, 124, 139, 395, 119, 128, 195, 63, 211, 327, 228, 47, 227, 193, 397, 170, 340, 240, 236, 224, 163, 43, 175, 193, 618, 343, 72, 136, 177, 107, 149, 139, 114, 155, 225, 147, 122, 238, 99, 119, 57, 141, 760, 126, 154, 124, 95, 242, 137, 317, 122, 170, 195, 173, 177, 254, 161, 421, 120, 311, 101, 152, 190, 200, 57, 179, 68, 65, 888, 164, 133, 185, 317, 118, 188, 849, 398, 102, 138, 388, 132, 61, 128, 321, 141, 156, 194, 183, 137, 127, 419, 433, 298, 117, 194, 116, 144, 138, 172, 161, 190, 211, 165, 104, 124, 210, 210, 185, 71, 118, 742, 213, 151, 419, 117, 454, 170, 103, 175, 58, 86, 119, 111, 241, 115, 727, 166, 50, 161, 303, 151, 169, 704, 457, 84, 127, 130, 531, 124, 143, 76, 528, 116, 172, 44, 263, 211, 141, 149, 131, 61, 148, 187, 200, 190, 72, 160, 138, 496, 140, 118, 119, 106, 128, 60, 208, 177, 760, 141, 198, 220, 480, 177, 93, 158, 277, 118, 286, 207, 356, 260, 346, 170, 417, 225, 386, 285, 445, 156, 133, 473, 203, 166, 234, 277, 253, 139, 142, 248, 85, 81, 110, 207, 56, 137, 532, 151, 403, 39, 143, 132, 212, 116, 105, 83, 117, 143, 228, 264, 180, 258, 567, 329, 148, 333, 95, 333, 53, 68, 143, 147, 780, 199, 459, 41, 106, 94, 121, 287, 192, 99, 353, 112, 57, 147, 104, 152, 90, 486, 367, 170, 163, 177, 130, 544, 192, 113, 446, 283, 139, 102, 155, 134, 294, 47, 140, 155, 242, 290, 189, 103, 136, 132, 209, 226, 239, 110, 108, 187, 131, 176, 116, 118, 41, 108, 235, 90, 287, 100, 241, 147, 45, 115, 111, 108, 117, 327, 60, 48, 129, 185, 60, 77, 458, 362, 122, 105, 442, 55, 87, 349, 731, 297, 138, 104, 125, 182, 96, 54, 245, 104, 116, 174, 481, 127, 516, 158, 114, 290, 475, 170, 13, 133, 216, 111, 381, 182, 151, 130, 220, 271, 62, 125, 95, 243, 88, 165, 394, 106, 643, 69, 357, 114, 54, 280, 568, 38, 207, 147, 140, 154, 160, 710, 228, 90, 88, 160, 135, 178, 125, 209, 112, 185, 171, 40, 130, 46, 195, 127, 117, 82, 362, 113, 551, 190, 125, 339, 237, 41, 356, 174, 221, 142, 145, 107, 240, 421, 114, 68, 144, 514, 282, 130, 295, 713, 125, 166, 251, 196, 166, 145, 148, 134, 509, 341, 156, 65, 454, 108, 149, 397, 51, 100, 327, 151, 208, 110, 192, 185, 220, 291, 133, 209, 128, 99, 99, 117, 193, 165, 83, 144, 129, 177, 75, 160, 277, 952, 242, 127, 147, 97, 159, 69, 453, 53, 132, 124, 132, 164, 204, 614, 257, 138, 38, 102, 102, 146, 116, 636, 162, 114, 82, 145, 180, 169, 330, 203, 174, 327, 261, 240, 161, 114, 164, 130, 147, 60, 157, 297, 152, 171, 112, 51, 120, 138, 130, 39, 344, 179, 187, 167, 236, 135, 125, 130, 233, 102, 555, 285, 189, 172, 92, 105, 152, 375, 97, 171, 115, 139, 650, 175, 182, 157, 108, 195, 103, 127, 163, 153, 81, 178, 562, 199, 170, 230, 125, 205, 108, 197, 107, 61, 74, 191, 624, 159, 502, 400, 247, 86, 164, 129, 158, 168, 149, 473, 135, 32, 182, 296, 189, 103, 116, 161, 245, 109, 532, 88, 120, 403, 120, 60, 175, 596, 117, 111, 206, 56, 169, 127, 51, 178, 260, 297, 127, 600, 283, 330, 178, 456, 83, 135, 102, 114, 352, 297, 227, 499, 269, 77, 198, 211, 308, 112, 281, 213, 731, 63, 367, 66, 126, 212, 304, 72, 291, 211, 148, 128, 151, 121, 352, 260, 127, 85, 167, 125, 110, 123, 160, 267, 74, 147, 572, 494, 151, 483, 103, 206, 286, 208, 211, 204, 65, 646, 212, 80, 121, 244, 107, 161, 240, 183, 912, 133, 132, 119, 416, 168, 132, 135, 214, 97, 160, 459, 247, 112, 314, 71, 519, 141, 136, 164, 200, 361, 288, 268, 458, 66, 149, 111, 129, 111, 181, 36, 61, 165, 138, 140, 23, 434, 326, 263, 159, 139, 95, 90, 186, 218, 117, 162, 212, 199, 482, 90, 108, 812, 153, 208, 142, 375, 243, 282, 466, 153, 130, 215, 447, 124, 233, 112, 154, 268, 356, 290, 79, 146, 107, 228, 142, 106, 183, 75, 139, 138, 124, 70, 95, 92, 107, 123, 61, 115, 68, 120, 138, 116, 219, 202, 669, 122, 250, 129, 107, 203, 186, 142, 120, 108, 765, 294, 207, 139, 172, 286, 233, 126, 126, 428, 118, 125, 135, 52, 43, 498, 122, 254, 99, 165, 123, 114, 258, 116, 148, 158, 345, 157, 218, 844, 56, 20, 130, 118, 172, 146, 56, 97, 210, 95, 208, 61, 66, 137, 163, 116, 290, 365, 164, 614, 115, 249, 635, 163, 54, 136, 116, 494, 134, 93, 176, 140, 90, 137, 125, 54, 692, 301, 150, 89, 130, 211, 343, 103, 121, 104, 199, 148, 107, 162, 190, 134, 182, 283, 180, 107, 130, 45, 96, 431, 129, 89, 106, 225, 115, 323, 227, 186, 137, 84, 320, 699, 114, 54, 191, 122, 202, 169, 540, 605, 186, 102, 73, 526, 289, 369, 420, 160, 433, 219, 262, 170, 422, 153, 195, 388, 193, 68, 322, 153, 110, 265, 509, 158, 248, 243, 288, 366, 180, 194, 410, 174, 134, 520, 43, 128, 223, 123, 117, 103, 178, 102, 394, 156, 330, 175, 58, 77, 112, 84, 43, 182, 376, 124, 106, 133, 470, 215, 356, 243, 94, 116, 130, 535, 108, 237, 343, 532, 340, 112, 365, 62, 228, 199, 236, 139, 359, 34, 149, 120, 342, 308, 557, 58, 152, 274, 109, 24, 203, 126, 147, 84, 473, 232, 227, 127, 126, 769, 150, 389, 44, 99, 94, 121, 160, 168, 297, 370, 126, 162, 440, 117, 229, 289, 190, 114, 269, 308, 241, 377, 169, 183, 114, 174, 137, 217, 494, 700, 120, 117, 203, 126, 223, 96, 445, 227, 187, 514, 142, 21, 64, 117, 166, 94, 138, 168, 40, 347, 186, 138, 148, 119, 207, 110, 38, 236, 215, 229, 494, 148, 342, 114, 134, 158, 52, 90, 115, 97, 130, 53, 110, 134, 607, 374, 147, 99, 127, 179, 429, 100, 111, 199, 32, 227, 138, 383, 122, 322, 195, 255, 226, 113, 86, 249, 64, 107, 40, 203, 74, 745, 344, 180, 150, 603, 77, 231, 479, 310, 118, 240, 122, 121, 266, 153, 100, 337, 248, 127, 152, 257, 270, 168, 57, 63, 143, 117, 169, 49, 232, 442, 85, 124, 84, 215, 337, 262, 143, 115, 150, 172, 291, 177, 139, 190, 180, 57, 208, 198, 123, 95, 93, 79, 181, 146, 134, 548, 342, 118, 144, 937, 96, 110, 93, 322, 207, 455, 100, 47, 238, 219, 192, 219, 130, 553, 239, 130, 114, 288, 255, 120, 189, 982, 220, 64, 164, 150, 388, 138, 34, 49, 262, 162, 123, 144, 193, 262, 164, 61, 101, 186, 193, 100, 97, 169, 463, 147, 122, 140, 499, 92, 112, 190, 254, 149, 318, 116, 392, 270, 223, 175, 180, 204, 190, 262, 198, 153, 402, 76, 206, 103, 143, 120, 822, 205, 47, 384, 250, 127, 69, 281, 216, 111, 244, 41, 159, 123, 125, 154, 119, 105, 133, 128, 145, 366, 143, 275, 207, 130, 69, 475, 113, 276, 400, 140, 281, 105, 88, 664, 112, 96, 125, 121, 157, 865, 129, 121, 103, 94, 414, 174, 247, 368, 66, 102, 113, 246, 132, 67, 57, 120, 99, 176, 209, 889, 114, 188, 119, 801, 392, 177, 451, 145, 160, 279, 140, 74, 273, 163, 66, 60, 160, 117, 105, 84, 130, 73, 328, 789, 674, 113, 122, 145, 417, 358, 290, 130, 98, 224, 115, 126, 227, 128, 330, 191, 129, 210, 224, 55, 151, 428, 94, 272, 157, 78, 513, 283, 167, 195, 52, 383, 123, 130, 371, 288, 70, 156, 183, 146, 231, 125, 81, 58, 113, 136, 114, 101, 138, 159, 102, 150, 110, 215, 137, 372, 221, 158, 140, 254, 71, 130, 110, 68, 223, 401, 159, 240, 110, 164, 472, 262, 221, 88, 84, 87, 113, 76, 73, 174, 147, 189, 144, 58, 298, 106, 617, 200, 166, 35, 53, 633, 227, 40, 391, 220, 157, 466, 101, 142, 160, 348, 100, 331, 308, 126, 121, 244, 112, 157, 409, 105, 114, 180, 121, 66, 170, 849, 140, 170, 261, 256, 434, 159, 132, 207, 83, 365, 842, 473, 184, 174, 102, 139, 131, 95, 158, 133, 164, 794, 316, 219, 136, 147, 80, 109, 134, 381, 135, 426, 188, 369, 394, 181, 122, 76, 129, 246, 812, 96, 184, 112, 172, 128, 185, 145, 142, 229, 318, 206, 212, 622, 244, 399, 255, 130, 103, 423, 118, 52, 414, 115, 153, 237, 111, 114, 211, 460, 650, 122, 148, 101, 60, 185, 268, 46, 109, 692, 122, 126, 212, 131, 151, 186, 357, 360, 123, 549, 151, 173, 192, 73, 227, 128, 115, 67, 306, 321, 38, 92, 388, 45, 92, 100, 106, 245, 190, 128, 105, 123, 120, 524, 320, 47, 263, 45, 102, 233, 138, 154, 103, 498, 193, 155, 430, 135, 140, 147, 199, 111, 326, 437, 375, 182, 294, 158, 211, 178, 241, 101, 200, 124, 136, 137, 114, 120, 185, 320, 54, 89, 166, 104, 233, 103, 55, 268, 135, 118, 169, 82, 174, 330, 129, 133, 166, 137, 249, 123, 64, 145, 71, 247, 218, 151, 273, 184, 202, 111, 205, 262, 50, 132, 399, 206, 60, 290, 138, 60, 114, 266, 133, 141, 414, 111, 320, 203, 624, 252, 325, 131, 146, 271, 116, 153, 88, 133, 639, 166, 73, 137, 692, 54, 114, 130, 260, 110, 117, 188, 335, 113, 329, 129, 288, 120, 833, 185, 120, 105, 85, 120, 218, 278, 115, 133, 439, 71, 93, 180, 98, 97, 232, 253, 217, 110, 247, 36, 127, 589, 147, 47, 95, 104, 376, 389, 126, 123, 177, 149, 500, 168, 139, 138, 161, 62, 124, 207, 299, 101, 42, 132, 360, 165, 119, 215, 147, 235, 154, 218, 242, 47, 271, 164, 110, 204, 183, 839, 47, 651, 299, 119, 135, 797, 339, 37, 136, 41, 99, 414, 110, 150, 248, 204, 256, 207, 490, 60, 537, 69, 154, 158, 81, 36, 60, 273, 885, 152, 76, 355, 123, 318, 62, 213, 203, 117, 104, 209, 117, 504, 79, 166, 658, 169, 262, 42, 286, 194, 97, 191, 127, 146, 87, 454, 54, 104, 96, 457, 94, 154, 655, 99, 209, 110, 125, 200, 89, 107, 156, 186, 68, 213, 165, 128, 349, 300, 99, 90, 270, 189, 98, 171, 161, 128, 812, 171, 134, 51, 200, 199, 146, 84, 857, 275, 139, 169, 134, 367, 270, 120, 732, 95, 127, 189, 278, 118, 120, 128, 144, 693, 821, 165, 87, 139, 127, 184, 58, 753, 277, 407, 302, 92, 164, 98, 77, 342, 140, 121, 116, 460, 73, 150, 68, 268, 268, 164, 187, 179, 279, 305, 144, 138, 229, 127, 190, 230, 197, 189, 238, 183, 164, 194, 115, 147, 82, 88, 370, 103, 245, 156, 94, 90, 53, 129, 88, 171, 163, 56, 169, 135, 152, 256, 58, 261, 205, 236, 263, 192, 115, 250, 52, 163, 220, 118, 68, 114, 91, 760, 112, 159, 117, 434, 303, 382, 136, 889, 195, 104, 90, 198, 248, 130, 64, 388, 114, 92, 288, 124, 124, 136, 522, 84, 237, 186, 106, 52, 148, 147, 111, 252, 230, 155, 134, 91, 556, 184, 57, 171, 137, 146, 167, 344, 368, 134, 52, 138, 42, 150, 91, 385, 123, 143, 53, 103, 83, 114, 174, 104, 43, 116, 158, 196, 670, 239, 111, 132, 133, 265, 56, 246, 204, 121, 126, 336, 140, 158, 272, 58, 219, 199, 255, 28, 341, 112, 200, 74, 253, 287, 161, 823, 124, 85, 323, 441, 96, 298, 39, 241, 105, 158, 131, 41, 442, 185, 125, 447, 128, 224, 111, 328, 261, 260, 136, 178, 117, 135, 45, 271, 186, 117, 114, 132, 88, 40, 398, 106, 86, 151, 55, 108, 268, 195, 192, 777, 594, 270, 336, 502, 148, 149, 166, 230, 40, 309, 173, 131, 167, 245, 603, 593, 84, 175, 269, 181, 293, 110, 132, 194, 443, 149, 452, 297, 242, 161, 173, 103, 670, 258, 212, 208, 183, 492, 300, 170, 274, 613, 113, 315, 172, 144, 209, 196, 116, 282, 85, 121, 115, 178, 207, 279, 139, 60, 136, 212, 351, 200, 114, 426, 157, 193, 164, 190, 114, 202, 615, 161, 107, 193, 155, 61, 600, 138, 114, 336, 402, 104, 142, 122, 86, 248, 39, 42, 211, 230, 294, 149, 166, 221, 143, 204, 154, 156, 77, 104, 315, 123, 97, 299, 773, 130, 147, 273, 516, 110, 164, 257, 251, 143, 214, 334, 61, 293, 98, 281, 153, 184, 213, 429, 119, 199, 211, 120, 114, 206, 73, 76, 278, 358, 104, 244, 165, 146, 116, 334, 349, 61, 325, 916, 51, 325, 117, 295, 94, 147, 419, 180, 148, 126, 103, 146, 254, 157, 220, 140, 121, 122, 105, 177, 44, 86, 159, 142, 76, 791, 109, 185, 230, 83, 106, 151, 233, 130, 128, 61, 311, 47, 400, 145, 343, 160, 152, 14, 702, 180, 168, 123, 398, 366, 136, 297, 116, 456, 231, 126, 89, 360, 220, 126, 152, 252, 404, 52, 37, 841, 144, 367, 141, 118, 129, 186, 262, 219, 172, 116, 103, 127, 123, 205, 128, 162, 217, 175, 416, 106, 191, 35, 557, 136, 101, 31, 365, 140, 344, 170, 112, 167, 161, 184, 288, 248, 165, 551, 68, 143, 85, 95, 159, 328, 111, 111, 95, 141, 168, 199, 364, 183, 128, 93, 171, 112, 131, 177, 277, 260, 148, 124, 41, 184, 167, 184, 51, 296, 123, 257, 174, 204, 152, 185, 287, 271, 446, 176, 263, 139, 233, 163, 98, 221, 164, 130, 299, 169, 42, 105, 92, 97, 61, 281, 123, 104, 126, 64, 65, 167, 101, 170, 173, 297, 186, 323, 45, 42, 189, 195, 217, 132, 132, 113, 143, 171, 135, 411, 177, 203, 119, 92, 206, 113, 117, 137, 663, 126, 129, 129, 190, 108, 147, 96, 277, 286, 132, 114, 233, 186, 157, 59, 391, 175, 39, 179, 46, 275, 279, 140, 489, 385, 199, 126, 101, 375, 121, 155, 144, 180, 147, 32, 148, 179, 453, 44, 173, 112, 197, 432, 43, 111, 104, 137, 86, 125, 63, 324, 132, 200, 131, 173, 58, 727, 354, 235, 299, 231, 151, 302, 195, 112, 105, 68, 104, 120, 102, 176, 280, 97, 333, 189, 193, 195, 98, 180, 215, 128, 140, 483, 167, 185, 167, 92, 343, 113, 147, 132, 110, 142, 139, 126, 125, 365, 151, 125, 431, 178, 524, 50, 132, 119, 134, 186, 69, 53, 21, 159, 225, 150, 145, 173, 16, 154, 139, 242, 143, 240, 350, 210, 231, 251, 122, 199, 98, 166, 246, 113, 621, 117, 107, 295, 120, 120, 132, 161, 298, 338, 193, 177, 235, 479, 326, 291, 98, 131, 140, 71, 234, 415, 247, 101, 434, 167, 159, 184, 76, 274, 266, 253, 383, 349, 127, 138, 184, 493, 258, 202, 84, 205, 49, 218, 259, 370, 127, 71, 155, 113, 212, 123, 184, 151, 371, 96, 355, 553, 102, 425, 241, 154, 177, 193, 218, 834, 289, 227, 243, 174, 146, 162, 20, 226, 106, 83, 189, 536, 79, 150, 136, 171, 115, 513, 97, 198, 146, 140, 279, 113, 344, 170, 135, 149, 308, 280, 106, 207, 245, 230, 130, 170, 97, 469, 449, 104, 109, 239, 153, 217, 153, 123, 124, 189, 131, 58, 185, 294, 111, 306, 264, 563, 200, 139, 453, 416, 99, 389, 276, 124, 413, 119, 459, 196, 93, 127, 45, 172, 199, 80, 68, 110, 187, 103, 197, 103, 382, 83, 102, 335, 133, 290, 145, 213, 214, 269, 810, 215, 132, 104, 107, 164, 280, 502, 556, 219, 166, 445, 46, 169, 78, 196, 178, 337, 521, 210, 58, 366, 151, 315, 192, 311, 137, 230, 140, 189, 189, 189, 442, 99, 149, 150, 113, 120, 281, 141, 274, 82, 122, 169, 209, 41, 220, 175, 113, 116, 468, 190, 111, 195, 29, 58, 883, 97, 491, 138, 40, 184, 55, 273, 308, 197, 459, 306, 131, 106, 283, 401, 109, 268, 637, 104, 62, 49, 135, 146, 394, 183, 109, 623, 320, 543, 149, 60, 100, 162, 169, 310, 125, 126, 429, 218, 153, 151, 395, 163, 95, 264, 354, 49, 118, 190, 161, 237, 38, 838, 148, 240, 215, 242, 127, 124, 226, 31, 60, 119, 229, 95, 558, 290, 137, 366, 109, 595, 148, 112, 62, 84, 68, 102, 176, 245, 108, 158, 429, 139, 140, 133, 239, 215, 628, 73, 419, 69, 148, 164, 326, 124, 211, 119, 95, 130, 301, 157, 104, 201, 292, 249, 119, 135, 378, 331, 106, 128, 35, 448, 260, 165, 159, 145, 849, 530, 66, 224, 525, 49, 131, 199, 405, 434, 111, 151, 179, 55, 152, 113, 192, 204, 593, 64, 155, 131, 134, 80, 216, 337, 153, 101, 60, 275, 126, 102, 102, 152, 146, 685, 366, 157, 217, 143, 153, 290, 54, 239, 98, 283, 143, 195, 158, 158, 274, 116, 149, 166, 129, 183, 109, 246, 239, 155, 252, 147, 105, 38, 146, 61, 138, 144, 40, 135, 146, 643, 662, 204, 392, 113, 154, 84, 94, 229, 108, 190, 117, 190, 175, 114, 53, 150, 161, 120, 165, 334, 137, 196, 137, 119, 140, 337, 150, 230, 184, 113, 643, 133, 260, 184, 124, 139, 119, 116, 38, 342, 161, 127, 256, 149, 396, 164, 502, 427, 752, 303, 126, 157, 144, 150, 90, 134, 102, 124, 197, 332, 218, 59, 107, 211, 136, 292, 604, 84, 185, 272, 321, 385, 136, 246, 253, 34, 198, 139, 139, 209, 256, 726, 144, 472, 58, 146, 113, 202, 111, 170, 413, 131, 329, 159, 101, 255, 214, 263, 187, 208, 97, 159, 132, 204, 142, 414, 86, 107, 233, 161, 513, 147, 97, 75, 142, 357, 435, 89, 188, 112, 124, 385, 173, 135, 143, 260, 376, 170, 259, 130, 86, 197, 178, 113, 132, 104, 299, 93, 191, 209, 120, 125, 237, 173, 235, 169, 41, 47, 337, 187, 272, 105, 80, 145, 251, 135, 79, 104, 59, 119, 157, 247, 264, 180, 177, 121, 156, 472, 108, 186, 183, 255, 102, 355, 227, 76, 141, 55, 231, 120, 124, 118, 53, 685, 150, 605, 143, 148, 123, 127, 89, 313, 171, 64, 90, 541, 258, 282, 137, 102, 111, 52, 187, 525, 85, 454, 231, 118, 148, 131, 245, 149, 183, 99, 668, 62, 68, 128, 152, 129, 87, 374, 174, 238, 56, 115, 271, 342, 53, 125, 327, 114, 149, 323, 122, 763, 70, 125, 107, 169, 149, 182, 140, 106, 139, 192, 334, 186, 147, 270, 131, 218, 89, 116, 134, 278, 85, 333, 159, 580, 142, 191, 546, 128, 313, 122, 190, 74, 143, 733, 33, 66, 215, 167, 306, 515, 212, 276, 48, 109, 178, 240, 327, 178, 116, 115, 188, 331, 123, 83, 186, 174, 223, 142, 144, 286, 140, 323, 125, 66, 97, 490, 123, 260, 136, 133, 338, 82, 145, 153, 203, 169, 346, 147, 100, 118, 196, 35, 195, 271, 157, 152, 107, 106, 246, 508, 89, 196, 161, 64, 231, 168, 41, 159, 247, 70, 211, 424, 119, 137, 131, 275, 124, 331, 178, 182, 198, 32, 118, 192, 345, 201, 169, 222, 134, 280, 122, 180, 131, 56, 327, 311, 197, 296, 113, 167, 381, 45, 175, 179, 328, 127, 222, 235, 322, 368, 284, 160, 294, 118, 191, 153, 137, 290, 146, 112, 295, 109, 127, 288, 203, 315, 277, 69, 234, 115, 114, 225, 95, 204, 169, 275, 153, 483, 146, 278, 718, 102, 147, 266, 164, 434, 268, 176, 851, 183, 174, 47, 331, 182, 285, 81, 175, 115, 170, 329, 553, 190, 486, 152, 278, 114, 124, 193, 156, 266, 260, 120, 124, 227, 151, 195, 113, 449, 149, 278, 217, 371, 134, 323, 107, 151, 119, 138, 218, 314, 172, 119, 175, 32, 378, 244, 131, 33, 285, 167, 890, 132, 152, 290, 198, 62, 121, 117, 179, 130, 220, 136, 108, 122, 148, 298, 146, 912, 124, 138, 250, 54, 137, 164, 98, 97, 166, 217, 149, 237, 49, 214, 45, 122, 54, 388, 198, 136, 165, 191, 512, 85, 404, 276, 224, 147, 165, 434, 132, 267, 213, 588, 167, 157, 62, 132, 413, 128, 105, 34, 218, 273, 371, 142, 78, 156, 697, 34, 160, 107, 131, 214, 106, 117, 305, 136, 144, 204, 185, 264, 243, 659, 121, 158, 210, 95, 112, 118, 251, 161, 213, 168, 238, 206, 109, 49, 96, 97, 120, 25, 247, 302, 50, 156, 123, 235, 137, 311, 148, 287, 710, 209, 210, 189, 203, 59, 119, 110, 451, 129, 108, 273, 164, 341, 127, 256, 179, 255, 142, 343, 196, 127, 109, 164, 154, 65, 235, 102, 347, 300, 347, 149, 121, 97, 139, 155, 326, 60, 157, 173, 106, 356, 117, 231, 158, 276, 49, 83, 105, 594, 175, 187, 131, 223, 436, 304, 330, 136, 595, 68, 601, 178, 139, 91, 230, 33, 298, 277, 87, 531, 116, 212, 397, 93, 126, 574, 205, 146, 468, 160, 292, 49, 114, 401, 380, 106, 277, 174, 309, 125, 219, 134, 105, 575, 222, 53, 173, 193, 139, 130, 408, 148, 299, 87, 286, 143, 549, 176, 59, 219, 45, 71, 105, 142, 350, 111, 201, 269, 201, 387, 268, 115, 124, 125, 97, 206, 162, 329, 129, 293, 247, 249, 75, 194, 367, 362, 190, 170, 142, 127, 271, 307, 125, 283, 141, 313, 134, 151, 213, 276, 167, 448, 302, 47, 109, 122, 119, 222, 105, 118, 299, 788, 143, 139, 199, 233, 48, 131, 162, 856, 65, 249, 121, 243, 142, 142, 119, 154, 134, 35, 99, 245, 68, 430, 157, 118, 207, 273, 134, 251, 108, 347, 106, 109, 94, 464, 204, 143, 54, 117, 144, 151, 158, 201, 132, 97, 74, 358, 66, 187, 137, 589, 121, 133, 239, 226, 165, 104, 629, 80, 216, 163, 156, 48, 125, 416, 127, 187, 189, 42, 67, 93, 68, 189, 94, 352, 629, 65, 262, 94, 230, 316, 264, 104, 142, 131, 351, 225, 219, 89, 274, 140, 295, 54, 194, 109, 158, 58, 36, 196, 44, 315, 160, 207, 212, 269, 207, 150, 140, 145, 211, 62, 419, 126, 166, 282, 121, 120, 159, 302, 109, 226, 409, 140, 462, 207, 871, 178, 622, 176, 235, 59, 142, 59, 50, 132, 125, 182, 67, 164, 240, 195, 113, 195, 106, 125, 149, 161, 267, 107, 135, 140, 141, 383, 149, 117, 132, 161, 110, 37, 148, 103, 179, 115, 147, 136, 114, 148, 99, 111, 292, 376, 118, 270, 135, 76, 236, 124, 328, 197, 147, 93, 115, 308, 208, 128, 233, 102, 182, 360, 242, 140, 136, 80, 274, 49, 63, 145, 558, 141, 39, 229, 223, 69, 384, 154, 229, 188, 154, 101, 109, 152, 246, 145, 184, 138, 56, 216, 459, 147, 44, 107, 143, 108, 105, 153, 84, 119, 142, 126, 389, 183, 149, 251, 248, 385, 715, 236, 610, 382, 127, 142, 158, 123, 107, 120, 106, 258, 476, 425, 680, 845, 126, 123, 141, 153, 83, 276, 284, 975, 30, 69, 130, 23, 171, 220, 374, 135, 185, 205, 124, 118, 409, 305, 58, 147, 120, 294, 78, 253, 141, 144, 274, 275, 150, 93, 150, 242, 288, 655, 303, 144, 278, 869, 265, 201, 316, 128, 145, 253, 115, 50, 129, 543, 194, 84, 139, 18, 117, 43, 82, 102, 144, 134, 202, 118, 90, 708, 179, 189, 154, 156, 85, 499, 164, 142, 151, 849, 136, 118, 149, 236, 183, 124, 37, 45, 254, 203, 565, 107, 322, 164, 207, 94, 193, 825, 100, 387, 53, 157, 149, 327, 134, 254, 46, 147, 97, 242, 310, 186, 72, 143, 184, 126, 146, 389, 234, 119, 48, 174, 566, 70, 225, 397, 193, 42, 347, 141, 98, 80, 85, 248, 179, 202, 64, 334, 117, 162, 122, 135, 136, 212, 352, 154, 108, 157, 156, 119, 660, 144, 865, 132, 157, 483, 230, 200, 622, 229, 87, 104, 765, 162, 127, 460, 419, 79, 199, 144, 140, 163, 41, 116, 459, 123, 133, 347, 336, 123, 203, 381, 85, 127, 398, 159, 94, 94, 199, 359, 347, 208, 106, 115, 216, 277, 356, 560, 99, 172, 226, 129, 123, 108, 85, 54, 425, 95, 165, 793, 110, 140, 191, 409, 112, 154, 231, 259, 100, 74, 181, 296, 425, 183, 87, 150, 144, 190, 315, 152, 47, 599, 198, 150, 161, 797, 347, 55, 135, 44, 118, 129, 176, 101, 63, 342, 417, 119, 225, 100, 134, 211, 83, 214, 203, 83, 102, 122, 270, 417, 109, 107, 171, 120, 543, 617, 169, 147, 177, 143, 368, 165, 306, 641, 138, 345, 157, 189, 308, 139, 212, 267, 139, 917, 305, 146, 170, 177, 92, 96, 93, 88, 94, 64, 112, 58, 82, 348, 345, 190, 158, 312, 237, 258, 188, 61, 172, 139, 194, 114, 127, 346, 245, 60, 161, 109, 145, 138, 224, 122, 168, 131, 127, 373, 154, 137, 190, 168, 125, 108, 110, 300, 129, 138, 47, 404, 93, 223, 131, 110, 127, 297, 131, 133, 114, 732, 287, 155, 105, 120, 303, 102, 20, 92, 127, 126, 399, 559, 101, 186, 539, 295, 355, 112, 354, 131, 270, 114, 144, 125, 197, 127, 195, 146, 126, 105, 123, 142, 115, 543, 102, 127, 757, 183, 131, 837, 36, 130, 131, 404, 304, 425, 596, 117, 124, 109, 530, 170, 407, 294, 144, 117, 468, 194, 143, 32, 133, 295, 122, 375, 178, 153, 91, 120, 166, 39, 211, 191, 117, 692, 664, 396, 345, 137, 235, 172, 332, 413, 853, 388, 280, 257, 292, 158, 158, 158, 127, 55, 222, 123, 144, 203, 192, 164, 223, 408, 60, 96, 921, 43, 926, 696, 131, 228, 209, 240, 65, 271, 126, 102, 205, 113, 102, 159, 267, 126, 726, 52, 141, 187, 448, 100, 180, 316, 107, 203, 127, 209, 179, 141, 131, 175, 266, 495, 199, 261, 221, 140, 105, 177, 122, 633, 146, 206, 297, 108, 387, 119, 176, 174, 352, 430, 119, 160, 380, 247, 236, 158, 190, 262, 211, 865, 516, 94, 262, 155, 96, 302, 116, 197, 31, 117, 144, 102, 260, 177, 188, 178, 300, 195, 124, 169, 357, 211, 318, 125, 429, 242, 285, 189, 117, 424, 288, 159, 150, 177, 120, 456, 451, 399, 161, 123, 182, 407, 112, 342, 497, 102, 360, 380, 65, 353, 244, 104, 115, 98, 131, 148, 113, 145, 222, 166, 151, 208, 510, 124, 258, 439, 152, 158, 121, 86, 175, 424, 203, 149, 238, 216, 395, 229, 111, 148, 249, 223, 119, 151, 238, 160, 130, 96, 144, 158, 112, 329, 109, 227, 124, 208, 210, 106, 515, 69, 159, 122, 197, 76, 126, 204, 680, 264, 223, 81, 541, 162, 70, 191, 124, 129, 269, 306, 122, 329, 118, 177, 171, 122, 198, 522, 58, 146, 283, 330, 249, 95, 149, 175, 212, 120, 409, 99, 283, 353, 100, 263, 816, 130, 121, 114, 338, 79, 189, 117, 276, 244, 307, 47, 95, 91, 240, 70, 111, 705, 306, 133, 104, 534, 284, 132, 154, 260, 101, 566, 250, 59, 251, 116, 161, 184, 131, 379, 221, 249, 128, 196, 107, 211, 150, 85, 82, 318, 113, 202, 191, 261, 106, 166, 105, 226, 204, 60, 250, 310, 124, 147, 246, 873, 97, 197, 121, 375, 796, 227, 483, 215, 241, 540, 483, 192, 194, 189, 153, 131, 130, 163, 152, 156, 285, 176, 133, 46, 222, 128, 156, 119, 895, 168, 141, 135, 141, 250, 239, 114, 188, 446, 288, 112, 166, 213, 227, 101, 147, 214, 49, 321, 195, 97, 117, 283, 420, 110, 35, 171, 164, 115, 113, 141, 172, 147, 141, 133, 341, 119, 254, 177, 247, 239, 155, 288, 73, 138, 209, 260, 100, 223, 51, 79, 116, 154, 88, 241, 151, 96, 124, 173, 113, 353, 765, 303, 62, 139, 268, 557, 208, 113, 211, 273, 128, 150, 341, 136, 120, 107, 142, 140, 156, 270, 127, 204, 57, 179, 129, 124, 171, 56, 85, 246, 176, 181, 377, 125, 183, 291, 190, 262, 148, 156, 163, 179, 162, 269, 257, 163, 320, 242, 537, 52, 578, 98, 115, 191, 100, 174, 64, 114, 103, 40, 723, 127, 150, 100, 186, 282, 33, 285, 165, 70, 149, 263, 105, 154, 232, 87, 228, 316, 183, 314, 148, 181, 395, 121, 92, 202, 110, 59, 816, 366, 217, 146, 243, 350, 84, 161, 120, 124, 210, 248, 249, 139, 125, 173, 106, 130, 133, 168, 104, 206, 122, 48, 407, 122, 260, 49, 122, 142, 149, 323, 185, 346, 448, 317, 138, 326, 44, 124, 320, 157, 356, 97, 146, 473, 160, 249, 134, 366, 202, 122, 187, 80, 365, 51, 176, 139, 199, 132, 308, 119, 55, 407, 88, 468, 324, 146, 193, 113, 138, 75, 854, 151, 140, 584, 104, 341, 209, 135, 175, 184, 230, 106, 258, 100, 222, 51, 124, 126, 188, 64, 396, 167, 284, 193, 125, 146, 211, 215, 198, 132, 196, 139, 166, 212, 87, 380, 422, 103, 277, 165, 251, 206, 512, 257, 195, 93, 397, 138, 181, 255, 118, 169, 129, 284, 127, 156, 89, 339, 177, 195, 153, 50, 46, 121, 115, 116, 142, 179, 110, 33, 117, 70, 217, 129, 238, 351, 125, 114, 275, 59, 203, 158, 145, 144, 302, 387, 160, 203, 169, 292, 168, 144, 160, 469, 115, 113, 363, 348, 421, 152, 230, 140, 91, 336, 135, 108, 379, 107, 44, 186, 133, 93, 159, 462, 146, 251, 176, 170, 97, 180, 110, 288, 107, 257, 154, 110, 52, 118, 129, 192, 118, 421, 87, 136, 210, 161, 520, 203, 550, 277, 94, 442, 114, 843, 353, 47, 201, 105, 167, 661, 127, 116, 150, 165, 136, 573, 207, 446, 120, 365, 104, 279, 125, 26, 213, 527, 232, 129, 159, 198, 159, 191, 148, 124, 175, 123, 140, 137, 367, 261, 137, 143, 130, 94, 241, 560, 373, 113, 214, 160, 516, 194, 746, 194, 161, 65, 122, 196, 281, 275, 135, 77, 90, 135, 148, 62, 142, 40, 125, 85, 150, 124, 86, 151, 149, 118, 858, 187, 211, 84, 172, 185, 290, 156, 135, 86, 168, 336, 186, 389, 234, 104, 152, 761, 113, 97, 129, 233, 118, 190, 124, 99, 66, 82, 192, 98, 160, 200, 559, 114, 126, 695, 729, 139, 110, 149, 198, 95, 383, 280, 307, 185, 134, 468, 162, 138, 177, 140, 146, 155, 85, 122, 47, 122, 111, 70, 302, 158, 184, 165, 124, 230, 199, 123, 73, 132, 204, 316, 215, 168, 146, 114, 124, 89, 182, 185, 171, 109, 116, 593, 123, 101, 456, 119, 184, 292, 134, 75, 239, 279, 92, 109, 170, 110, 286, 251, 176, 100, 108, 69, 269, 217, 87, 132, 237, 166, 676, 72, 193, 296, 214, 114, 136, 355, 164, 673, 145, 58, 227, 371, 478, 156, 108, 222, 575, 270, 243, 123, 134, 90, 218, 122, 123, 929, 452, 467, 145, 159, 606, 149, 89, 128, 136, 183, 114, 118, 255, 143, 127, 214, 201, 102, 115, 132, 261, 158, 74, 113, 84, 253, 237, 79, 109, 822, 74, 88, 339, 127, 56, 181, 311, 156, 70, 193, 99, 99, 161, 36, 245, 124, 195, 146, 199, 139, 33, 227, 85, 150, 172, 327, 88, 178, 211, 121, 31, 328, 123, 170, 239, 107, 276, 291, 249, 260, 119, 151, 173, 168, 142, 125, 39, 218, 113, 530, 910, 526, 179, 34, 116, 106, 111, 160, 187, 98, 172, 103, 41, 160, 222, 108, 193, 183, 446, 281, 134, 102, 118, 141, 137, 230, 150, 145, 91, 117, 390, 170, 160, 144, 92, 314, 200, 140, 303, 136, 155, 873, 305, 163, 217, 94, 84, 74, 162, 86, 136, 309, 130, 328, 328, 67, 160, 457, 153, 157, 406, 528, 187, 127, 116, 293, 47, 315, 125, 207, 48, 30, 145, 264, 154, 123, 126, 152, 133, 265, 159, 886, 249, 130, 351, 275, 121, 501, 543, 267, 143, 87, 118, 96, 716, 128, 118, 653, 51, 164, 339, 144, 367, 160, 318, 180, 146, 171, 90, 54, 99, 100, 158, 174, 121, 73, 133, 208, 156, 133, 125, 236, 81, 330, 275, 466, 124, 513, 127, 822, 458, 443, 131, 225, 878, 133, 160, 85, 207, 145, 164, 185, 754, 158, 173, 129, 143, 123, 278, 155, 99, 140, 285, 137, 477, 142, 113, 423, 832, 166, 168, 482, 168, 887, 272, 158, 133, 292, 350, 141, 184, 265, 292, 404, 142, 394, 134, 144, 113, 134, 127, 123, 133, 195, 123, 64, 91, 122, 106, 254, 586, 105, 194, 157, 278, 276, 198, 159, 123, 191, 226, 217, 230, 349, 199, 72, 189, 274, 43, 105, 125, 707, 181, 38, 240, 130, 247, 71, 835, 117, 210, 188, 98, 143, 680, 209, 249, 654, 192, 393, 121, 202, 193, 230, 85, 167, 53, 198, 76, 248, 120, 293, 160, 128, 109, 244, 226, 211, 408, 120, 275, 248, 194, 34, 216, 243, 57, 111, 176, 208, 203, 65, 113, 151, 111, 116, 90, 282, 235, 210, 157, 379, 195, 38, 153, 451, 107, 469, 219, 296, 111, 207, 249, 135, 139, 669, 512, 197, 145, 257, 124, 433, 522, 43, 259, 431, 146, 242, 136, 286, 164, 114, 395, 589, 69, 535, 113, 443, 148, 132, 866, 116, 39, 111, 393, 118, 171, 119, 132, 137, 163, 75, 131, 96, 336, 109, 272, 162, 204, 172, 152, 148, 426, 237, 104, 338, 196, 210, 170, 233, 56, 114, 96, 57, 61, 262, 133, 155, 107, 137, 185, 157, 571, 173, 105, 113, 439, 73, 575, 142, 117, 63, 83, 119, 187, 135, 123, 193, 45, 149, 90, 106, 183, 496, 120, 73, 174, 125, 310, 290, 171, 55, 262, 87, 157, 261, 69, 798, 726, 183, 188, 138, 90, 165, 153, 265, 119, 163, 230, 104, 34, 174, 355, 385, 209, 90, 156, 637, 193, 141, 342, 114, 122, 94, 198, 119, 247, 127, 49, 120, 191, 98, 572, 226, 407, 180, 113, 157, 229, 270, 129, 128, 103, 173, 227, 206, 228, 365, 407, 839, 156, 61, 359, 340, 553, 230, 293, 131, 184, 176, 183, 131, 146, 135, 918, 163, 175, 108, 87, 303, 354, 66, 204, 442, 109, 657, 501, 320, 58, 324, 115, 144, 44, 234, 96, 298, 110, 102, 171, 157, 187, 161, 311, 169, 186, 484, 122, 102, 109, 122, 132, 144, 126, 172, 128, 106, 258, 277, 56, 137, 133, 88, 625, 159, 115, 178, 265, 476, 191, 144, 162, 128, 45, 119, 173, 77, 513, 131, 109, 155, 117, 367, 269, 768, 184, 210, 289, 116, 248, 306, 146, 259, 107, 188, 115, 172, 162, 503, 122, 125, 215, 435, 159, 190, 223, 145, 289, 137, 212, 257, 130, 75, 179, 182, 294, 117, 321, 188, 130, 152, 474, 65, 342, 116, 191, 127, 149, 170, 183, 208, 237, 342, 150, 86, 109, 108, 124, 49, 214, 257, 175, 190, 239, 126, 199, 328, 111, 154, 174, 112, 113, 403, 228, 266, 87, 448, 70, 138, 163, 292, 167, 433, 467, 252, 298, 100, 115, 496, 132, 186, 151, 41, 100, 48, 267, 418, 216, 351, 669, 176, 328, 75, 512, 126, 226, 304, 304, 142, 57, 281, 305, 165, 137, 444, 371, 164, 27, 362, 140, 174, 254, 166, 204, 524, 66, 280, 153, 130, 110, 204, 97, 142, 295, 128, 141, 209, 400, 148, 186, 129, 124, 191, 128, 121, 244, 139, 255, 188, 80, 205, 122, 276, 200, 40, 390, 281, 289, 369, 151, 541, 176, 169, 119, 217, 213, 123, 129, 210, 88, 263, 163, 87, 210, 93, 270, 359, 85, 143, 173, 53, 177, 90, 130, 108, 284, 140, 163, 161, 177, 107, 42, 106, 104, 186, 193, 128, 197, 118, 251, 95, 134, 163, 125, 123, 101, 56, 160, 119, 141, 358, 374, 129, 103, 260, 182, 65, 114, 158, 336, 56, 259, 55, 462, 143, 601, 147, 59, 162, 134, 118, 166, 91, 78, 225, 284, 232, 201, 137, 192, 191, 172, 724, 513, 112, 462, 116, 748, 186, 374, 154, 198, 621, 121, 271, 55, 175, 157, 123, 117, 115, 107, 93, 187, 130, 828, 213, 261, 84, 289, 104, 211, 224, 147, 91, 469, 245, 208, 212, 146, 328, 297, 116, 85, 459, 360, 96, 253, 841, 246, 313, 120, 56, 168, 106, 274, 312, 496, 690, 172, 314, 291, 499, 105, 248, 463, 158, 52, 330, 189, 165, 73, 158, 226, 142, 142, 169, 147, 138, 301, 191, 693, 120, 745, 696, 154, 146, 225, 112, 153, 126, 359, 146, 114, 204, 171, 111, 123, 102, 204, 142, 92, 239, 143, 110, 207, 171, 181, 200, 144, 231, 304, 42, 440, 44, 403, 282, 152, 512, 487, 97, 127, 171, 128, 126, 169, 178, 113, 268, 122, 201, 265, 149, 74, 61, 316, 469, 762, 47, 139, 219, 250, 158, 82, 586, 50, 69, 118, 57, 384, 323, 513, 111, 281, 108, 209, 123, 262, 126, 121, 156, 141, 48, 733, 610, 792, 120, 393, 118, 139, 236, 84, 145, 531, 127, 162, 243, 107, 182, 204, 258, 87, 425, 118, 123, 89, 182, 130, 138, 40, 180, 309, 372, 148, 135, 185, 154, 609, 156, 107, 196, 104, 54, 35, 167, 304, 105, 159, 137, 565, 196, 365, 49, 271, 320, 171, 273, 247, 199, 363, 109, 127, 186, 115, 161, 122, 147, 120, 198, 126, 126, 114, 99, 136, 144, 122, 48, 100, 173, 194, 157, 149, 434, 130, 294, 43, 87, 251, 270, 312, 41, 109, 187, 91, 221, 445, 170, 288, 95, 178, 65, 130, 132, 145, 133, 593, 491, 92, 135, 80, 301, 138, 137, 94, 180, 151, 273, 139, 107, 116, 176, 230, 80, 112, 61, 290, 125, 119, 274, 438, 126, 150, 102, 140, 164, 291, 221, 295, 111, 181, 110, 155, 111, 335, 344, 208, 169, 237, 155, 149, 267, 183, 137, 187, 166, 151, 180, 290, 124, 191, 51, 159, 205, 484, 193, 454, 258, 141, 151, 322, 85, 222, 79, 448, 171, 336, 122, 132, 136, 253, 126, 344, 233, 83, 188, 77, 159, 83, 547, 141, 627, 110, 423, 400, 186, 165, 179, 121, 140, 60, 217, 524, 150, 768, 177, 520, 291, 831, 124, 111, 108, 120, 41, 92, 246, 142, 41, 56, 121, 439, 101, 55, 149, 355, 259, 143, 194, 373, 44, 96, 141, 113, 372, 176, 314, 152, 126, 244, 123, 189, 149, 374, 146, 142, 381, 164, 177, 151, 355, 192, 83, 263, 293, 503, 379, 753, 389, 182, 244, 314, 119, 418, 199, 94, 93, 398, 320, 297, 74, 157, 52, 223, 151, 169, 54, 143, 269, 134, 182, 171, 157, 193, 706, 39, 345, 113, 399, 277, 47, 125, 201, 419, 331, 293, 99, 379, 190, 88, 140, 160, 174, 129, 193, 240, 195, 153, 127, 136, 365, 145, 182, 231, 137, 117, 126, 317, 342, 317, 356, 91, 345, 126, 175, 44, 78, 106, 407, 101, 282, 122, 151, 130, 165, 905, 344, 291, 241, 345, 109, 120, 192, 242, 53, 148, 167, 209, 122, 274, 304, 84, 184, 119, 209, 187, 175, 126, 103, 110, 238, 154, 148, 120, 154, 184, 101, 139, 97, 74, 263, 143, 132, 113, 173, 223, 168, 205, 306, 168, 166, 431, 155, 324, 270, 203, 54, 250, 112, 147, 210, 586, 138, 118, 33, 91, 54, 165, 89, 515, 82, 163, 820, 130, 210, 103, 185, 146, 128, 160, 112, 358, 101, 337, 491, 254, 53, 154, 108, 293, 111, 79, 354, 98, 218, 50, 191, 69, 223, 55, 159, 202, 208, 220, 72, 116, 164, 180, 281, 50, 515, 129, 107, 158, 153, 182, 139, 100, 178, 76, 102, 57, 463, 831, 170, 247, 92, 152, 64, 187, 136, 340, 350, 40, 134, 148, 149, 187, 322, 650, 344, 131, 640, 142, 198, 160, 129, 126, 128, 54, 239, 123, 166, 148, 364, 150, 240, 281, 123, 324, 196, 213, 41, 252, 129, 219, 213, 250, 252, 224, 267, 80, 69, 20, 136, 176, 43, 288, 338, 79, 258, 134, 129, 388, 118, 124, 138, 292, 278, 154, 138, 110, 94, 388, 156, 200, 143, 130, 366, 366, 113, 154, 125, 142, 110, 270, 183, 159, 251, 177, 124, 133, 122, 214, 202, 293, 115, 637, 266, 145, 100, 91, 50, 329, 706, 33, 194, 85, 159, 195, 185, 122, 162, 776, 129, 250, 379, 111, 205, 587, 471, 315, 117, 145, 79, 740, 131, 136, 411, 156, 215, 153, 102, 161, 108, 177, 161, 350, 126, 148, 120, 362, 157, 117, 155, 179, 129, 132, 243, 646, 387, 123, 121, 118, 281, 127, 127, 221, 160, 219, 77, 366, 237, 324, 122, 276, 166, 89, 189, 124, 125, 165, 102, 81, 190, 168, 59, 267, 219, 201, 238, 142, 175, 138, 109, 461, 113, 212, 56, 123, 126, 220, 117, 314, 253, 236, 87, 210, 252, 95, 611, 125, 420, 259, 515, 115, 143, 369, 423, 120, 151, 196, 307, 164, 685, 598, 123, 204, 94, 123, 177, 451, 682, 940, 212, 132, 110, 145, 181, 200, 246, 229, 123, 370, 90, 142, 117, 269, 69, 163, 122, 233, 75, 128, 246, 156, 108, 144, 170, 417, 397, 379, 219, 643, 117, 122, 306, 144, 421, 135, 651, 480, 356, 115, 622, 229, 121, 409, 119, 284, 683, 267, 26, 46, 584, 236, 211, 193, 151, 127, 57, 121, 44, 366, 151, 327, 175, 290, 118, 111, 140, 153, 128, 392, 138, 72, 304, 92, 129, 114, 183, 278, 45, 285, 204, 176, 161, 110, 255, 155, 126, 279, 265, 188, 424, 530, 187, 182, 33, 319, 50, 237, 138, 393, 321, 165, 463, 271, 121, 51, 141, 205, 77, 145, 267, 209, 293, 567, 117, 336, 576, 187, 125, 70, 163, 240, 206, 311, 226, 279, 81, 47, 201, 81, 144, 148, 187, 135, 264, 95, 135, 421, 301, 202, 51, 123, 182, 276, 34, 51, 658, 339, 118, 153, 155, 177, 160, 126, 120, 52, 383, 121, 35, 222, 134, 121, 139, 103, 152, 191, 163, 55, 481, 122, 174, 37, 398, 144, 767, 81, 23, 387, 190, 101, 272, 574, 105, 101, 120, 213, 176, 302, 191, 158, 105, 357, 184, 83, 254, 70, 44, 83, 252, 176, 148, 222, 157, 96, 148, 248, 133, 369, 695, 165, 372, 125, 92, 111, 158, 201, 44, 385, 56, 128, 874, 555, 270, 117, 200, 354, 124, 102, 99, 209, 94, 129, 152, 501, 207, 179, 161, 91, 292, 67, 89, 193, 355, 327, 142, 45, 72, 214, 310, 123, 68, 44, 117, 174, 312, 179, 109, 111, 55, 398, 129, 48, 215, 134, 72, 299, 347, 123, 144, 163, 390, 141, 607, 249, 98, 186, 52, 120, 114, 73, 109, 183, 401, 69, 154, 108, 247, 344, 321, 102, 315, 330, 203, 151, 136, 152, 189, 334, 267, 394, 59, 141, 204, 172, 112, 936, 201, 174, 357, 141, 376, 181, 151, 145, 249, 447, 148, 223, 667, 103, 116, 184, 98, 228, 110, 121, 141, 192, 851, 123, 199, 145, 201, 408, 239, 106, 132, 134, 97, 430, 116, 163, 480, 155, 164, 143, 215, 107, 206, 165, 137, 235, 319, 41, 596, 394, 99, 166, 652, 186, 187, 106, 160, 118, 148, 337, 110, 188, 156, 214, 330, 156, 178, 107, 104, 45, 93, 64, 149, 200, 46, 142, 556, 78, 166, 117, 273, 114, 135, 326, 392, 105, 317, 104, 202, 219, 136, 111, 120, 65, 62, 90, 170, 95, 192, 121, 199, 372, 59, 97, 524, 71, 180, 64, 137, 141, 381, 197, 27, 167, 194, 94, 136, 168, 203, 112, 103, 104, 80, 157, 135, 137, 67, 106, 143, 225, 159, 200, 197, 105, 745, 97, 306, 274, 191, 933, 161, 47, 142, 152, 104, 167, 121, 117, 336, 116, 568, 155, 237, 126, 227, 119, 180, 86, 392, 369, 243, 80, 254, 134, 103, 79, 162, 106, 164, 220, 158, 202, 159, 255, 307, 416, 151, 47, 123, 151, 127, 401, 140, 76, 234, 121, 105, 317, 462, 578, 123, 289, 92, 595, 95, 81, 119, 250, 522, 204, 375, 9, 189, 68, 39, 183, 187, 232, 144, 117, 120, 131, 590, 116, 442, 253, 189, 148, 53, 320, 511, 314, 187, 127, 57, 130, 74, 128, 130, 194, 83, 180, 77, 115, 448, 194, 50, 137, 519, 110, 179, 129, 222, 57, 214, 381, 147, 303, 31, 124, 125, 182, 98, 58, 280, 318, 111, 270, 188, 201, 275, 703, 114, 274, 186, 240, 133, 247, 181, 130, 146, 174, 204, 189, 566, 119, 198, 385, 165, 253, 358, 171, 155, 352, 135, 120, 107, 152, 141, 354, 112, 230, 207, 137, 193, 135, 253, 215, 32, 110, 155, 413, 485, 316, 147, 227, 128, 128, 159, 170, 413, 320, 44, 210, 128, 79, 77, 144, 86, 156, 44, 713, 210, 40, 122, 252, 105, 115, 149, 220, 106, 80, 168, 138, 240, 119, 267, 155, 134, 117, 181, 286, 372, 139, 500, 227, 193, 122, 153, 153, 240, 202, 103, 157, 145, 44, 178, 131, 176, 201, 201, 85, 304, 6, 119, 337, 204, 542, 109, 152, 129, 86, 196, 81, 326, 446, 110, 467, 152, 109, 118, 383, 938, 50, 375, 222, 94, 171, 145, 136, 302, 118, 223, 59, 128, 161, 80, 203, 349, 108, 163, 137, 71, 181, 230, 376, 45, 172, 140, 339, 130, 790, 296, 381, 147, 119, 769, 200, 114, 36, 204, 156, 121, 653, 475, 125, 121, 140, 279, 192, 156, 72, 169, 352, 120, 341, 659, 108, 439, 160, 309, 112, 111, 44, 473, 135, 319, 222, 137, 107, 122, 233, 252, 173, 198, 710, 708, 109, 99, 236, 227, 95, 177, 111, 137, 169, 218, 107, 128, 272, 561, 333, 58, 687, 542, 167, 84, 230, 226, 379, 151, 147, 128, 114, 320, 220, 244, 124, 353, 151, 127, 145, 150, 120, 111, 285, 132, 271, 153, 213, 556, 113, 126, 32, 118, 50, 273, 120, 170, 128, 143, 146, 164, 185, 663, 118, 114, 170, 281, 120, 49, 137, 488, 99, 55, 210, 33, 217, 187, 121, 73, 471, 205, 110, 246, 119, 178, 100, 169, 312, 221, 28, 150, 494, 690, 95, 124, 73, 334, 112, 143, 250, 122, 165, 107, 298, 248, 112, 218, 149, 90, 120, 107, 193, 676, 92, 285, 227, 200, 70, 94, 362, 481, 280, 287, 91, 423, 351, 198, 175, 118, 134, 122, 192, 265, 160, 314, 331, 100, 123, 138, 88, 235, 324, 297, 201, 130, 72, 176, 227, 97, 93, 85, 571, 135, 249, 171, 137, 237, 81, 184, 296, 267, 120, 617, 237, 415, 275, 149, 241, 313, 227, 154, 207, 167, 314, 118, 121, 156, 201, 142, 205, 203, 80, 154, 208, 112, 210, 129, 116, 169, 249, 244, 124, 196, 123, 195, 54, 193, 297, 39, 118, 536, 142, 138, 194, 263, 152, 147, 90, 317, 219, 347, 151, 165, 111, 204, 111, 189, 149, 66, 201, 162, 128, 105, 115, 115, 107, 175, 356, 345, 140, 173, 205, 147, 203, 113, 122, 400, 174, 263, 526, 198, 148, 92, 167, 544, 179, 314, 82, 234, 299, 116, 129, 143, 165, 267, 130, 325, 585, 740, 55, 159, 412, 884, 102, 167, 151, 224, 248, 54, 83, 591, 210, 132, 235, 119, 115, 176, 292, 222, 36, 125, 151, 158, 174, 152, 519, 286, 274, 733, 202, 79, 108, 121, 591, 187, 418, 144, 408, 148, 123, 121, 126, 214, 93, 108, 264, 236, 105, 104, 82, 174, 177, 134, 275, 243, 245, 339, 627, 111, 206, 68, 182, 111, 218, 114, 553, 252, 84, 134, 197, 423, 105, 317, 48, 266, 62, 125, 134, 161, 260, 327, 126, 188, 395, 118, 51, 138, 147, 289, 97, 851, 282, 357, 294, 113, 151, 248, 390, 118, 207, 147, 45, 123, 92, 124, 69, 149, 119, 55, 160, 105, 156, 178, 365, 150, 266, 250, 110, 91, 95, 125, 114, 259, 425, 182, 147, 85, 118, 622, 408, 134, 144, 121, 328, 126, 119, 607, 117, 140, 131, 592, 162, 230, 503, 275, 55, 153, 395, 131, 138, 117, 126, 222, 155, 129, 103, 140, 111, 288, 146, 160, 65, 429, 174, 168, 107, 79, 202, 123, 195, 132, 189, 248, 533, 647, 152, 117, 125, 173, 45, 46, 138, 160, 145, 194, 86, 221, 294, 159, 324, 238, 237, 196, 120, 153, 550, 331, 287, 208, 99, 322, 65, 113, 205, 94, 144, 149, 42, 555, 207, 157, 136, 350, 66, 215, 125, 137, 108, 116, 57, 407, 186, 306, 153, 150, 146, 509, 56, 161, 238, 143, 80, 306, 105, 310, 26, 102, 122, 44, 149, 854, 59, 112, 124, 121, 114, 98, 132, 152, 182, 118, 326, 404, 115, 297, 133, 361, 251, 210, 249, 156, 120, 517, 175, 57, 147, 32, 117, 200, 120, 157, 474, 136, 98, 249, 164, 201, 171, 103, 196, 133, 446, 246, 170, 119, 212, 266, 73, 46, 180, 321, 239, 251, 69, 41, 92, 115, 266, 202, 153, 323, 92, 133, 277, 163, 252, 156, 190, 54, 184, 268, 155, 153, 175, 355, 105, 298, 295, 321, 289, 102, 120, 215, 298, 187, 164, 356, 444, 254, 412, 347, 229, 129, 301, 270, 392, 338, 201, 135, 116, 330, 71, 72, 126, 88, 384, 224, 201, 135, 125, 501, 97, 628, 322, 295, 684, 97, 220, 156, 114, 44, 81, 239, 256, 616, 375, 115, 693, 121, 225, 403, 378, 160, 64, 124, 501, 8, 190, 94, 146, 453, 217, 314, 58, 58, 691, 69, 169, 114, 157, 178, 382, 416, 136, 42, 60, 162, 192, 184, 107, 115, 554, 432, 191, 149, 420, 202, 107, 187, 278, 179, 192, 102, 116, 148, 127, 191, 130, 374, 69, 123, 216, 134, 164, 204, 138, 160, 203, 556, 158, 269, 461, 38, 126, 369, 125, 118, 195, 149, 375, 582, 211, 52, 404, 102, 92, 200, 193, 364, 696, 95, 154, 210, 133, 187, 147, 436, 687, 100, 159, 58, 133, 65, 247, 330, 252, 447, 141, 52, 105, 15, 391, 99, 131, 221, 138, 312, 179, 248, 283, 138, 85, 148, 123, 150, 118, 179, 113, 320, 508, 228, 206, 142, 181, 168, 101, 171, 239, 62, 130, 31, 353, 145, 167, 272, 202, 78, 422, 175, 180, 138, 174, 129, 147, 45, 115, 61, 281, 116, 846, 63, 366, 118, 376, 109, 416, 319, 428, 155, 188, 81, 215, 120, 104, 48, 653, 135, 200, 117, 93, 46, 112, 80, 117, 238, 114, 151, 148, 87, 63, 837, 112, 195, 138, 128, 263, 155, 175, 65, 111, 73, 449, 114, 206, 69, 102, 90, 237, 55, 91, 70, 97, 132, 198, 187, 352, 192, 243, 180, 304, 293, 125, 158, 316, 150, 135, 685, 148, 169, 209, 76, 228, 156, 134, 61, 160, 168, 148, 184, 50, 222, 214, 163, 735, 104, 112, 149, 151, 105, 782, 105, 128, 245, 105, 470, 136, 194, 538, 95, 130, 138, 164, 493, 604, 495, 193, 252, 213, 261, 332, 109, 123, 248, 185, 209, 135, 198, 343, 131, 171, 181, 204, 244, 87, 480, 227, 764, 213, 188, 368, 116, 165, 333, 335, 40, 121, 117, 92, 375, 321, 231, 168, 335, 66, 103, 121, 152, 500, 224, 172, 204, 110, 516, 135, 159, 114, 174, 159, 373, 135, 491, 297, 172, 129, 271, 172, 220, 204, 117, 69, 551, 87, 143, 176, 189, 308, 388, 264, 71, 238, 145, 131, 136, 28, 467, 59, 206, 183, 176, 343, 117, 44, 604, 410, 276, 162, 48, 291, 54, 66, 128, 72, 336, 216, 309, 114, 208, 200, 354, 90, 123, 174, 280, 126, 118, 935, 133, 179, 461, 134, 152, 318, 117, 153, 68, 147, 154, 197, 123, 201, 445, 126, 144, 120, 156, 326, 105, 160, 143, 160, 131, 679, 276, 78, 97, 143, 220, 187, 253, 200, 103, 169, 116, 180, 334, 109, 478, 144, 133, 53, 201, 171, 259, 184, 188, 102, 122, 141, 64, 289, 35, 136, 136, 94, 256, 138, 123, 217, 180, 213, 100, 207, 187, 542, 638, 138, 217, 219, 406, 139, 132, 136, 116, 366, 111, 372, 283, 195, 367, 235, 156, 690, 226, 119, 115, 421, 119, 112, 180, 116, 201, 179, 163, 48, 165, 151, 145, 139, 252, 188, 134, 279, 173, 54, 147, 231, 850, 426, 140, 92, 233, 308, 207, 355, 133, 493, 202, 132, 371, 113, 71, 208, 366, 276, 129, 120, 317, 151, 265, 219, 417, 226, 86, 160, 200, 681, 37, 319, 113, 111, 366, 171, 231, 253, 126, 437, 400, 91, 209, 97, 107, 283, 49, 168, 79, 192, 197, 304, 121, 124, 93, 115, 58, 891, 153, 126, 122, 167, 167, 276, 69, 113, 319, 133, 35, 172, 218, 146, 96, 131, 97, 209, 172, 295, 260, 179, 236, 657, 203, 446, 241, 140, 929, 121, 98, 131, 217, 292, 129, 179, 156, 239, 285, 164, 126, 125, 139, 120, 34, 61, 626, 254, 98, 116, 148, 62, 73, 121, 269, 232, 61, 105, 84, 158, 97, 778, 89, 637, 141, 180, 86, 402, 506, 182, 116, 161, 280, 279, 138, 119, 131, 48, 538, 157, 134, 222, 140, 272, 200, 394, 500, 596, 122, 115, 386, 58, 349, 186, 441, 104, 172, 174, 136, 359, 149, 159, 127, 73, 134, 113, 174, 114, 674, 91, 349, 134, 625, 79, 119, 126, 459, 112, 102, 122, 565, 186, 172, 415, 500, 174, 94, 877, 159, 62, 93, 291, 57, 172, 162, 279, 184, 117, 200, 238, 189, 327, 103, 138, 117, 276, 162, 60, 115, 165, 131, 135, 151, 358, 205, 418, 172, 177, 132, 142, 115, 130, 350, 250, 206, 151, 238, 167, 112, 101, 113, 377, 151, 282, 103, 155, 256, 144, 106, 168, 352, 103, 127, 279, 103, 659, 188, 85, 256, 203, 146, 119, 265, 120, 233, 122, 203, 122, 169, 152, 148, 184, 139, 191, 40, 163, 172, 264, 521, 131, 107, 106, 362, 287, 348, 270, 766, 180, 291, 575, 126, 120, 255, 123, 140, 71, 99, 155, 111, 501, 267, 176, 527, 75, 254, 143, 591, 118, 284, 213, 163, 103, 56, 120, 152, 210, 125, 57, 371, 413, 151, 321, 56, 83, 177, 112, 363, 519, 116, 144, 442, 516, 70, 93, 208, 119, 122, 176, 197, 190, 124, 293, 98, 271, 95, 167, 133, 119, 144, 189, 86, 300, 325, 142, 224, 278, 198, 135, 107, 136, 322, 237, 164, 274, 185, 216, 103, 147, 138, 78, 243, 204, 144, 44, 152, 264, 136, 146, 368, 117, 106, 697, 105, 222, 104, 204, 105, 356, 326, 166, 194, 362, 96, 294, 510, 512, 140, 392, 65, 79, 263, 284, 306, 187, 392, 118, 114, 150, 558, 137, 143, 455, 411, 137, 60, 127, 120, 638, 257, 155, 117, 55, 175, 136, 243, 147, 40, 482, 49, 159, 65, 334, 323, 215, 400, 379, 132, 154, 108, 127, 608, 391, 77, 356, 148, 97, 82, 138, 322, 36, 294, 505, 147, 106, 105, 101, 141, 254, 117, 495, 157, 387, 52, 213, 258, 113, 157, 130, 600, 148, 124, 558, 118, 87, 97, 172, 235, 51, 308, 176, 368, 94, 127, 147, 263, 99, 119, 153, 106, 179, 127, 407, 639, 448, 293, 789, 146, 225, 165, 147, 156, 59, 271, 74, 125, 483, 173, 134, 146, 242, 361, 143, 157, 172, 160, 158, 363, 109, 154, 145, 108, 627, 142, 156, 110, 138, 308, 95, 248, 220, 125, 232, 110, 252, 123, 125, 395, 303, 77, 247, 295, 179, 414, 213, 400, 690, 460, 215, 301, 253, 129, 245, 182, 239, 416, 303, 179, 118, 109, 191, 120, 161, 195, 115, 185, 126, 284, 140, 548, 212, 136, 502, 66, 132, 298, 239, 94, 181, 143, 253, 148, 95, 52, 846, 106, 148, 246, 210, 139, 95, 268, 232, 149, 132, 151, 125, 209, 194, 127, 124, 150, 191, 119, 168, 101, 98, 99, 117, 144, 169, 173, 162, 125, 328, 181, 165, 254, 366, 128, 313, 117, 381, 64, 135, 200, 97, 154, 391, 252, 312, 156, 61, 205, 487, 326, 153, 134, 126, 338, 146, 66, 126, 427, 197, 173, 284, 427, 122, 181, 190, 182, 776, 132, 219, 616, 241, 156, 356, 413, 164, 119, 134, 167, 405, 115, 174, 121, 131, 93, 766, 143, 272, 130, 221, 141, 319, 135, 76, 429, 646, 114, 381, 274, 431, 113, 164, 153, 385, 119, 581, 150, 174, 122, 143, 217, 166, 35, 403, 117, 149, 134, 222, 143, 119, 146, 221, 172, 45, 489, 46, 262, 222, 196, 155, 863, 149, 226, 303, 186, 313, 85, 61, 149, 165, 109, 177, 135, 306, 140, 190, 102, 185, 354, 107, 112, 246, 370, 142, 145, 272, 174, 656, 61, 103, 181, 306, 136, 219, 174, 123, 183, 118, 210, 335, 200, 247, 228, 327, 173, 162, 197, 206, 136, 113, 53, 96, 198, 331, 138, 436, 63, 92, 121, 86, 301, 129, 312, 118, 191, 89, 38, 254, 121, 366, 163, 279, 240, 327, 280, 61, 347, 129, 191, 257, 259, 152, 284, 105, 180, 128, 136, 136, 204, 115, 483, 89, 43, 50, 112, 75, 110, 168, 123, 146, 879, 194, 172, 115, 122, 85, 250, 197, 121, 571, 109, 169, 348, 427, 53, 215, 111, 629, 405, 145, 846, 520, 391, 280, 153, 250, 511, 191, 59, 102, 112, 112, 260, 214, 61, 184, 112, 119, 171, 176, 448, 310, 176, 136, 98, 249, 96, 223, 278, 209, 105, 289, 77, 358, 138, 48, 189, 218, 704, 855, 338, 309, 120, 123, 326, 207, 124, 271, 388, 195, 73, 312, 208, 347, 239, 431, 406, 23, 220, 400, 105, 113, 164, 536, 254, 78, 59, 187, 352, 99, 222, 239, 159, 106, 148, 166, 130, 351, 102, 117, 153, 204, 138, 233, 165, 199, 148, 265, 139, 327, 228, 165, 214, 57, 173, 208, 103, 160, 151, 114, 127, 266, 207, 146, 107, 439, 142, 116, 210, 168, 240, 140, 56, 130, 164, 164, 201, 160, 190, 129, 67, 107, 240, 505, 62, 167, 386, 612, 236, 255, 603, 314, 127, 132, 111, 171, 136, 610, 176, 47, 83, 509, 109, 435, 44, 202, 140, 169, 177, 130, 280, 267, 391, 102, 298, 250, 121, 112, 206, 202, 675, 195, 627, 132, 162, 330, 137, 117, 643, 189, 84, 278, 116, 127, 255, 76, 98, 226, 163, 149, 145, 133, 95, 246, 36, 63, 319, 249, 137, 130, 199, 114, 239, 168, 348, 123, 372, 127, 106, 189, 265, 224, 314, 128, 114, 103, 146, 334, 246, 312, 107, 116, 285, 140, 96, 120, 231, 661, 230, 458, 229, 61, 120, 585, 104, 123, 123, 484, 115, 186, 112, 232, 143, 77, 201, 221, 128, 232, 153, 83, 403, 314, 66, 128, 126, 298, 361, 175, 50, 135, 399, 215, 135, 229, 155, 122, 170, 146, 310, 163, 371, 372, 180, 191, 426, 278, 154, 191, 169, 239, 618, 320, 119, 121, 119, 61, 118, 126, 131, 147, 513, 271, 193, 217, 110, 117, 270, 91, 213, 129, 147, 71, 320, 54, 216, 149, 108, 296, 552, 753, 237, 54, 186, 328, 141, 225, 101, 664, 86, 135, 203, 300, 183, 323, 148, 284, 92, 672, 120, 182, 99, 537, 331, 114, 108, 63, 213, 747, 142, 50, 437, 187, 359, 61, 97, 124, 69, 194, 43, 549, 82, 126, 172, 231, 143, 309, 106, 139, 153, 123, 653, 343, 191, 204, 192, 61, 106, 120, 235, 365, 280, 324, 79, 120, 121, 563, 69, 477, 403, 210, 143, 149, 141, 102, 61, 71, 125, 123, 135, 177, 182, 155, 157, 77, 160, 277, 390, 46, 134, 134, 371, 153, 261, 191, 94, 106, 122, 396, 156, 321, 266, 226, 239, 336, 386, 112, 182, 430, 131, 406, 145, 149, 307, 70, 133, 117, 269, 186, 49, 379, 446, 359, 590, 152, 303, 268, 393, 407, 151, 307, 279, 236, 141, 74, 111, 243, 176, 110, 74, 218, 179, 109, 472, 327, 138, 450, 323, 165, 292, 145, 193, 337, 166, 87, 251, 78, 94, 149, 378, 200, 261, 113, 143, 85, 98, 242, 314, 124, 210, 610, 174, 214, 328, 142, 174, 162, 68, 105, 70, 94, 166, 257, 563, 218, 128, 93, 87, 128, 96, 191, 835, 52, 137, 153, 91, 123, 105, 131, 197, 89, 114, 112, 409, 139, 128, 63, 141, 75, 204, 140, 97, 248, 216, 373, 131, 172, 83, 129, 462, 91, 141, 229, 375, 119, 71, 155, 130, 101, 136, 144, 105, 110, 131, 134, 147, 100, 120, 93, 211, 249, 124, 481, 511, 211, 154, 128, 121, 89, 150, 99, 138, 112, 229, 127, 89, 180, 389, 210, 115, 171, 122, 125, 180, 112, 93, 111, 393, 44, 241, 189, 148, 121, 206, 131, 361, 163, 239, 183, 206, 307, 218, 137, 84, 109, 73, 71, 294, 228, 361, 106, 177, 141, 220, 128, 105, 174, 213, 126, 108, 181, 140, 77, 163, 103, 127, 82, 47, 267, 278, 388, 47, 104, 132, 185, 205, 266, 389, 153, 137, 304, 461, 161, 920, 102, 164, 142, 146, 355, 154, 132, 180, 253, 152, 179, 176, 116, 266, 55, 144, 349, 167, 112, 89, 202, 90, 657, 473, 155, 124, 222, 125, 42, 306, 201, 212, 145, 115, 292, 113, 130, 281, 57, 50, 148, 601, 150, 182, 112, 244, 553, 678, 217, 124, 930, 164, 144, 245, 340, 952, 183, 200, 49, 131, 281, 109, 131, 146, 105, 114, 178, 690, 161, 150, 423, 115, 132, 157, 229, 176, 103, 78, 335, 166, 106, 139, 448, 318, 318, 118, 470, 63, 345, 342, 194, 157, 129, 145, 169, 245, 206, 95, 99, 117, 112, 215, 140, 121, 385, 130, 138, 154, 241, 279, 124, 121, 410, 124, 112, 123, 220, 43, 154, 120, 255, 176, 150, 165, 43, 259, 130, 120, 29, 158, 129, 202, 579, 141, 110, 129, 95, 153, 72, 405, 225, 133, 57, 192, 67, 155, 122, 222, 296, 192, 36, 99, 53, 165, 124, 63, 118, 171, 278, 148, 87, 86, 112, 258, 286, 157, 91, 466, 35, 161, 100, 130, 275, 129, 224, 113, 151, 95, 150, 110, 274, 182, 246, 409, 137, 118, 309, 82, 243, 141, 334, 231, 454, 105, 129, 294, 180, 260, 218, 226, 111, 81, 136, 206, 576, 123, 132, 173, 50, 207, 216, 356, 123, 329, 53, 463, 323, 155, 158, 127, 603, 428, 145, 202, 39, 270, 204, 472, 182, 383, 131, 120, 154, 95, 163, 253, 116, 221, 135, 92, 237, 145, 329, 120, 156, 223, 234, 138, 126, 180, 115, 69, 153, 111, 273, 112, 241, 830, 298, 135, 266, 115, 119, 335, 67, 91, 188, 185, 628, 92, 689, 574, 134, 477, 182, 120, 389, 297, 638, 185, 210, 233, 149, 48, 558, 127, 365, 162, 162, 195, 399, 128, 159, 132, 142, 340, 305, 96, 345, 239, 241, 126, 87, 138, 443, 140, 555, 75, 132, 89, 130, 132, 74, 229, 130, 672, 205, 565, 124, 419, 356, 255, 122, 114, 231, 183, 132, 117, 218, 48, 77, 134, 191, 712, 206, 355, 162, 132, 228, 92, 154, 211, 110, 136, 287, 100, 670, 203, 140, 185, 330, 608, 132, 200, 167, 45, 116, 451, 169, 157, 237, 125, 75, 76, 225, 188, 130, 192, 150, 259, 176, 135, 166, 312, 132, 85, 111, 145, 62, 119, 125, 744, 161, 227, 151, 118, 378, 110, 201, 308, 99, 144, 138, 282, 167, 427, 534, 269, 537, 156, 376, 119, 119, 95, 108, 259, 198, 132, 239, 85, 93, 110, 141, 53, 206, 167, 214, 136, 120, 223, 121, 69, 346, 48, 165, 319, 109, 500, 147, 127, 119, 141, 131, 93, 119, 339, 145, 108, 536, 114, 191, 226, 134, 124, 580, 130, 188, 323, 191, 123, 61, 320, 268, 402, 290, 496, 109, 122, 116, 289, 93, 447, 101, 301, 145, 690, 138, 170, 130, 92, 281, 832, 122, 317, 60, 856, 110, 122, 293, 132, 281, 832, 185, 130, 325, 167, 80, 154, 171, 168, 151, 208, 312, 55, 53, 118, 87, 116, 116, 120, 93, 358, 124, 120, 358, 161, 120, 99, 114, 70, 238, 179, 144, 156, 249, 114, 122, 340, 126, 169, 233, 119, 280, 156, 61, 142, 84, 410, 157, 378, 72, 230, 126, 283, 308, 153, 293, 149, 123, 184, 424, 123, 166, 185, 90, 609, 152, 80, 141, 185, 242, 123, 264, 108, 148, 159, 343, 175, 160, 124, 144, 175, 111, 106, 315, 158, 123, 178, 169, 338, 177, 79, 87, 116, 219, 287, 119, 145, 67, 149, 587, 301, 174, 201, 328, 131, 506, 227, 155, 327, 132, 134, 421, 134, 108, 450, 336, 177, 128, 136, 187, 135, 403, 125, 45, 152, 230, 122, 266, 125, 159, 46, 168, 127, 350, 573, 343, 48, 156, 164, 169, 250, 119, 110, 307, 158, 292, 265, 155, 210, 77, 107, 158, 176, 105, 187, 157, 64, 326, 138, 429, 233, 119, 122, 227, 150, 149, 105, 179, 79, 182, 199, 96, 167, 116, 120, 196, 114, 175, 394, 304, 279, 440, 199, 128, 318, 266, 165, 151, 225, 124, 498, 112, 113, 187, 189, 155, 276, 901, 444, 207, 56, 190, 107, 136, 374, 171, 48, 199, 512, 122, 500, 709, 199, 97, 207, 98, 138, 362, 119, 151, 261, 423, 153, 1024, 170, 243, 101, 108, 79, 503, 163, 144, 390, 139, 204, 122, 108, 357, 177, 204, 143, 109, 557, 254, 194, 77, 272, 189, 208, 235, 84, 101, 203, 360, 116, 114, 924, 229, 86, 153, 372, 97, 163, 235, 184, 226, 155, 42, 228, 301, 200, 270, 188, 146, 122, 160, 349, 162, 122, 124, 141, 191, 176, 542, 132, 448, 78, 188, 323, 75, 196, 102, 138, 107, 149, 815, 151, 137, 119, 234, 211, 116, 103, 140, 320, 149, 130, 203, 277, 147, 160, 479, 101, 117, 94, 141, 754, 126, 170, 396, 323, 155, 420, 95, 87, 175, 217, 284, 170, 391, 487, 134, 119, 98, 163, 89, 133, 272, 127, 271, 550, 190, 219, 149, 211, 116, 174, 88, 335, 123, 140, 128, 286, 153, 166, 256, 313, 222, 124, 483, 240, 204, 217, 70, 197, 301, 185, 128, 99, 233, 171, 237, 187, 139, 147, 471, 150, 390, 102, 39, 514, 147, 327, 264, 250, 547, 94, 295, 261, 155, 163, 247, 144, 80, 65, 404, 117, 378, 119, 422, 217, 77, 349, 117, 183, 120, 211, 115, 405, 149, 80, 62, 137, 264, 101, 218, 583, 133, 369, 200, 301, 31, 34, 103, 210, 398, 103, 253, 244, 319, 217, 172, 369, 105, 422, 387, 166, 66, 239, 197, 161, 51, 809, 466, 289, 211, 490, 122, 348, 250, 82, 143, 196, 209, 93, 496, 238, 167, 277, 76, 429, 35, 148, 135, 156, 275, 173, 211, 148, 122, 293, 136, 149, 77, 123, 308, 217, 163, 278, 267, 111, 113, 81, 146, 38, 283, 305, 174, 255, 551, 148, 417, 116, 29, 119, 232, 129, 153, 216, 144, 241, 206, 80, 289, 49, 117, 121, 272, 58, 213, 189, 995, 54, 106, 130, 328, 106, 30, 153, 136, 45, 314, 367, 230, 145, 357, 115, 145, 387, 145, 456, 42, 261, 104, 51, 307, 199, 87, 109, 191, 81, 241, 195, 137, 144, 93, 273, 495, 109, 366, 147, 101, 334, 129, 144, 55, 175, 672, 127, 415, 556, 194, 348, 147, 486, 129, 261, 124, 173, 48, 264, 170, 114, 234, 127, 195, 117, 81, 182, 204, 125, 306, 193, 93, 39, 919, 171, 141, 150, 164, 160, 155, 170, 102, 110, 140, 250, 171, 304, 126, 192, 67, 107, 193, 150, 130, 129, 79, 256, 126, 125, 99, 229, 181, 122, 103, 217, 512, 164, 310, 405, 121, 232, 190, 281, 149, 124, 737, 181, 106, 307, 137, 107, 100, 347, 65, 293, 109, 205, 166, 881, 141, 104, 62, 45, 651, 137, 142, 108, 106, 141, 326, 90, 725, 113, 269, 506, 178, 248, 238, 108, 310, 179, 584, 86, 120, 109, 147, 232, 490, 272, 157, 160, 149, 150, 286, 191, 267, 233, 101, 281, 356, 127, 220, 381, 145, 237, 95, 184, 106, 453, 106, 127, 303, 220, 164, 155, 225, 843, 98, 175, 102, 60, 167, 110, 158, 41, 762, 261, 117, 234, 316, 65, 184, 185, 134, 175, 57, 116, 112, 123, 197, 122, 87, 582, 485, 179, 237, 219, 335, 133, 692, 73, 145, 89, 157, 162, 497, 304, 157, 117, 770, 481, 458, 204, 116, 118, 210, 243, 150, 142, 130, 402, 268, 201, 158, 165, 163, 102, 121, 216, 91, 134, 90, 316, 264, 154, 405, 312, 361, 127, 128, 183, 106, 123, 183, 50, 218, 167, 309, 184, 368, 519, 171, 506, 83, 126, 258, 65, 191, 213, 302, 194, 225, 119, 297, 111, 135, 155, 100, 135, 630, 183, 279, 298, 101, 62, 662, 539, 165, 348, 140, 286, 155, 166, 179, 138, 95, 216, 294, 722, 144, 125, 206, 170, 99, 89, 120, 125, 813, 158, 119, 116, 183, 505, 339, 167, 74, 103, 106, 281, 169, 349, 176, 96, 356, 59, 43, 144, 183, 329, 477, 49, 124, 203, 100, 309, 183, 101, 124, 81, 126, 134, 175, 143, 211, 140, 6, 302, 87, 205, 918, 128, 248, 640, 106, 107, 58, 205, 220, 131, 123, 337, 233, 51, 316, 62, 237, 100, 176, 144, 204, 440, 178, 86, 170, 89, 106, 246, 133, 158, 71, 190, 107, 153, 105, 393, 317, 118, 109, 286, 124, 149, 164, 156, 199, 29, 142, 243, 452, 180, 171, 288, 372, 100, 278, 89, 87, 114, 222, 387, 416, 123, 313, 347, 108, 209, 125, 489, 189, 123, 124, 391, 396, 140, 315, 161, 192, 143, 633, 107, 119, 256, 245, 96, 105, 878, 401, 304, 126, 120, 46, 562, 200, 210, 224, 240, 127, 145, 116, 128, 426, 73, 278, 319, 322, 257, 159, 91, 206, 120, 70, 126, 497, 150, 413, 151, 162, 290, 206, 114, 145, 125, 379, 104, 40, 169, 260, 200, 281, 147, 107, 131, 732, 168, 199, 188, 149, 127, 214, 336, 258, 204, 431, 297, 78, 322, 136, 134, 246, 138, 59, 345, 182, 206, 236, 175, 290, 299, 172, 129, 103, 113, 205, 380, 124, 166, 97, 49, 184, 95, 314, 140, 392, 193, 179, 114, 155, 355, 263, 182, 423, 243, 407, 30, 182, 202, 95, 389, 576, 133, 120, 70, 355, 114, 41, 116, 281, 288, 113, 104, 100, 192, 252, 38, 123, 160, 189, 75, 134, 158, 542, 126, 234, 317, 111, 287, 464, 139, 155, 125, 357, 45, 438, 110, 119, 129, 164, 241, 211, 179, 169, 159, 129, 390, 136, 378, 120, 176, 179, 218, 38, 45, 102, 116, 523, 228, 582, 157, 103, 258, 107, 368, 118, 228, 178, 244, 184, 102, 869, 48, 399, 145, 67, 217, 221, 125, 52, 100, 170, 398, 129, 168, 169, 427, 59, 89, 41, 482, 120, 84, 497, 191, 416, 159, 407, 101, 326, 159, 178, 148, 271, 90, 33, 320, 254, 47, 149, 216, 145, 102, 185, 106, 235, 107, 162, 297, 177, 45, 277, 114, 125, 332, 303, 237, 120, 207, 191, 164, 127, 106, 168, 274, 183, 194, 299, 112, 281, 132, 452, 168, 74, 222, 230, 232, 244, 269, 104, 187, 351, 116, 37, 143, 157, 151, 153, 88, 398, 354, 116, 304, 251, 97, 99, 117, 328, 888, 135, 486, 169, 181, 133, 199, 529, 438, 98, 122, 425, 180, 67, 133, 184, 120, 133, 154, 124, 126, 51, 124, 137, 111, 164, 59, 347, 135, 164, 737, 218, 280, 236, 280, 247, 172, 199, 162, 168, 83, 273, 135, 157, 116, 118, 382, 122, 120, 68, 137, 797, 101, 47, 254, 179, 120, 340, 106, 105, 166, 87, 126, 163, 87, 697, 122, 121, 141, 288, 257, 142, 115, 171, 253, 86, 290, 171, 103, 56, 948, 304, 344, 223, 115, 314, 295, 592, 364, 234, 149, 123, 287, 512, 220, 920, 97, 109, 348, 231, 405, 170, 174, 112, 155, 54, 390, 122, 259, 837, 114, 123, 153, 318, 88, 77, 391, 79, 425, 286, 216, 111, 513, 98, 150, 327, 155, 124, 106, 307, 297, 296, 187, 380, 117, 146, 108, 142, 57, 185, 419, 416, 196, 212, 791, 126, 125, 379, 157, 119, 81, 123, 141, 355, 130, 81, 180, 340, 105, 202, 156, 265, 245, 123, 132, 317, 198, 792, 170, 120, 106, 167, 184, 224, 40, 536, 174, 133, 132, 139, 109, 130, 135, 101, 249, 115, 52, 120, 603, 111, 104, 103, 128, 244, 110, 94, 314, 839, 104, 110, 297, 130, 209, 327, 64, 945, 81, 210, 255, 208, 200, 203, 124, 120, 124, 128, 377, 241, 49, 92, 95, 84, 210, 261, 370, 151, 176, 124, 288, 126, 110, 215, 220, 266, 483, 32, 153, 145, 268, 228, 46, 230, 127, 113, 52, 169, 148, 136, 110, 151, 158, 272, 420, 396, 117, 540, 218, 307, 98, 235, 106, 139, 227, 247, 426, 82, 59, 137, 197, 71, 109, 333, 175, 164, 223, 159, 100, 79, 177, 138, 155, 107, 136, 172, 248, 45, 51, 269, 119, 59, 144, 407, 221, 377, 208, 99, 295, 323, 77, 248, 118, 229, 321, 333, 126, 380, 126, 189, 549, 52, 46, 308, 737, 125, 339, 313, 257, 130, 140, 226, 104, 171, 61, 268, 672, 355, 71, 479, 254, 153, 251, 202, 156, 246, 121, 106, 134, 156, 189, 80, 284, 234, 103, 85, 138, 176, 131, 44, 117, 184, 88, 100, 100, 78, 342, 62, 207, 304, 499, 75, 226, 234, 252, 164, 566, 393, 116, 443, 112, 120, 410, 148, 55, 95, 285, 147, 68, 90, 255, 118, 103, 334, 268, 129, 127, 253, 432, 242, 159, 122, 117, 157, 172, 511, 113, 148, 125, 523, 153, 166, 138, 179, 237, 67, 340, 110, 138, 127, 144, 328, 32, 100, 318, 179, 233, 70, 127, 125, 195, 111, 102, 113, 142, 201, 180, 86, 388, 145, 377, 136, 295, 162, 52, 404, 214, 166, 260, 103, 356, 150, 81, 206, 273, 365, 435, 146, 40, 224, 100, 385, 260, 162, 156, 83, 62, 130, 187, 105, 126, 213, 515, 444, 104, 207, 51, 129, 191, 152, 309, 90, 363, 119, 136, 158, 157, 237, 109, 242, 120, 199, 51, 388, 54, 45, 46, 73, 641, 88, 264, 157, 158, 295, 321, 167, 115, 358, 155, 193, 209, 157, 99, 257, 345, 121, 126, 183, 425, 54, 396, 248, 142, 109, 80, 118, 49, 161, 65, 234, 139, 128, 44, 47, 258, 126, 261, 190, 199, 334, 423, 116, 369, 213, 123, 71, 172, 120, 193, 236, 105, 122, 97, 124, 126, 189, 94, 182, 119, 350, 111, 214, 103, 76, 177, 282, 166, 475, 38, 309, 326, 110, 332, 309, 77, 202, 96, 499, 181, 129, 436, 329, 111, 524, 126, 150, 100, 836, 307, 108, 293, 96, 142, 385, 188, 426, 329, 537, 265, 167, 347, 305, 228, 152, 125, 116, 527, 446, 134, 785, 229, 262, 390, 152, 31, 226, 111, 48, 139, 129, 62, 181, 154, 103, 255, 127, 234, 114, 105, 224, 198, 122, 195, 197, 391, 173, 203, 276, 204, 207, 214, 156, 197, 218, 155, 160, 251, 89, 384, 581, 331, 44, 146, 537, 285, 344, 160, 243, 379, 303, 590, 191, 549, 124, 337, 143, 148, 458, 478, 419, 162, 167, 146, 108, 242, 95, 167, 170, 392, 182, 308, 104, 120, 312, 526, 166, 188, 109, 177, 41, 128, 297, 718, 95, 264, 269, 46, 122, 127, 105, 89, 118, 272, 131, 119, 264, 280, 220, 507, 116, 256, 229, 347, 148, 166, 37, 413, 107, 225, 873, 402, 482, 107, 135, 217, 134, 144, 411, 177, 468, 381, 442, 245, 124, 333, 407, 431, 87, 53, 131, 413, 40, 225, 387, 127, 52, 171, 241, 35, 478, 558, 138, 97, 736, 791, 46, 458, 160, 139, 257, 55, 131, 252, 480, 178, 499, 293, 449, 197, 720, 182, 90, 95, 172, 163, 248, 283, 147, 158, 44, 93, 114, 128, 190, 102, 72, 150, 179, 327, 126, 171, 81, 216, 177, 131, 266, 52, 106, 134, 76, 67, 253, 321, 24, 103, 185, 154, 85, 94, 248, 97, 151, 173, 287, 887, 115, 773, 158, 110, 158, 129, 156, 183, 220, 84, 336, 187, 166, 110, 222, 385, 245, 97, 333, 289, 173, 185, 243, 169, 60, 153, 176, 130, 76, 193, 105, 63, 166, 165, 246, 114, 359, 347, 112, 118, 481, 103, 170, 671, 112, 121, 163, 163, 224, 241, 144, 260, 481, 186, 395, 34, 66, 161, 207, 112, 144, 247, 606, 87, 86, 169, 182, 133, 422, 105, 405, 172, 121, 168, 190, 421, 373, 398, 117, 247, 482, 303, 165, 102, 379, 78, 287, 279, 211, 62, 169, 408, 292, 115, 297, 144, 75, 56, 206, 186, 104, 150, 257, 299, 83, 117, 209, 152, 67, 169, 127, 47, 140, 70, 137, 145, 339, 141, 169, 329, 154, 208, 262, 308, 155, 306, 162, 749, 369, 108, 146, 57, 162, 62, 42, 92, 157, 225, 133, 142, 717, 173, 782, 264, 183, 120, 170, 112, 43, 98, 152, 101, 132, 144, 195, 178, 332, 125, 278, 69, 439, 139, 156, 141, 76, 65, 278, 143, 339, 198, 149, 92, 47, 159, 235, 214, 118, 211, 394, 166, 395, 141, 172, 141, 135, 147, 150, 56, 237, 58, 238, 296, 163, 200, 246, 740, 161, 360, 168, 108, 151, 104, 115, 224, 155, 298, 179, 160, 111, 102, 70, 134, 363, 100, 166, 123, 152, 153, 231, 476, 66, 254, 322, 107, 298, 358, 144, 114, 57, 136, 107, 126, 106, 124, 113, 152, 151, 39, 100, 25, 251, 762, 275, 114, 165, 158, 244, 200, 119, 83, 221, 531, 146, 124, 126, 145, 373, 204, 148, 212, 168, 360, 90, 142, 218, 190, 273, 279, 206, 89, 148, 74, 143, 51, 40, 129, 142, 839, 126, 148, 120, 149, 134, 108, 80, 211, 149, 241, 162, 120, 124, 229, 198, 72, 62, 43, 132, 122, 487, 85, 211, 242, 175, 337, 60, 54, 401, 428, 169, 197, 398, 135, 181, 201, 255, 111, 271, 153, 146, 413, 133, 108, 136, 87, 132, 143, 146, 687, 727, 141, 48, 133, 844, 71, 166, 199, 260, 175, 410, 216, 189, 111, 96, 137, 152, 114, 128, 121, 360, 89, 188, 98, 82, 914, 234, 128, 549, 35, 595, 86, 318, 103, 897, 96, 267, 581, 143, 480, 129, 221, 237, 120, 212, 125, 266, 134, 229, 145, 125, 594, 112, 203, 328, 183, 58, 130, 107, 300, 94, 325, 237, 111, 136, 271, 152, 451, 184, 371, 167, 147, 55, 331, 40, 200, 74, 242, 263, 253, 182, 214, 90, 484, 45, 214, 368, 154, 117, 122, 211, 93, 164, 126, 161, 120, 263, 120, 189, 46, 135, 190, 77, 179, 281, 123, 230, 225, 185, 125, 219, 183, 129, 252, 56, 615, 66, 185, 306, 308, 242, 193, 112, 119, 119, 132, 143, 531, 97, 122, 427, 307, 105, 139, 87, 228, 143, 165, 81, 228, 319, 136, 322, 323, 65, 72, 148, 179, 227, 144, 182, 131, 165, 104, 297, 234, 251, 262, 335, 174, 71, 100, 167, 136, 630, 188, 392, 164, 118, 216, 162, 153, 391, 246, 218, 113, 67, 158, 164, 240, 133, 161, 198, 277, 62, 602, 226, 364, 95, 116, 139, 123, 232, 124, 60, 45, 547, 170, 217, 107, 161, 158, 143, 115, 475, 266, 131, 268, 277, 192, 149, 33, 29, 180, 113, 150, 131, 57, 204, 116, 96, 72, 536, 743, 115, 222, 299, 39, 144, 149, 299, 109, 162, 201, 526, 144, 216, 371, 124, 247, 154, 405, 91, 591, 132, 42, 109, 160, 437, 125, 253, 662, 170, 89, 335, 88, 125, 80, 158, 178, 151, 156, 156, 134, 125, 140, 245, 200, 84, 130, 159, 131, 193, 107, 80, 199, 83, 266, 137, 155, 125, 70, 130, 117, 128, 125, 116, 167, 257, 137, 113, 105, 108, 38, 168, 447, 92, 384, 213, 189, 88, 268, 144, 127, 232, 328, 367, 103, 232, 105, 388, 87, 100, 124, 110, 280, 767, 248, 218, 550, 111, 157, 212, 305, 253, 243, 127, 324, 91, 76, 98, 285, 125, 137, 154, 350, 290, 219, 198, 110, 597, 89, 292, 222, 168, 225, 458, 186, 95, 131, 151, 505, 122, 140, 564, 251, 274, 193, 288, 130, 220, 69, 397, 243, 153, 125, 122, 114, 193, 219, 275, 221, 520, 612, 77, 529, 112, 276, 319, 217, 304, 143, 183, 330, 167, 140, 251, 159, 474, 42, 285, 234, 391, 412, 444, 272, 123, 123, 186, 481, 82, 139, 324, 130, 122, 154, 157, 193, 69, 237, 945, 179, 180, 477, 202, 104, 173, 35, 231, 350, 50, 219, 150, 243, 182, 201, 336, 600, 107, 196, 250, 150, 729, 139, 660, 115, 878, 146, 294, 359, 161, 233, 349, 57, 112, 323, 232, 288, 130, 188, 212, 113, 159, 163, 285, 175, 144, 257, 284, 138, 170, 210, 289, 166, 48, 306, 191, 129, 172, 79, 173, 118, 210, 155, 98, 216, 42, 148, 127, 166, 185, 132, 461, 507, 550, 106, 129, 291, 242, 175, 163, 145, 286, 703, 170, 292, 130, 57, 102, 411, 893, 236, 133, 323, 123, 101, 155, 149, 500, 118, 364, 221, 212, 164, 118, 113, 196, 47, 141, 112, 231, 418, 136, 295, 206, 104, 237, 241, 113, 178, 205, 70, 105, 141, 149, 213, 123, 118, 262, 89, 272, 272, 93, 118, 178, 544, 155, 116, 250, 208, 102, 93, 68, 105, 204, 139, 135, 182, 179, 449, 138, 106, 350, 182, 222, 242, 372, 121, 107, 474, 70, 93, 97, 127, 103, 193, 174, 516, 65, 108, 45, 156, 342, 114, 98, 132, 94, 95, 55, 355, 562, 56, 113, 330, 155, 237, 166, 457, 124, 152, 129, 199, 426, 122, 103, 147, 131, 100, 116, 156, 107, 183, 133, 57, 179, 466, 132, 407, 127, 159, 164, 188, 102, 120, 130, 172, 74, 67, 218, 189, 148, 564, 186, 107, 219, 180, 127, 169, 107, 236, 133, 221, 358, 211, 174, 179, 178, 141, 88, 36, 73, 137, 254, 126, 399, 193, 235, 205, 123, 138, 122, 176, 183, 77, 418, 165, 140, 133, 341, 167, 119, 460, 45, 172, 121, 133, 337, 204, 176, 145, 734, 186, 191, 130, 86, 269, 147, 444, 190, 254, 446, 453, 52, 156, 244, 307, 150, 124, 142, 135, 146, 127, 249, 142, 65, 211, 120, 134, 165, 131, 81, 206, 78, 147, 143, 92, 163, 136, 166, 563, 113, 176, 127, 303, 140, 232, 148, 112, 267, 173, 229, 280, 389, 205, 571, 38, 269, 87, 212, 99, 407, 46, 101, 169, 237, 388, 190, 345, 136, 119, 345, 121, 225, 149, 472, 281, 159, 277, 131, 116, 168, 556, 168, 100, 137, 245, 182, 148, 111, 119, 261, 309, 166, 216, 118, 230, 125, 88, 130, 336, 204, 128, 200, 146, 104, 409, 160, 128, 270, 380, 205, 78, 168, 406, 128, 46, 263, 106, 71, 108, 31, 137, 129, 251, 134, 136, 380, 101, 139, 293, 230, 57, 132, 120, 334, 124, 113, 133, 337, 126, 241, 128, 486, 416, 389, 70, 284, 323, 308, 119, 163, 691, 113, 33, 417, 194, 169, 298, 184, 313, 144, 106, 727, 48, 122, 261, 446, 120, 124, 919, 157, 89, 117, 184, 275, 106, 103, 656, 392, 258, 116, 439, 236, 174, 110, 189, 884, 759, 232, 101, 346, 111, 295, 400, 790, 146, 197, 233, 96, 277, 74, 294, 214, 249, 101, 517, 175, 393, 87, 208, 188, 100, 163, 145, 111, 228, 56, 127, 210, 211, 149, 776, 114, 95, 122, 201, 105, 380, 143, 101, 69, 119, 272, 182, 267, 72, 285, 187, 129, 110, 202, 43, 164, 207, 103, 342, 128, 294, 67, 133, 147, 312, 209, 318, 181, 414, 171, 149, 103, 345, 519, 351, 158, 89, 120, 182, 373, 354, 381, 54, 283, 140, 48, 54, 126, 174, 817, 64, 430, 122, 103, 210, 245, 171, 98, 44, 131, 137, 130, 134, 322, 124, 354, 267, 172, 193, 130, 138, 121, 158, 205, 211, 211, 134, 113, 352, 245, 146, 222, 150, 212, 148, 133, 301, 131, 178, 125, 134, 112, 108, 69, 206, 233, 174, 92, 79, 146, 96, 227, 360, 170, 123, 120, 164, 887, 142, 134, 135, 90, 35, 309, 221, 160, 274, 681, 516, 269, 520, 79, 121, 38, 134, 149, 180, 803, 111, 55, 135, 359, 292, 154, 141, 396, 110, 276, 140, 43, 130, 103, 189, 109, 145, 129, 114, 119, 96, 268, 492, 165, 250, 166, 200, 267, 64, 137, 149, 104, 159, 121, 143, 162, 348, 222, 168, 130, 269, 128, 324, 170, 198, 76, 195, 266, 109, 208, 101, 370, 104, 124, 143, 195, 147, 176, 270, 143, 47, 290, 57, 144, 109, 118, 133, 119, 363, 359, 122, 257, 125, 61, 219, 458, 134, 119, 396, 104, 234, 239, 161, 320, 122, 125, 117, 412, 370, 180, 378, 196, 866, 124, 55, 329, 157, 86, 147, 101, 225, 153, 238, 115, 204, 244, 575, 466, 185, 106, 458, 144, 732, 46, 204, 166, 301, 50, 56, 135, 128, 145, 112, 187, 49, 207, 276, 338, 214, 752, 145, 50, 270, 240, 196, 208, 125, 314, 110, 385, 622, 209, 115, 9, 123, 121, 198, 313, 291, 219, 175, 143, 203, 162, 287, 119, 148, 167, 70, 79, 124, 52, 206, 125, 165, 365, 216, 141, 140, 59, 516, 374, 233, 138, 449, 138, 367, 151, 317, 55, 265, 137, 120, 114, 135, 103, 168, 127, 195, 89, 342, 295, 243, 169, 99, 256, 619, 231, 98, 343, 114, 112, 373, 97, 180, 123, 208, 155, 140, 182, 466, 125, 134, 45, 137, 59, 514, 320, 149, 34, 138, 177, 361, 223, 242, 114, 361, 152, 123, 152, 114, 102, 121, 664, 76, 167, 211, 176, 215, 770, 135, 592, 109, 109, 102, 175, 46, 208, 522, 200, 222, 518, 147, 108, 112, 872, 185, 135, 121, 76, 130, 146, 223, 107, 71, 514, 576, 134, 200, 247, 116, 207, 317, 188, 263, 356, 329, 104, 119, 130, 589, 143, 109, 351, 440, 345, 243, 37, 96, 84, 178, 184, 140, 128, 110, 150, 493, 190, 568, 161, 423, 295, 359, 825, 138, 113, 124, 128, 544, 477, 152, 193, 267, 226, 130, 373, 230, 192, 612, 106, 48, 163, 65, 242, 186, 334, 119, 153, 211, 174, 162, 175, 76, 204, 125, 91, 123, 105, 70, 170, 135, 105, 169, 357, 83, 271, 54, 204, 154, 159, 130, 304, 52, 142, 128, 180, 555, 143, 109, 168, 257, 219, 338, 243, 66, 158, 413, 148, 155, 409, 636, 179, 136, 104, 151, 99, 175, 378, 230, 426, 376, 178, 106, 851, 108, 186, 502, 133, 412, 173, 175, 184, 153, 107, 322, 129, 453, 137, 129, 103, 157, 204, 150, 148, 204, 135, 108, 130, 210, 160, 139, 185, 86, 112, 161, 147, 236, 157, 124, 120, 150, 174, 359, 150, 162, 107, 822, 236, 242, 163, 159, 134, 498, 598, 134, 258, 133, 48, 112, 127, 107, 55, 117, 146, 134, 64, 136, 91, 81, 145, 46, 415, 130, 121, 136, 163, 217, 201, 253, 121, 914, 207, 452, 170, 290, 163, 120, 156, 116, 112, 145, 143, 51, 213, 107, 124, 200, 97, 924, 127, 85, 94, 127, 167, 73, 144, 177, 869, 65, 113, 859, 172, 112, 514, 94, 614, 156, 155, 648, 262, 90, 439, 59, 277, 219, 116, 69, 124, 52, 135, 103, 127, 172, 173, 77, 130, 225, 92, 222, 178, 153, 143, 104, 130, 117, 219, 158, 115, 138, 453, 296, 280, 268, 115, 122, 303, 436, 158, 126, 200, 121, 358, 101, 161, 210, 270, 71, 477, 193, 359, 89, 183, 182, 162, 230, 336, 114, 126, 114, 777, 233, 295, 149, 186, 176, 81, 66, 309, 149, 213, 152, 261, 177, 195, 161, 158, 100, 113, 179, 70, 115, 215, 159, 157, 196, 492, 149, 139, 428, 64, 348, 174, 139, 113, 46, 190, 231, 68, 847, 187, 173, 275, 254, 112, 161, 208, 125, 125, 631, 122, 70, 78, 252, 385, 121, 147, 156, 164, 124, 112, 172, 237, 172, 154, 289, 99, 110, 171, 285, 148, 106, 161, 192, 51, 262, 65, 147, 314, 255, 198, 353, 191, 202, 158, 114, 241, 388, 211, 102, 211, 293, 611, 193, 239, 113, 491, 460, 212, 264, 916, 258, 139, 121, 193, 614, 118, 125, 149, 117, 149, 186, 163, 113, 287, 336, 279, 137, 370, 151, 281, 150, 67, 117, 333, 217, 156, 115, 265, 63, 126, 520, 122, 152, 394, 165, 356, 107, 218, 71, 469, 92, 63, 201, 187, 113, 136, 565, 238, 154, 119, 703, 479, 668, 478, 241, 108, 47, 305, 100, 53, 103, 181, 181, 108, 195, 155, 110, 297, 169, 120, 45, 46, 119, 534, 176, 151, 268, 94, 128, 128, 102, 124, 344, 72, 524, 119, 401, 129, 111, 132, 97, 102, 105, 147, 72, 282, 120, 118, 515, 124, 128, 210, 62, 186, 158, 564, 228, 60, 288, 155, 181, 160, 261, 137, 115, 515, 249, 50, 107, 613, 331, 230, 212, 207, 130, 86, 184, 291, 138, 91, 152, 138, 241, 150, 135, 122, 161, 177, 246, 117, 58, 272, 113, 513, 65, 155, 32, 178, 594, 126, 193, 177, 65, 107, 509, 61, 300, 37, 166, 136, 138, 99, 48, 138, 76, 301, 681, 44, 118, 190, 580, 142, 221, 485, 128, 111, 161, 38, 132, 98, 54, 459, 89, 134, 68, 148, 227, 131, 286, 140, 127, 248, 238, 189, 214, 163, 204, 292, 125, 178, 352, 333, 46, 87, 227, 346, 165, 629, 165, 515, 166, 199, 98, 227, 294, 484, 179, 217, 148, 46, 128, 245, 453, 173, 300, 195, 195, 273, 38, 173, 131, 687, 54, 26, 412, 185, 129, 114, 174, 343, 154, 125, 48, 39, 647, 160, 233, 246, 204, 108, 42, 190, 98, 139, 119, 409, 265, 375, 317, 371, 101, 203, 146, 147, 213, 91, 253, 89, 599, 283, 133, 147, 119, 75, 62, 111, 206, 131, 186, 134, 47, 355, 132, 76, 206, 122, 106, 202, 298, 263, 441, 81, 182, 60, 146, 452, 190, 130, 198, 132, 267, 95, 767, 187, 35, 131, 169, 344, 100, 100, 662, 56, 157, 313, 132, 132, 102, 401, 174, 191, 533, 158, 176, 355, 140, 344, 490, 144, 123, 125, 198, 143, 257, 109, 181, 128, 180, 157, 124, 204, 459, 109, 341, 141, 112, 431, 301, 416, 537, 189, 486, 93, 175, 170, 125, 110, 139, 77, 43, 225, 331, 115, 46, 117, 199, 73, 388, 229, 182, 413, 219, 173, 147, 300, 152, 143, 508, 121, 86, 226, 152, 155, 102, 78, 202, 115, 158, 163, 216, 101, 97, 109, 144, 323, 150, 188, 52, 340, 264, 41, 140, 120, 153, 125, 451, 196, 94, 131, 306, 465, 80, 25, 134, 23, 263, 160, 227, 531, 184, 77, 334, 292, 111, 114, 103, 97, 332, 175, 182, 857, 349, 280, 132, 126, 229, 730, 372, 118, 539, 389, 37, 268, 456, 311, 399, 147, 757, 137, 72, 115, 327, 132, 85, 126, 257, 145, 645, 439, 145, 177, 137, 588, 145, 142, 92, 115, 151, 112, 43, 118, 83, 161, 215, 193, 115, 505, 239, 219, 311, 322, 184, 267, 95, 218, 90, 218, 158, 301, 449, 190, 134, 179, 119, 102, 116, 113, 129, 92, 159, 126, 122, 90, 137, 145, 434, 233, 338, 129, 164, 183, 154, 124, 85, 66, 95, 332, 110, 47, 219, 234, 287, 316, 145, 162, 161, 131, 183, 414, 340, 91, 77, 422, 158, 114, 151, 229, 113, 161, 134, 181, 933, 181, 358, 133, 147, 563, 147, 99, 189, 183, 117, 53, 173, 211, 78, 114, 49, 373, 41, 69, 185, 281, 81, 150, 418, 143, 95, 79, 193, 254, 49, 804, 409, 205, 150, 259, 139, 179, 183, 156, 155, 157, 46, 191, 277, 116, 170, 325, 77, 306, 264, 223, 148, 151, 161, 94, 190, 113, 241, 322, 286, 176, 128, 215, 204, 44, 120, 199, 256, 225, 478, 124, 172, 350, 151, 42, 92, 241, 463, 325, 119, 216, 27, 163, 223, 860, 131, 185, 115, 137, 312, 294, 191, 287, 635, 455, 203, 282, 103, 307, 389, 222, 123]\n",
            "Average number of sequence length: 211\n"
          ]
        }
      ]
    },
    {
      "cell_type": "markdown",
      "metadata": {
        "id": "TSF2pOQL3jlL"
      },
      "source": [
        "1.使用pad_sequences模組對x_train_tokens裡的tokens做截長補短至長度為maxlen，結果將存入x_train_pad(型態為陣列)，這邊設maxlen為tokens長度的平均值mean_tokens，padding='pre'表示補短的時候從tokens的頭開始補，truncating='post'表示截長從tokens的尾巴開始截．\n",
        "\n",
        "2.使用pad_sequences模組對x_test_tokens裡的tokens做截長補短至長度為maxlen，結果將存入x_test_pad(型態為陣列)．\n",
        "\n",
        "3.顯示x_train_pad的陣列維度．\n",
        "\n",
        "4.顯示x_test_pad的陣列維度．"
      ]
    },
    {
      "cell_type": "code",
      "metadata": {
        "id": "INNHExnUaVWH",
        "outputId": "a1e9ab53-abc0-4b49-935f-779c48634a61",
        "colab": {
          "base_uri": "https://localhost:8080/"
        }
      },
      "source": [
        "#'''Step2: Pad or truncate the tokened word-sequences'''\n",
        "pad = 'pre'\n",
        "truncate = 'post'\n",
        "seq_len = mean_tokens #sequence length is optional\n",
        "\n",
        "x_train_pad = pad_sequences(x_train_tokens, maxlen=seq_len, \n",
        "                            padding=pad, truncating=truncate)\n",
        "x_test_pad = pad_sequences(x_test_tokens, maxlen=seq_len, padding=pad, truncating=truncate)\n",
        "print(x_train_pad.shape, 'shows the array dimension of prepared training-set.')\n",
        "print(x_test_pad.shape, 'shows the array dimension of prepared tset-set.')"
      ],
      "execution_count": null,
      "outputs": [
        {
          "output_type": "stream",
          "name": "stdout",
          "text": [
            "(25000, 211) shows the array dimension of prepared training-set.\n",
            "(25000, 211) shows the array dimension of prepared tset-set.\n"
          ]
        }
      ]
    },
    {
      "cell_type": "markdown",
      "metadata": {
        "id": "dc9sgDQ7I82b"
      },
      "source": [
        "1.顯示x_train_tokens第一筆tokens的內容\n",
        "\n",
        "2.顯示x_train_pad第一筆tokens經過截長補短的內容"
      ]
    },
    {
      "cell_type": "code",
      "metadata": {
        "id": "lvBxc9u0xX5d",
        "outputId": "ea4f1521-1865-445e-82d9-14a93592a95c",
        "colab": {
          "base_uri": "https://localhost:8080/"
        }
      },
      "source": [
        "# '''Investigate the respones after padding or truncating'''\n",
        "print('Before padding and truncating:\\n', np.array(x_train_tokens[0]))\n",
        "print('After padding and truncating:\\n', x_train_pad[0])"
      ],
      "execution_count": null,
      "outputs": [
        {
          "output_type": "stream",
          "name": "stdout",
          "text": [
            "Before padding and truncating:\n",
            " [   1   17   13    3 2488    2  672  457  163   30    1 4780 1994    4\n",
            "    3 2039  395 1408 3589    2  158   52   69  294    8   11  704   42\n",
            "  593    2 3389  390  125   20   15    1  685   30    1  127    4    1\n",
            "   17 1421  110  525    9]\n",
            "After padding and truncating:\n",
            " [   0    0    0    0    0    0    0    0    0    0    0    0    0    0\n",
            "    0    0    0    0    0    0    0    0    0    0    0    0    0    0\n",
            "    0    0    0    0    0    0    0    0    0    0    0    0    0    0\n",
            "    0    0    0    0    0    0    0    0    0    0    0    0    0    0\n",
            "    0    0    0    0    0    0    0    0    0    0    0    0    0    0\n",
            "    0    0    0    0    0    0    0    0    0    0    0    0    0    0\n",
            "    0    0    0    0    0    0    0    0    0    0    0    0    0    0\n",
            "    0    0    0    0    0    0    0    0    0    0    0    0    0    0\n",
            "    0    0    0    0    0    0    0    0    0    0    0    0    0    0\n",
            "    0    0    0    0    0    0    0    0    0    0    0    0    0    0\n",
            "    0    0    0    0    0    0    0    0    0    0    0    0    0    0\n",
            "    0    0    0    0    0    0    0    0    0    0    1   17   13    3\n",
            " 2488    2  672  457  163   30    1 4780 1994    4    3 2039  395 1408\n",
            " 3589    2  158   52   69  294    8   11  704   42  593    2 3389  390\n",
            "  125   20   15    1  685   30    1  127    4    1   17 1421  110  525\n",
            "    9]\n"
          ]
        }
      ]
    },
    {
      "cell_type": "markdown",
      "metadata": {
        "id": "L9LQ9BgvvEQt"
      },
      "source": [
        "## Create the RNN-Classifier "
      ]
    },
    {
      "cell_type": "markdown",
      "metadata": {
        "id": "EEggNv5W4gGQ"
      },
      "source": [
        "1.建立一個Sequential model，這個model在前面有提過，此model用於建構神經網路，建構的方式為依序將layer一層一層的堆疊上去．"
      ]
    },
    {
      "cell_type": "code",
      "metadata": {
        "id": "aEfc2j-YlfbP"
      },
      "source": [
        "# '''Step1: Initialize the model'''\n",
        "model = Sequential()"
      ],
      "execution_count": null,
      "outputs": []
    },
    {
      "cell_type": "markdown",
      "metadata": {
        "id": "mBqrFg_fTFjG"
      },
      "source": [
        "Embedding layer 就是將電影評論的tokens轉變成word vector的過程．\n",
        "\n",
        "1.將word vector的長度設定為8．\n",
        "\n",
        "2.建立embedding_layer，embeding_layer有三個參數要設定：\n",
        "\n",
        "    a.input_dim即為token字典大小，設為num_popular_words．\n",
        "\n",
        "    b.output_dim即為word vector長度，設為word_vec_len．\n",
        "\n",
        "    c.input_length即為電影評論tokens的平均長度(輸入序列的長度)，設為mean_tokens．\n",
        "3.將embedding_layer加入model．"
      ]
    },
    {
      "cell_type": "code",
      "metadata": {
        "id": "Y2WH3oC6TE5n"
      },
      "source": [
        "# '''Step2: Add the embedding layer'''\n",
        "embedding_size = 8\n",
        "model.add(Embedding (input_dim=num_popular_words,\n",
        "                     output_dim=embedding_size,\n",
        "                     input_length=seq_len,\n",
        "                     name='layer_embedding'))"
      ],
      "execution_count": null,
      "outputs": []
    },
    {
      "cell_type": "markdown",
      "metadata": {
        "id": "f4Cn_qtMany5"
      },
      "source": [
        "接下來我們會在這個model加入三層的hidden layer，三層的hidden layer都是由LSTM Units構成的．\n",
        "\n",
        "1.將layer_1的Units設定為LSTM，其中LSTM Units的output vector長度為16，return_sequences=True表示所有LSTM Units的output vector將會作為下一層layer的input．\n",
        "\n",
        "2.將layer_2的Units設定為LSTM，其中LSTM Units的output vector長度為8，return_sequences=True表示所有LSTM Units的output vector將會作為下一層layer的input．\n",
        "\n",
        "3.將layer_3的Units設定為LSTM，其中LSTM Units的output vector長度為4，return_sequences的預設值為False表示只有最後一個LSTM Unit的output vector將會作為下一層layer的input．\n",
        "\n",
        "4.將layer_1加入model．\n",
        "\n",
        "5.將layer_2加入model．\n",
        "\n",
        "6.將layer_3加入model．"
      ]
    },
    {
      "cell_type": "code",
      "metadata": {
        "id": "jvHbOVCpUAkz"
      },
      "source": [
        "# '''Step3: Add the RNN layers with LSTM'''\n",
        "model.add(LSTM(units = 32, return_sequences = True, input_shape = (embedding_size, 1)))\n",
        "model.add(LSTM(units = 16, return_sequences = True))\n",
        "model.add(LSTM(units = 8, return_sequences = True))\n",
        "model.add(LSTM(units = 4))\n"
      ],
      "execution_count": null,
      "outputs": []
    },
    {
      "cell_type": "markdown",
      "metadata": {
        "id": "-8heXYXcigFk"
      },
      "source": [
        "最後我們會在model加入output layer將結果輸出．\n",
        "\n",
        " 1.使用Dense模組建立output_layer，其中output layer的output vector長度為1，激發函數設定為sigmoid，sigmoid函數可以將output layer的結果壓縮在0到1之間．\n"
      ]
    },
    {
      "cell_type": "code",
      "metadata": {
        "id": "TjZxvBpOUC6a"
      },
      "source": [
        "# '''Step4: Add the dense layer as the classification output'''\n",
        "model.add(Dense(units=1, activation='sigmoid'))"
      ],
      "execution_count": null,
      "outputs": []
    },
    {
      "cell_type": "markdown",
      "metadata": {
        "id": "fSD2j0zhmrcS"
      },
      "source": [
        "1.使用model.summary來顯示神經網路中各層的資訊\n",
        "\n",
        "    a.5000為使用的dictionary中的字詞量\n",
        "\n",
        "    b.8為字向量的長度\n",
        "\n",
        "    c.211為輸入字串的長度\n",
        "\n",
        "    d.三層神經網路分別有16,8,4個神經元\n",
        "\n",
        "    e.各層分別有40000, 1200, 600 and 5個參數，皆是可以訓練的"
      ]
    },
    {
      "cell_type": "code",
      "metadata": {
        "id": "_yhZDhBtzjAV",
        "outputId": "a6e75870-25d7-4d7c-f2d3-453a239f6743",
        "colab": {
          "base_uri": "https://localhost:8080/"
        }
      },
      "source": [
        "# '''Step5: View a summary of the model'''\n",
        "model.summary()"
      ],
      "execution_count": null,
      "outputs": [
        {
          "output_type": "stream",
          "name": "stdout",
          "text": [
            "Model: \"sequential\"\n",
            "_________________________________________________________________\n",
            " Layer (type)                Output Shape              Param #   \n",
            "=================================================================\n",
            " layer_embedding (Embedding)  (None, 211, 8)           40000     \n",
            "                                                                 \n",
            " lstm (LSTM)                 (None, 211, 32)           5248      \n",
            "                                                                 \n",
            " lstm_1 (LSTM)               (None, 211, 16)           3136      \n",
            "                                                                 \n",
            " lstm_2 (LSTM)               (None, 211, 8)            800       \n",
            "                                                                 \n",
            " lstm_3 (LSTM)               (None, 4)                 208       \n",
            "                                                                 \n",
            " dense (Dense)               (None, 1)                 5         \n",
            "                                                                 \n",
            "=================================================================\n",
            "Total params: 49,397\n",
            "Trainable params: 49,397\n",
            "Non-trainable params: 0\n",
            "_________________________________________________________________\n"
          ]
        }
      ]
    },
    {
      "cell_type": "markdown",
      "metadata": {
        "id": "KfzfE3Hk6AUQ"
      },
      "source": [
        "1.使用model的compile函式建立訓練model的設置：\n",
        "\n",
        "    a.loss即為損失函式，設置為binary_crossentropy．\n",
        "    \n",
        "    b.optimizer即為優化的方式設置為Adam，Adam的learning rate設置為1e-3(10的負三次方)．\n",
        "    \n",
        "    c.metrics即為model在訓練和測試期間效能的評定方式設置為accuracy．"
      ]
    },
    {
      "cell_type": "code",
      "metadata": {
        "id": "_d63inubQIYw",
        "colab": {
          "base_uri": "https://localhost:8080/"
        },
        "outputId": "d0aa9cde-13c9-4965-a112-820680e0e481"
      },
      "source": [
        "# '''Step6: Compile the model'''\n",
        "optimizer = Adam(lr=1e-3)\n",
        "model.compile(loss='binary_crossentropy',\n",
        "              optimizer=optimizer,\n",
        "              metrics=['accuracy'])"
      ],
      "execution_count": null,
      "outputs": [
        {
          "output_type": "stream",
          "name": "stderr",
          "text": [
            "WARNING:absl:`lr` is deprecated, please use `learning_rate` instead, or use the legacy optimizer, e.g.,tf.keras.optimizers.legacy.Adam.\n"
          ]
        }
      ]
    },
    {
      "cell_type": "markdown",
      "metadata": {
        "id": "RzoTaS7jKDJl"
      },
      "source": [
        "製作第2組模型，用GRU作為神經網路"
      ]
    },
    {
      "cell_type": "code",
      "metadata": {
        "id": "4DEsnapkKAbf"
      },
      "source": [
        "# '''Step1: Initialize the model'''\n",
        "model2 = Sequential()"
      ],
      "execution_count": null,
      "outputs": []
    },
    {
      "cell_type": "code",
      "metadata": {
        "id": "CsVbJ45cKA00"
      },
      "source": [
        "# '''Step2: Add the embedding layer'''\n",
        "embedding_size = 8\n",
        "model2.add(Embedding (input_dim=num_popular_words,\n",
        "                     output_dim=embedding_size,\n",
        "                     input_length=seq_len,\n",
        "                     name='layer_embedding'))"
      ],
      "execution_count": null,
      "outputs": []
    },
    {
      "cell_type": "code",
      "metadata": {
        "id": "1lrmv9lJKBAH"
      },
      "source": [
        "# '''Step3: Add the RNN layers with LSTM'''\n",
        "model2.add(GRU(units = 32, return_sequences = True, input_shape = (embedding_size, 1)))\n",
        "model2.add(GRU(units = 16, return_sequences = True))\n",
        "model2.add(GRU(units = 8, return_sequences = True))\n",
        "model2.add(GRU(units = 4))"
      ],
      "execution_count": null,
      "outputs": []
    },
    {
      "cell_type": "code",
      "metadata": {
        "id": "9Vpc2VYZKBNG"
      },
      "source": [
        "# '''Step4: Add the dense layer as the classification output'''\n",
        "model2.add(Dense(units=1, activation='relu'))"
      ],
      "execution_count": null,
      "outputs": []
    },
    {
      "cell_type": "code",
      "metadata": {
        "id": "tlHd1XnsKBW4",
        "colab": {
          "base_uri": "https://localhost:8080/"
        },
        "outputId": "2d9092c2-546d-4ca8-c4c7-316442ad634b"
      },
      "source": [
        "# '''Step5: View a summary of the model'''\n",
        "model2.summary()"
      ],
      "execution_count": null,
      "outputs": [
        {
          "output_type": "stream",
          "name": "stdout",
          "text": [
            "Model: \"sequential_1\"\n",
            "_________________________________________________________________\n",
            " Layer (type)                Output Shape              Param #   \n",
            "=================================================================\n",
            " layer_embedding (Embedding)  (None, 211, 8)           40000     \n",
            "                                                                 \n",
            " gru (GRU)                   (None, 211, 32)           4032      \n",
            "                                                                 \n",
            " gru_1 (GRU)                 (None, 211, 16)           2400      \n",
            "                                                                 \n",
            " gru_2 (GRU)                 (None, 211, 8)            624       \n",
            "                                                                 \n",
            " gru_3 (GRU)                 (None, 4)                 168       \n",
            "                                                                 \n",
            " dense_1 (Dense)             (None, 1)                 5         \n",
            "                                                                 \n",
            "=================================================================\n",
            "Total params: 47,229\n",
            "Trainable params: 47,229\n",
            "Non-trainable params: 0\n",
            "_________________________________________________________________\n"
          ]
        }
      ]
    },
    {
      "cell_type": "code",
      "metadata": {
        "id": "x_IZDqSOKzB7",
        "colab": {
          "base_uri": "https://localhost:8080/"
        },
        "outputId": "54e03e6c-4fe9-4d94-908b-1c8c3f860cb0"
      },
      "source": [
        "# '''Step6: Compile the model'''\n",
        "optimizer = Adam(lr=1e-3)\n",
        "model2.compile(loss='binary_crossentropy',\n",
        "              optimizer=optimizer,\n",
        "              metrics=['binary_accuracy'])"
      ],
      "execution_count": null,
      "outputs": [
        {
          "output_type": "stream",
          "name": "stderr",
          "text": [
            "WARNING:absl:`lr` is deprecated, please use `learning_rate` instead, or use the legacy optimizer, e.g.,tf.keras.optimizers.legacy.Adam.\n"
          ]
        }
      ]
    },
    {
      "cell_type": "markdown",
      "source": [
        "製作第三組模型RNN"
      ],
      "metadata": {
        "id": "WIEFj1L37saP"
      }
    },
    {
      "cell_type": "code",
      "source": [
        "from tensorflow.keras.layers import SimpleRNN"
      ],
      "metadata": {
        "id": "4I77ZonC7PCW"
      },
      "execution_count": null,
      "outputs": []
    },
    {
      "cell_type": "code",
      "source": [
        "# '''Step1: Initialize the model'''\n",
        "model3 = Sequential()"
      ],
      "metadata": {
        "id": "9r6Vik2k7388"
      },
      "execution_count": null,
      "outputs": []
    },
    {
      "cell_type": "code",
      "metadata": {
        "id": "mWidTpSf75Bm"
      },
      "source": [
        "# '''Step2: Add the embedding layer'''\n",
        "embedding_size = 8\n",
        "model3.add(Embedding (input_dim=num_popular_words,\n",
        "                     output_dim=embedding_size,\n",
        "                     input_length=seq_len,\n",
        "                     name='layer_embedding'))"
      ],
      "execution_count": null,
      "outputs": []
    },
    {
      "cell_type": "code",
      "metadata": {
        "id": "h-bLnwEN7dfe"
      },
      "source": [
        "# '''Step3: Add the RNN layers'''\n",
        "model3.add(SimpleRNN(units = 32, return_sequences = True, input_shape = (embedding_size, 1)))\n",
        "model3.add(SimpleRNN(units = 16, return_sequences = True))\n",
        "model3.add(SimpleRNN(units = 8, return_sequences = True))\n",
        "model3.add(GRU(units = 4))"
      ],
      "execution_count": null,
      "outputs": []
    },
    {
      "cell_type": "code",
      "metadata": {
        "id": "Ap7E32-r8QAw"
      },
      "source": [
        "# '''Step4: Add the dense layer as the classification output'''\n",
        "model3.add(Dense(units=1, activation='relu'))"
      ],
      "execution_count": null,
      "outputs": []
    },
    {
      "cell_type": "code",
      "source": [
        "model3.summary()"
      ],
      "metadata": {
        "colab": {
          "base_uri": "https://localhost:8080/"
        },
        "id": "ehPMDXnv8B1s",
        "outputId": "12186972-b696-4e4a-cf7f-d0e9e7d7557e"
      },
      "execution_count": null,
      "outputs": [
        {
          "output_type": "stream",
          "name": "stdout",
          "text": [
            "Model: \"sequential_2\"\n",
            "_________________________________________________________________\n",
            " Layer (type)                Output Shape              Param #   \n",
            "=================================================================\n",
            " layer_embedding (Embedding)  (None, 211, 8)           40000     \n",
            "                                                                 \n",
            " simple_rnn (SimpleRNN)      (None, 211, 32)           1312      \n",
            "                                                                 \n",
            " simple_rnn_1 (SimpleRNN)    (None, 211, 16)           784       \n",
            "                                                                 \n",
            " simple_rnn_2 (SimpleRNN)    (None, 211, 8)            200       \n",
            "                                                                 \n",
            " gru_4 (GRU)                 (None, 4)                 168       \n",
            "                                                                 \n",
            " dense_2 (Dense)             (None, 1)                 5         \n",
            "                                                                 \n",
            "=================================================================\n",
            "Total params: 42,469\n",
            "Trainable params: 42,469\n",
            "Non-trainable params: 0\n",
            "_________________________________________________________________\n"
          ]
        }
      ]
    },
    {
      "cell_type": "code",
      "source": [
        "model3.compile(loss=\"binary_crossentropy\", optimizer=\"rmsprop\", metrics =[\"accuracy\"])"
      ],
      "metadata": {
        "id": "inKdSIO--mpf"
      },
      "execution_count": null,
      "outputs": []
    },
    {
      "cell_type": "markdown",
      "metadata": {
        "id": "bYoePY3Uu8-L"
      },
      "source": [
        "## **Train and Test the RNN-Classifier**"
      ]
    },
    {
      "cell_type": "markdown",
      "metadata": {
        "id": "OIlvdOAe6f-C"
      },
      "source": [
        "1.%%time將會顯示執行此區塊程式碼所花的時間．\n",
        "\n",
        "2.使用model的fit函式開始執行model訓練:\n",
        "\n",
        "    a.x_train_pad即為電影評論集經過token和截長補短的訓練集，將作為model訓練的input．\n",
        "\n",
        "    b.y_train即為電影評分集，將作為model訓練的label data，將與model訓練的output計算誤差．\n",
        "\n",
        "    c.validation_split=0.05表示將5%訓練集作為訓練的效能驗證．\n",
        "\n",
        "    d.epochs=3表示model將會做三次訓練．\n",
        "\n",
        "    e.batch_size=64表示model每經過的64筆的訓練資料將會做一次的優化．"
      ]
    },
    {
      "cell_type": "code",
      "source": [
        "y_train=np.array(y_train)"
      ],
      "metadata": {
        "id": "x_yeW9BCBoIE"
      },
      "execution_count": null,
      "outputs": []
    },
    {
      "cell_type": "code",
      "metadata": {
        "id": "uR5Ozvcll0mg",
        "outputId": "29474d2f-422b-4d08-e01e-4989f246986a",
        "colab": {
          "base_uri": "https://localhost:8080/"
        }
      },
      "source": [
        "# '''Step1: Train the RNN-Classifier'''\n",
        "%%time\n",
        "model.fit(x_train_pad, y_train,\n",
        "          validation_split=0.2, epochs=20, batch_size=64)"
      ],
      "execution_count": null,
      "outputs": [
        {
          "output_type": "stream",
          "name": "stdout",
          "text": [
            "Epoch 1/20\n",
            "313/313 [==============================] - 53s 140ms/step - loss: 0.5595 - accuracy: 0.7220 - val_loss: 0.5420 - val_accuracy: 0.7518\n",
            "Epoch 2/20\n",
            "313/313 [==============================] - 18s 58ms/step - loss: 0.3546 - accuracy: 0.8604 - val_loss: 0.2652 - val_accuracy: 0.9054\n",
            "Epoch 3/20\n",
            "313/313 [==============================] - 15s 46ms/step - loss: 0.2833 - accuracy: 0.8929 - val_loss: 0.4581 - val_accuracy: 0.8182\n",
            "Epoch 4/20\n",
            "313/313 [==============================] - 13s 42ms/step - loss: 0.2491 - accuracy: 0.9088 - val_loss: 0.4175 - val_accuracy: 0.8174\n",
            "Epoch 5/20\n",
            "313/313 [==============================] - 13s 40ms/step - loss: 0.2175 - accuracy: 0.9230 - val_loss: 0.4708 - val_accuracy: 0.8068\n",
            "Epoch 6/20\n",
            "313/313 [==============================] - 11s 35ms/step - loss: 0.1984 - accuracy: 0.9327 - val_loss: 0.5000 - val_accuracy: 0.8264\n",
            "Epoch 7/20\n",
            "313/313 [==============================] - 12s 37ms/step - loss: 0.1836 - accuracy: 0.9373 - val_loss: 0.4734 - val_accuracy: 0.8016\n",
            "Epoch 8/20\n",
            "313/313 [==============================] - 11s 35ms/step - loss: 0.1646 - accuracy: 0.9469 - val_loss: 0.5008 - val_accuracy: 0.8222\n",
            "Epoch 9/20\n",
            "313/313 [==============================] - 11s 36ms/step - loss: 0.1468 - accuracy: 0.9560 - val_loss: 0.5425 - val_accuracy: 0.8270\n",
            "Epoch 10/20\n",
            "313/313 [==============================] - 10s 33ms/step - loss: 0.1385 - accuracy: 0.9577 - val_loss: 0.6407 - val_accuracy: 0.7958\n",
            "Epoch 11/20\n",
            "313/313 [==============================] - 9s 30ms/step - loss: 0.1323 - accuracy: 0.9610 - val_loss: 0.5007 - val_accuracy: 0.8322\n",
            "Epoch 12/20\n",
            "313/313 [==============================] - 10s 33ms/step - loss: 0.1204 - accuracy: 0.9657 - val_loss: 0.6294 - val_accuracy: 0.8084\n",
            "Epoch 13/20\n",
            "313/313 [==============================] - 11s 35ms/step - loss: 0.1114 - accuracy: 0.9688 - val_loss: 0.7470 - val_accuracy: 0.7914\n",
            "Epoch 14/20\n",
            "313/313 [==============================] - 10s 33ms/step - loss: 0.1117 - accuracy: 0.9694 - val_loss: 0.7278 - val_accuracy: 0.7808\n",
            "Epoch 15/20\n",
            "313/313 [==============================] - 11s 34ms/step - loss: 0.0969 - accuracy: 0.9749 - val_loss: 0.6800 - val_accuracy: 0.8188\n",
            "Epoch 16/20\n",
            "313/313 [==============================] - 10s 33ms/step - loss: 0.0986 - accuracy: 0.9744 - val_loss: 0.8937 - val_accuracy: 0.7272\n",
            "Epoch 17/20\n",
            "313/313 [==============================] - 10s 32ms/step - loss: 0.0886 - accuracy: 0.9779 - val_loss: 0.8254 - val_accuracy: 0.7674\n",
            "Epoch 18/20\n",
            "313/313 [==============================] - 10s 32ms/step - loss: 0.0964 - accuracy: 0.9747 - val_loss: 0.6334 - val_accuracy: 0.7820\n",
            "Epoch 19/20\n",
            "313/313 [==============================] - 10s 33ms/step - loss: 0.0911 - accuracy: 0.9764 - val_loss: 0.8607 - val_accuracy: 0.7756\n",
            "Epoch 20/20\n",
            "313/313 [==============================] - 10s 32ms/step - loss: 0.0700 - accuracy: 0.9848 - val_loss: 0.8258 - val_accuracy: 0.7842\n",
            "CPU times: user 4min 14s, sys: 7.78 s, total: 4min 22s\n",
            "Wall time: 5min 28s\n"
          ]
        },
        {
          "output_type": "execute_result",
          "data": {
            "text/plain": [
              "<keras.callbacks.History at 0x7ff9dcf76400>"
            ]
          },
          "metadata": {},
          "execution_count": 35
        }
      ]
    },
    {
      "cell_type": "markdown",
      "metadata": {
        "id": "tJFGzLWg5wyZ"
      },
      "source": [
        "1.%%time將會顯示執行此區塊程式碼所花的時間．\n",
        "\n",
        "2.使用model的evaluate函式來測試model的效能\n",
        "\n",
        "    a.x_test_pad即為電影評論集經過token和截長補短的測試集，將作為model測試的input．\n",
        "\n",
        "    b.y_test即為電影評分集，將作為model測試的label data，將與model測試的output計算誤差．\n",
        "\n",
        "    c.result將會儲存evaluate函式回傳的誤差值和準確度．\n",
        "\n",
        "3.顯示model測試的準確度．"
      ]
    },
    {
      "cell_type": "code",
      "source": [
        "y_test=np.array(y_test)"
      ],
      "metadata": {
        "id": "itQAkUkPDsc1"
      },
      "execution_count": null,
      "outputs": []
    },
    {
      "cell_type": "code",
      "metadata": {
        "id": "J9LI14ell2tO",
        "outputId": "f5a5b0c7-5f86-4a88-ed5b-a44f0c27b1f0",
        "colab": {
          "base_uri": "https://localhost:8080/"
        }
      },
      "source": [
        "# '''Step2: Performance on Test-Set'''\n",
        "%%time\n",
        "result = model.evaluate(x_test_pad, y_test)\n",
        "print(\"\\nAccuracy: {0:.2%}\".format(result[1]))"
      ],
      "execution_count": null,
      "outputs": [
        {
          "output_type": "stream",
          "name": "stdout",
          "text": [
            "782/782 [==============================] - 10s 13ms/step - loss: 0.6766 - accuracy: 0.8232\n",
            "\n",
            "Accuracy: 82.32%\n",
            "CPU times: user 10.3 s, sys: 380 ms, total: 10.7 s\n",
            "Wall time: 10.3 s\n"
          ]
        }
      ]
    },
    {
      "cell_type": "markdown",
      "metadata": {
        "id": "Hc_svo51K4wh"
      },
      "source": [
        "訓練第2組模型"
      ]
    },
    {
      "cell_type": "code",
      "metadata": {
        "id": "FFUuCEWhK-uZ",
        "colab": {
          "base_uri": "https://localhost:8080/"
        },
        "outputId": "8e50ce6f-34be-470f-8083-885fadd8bb14"
      },
      "source": [
        "# '''Step1: Train the RNN-Classifier'''\n",
        "%%time\n",
        "model2.fit(x_train_pad, y_train,\n",
        "          validation_split=0.2, epochs=20, batch_size=64)"
      ],
      "execution_count": null,
      "outputs": [
        {
          "output_type": "stream",
          "name": "stdout",
          "text": [
            "Epoch 1/20\n",
            "313/313 [==============================] - 38s 98ms/step - loss: 0.6777 - binary_accuracy: 0.6461 - val_loss: 0.7951 - val_binary_accuracy: 0.4444\n",
            "Epoch 2/20\n",
            "313/313 [==============================] - 15s 48ms/step - loss: 0.4470 - binary_accuracy: 0.8084 - val_loss: 0.5944 - val_binary_accuracy: 0.6476\n",
            "Epoch 3/20\n",
            "313/313 [==============================] - 12s 40ms/step - loss: 0.8281 - binary_accuracy: 0.7754 - val_loss: 13.3978 - val_binary_accuracy: 0.0602\n",
            "Epoch 4/20\n",
            "313/313 [==============================] - 11s 35ms/step - loss: 0.5427 - binary_accuracy: 0.8184 - val_loss: 0.5396 - val_binary_accuracy: 0.7556\n",
            "Epoch 5/20\n",
            "313/313 [==============================] - 10s 33ms/step - loss: 0.3387 - binary_accuracy: 0.8623 - val_loss: 0.5293 - val_binary_accuracy: 0.7760\n",
            "Epoch 6/20\n",
            "313/313 [==============================] - 11s 34ms/step - loss: 0.2795 - binary_accuracy: 0.8957 - val_loss: 0.4748 - val_binary_accuracy: 0.7952\n",
            "Epoch 7/20\n",
            "313/313 [==============================] - 9s 30ms/step - loss: 0.2654 - binary_accuracy: 0.9042 - val_loss: 0.7211 - val_binary_accuracy: 0.6056\n",
            "Epoch 8/20\n",
            "313/313 [==============================] - 10s 33ms/step - loss: 0.2670 - binary_accuracy: 0.9035 - val_loss: 0.3944 - val_binary_accuracy: 0.8412\n",
            "Epoch 9/20\n",
            "313/313 [==============================] - 11s 34ms/step - loss: 0.2798 - binary_accuracy: 0.9083 - val_loss: 0.4112 - val_binary_accuracy: 0.7748\n",
            "Epoch 10/20\n",
            "313/313 [==============================] - 11s 35ms/step - loss: 0.2418 - binary_accuracy: 0.9164 - val_loss: 0.3804 - val_binary_accuracy: 0.8324\n",
            "Epoch 11/20\n",
            "313/313 [==============================] - 11s 34ms/step - loss: 0.2204 - binary_accuracy: 0.9265 - val_loss: 0.6569 - val_binary_accuracy: 0.7932\n",
            "Epoch 12/20\n",
            "313/313 [==============================] - 11s 34ms/step - loss: 0.2066 - binary_accuracy: 0.9330 - val_loss: 0.4561 - val_binary_accuracy: 0.8094\n",
            "Epoch 13/20\n",
            "313/313 [==============================] - 9s 29ms/step - loss: 0.2382 - binary_accuracy: 0.9254 - val_loss: 0.4704 - val_binary_accuracy: 0.7970\n",
            "Epoch 14/20\n",
            "313/313 [==============================] - 9s 30ms/step - loss: 0.1939 - binary_accuracy: 0.9419 - val_loss: 0.6628 - val_binary_accuracy: 0.7912\n",
            "Epoch 15/20\n",
            "313/313 [==============================] - 10s 31ms/step - loss: 0.1739 - binary_accuracy: 0.9478 - val_loss: 0.6108 - val_binary_accuracy: 0.7964\n",
            "Epoch 16/20\n",
            "313/313 [==============================] - 10s 32ms/step - loss: 0.1727 - binary_accuracy: 0.9514 - val_loss: 0.7066 - val_binary_accuracy: 0.7852\n",
            "Epoch 17/20\n",
            "313/313 [==============================] - 10s 31ms/step - loss: 0.1967 - binary_accuracy: 0.9388 - val_loss: 0.7404 - val_binary_accuracy: 0.7140\n",
            "Epoch 18/20\n",
            "313/313 [==============================] - 9s 29ms/step - loss: 0.1911 - binary_accuracy: 0.9431 - val_loss: 0.8927 - val_binary_accuracy: 0.6666\n",
            "Epoch 19/20\n",
            "313/313 [==============================] - 9s 30ms/step - loss: 0.2465 - binary_accuracy: 0.8996 - val_loss: 0.9883 - val_binary_accuracy: 0.3762\n",
            "Epoch 20/20\n",
            "313/313 [==============================] - 10s 33ms/step - loss: 0.2940 - binary_accuracy: 0.8863 - val_loss: 1.0289 - val_binary_accuracy: 0.6998\n",
            "CPU times: user 4min 2s, sys: 6.41 s, total: 4min 8s\n",
            "Wall time: 4min 27s\n"
          ]
        },
        {
          "output_type": "execute_result",
          "data": {
            "text/plain": [
              "<keras.callbacks.History at 0x7ff95c09a430>"
            ]
          },
          "metadata": {},
          "execution_count": 38
        }
      ]
    },
    {
      "cell_type": "code",
      "metadata": {
        "id": "QnfvcQ_OK_Em",
        "colab": {
          "base_uri": "https://localhost:8080/"
        },
        "outputId": "8137e6e0-bb34-4613-cbd7-d96ae6199791"
      },
      "source": [
        "# '''Step2: Performance on Test-Set'''\n",
        "%%time\n",
        "result = model2.evaluate(x_test_pad, y_test)\n",
        "print(\"\\nAccuracy: {0:.2%}\".format(result[1]))"
      ],
      "execution_count": null,
      "outputs": [
        {
          "output_type": "stream",
          "name": "stdout",
          "text": [
            "782/782 [==============================] - 9s 12ms/step - loss: 0.6898 - binary_accuracy: 0.8069\n",
            "\n",
            "Accuracy: 80.69%\n",
            "CPU times: user 9.42 s, sys: 322 ms, total: 9.75 s\n",
            "Wall time: 10.3 s\n"
          ]
        }
      ]
    },
    {
      "cell_type": "markdown",
      "metadata": {
        "id": "1d4dZByKXfkR"
      },
      "source": [
        "---\n",
        "\n",
        "---\n",
        "\n",
        "---\n",
        "\n",
        "---\n",
        "\n",
        "---\n",
        "\n",
        "# **Tutorial_NLP+RNN : Part III (Analysis and Discussion)**\n",
        "\n",
        "---\n",
        "\n"
      ]
    },
    {
      "cell_type": "markdown",
      "metadata": {
        "id": "W8ykbJcmugkk"
      },
      "source": [
        "## **Example of Mis-Classified Text**"
      ]
    },
    {
      "cell_type": "markdown",
      "metadata": {
        "id": "7Fq9842S6cxh"
      },
      "source": [
        "1.使用model.predict()來預測測試集中25000條評論\n",
        "\n",
        "     a.x_test_pad即為電影評論集經過token和截長補短的測試集，將作為model.predict()測試的input\n",
        "\n",
        "     b.y_pred即為電影評分集，為model.predict()的output\n",
        "\n",
        "2.cls_pred根據0.5的閥值，將預測結果分為0和1；cls_true為電影評分集\n",
        "\n",
        "3.使用np.where(cls_pred != cls_true)找出被分類錯誤的電影評論\n",
        "\n",
        "4.mis_cls_idx 將incorrect陣列從二維轉換為一維，使用len()計算出錯誤分類的數量"
      ]
    },
    {
      "cell_type": "code",
      "metadata": {
        "id": "KyitTKStrYJv",
        "outputId": "71ec96d0-7cc5-4b76-d6d3-ab4a7bcad74b",
        "colab": {
          "base_uri": "https://localhost:8080/"
        }
      },
      "source": [
        "# '''Step1: Calculate the total number of mis-classified text and its text index'''\n",
        "y_pred = model.predict(x_test_pad)\n",
        "cls_pred = np.array([1.0 if p>0.5 else 0.0 for p in y_pred])\n",
        "cls_true = np.array(y_test)\n",
        "incorrect = np.where(cls_pred != cls_true)\n",
        "mis_cls_idx = incorrect[0]\n",
        "num_incorrect = len(mis_cls_idx)\n",
        "print('Of the 25000 texts used, there are %s texts were mis-classified.'  %num_incorrect)\n",
        "print('\\nThe Array of all incorrect text number is:', mis_cls_idx)"
      ],
      "execution_count": null,
      "outputs": [
        {
          "output_type": "stream",
          "name": "stdout",
          "text": [
            "782/782 [==============================] - 10s 11ms/step\n",
            "Of the 25000 texts used, there are 4421 texts were mis-classified.\n",
            "\n",
            "The Array of all incorrect text number is: [    5     9    10 ... 24995 24997 24999]\n"
          ]
        }
      ]
    },
    {
      "cell_type": "markdown",
      "metadata": {
        "id": "6zo1WPsr7FG2"
      },
      "source": [
        "1.idx = mis_cls_idx[5]來展示第6個錯誤分類的評論，關於25000則測試集中的位置\n",
        "\n",
        "2.mis_cls_text = x_text_text[idx] 為錯誤分類的評論內容\n",
        "\n",
        "3.y_pred[idx] 為model預測的分數，cls_true[idx]為評論的實際分類"
      ]
    },
    {
      "cell_type": "code",
      "metadata": {
        "id": "Dp0754SS6toz",
        "outputId": "c77bd91d-50cc-4184-88ad-7ed22964e0bf",
        "colab": {
          "base_uri": "https://localhost:8080/"
        }
      },
      "source": [
        "# '''Step2: View one of the mis-classified text'''\n",
        "idx = mis_cls_idx[5]\n",
        "print('idx =', idx)\n",
        "\n",
        "mis_cls_text = x_test_text[idx]\n",
        "print('The mis-classified text is:\\n 「', mis_cls_text, '」')\n",
        "\n",
        "print('\\nThe predicted class for this text:', y_pred[idx])\n",
        "print('The true classes for this text:', cls_true[idx])"
      ],
      "execution_count": null,
      "outputs": [
        {
          "output_type": "stream",
          "name": "stdout",
          "text": [
            "idx = 43\n",
            "The mis-classified text is:\n",
            " 「 First of all , you should watch this only if you don't mind the lack of subtitles , pornography , kinky sex and utter , horrifying and truly shocking depravity . I mentioned kinky sex , but to call sex in the second half of the movie \" kinky \" would be a great understatement . It's more like a punch in the face if you aren't prepared for this sort of sickness . That being said , I can go back to reviewing this morbid piece of pseudo - snuff genre brought to us by our fellow Japanese .<br /><br />The plot seems to be fairly basic , almost nonexistent : a girl is hired to perform in amateur porn movie . Don't expect much in first 30 - 40 minutes . There is some dialog - if you don't speak Japanese it's not going to mean much to you - that seems to be an occasional chatting between the girl and the crew & performer , then there is some porn ( straight sex ) , and after the scene is finished the performers and the crew take a break . And then ... it starts to happen .<br /><br />It seems that the girl is talked into performing one more scene - this time tied with the rope . The abuse begins : whipping , slapping , hot wax ... In the end , girl breaks down and cries . They untie her .<br /><br />Then we see performers and crew sitting at the table as if nothing had happened - except for the girl . She is visibly shaken and looks like she wants to leave . She walks to the door , sits on the floor to put her shoes on ... and that's when hell breaks loose .<br /><br />She is hit in the head with the baseball bat , her wound is treated , she is tied to the bed . What ensues can be briefly described ( I'm not going to spoil everything for you ) as rape during dismemberment . Think of \" Flower of flesh and blood \" , mix it with porn and you will get the idea .It goes on for about 20 minutes or so . SFX are very good , makeup too . Everything is shown , with no mercy for the viewer . You have been warned .<br /><br />I thought \" Visitor Q \" was a very sick movie . After watching \" Niku daruma \" it looked like a fairytale to me .This movie is so sick , so depraved , so twisted , so disgusting that the harshest words pale in comparison to it's finale . Too bad it's released only on VHS so there are no subtitles available . But the movie still works without them . So , if you are into ultra sickness , extreme sadism and other beauties of this beloved genre , check this out . I hope you won't have nightmares .8/10 . 」\n",
            "\n",
            "The predicted class for this text: [0.01133003]\n",
            "The true classes for this text: 1.0\n"
          ]
        }
      ]
    },
    {
      "cell_type": "markdown",
      "metadata": {
        "id": "XQCd2UxGAqMv"
      },
      "source": [
        "混淆矩陣 Confusion Matrix\n",
        "\n",
        "![混淆矩陣 Confusion Matrix](https://pic.pimg.tw/belleaya/1465822085-3562204760.jpg?v=1465822086)\n",
        "\n",
        "混淆矩陣包含實際分類與預測分類資訊\n",
        "\n",
        "一個2X2的混淆矩陣包含四種可能的輸出\n",
        "\n",
        "True-Positive 展示了model預測為正面評價且實際為正面評價的數量\n",
        "\n",
        "False-Negative 展示了model預測為負面評價但實際為正面評價的數量\n",
        "\n",
        "False-Positive 展示了model預測為正面評價但實際為負面評價的數量\n",
        "\n",
        "True-Negative 展示了model預測為負面評價且實際為負面評價的數量\n"
      ]
    },
    {
      "cell_type": "code",
      "metadata": {
        "id": "w9hAEtVu42rM",
        "outputId": "f6b11422-7b3b-4d11-ace3-99496b95c9bd",
        "colab": {
          "base_uri": "https://localhost:8080/"
        }
      },
      "source": [
        "# '''Step3: Use the confusion metrix as the evaluation metrics'''\n",
        "from sklearn.metrics import confusion_matrix\n",
        "cm = confusion_matrix(cls_true, cls_pred)\n",
        "print(\"The confusion matrix is:\\n\", cm)\n",
        "ttl_mis_text = cm[0,1] + cm[1,0]\n",
        "print(\"The total number of mis-classified texts is '%d+%d=%d'\" % (cm[0,1], cm[1,0], ttl_mis_text))"
      ],
      "execution_count": null,
      "outputs": [
        {
          "output_type": "stream",
          "name": "stdout",
          "text": [
            "The confusion matrix is:\n",
            " [[ 9667  2833]\n",
            " [ 1588 10912]]\n",
            "The total number of mis-classified texts is '2833+1588=4421'\n"
          ]
        }
      ]
    },
    {
      "cell_type": "markdown",
      "metadata": {
        "id": "U1novh5dJk_N"
      },
      "source": [
        "## **New text data testing**"
      ]
    },
    {
      "cell_type": "markdown",
      "metadata": {
        "id": "ghqnyo3kH2Zw"
      },
      "source": [
        "建立新的評論Text1 到 Text8來輸入進已訓練完成的model，進行測試\n"
      ]
    },
    {
      "cell_type": "code",
      "metadata": {
        "id": "_GPXzQvKJk_P"
      },
      "source": [
        "# '''Step1: Build some new txet data'''\n",
        "text1 = \"This movie is fantastic! I really like it because it is so good!\" \n",
        "text2 = \"Good movie!\"\n",
        "text3 = \"Maybe I like this movie.\"\n",
        "text4 = \"Meh ...\"\n",
        "text5 = \"If I were a drunk teenager then this movie might be good.\"\n",
        "text6 = \"Bad movie!\"\n",
        "text7 = \"Not a good movie!\"\n",
        "text8 = \"This movie really sucks! Can I get my money back please?\"\n",
        "new_texts = [text1, text2, text3, text4, text5, text6, text7, text8]"
      ],
      "execution_count": null,
      "outputs": []
    },
    {
      "cell_type": "markdown",
      "metadata": {
        "id": "SUXT8nPoGYba"
      },
      "source": [
        "1.使用tokenizer.text_to_sequences()將新建立的評論轉換成tokens\n",
        "\n",
        "2.使用pad_sequence()將tokens進行截長補短\n",
        "\n",
        "3.使用model.predict()預測text1到text8的評價"
      ]
    },
    {
      "cell_type": "code",
      "metadata": {
        "id": "MibMeG88Jk_T",
        "outputId": "36157a38-e011-4d52-8589-8debf8063067",
        "colab": {
          "base_uri": "https://localhost:8080/"
        }
      },
      "source": [
        "# '''Step2: Predict the sentiment of new data'''\n",
        "tokens_nd = tokenizer.texts_to_sequences(new_texts)\n",
        "tokens_nd_pad = pad_sequences(tokens_nd, maxlen=seq_len,\n",
        "                           padding=pad, truncating=pad)\n",
        "pred_nd = model.predict(tokens_nd_pad)\n",
        "print('Probability of sentiment from text 1 to 8:\\n', pred_nd)"
      ],
      "execution_count": null,
      "outputs": [
        {
          "output_type": "stream",
          "name": "stdout",
          "text": [
            "1/1 [==============================] - 0s 28ms/step\n",
            "Probability of sentiment from text 1 to 8:\n",
            " [[0.98655546]\n",
            " [0.04397453]\n",
            " [0.02593382]\n",
            " [0.02902037]\n",
            " [0.0151109 ]\n",
            " [0.01706331]\n",
            " [0.05142704]\n",
            " [0.0164567 ]]\n"
          ]
        }
      ]
    },
    {
      "cell_type": "code",
      "metadata": {
        "id": "QwiSYOTqQKkF",
        "colab": {
          "base_uri": "https://localhost:8080/"
        },
        "outputId": "f901ee43-7833-4fec-dcac-aa497b54e56c"
      },
      "source": [
        "# '''Step2: Predict the sentiment of new data'''\n",
        "pred_nd2 = model2.predict(tokens_nd_pad)\n",
        "print('Probability of sentiment from text 1 to 8:\\n', pred_nd2)"
      ],
      "execution_count": null,
      "outputs": [
        {
          "output_type": "stream",
          "name": "stdout",
          "text": [
            "1/1 [==============================] - 1s 1s/step\n",
            "Probability of sentiment from text 1 to 8:\n",
            " [[0.72604126]\n",
            " [0.27853864]\n",
            " [0.3781093 ]\n",
            " [0.18481424]\n",
            " [0.25790918]\n",
            " [0.12167244]\n",
            " [0.3087553 ]\n",
            " [0.00336485]]\n"
          ]
        }
      ]
    },
    {
      "cell_type": "markdown",
      "metadata": {
        "id": "zFxkm9wEcTlT"
      },
      "source": [
        "## **Embeddings**"
      ]
    },
    {
      "cell_type": "markdown",
      "metadata": {
        "id": "0_u-rQuiL9uu"
      },
      "source": [
        "1.使用model.get_layer()將layer_embedding從model中取出\n",
        "\n",
        "2.使用get_weights()將權重的數值取出\n",
        "\n",
        "3.使用'shape'來觀察權重的形狀，(5000,8)代表dictionary的長度為5000，word vector的長度為8"
      ]
    },
    {
      "cell_type": "code",
      "metadata": {
        "id": "2OBbMDILcTlZ",
        "outputId": "93ea0572-39e0-4760-9434-21fb1dbac53b",
        "colab": {
          "base_uri": "https://localhost:8080/"
        }
      },
      "source": [
        "# '''Step1: Take the weights out from the trained RNN-classifier'''\n",
        "layer_embedding = model.get_layer('layer_embedding')\n",
        "weights_embedding = layer_embedding.get_weights()[0]\n",
        "print('The array dimension of weights_embedding is:', weights_embedding.shape)"
      ],
      "execution_count": null,
      "outputs": [
        {
          "output_type": "stream",
          "name": "stdout",
          "text": [
            "The array dimension of weights_embedding is: (5000, 8)\n"
          ]
        }
      ]
    },
    {
      "cell_type": "markdown",
      "metadata": {
        "id": "gYHAb83gNsls"
      },
      "source": [
        "1.使用tokenizer.word_index[]將dictionary中的字轉換成token，此處分別展示good 與great的token值，以及使用weight_embedding[]將token的word vector展現出來"
      ]
    },
    {
      "cell_type": "code",
      "metadata": {
        "id": "jvrzVBapcLyT",
        "outputId": "94d3621d-7135-4698-9648-f00ef62241b1",
        "colab": {
          "base_uri": "https://localhost:8080/"
        }
      },
      "source": [
        "# '''Step2: View two word vectors with positive sentiment'''\n",
        "token_good = tokenizer.word_index['good']\n",
        "print(\"The token number of 'good':\", token_good)\n",
        "print(\"The word vector of 'good': \\n\", weights_embedding[token_good])\n",
        "\n",
        "token_great = tokenizer.word_index['great']\n",
        "print(\"The token number of 'great':\", token_great)\n",
        "print(\"The word vector of 'great': \\n\", weights_embedding[token_great])"
      ],
      "execution_count": null,
      "outputs": [
        {
          "output_type": "stream",
          "name": "stdout",
          "text": [
            "The token number of 'good': 49\n",
            "The word vector of 'good': \n",
            " [-0.0669536  -0.02946232 -0.02141166 -0.07207938 -0.04383925 -0.06601611\n",
            "  0.0433591  -0.06836047]\n",
            "The token number of 'great': 78\n",
            "The word vector of 'great': \n",
            " [-0.13109653 -0.2106202  -0.12394591 -0.19295937 -0.20537293 -0.2180386\n",
            "  0.11041305 -0.12451705]\n"
          ]
        }
      ]
    },
    {
      "cell_type": "code",
      "metadata": {
        "id": "eZ0wWmVscTle",
        "outputId": "009ef82f-602d-4301-8a08-aaf691dd3558",
        "colab": {
          "base_uri": "https://localhost:8080/"
        }
      },
      "source": [
        "# '''Step3: View two word vectors with negative sentiment'''\n",
        "token_bad = tokenizer.word_index['bad']\n",
        "print(\"The token number of 'bad':\", token_bad)\n",
        "print(\"The word vector of 'bad': \\n\", weights_embedding[token_bad])\n",
        "\n",
        "token_horrible = tokenizer.word_index['horrible']\n",
        "print(\"The token number of 'horrible:'\", token_horrible)\n",
        "print(\"The word vector of 'horrible': \\n\", weights_embedding[token_horrible])"
      ],
      "execution_count": null,
      "outputs": [
        {
          "output_type": "stream",
          "name": "stdout",
          "text": [
            "The token number of 'bad': 74\n",
            "The word vector of 'bad': \n",
            " [ 0.12419138  0.17240778  0.17221008  0.20071897  0.19355962  0.211528\n",
            " -0.22701228  0.15973277]\n",
            "The token number of 'horrible:' 488\n",
            "The word vector of 'horrible': \n",
            " [ 0.11307114  0.15891303  0.23722452  0.23837747  0.16913286  0.22561371\n",
            " -0.3627046   0.31144097]\n"
          ]
        }
      ]
    }
  ]
}